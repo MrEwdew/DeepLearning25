{
  "cells": [
    {
      "cell_type": "markdown",
      "metadata": {
        "id": "ltlUOI1ZpwjM"
      },
      "source": [
        "# Aufgabe 2: Multi-Class Perceptrons"
      ]
    },
    {
      "cell_type": "code",
      "source": [
        "import numpy as np\n",
        "import matplotlib.pyplot as plt\n",
        "from sklearn.datasets import make_blobs #for data generatio"
      ],
      "metadata": {
        "id": "EX-m1iGLqMvJ"
      },
      "execution_count": 117,
      "outputs": []
    },
    {
      "cell_type": "code",
      "execution_count": 118,
      "metadata": {
        "id": "Tb8Ku-xTpwjP"
      },
      "outputs": [],
      "source": [
        "X, y = make_blobs(n_samples=50, centers=3, cluster_std=0.2,n_features=2,center_box=(1,5),random_state=104)"
      ]
    },
    {
      "cell_type": "code",
      "source": [
        "def plot_line_from_normal_vector_and_offset(normal_vector, offset, x_range=None, ax=None, **kwargs):\n",
        "    \"\"\"\n",
        "    Plots a 2D line defined by its normal vector w and offset b such that wx + b = 0.\n",
        "\n",
        "    Args:\n",
        "        normal_vector (list or numpy.ndarray): A 2D vector representing the normal to the line (w). Must be of length 2.\n",
        "        offset (float): The offset (b) such that w.x + b = 0.\n",
        "        x_range (tuple, optional): A tuple (xmin, xmax) specifying the range of x-values to plot.\n",
        "                                     If None (default), a reasonable range is automatically determined.\n",
        "        ax (matplotlib.axes._axes.Axes, optional): The matplotlib axes object to plot on. If None (default),\n",
        "                                                  the current axes (plt.gca()) is used, or a new figure and axes\n",
        "                                                  are created.\n",
        "        **kwargs: Keyword arguments to pass to the `plot` function (e.g., color, linestyle, linewidth).\n",
        "\n",
        "    Returns:\n",
        "        matplotlib.lines.Line2D: The line object created by `ax.plot`.\n",
        "    \"\"\"\n",
        "    normal_vector = np.array(normal_vector)  # Ensure it's a NumPy array for calculations\n",
        "\n",
        "    if normal_vector.shape != (2,):\n",
        "        raise ValueError(\"Normal vector must be a 2D vector (length 2).\")\n",
        "\n",
        "    w1, w2 = normal_vector\n",
        "\n",
        "    if ax is None:\n",
        "        fig, ax = plt.subplots()\n",
        "\n",
        "    if x_range is None:\n",
        "        # Determine a reasonable x-range\n",
        "        xmin = -5\n",
        "        xmax = 5\n",
        "        x_range = (xmin, xmax)\n",
        "\n",
        "    xmin, xmax = x_range\n",
        "    x = np.linspace(xmin, xmax, 100)  # Generate x-values\n",
        "\n",
        "    if w2 != 0:\n",
        "        y = (-w1 * x - offset) / w2  # Solve for y: w1*x + w2*y + b = 0  =>  y = (-w1*x - b) / w2\n",
        "    else:\n",
        "        # Handle the case where the line is vertical (w2=0). Plot a vertical line.\n",
        "        if w1 == 0:\n",
        "            raise ValueError(\"Cannot plot line with w1=0 and w2=0.\")\n",
        "        x = np.full_like(x, -offset / w1)  # x is constant for a vertical line\n",
        "        y = np.linspace(ax.get_ylim()[0], ax.get_ylim()[1], 100)  # generate y values spanning the current y-axis.\n",
        "\n",
        "\n",
        "\n",
        "    line, = ax.plot(x, y, **kwargs)\n",
        "\n",
        "    return line"
      ],
      "metadata": {
        "id": "DwdW0ljRqbTB"
      },
      "execution_count": 119,
      "outputs": []
    },
    {
      "cell_type": "code",
      "execution_count": 120,
      "metadata": {
        "scrolled": true,
        "id": "zJpc9S8IpwjQ",
        "outputId": "06a2c6f0-7551-4724-874e-3b3a654d175e",
        "colab": {
          "base_uri": "https://localhost:8080/",
          "height": 453
        }
      },
      "outputs": [
        {
          "output_type": "execute_result",
          "data": {
            "text/plain": [
              "<matplotlib.colorbar.Colorbar at 0x7c40620af290>"
            ]
          },
          "metadata": {},
          "execution_count": 120
        },
        {
          "output_type": "display_data",
          "data": {
            "text/plain": [
              "<Figure size 640x480 with 2 Axes>"
            ],
            "image/png": "[encoded data removed]"
          },
          "metadata": {}
        }
      ],
      "source": [
        "plt.scatter(X[:,0],X[:,1],c=y)\n",
        "plt.colorbar()"
      ]
    },
    {
      "cell_type": "markdown",
      "metadata": {
        "id": "O-Z8nNDNpwjR"
      },
      "source": [
        "### draw Percepton layout\n",
        "* Hint: now we have more then one Perceptron\n",
        "* write math. formulation as linear model"
      ]
    },
    {
      "cell_type": "code",
      "execution_count": 121,
      "metadata": {
        "id": "7LH2sHkNpwjW",
        "outputId": "ca1bf568-af8b-43eb-fd12-070b3202836b",
        "colab": {
          "base_uri": "https://localhost:8080/",
          "height": 453
        }
      },
      "outputs": [
        {
          "output_type": "execute_result",
          "data": {
            "text/plain": [
              "<matplotlib.colorbar.Colorbar at 0x7c4061f87290>"
            ]
          },
          "metadata": {},
          "execution_count": 121
        },
        {
          "output_type": "display_data",
          "data": {
            "text/plain": [
              "<Figure size 640x480 with 2 Axes>"
            ],
            "image/png": "[encoded data removed]"
          },
          "metadata": {}
        }
      ],
      "source": [
        "plt.scatter(X[:,0],X[:,1],c=y)\n",
        "\n",
        "\n",
        "line1x= np.arange(0,6)\n",
        "line1y= lambda x: (x * -0.5) +3.5\n",
        "\n",
        "line2x = np.arange(0,6)\n",
        "line2y = lambda x: (x * (0)) + 3\n",
        "\n",
        "plt.plot(line1x,line1y(line1x), 'r-')\n",
        "plt.plot(line2x,line2y(line1x), 'r-')\n",
        "plt.plot(line2y(line1x),line2x, 'r-')\n",
        "plt.plot()\n",
        "plt.colorbar()"
      ]
    },
    {
      "cell_type": "markdown",
      "metadata": {
        "id": "0js_2_ADpwjX"
      },
      "source": [
        "### Transform lables to one-hot coding\n",
        "* Hint: Use Scikit-Learn"
      ]
    },
    {
      "cell_type": "code",
      "execution_count": 122,
      "metadata": {
        "id": "rYzzf4EwpwjY"
      },
      "outputs": [],
      "source": [
        "from sklearn.preprocessing import OneHotEncoder"
      ]
    },
    {
      "cell_type": "code",
      "source": [
        "onehot = OneHotEncoder()\n",
        "y_one = onehot.fit_transform(y.reshape(1,-1))\n",
        "y_one"
      ],
      "metadata": {
        "id": "tewrGDGhrns8",
        "outputId": "77f2be51-6c0a-4d97-aa7a-bffc30324a20",
        "colab": {
          "base_uri": "https://localhost:8080/"
        }
      },
      "execution_count": 123,
      "outputs": [
        {
          "output_type": "execute_result",
          "data": {
            "text/plain": [
              "<Compressed Sparse Row sparse matrix of dtype 'float64'\n",
              "\twith 50 stored elements and shape (1, 50)>"
            ]
          },
          "metadata": {},
          "execution_count": 123
        }
      ]
    },
    {
      "cell_type": "markdown",
      "metadata": {
        "id": "U8M_5r6PpwjZ"
      },
      "source": [
        "### Manually find parameters $w$ and $b$ for\n",
        "* for each Perceptron seperately\n",
        "* then combine to single matrix multiplication formulation"
      ]
    },
    {
      "cell_type": "code",
      "source": [
        "def plot_line_from_normal_vector_and_offset(normal_vector, offset, x_range=None, ax=None, **kwargs):\n",
        "    \"\"\"\n",
        "    Plots a 2D line defined by its normal vector w and offset b such that wx + b = 0.\n",
        "\n",
        "    Args:\n",
        "        normal_vector (list or numpy.ndarray): A 2D vector representing the normal to the line (w). Must be of length 2.\n",
        "        offset (float): The offset (b) such that w.x + b = 0.\n",
        "        x_range (tuple, optional): A tuple (xmin, xmax) specifying the range of x-values to plot.\n",
        "                                     If None (default), a reasonable range is automatically determined.\n",
        "        ax (matplotlib.axes._axes.Axes, optional): The matplotlib axes object to plot on. If None (default),\n",
        "                                                  the current axes (plt.gca()) is used, or a new figure and axes\n",
        "                                                  are created.\n",
        "        **kwargs: Keyword arguments to pass to the `plot` function (e.g., color, linestyle, linewidth).\n",
        "\n",
        "    Returns:\n",
        "        matplotlib.lines.Line2D: The line object created by `ax.plot`.\n",
        "    \"\"\"\n",
        "    normal_vector = np.array(normal_vector)  # Ensure it's a NumPy array for calculations\n",
        "\n",
        "    if normal_vector.shape != (2,):\n",
        "        raise ValueError(\"Normal vector must be a 2D vector (length 2).\")\n",
        "\n",
        "    w1, w2 = normal_vector\n",
        "\n",
        "    if ax is None:\n",
        "        fig, ax = plt.subplots()\n",
        "\n",
        "    if x_range is None:\n",
        "        # Determine a reasonable x-range\n",
        "        xmin = -5\n",
        "        xmax = 5\n",
        "        x_range = (xmin, xmax)\n",
        "\n",
        "    xmin, xmax = x_range\n",
        "    x = np.linspace(xmin, xmax, 100)  # Generate x-values\n",
        "\n",
        "    if w2 != 0:\n",
        "        y = (-w1 * x - offset) / w2  # Solve for y: w1*x + w2*y + b = 0  =>  y = (-w1*x - b) / w2\n",
        "    else:\n",
        "        # Handle the case where the line is vertical (w2=0). Plot a vertical line.\n",
        "        if w1 == 0:\n",
        "            raise ValueError(\"Cannot plot line with w1=0 and w2=0.\")\n",
        "        x = np.full_like(x, -offset / w1)  # x is constant for a vertical line\n",
        "        y = np.linspace(ax.get_ylim()[0], ax.get_ylim()[1], 100)  # generate y values spanning the current y-axis.\n",
        "\n",
        "\n",
        "\n",
        "    line, = ax.plot(x, y, **kwargs)\n",
        "\n",
        "    return line"
      ],
      "metadata": {
        "id": "cciowY7P5bYC"
      },
      "execution_count": 124,
      "outputs": []
    },
    {
      "cell_type": "code",
      "source": [
        "fig, ax1 = plt.subplots()\n",
        "\n",
        "\n",
        "\n",
        "\n",
        "w1 = np.array([0.5,1])\n",
        "b1 = (-3.5)\n",
        "\n",
        "\n",
        "w2 = np.array([0,1])\n",
        "b2 = (-3)\n",
        "\n",
        "\n",
        "w3 = np.array([1,0])\n",
        "b3 = (-3.5)\n",
        "\n",
        "\n",
        "\n",
        "line1x= np.arange(0,6)\n",
        "line1y= lambda x: (x * -0.5) +3.5\n",
        "\n",
        "line2x = np.arange(0,6)\n",
        "line2y = lambda x: (x * (0)) + 3\n",
        "\n",
        "\n",
        "\n",
        "line1 = plot_line_from_normal_vector_and_offset(w1,b1,x_range= [0,5], ax= ax1)\n",
        "line2 = plot_line_from_normal_vector_and_offset(w2,b2,x_range= [0,5], ax= ax1)\n",
        "line3 = plot_line_from_normal_vector_and_offset(w3,b3,x_range= [0,5], ax= ax1)\n",
        "\n",
        "plt.scatter(X[:,0],X[:,1],c=y)\n",
        "plt.colorbar()"
      ],
      "metadata": {
        "id": "XPJRj9fqu5uY",
        "outputId": "1618437e-efa3-46ff-e550-8887ae2156de",
        "colab": {
          "base_uri": "https://localhost:8080/",
          "height": 453
        }
      },
      "execution_count": 125,
      "outputs": [
        {
          "output_type": "execute_result",
          "data": {
            "text/plain": [
              "<matplotlib.colorbar.Colorbar at 0x7c40626d90d0>"
            ]
          },
          "metadata": {},
          "execution_count": 125
        },
        {
          "output_type": "display_data",
          "data": {
            "text/plain": [
              "<Figure size 640x480 with 2 Axes>"
            ],
            "image/png": "[encoded data removed]"
          },
          "metadata": {}
        }
      ]
    },
    {
      "cell_type": "markdown",
      "metadata": {
        "id": "Q6086Phkpwjf"
      },
      "source": [
        "#### test single perceptrons by class\n"
      ]
    },
    {
      "cell_type": "code",
      "execution_count": 128,
      "metadata": {
        "id": "qJ_JaRYupwjg",
        "outputId": "ec21c62d-2a15-4800-d32a-5afd4d2f022f",
        "colab": {
          "base_uri": "https://localhost:8080/"
        }
      },
      "outputs": [
        {
          "output_type": "execute_result",
          "data": {
            "text/plain": [
              "np.float64(0.910685795443845)"
            ]
          },
          "metadata": {},
          "execution_count": 128
        }
      ],
      "source": [
        "#use first train sample\n",
        "w1.dot(X[1,:].T)+b1"
      ]
    },
    {
      "cell_type": "code",
      "source": [
        "#or\n",
        "X[1,:].dot(w1)+b1"
      ],
      "metadata": {
        "id": "cihMcTAsl9XX",
        "outputId": "910d8ae5-bd91-4dde-8220-456105149bd4",
        "colab": {
          "base_uri": "https://localhost:8080/"
        }
      },
      "execution_count": 129,
      "outputs": [
        {
          "output_type": "execute_result",
          "data": {
            "text/plain": [
              "np.float64(0.910685795443845)"
            ]
          },
          "metadata": {},
          "execution_count": 129
        }
      ]
    },
    {
      "cell_type": "code",
      "source": [
        "# check for all train samples if sign(y)==sign(wx+b)\n",
        "i=1\n",
        "print (y[i],np.sign(w1.dot(X[i,:].T)+b1))\n",
        "y[i]==np.sign(w1.dot(X[i,:].T)+b1)"
      ],
      "metadata": {
        "id": "bXbD1M03mCq6",
        "outputId": "ae346e97-cf1c-4c09-809c-43b1b9bf1821",
        "colab": {
          "base_uri": "https://localhost:8080/"
        }
      },
      "execution_count": 134,
      "outputs": [
        {
          "output_type": "stream",
          "name": "stdout",
          "text": [
            "1 1.0\n"
          ]
        },
        {
          "output_type": "execute_result",
          "data": {
            "text/plain": [
              "np.True_"
            ]
          },
          "metadata": {},
          "execution_count": 134
        }
      ]
    },
    {
      "cell_type": "code",
      "source": [
        "w1.dot(X.T)+b1"
      ],
      "metadata": {
        "id": "LdZMYSVlmLNR",
        "outputId": "b9a0f53b-beab-49ac-88e7-27b7cd3e07d4",
        "colab": {
          "base_uri": "https://localhost:8080/"
        }
      },
      "execution_count": 135,
      "outputs": [
        {
          "output_type": "execute_result",
          "data": {
            "text/plain": [
              "array([-0.74588419,  0.9106858 ,  0.98339344,  0.45261912,  1.4341747 ,\n",
              "        1.3196799 ,  1.01211796, -0.34346618,  1.1974218 ,  1.30609387,\n",
              "       -0.98560318,  1.33246525, -0.40095602,  0.81321186,  0.82063814,\n",
              "       -0.74685199, -1.04984017,  0.79280751,  1.05437071, -0.87013623,\n",
              "        1.46300497,  1.00643835,  1.59196585,  0.69488331,  0.71175711,\n",
              "        0.5727165 , -0.62497359,  0.70591097,  1.57136475,  0.71270758,\n",
              "        1.11784243, -0.79806244, -1.04226915,  1.09236017,  1.4163396 ,\n",
              "        1.44627217,  1.44353889, -0.61439586,  1.35764604, -0.43236253,\n",
              "       -0.88625745,  1.35059199, -1.01266144,  1.81937326,  0.76162352,\n",
              "       -0.80927706, -0.91487774,  0.60230105, -0.87628534,  0.91373152])"
            ]
          },
          "metadata": {},
          "execution_count": 135
        }
      ]
    },
    {
      "cell_type": "code",
      "source": [
        "np.sign(w1.dot(X.T)+b1)"
      ],
      "metadata": {
        "id": "fHpdgh3LmOvs",
        "outputId": "c68212e0-df92-4b77-da24-794e7915cba0",
        "colab": {
          "base_uri": "https://localhost:8080/"
        }
      },
      "execution_count": 136,
      "outputs": [
        {
          "output_type": "execute_result",
          "data": {
            "text/plain": [
              "array([-1.,  1.,  1.,  1.,  1.,  1.,  1., -1.,  1.,  1., -1.,  1., -1.,\n",
              "        1.,  1., -1., -1.,  1.,  1., -1.,  1.,  1.,  1.,  1.,  1.,  1.,\n",
              "       -1.,  1.,  1.,  1.,  1., -1., -1.,  1.,  1.,  1.,  1., -1.,  1.,\n",
              "       -1., -1.,  1., -1.,  1.,  1., -1., -1.,  1., -1.,  1.])"
            ]
          },
          "metadata": {},
          "execution_count": 136
        }
      ]
    },
    {
      "cell_type": "markdown",
      "metadata": {
        "id": "I6d2v5Vypwjm"
      },
      "source": [
        "#### test full Setup"
      ]
    },
    {
      "cell_type": "markdown",
      "metadata": {
        "id": "mpR1nHwlpwjn"
      },
      "source": [
        "## Add non-linear activation / loss -> $softmax$\n",
        "* implement a $softmax$ function\n",
        "* replace $sgn$ by $softmax$\n",
        "* plot confidence of the test samples"
      ]
    },
    {
      "cell_type": "code",
      "execution_count": 127,
      "metadata": {
        "id": "eQDXw5d4pwjq"
      },
      "outputs": [],
      "source": [
        "def softmax(x):\n",
        "    \"\"\"Compute softmax values for each sets of scores in x.\"\"\"\n",
        "\n",
        "    return"
      ]
    },
    {
      "cell_type": "code",
      "execution_count": 127,
      "metadata": {
        "id": "b1MdsZoepwjw"
      },
      "outputs": [],
      "source": []
    },
    {
      "cell_type": "code",
      "execution_count": 127,
      "metadata": {
        "id": "fRC2Ip7vpwjy"
      },
      "outputs": [],
      "source": []
    }
  ],
  "metadata": {
    "celltoolbar": "Slideshow",
    "kernelspec": {
      "display_name": "Python 3 (ipykernel)",
      "language": "python",
      "name": "python3"
    },
    "language_info": {
      "codemirror_mode": {
        "name": "ipython",
        "version": 3
      },
      "file_extension": ".py",
      "mimetype": "text/x-python",
      "name": "python",
      "nbconvert_exporter": "python",
      "pygments_lexer": "ipython3",
      "version": "3.11.4"
    },
    "colab": {
      "provenance": []
    }
  },
  "nbformat": 4,
  "nbformat_minor": 0
}