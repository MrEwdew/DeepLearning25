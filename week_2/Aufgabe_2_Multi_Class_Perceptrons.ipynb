{
  "cells": [
    {
      "cell_type": "markdown",
      "metadata": {
        "id": "ltlUOI1ZpwjM"
      },
      "source": [
        "# Aufgabe 2: Multi-Class Perceptrons"
      ]
    },
    {
      "cell_type": "code",
      "source": [
        "import numpy as np\n",
        "import matplotlib.pyplot as plt\n",
        "from sklearn.datasets import make_blobs #for data generatio"
      ],
      "metadata": {
        "id": "EX-m1iGLqMvJ"
      },
      "execution_count": 450,
      "outputs": []
    },
    {
      "cell_type": "code",
      "execution_count": 451,
      "metadata": {
        "id": "Tb8Ku-xTpwjP"
      },
      "outputs": [],
      "source": [
        "X, y = make_blobs(n_samples=50, centers=3, cluster_std=0.2,n_features=2,center_box=(1,5),random_state=104)"
      ]
    },
    {
      "cell_type": "code",
      "source": [
        "y"
      ],
      "metadata": {
        "colab": {
          "base_uri": "https://localhost:8080/"
        },
        "id": "wQBsTLeKrp_k",
        "outputId": "f25c371b-23fd-406d-a3b9-c0aabbeb2782"
      },
      "execution_count": 452,
      "outputs": [
        {
          "output_type": "execute_result",
          "data": {
            "text/plain": [
              "array([0, 1, 2, 1, 2, 2, 1, 0, 2, 2, 0, 2, 0, 1, 1, 0, 0, 1, 1, 0, 2, 1,\n",
              "       2, 1, 1, 1, 0, 1, 2, 1, 2, 0, 0, 1, 2, 2, 2, 0, 2, 0, 0, 2, 0, 2,\n",
              "       1, 0, 0, 1, 0, 1])"
            ]
          },
          "metadata": {},
          "execution_count": 452
        }
      ]
    },
    {
      "cell_type": "code",
      "source": [
        "def plot_line_from_normal_vector_and_offset(normal_vector, offset, x_range=None, ax=None, **kwargs):\n",
        "    \"\"\"\n",
        "    Plots a 2D line defined by its normal vector w and offset b such that wx + b = 0.\n",
        "\n",
        "    Args:\n",
        "        normal_vector (list or numpy.ndarray): A 2D vector representing the normal to the line (w). Must be of length 2.\n",
        "        offset (float): The offset (b) such that w.x + b = 0.\n",
        "        x_range (tuple, optional): A tuple (xmin, xmax) specifying the range of x-values to plot.\n",
        "                                     If None (default), a reasonable range is automatically determined.\n",
        "        ax (matplotlib.axes._axes.Axes, optional): The matplotlib axes object to plot on. If None (default),\n",
        "                                                  the current axes (plt.gca()) is used, or a new figure and axes\n",
        "                                                  are created.\n",
        "        **kwargs: Keyword arguments to pass to the `plot` function (e.g., color, linestyle, linewidth).\n",
        "\n",
        "    Returns:\n",
        "        matplotlib.lines.Line2D: The line object created by `ax.plot`.\n",
        "    \"\"\"\n",
        "    normal_vector = np.array(normal_vector)  # Ensure it's a NumPy array for calculations\n",
        "\n",
        "    if normal_vector.shape != (2,):\n",
        "        raise ValueError(\"Normal vector must be a 2D vector (length 2).\")\n",
        "\n",
        "    w1, w2 = normal_vector\n",
        "\n",
        "    if ax is None:\n",
        "        fig, ax = plt.subplots()\n",
        "\n",
        "    if x_range is None:\n",
        "        # Determine a reasonable x-range\n",
        "        xmin = -5\n",
        "        xmax = 5\n",
        "        x_range = (xmin, xmax)\n",
        "\n",
        "    xmin, xmax = x_range\n",
        "    x = np.linspace(xmin, xmax, 100)  # Generate x-values\n",
        "\n",
        "    if w2 != 0:\n",
        "        y = (-w1 * x - offset) / w2  # Solve for y: w1*x + w2*y + b = 0  =>  y = (-w1*x - b) / w2\n",
        "    else:\n",
        "        # Handle the case where the line is vertical (w2=0). Plot a vertical line.\n",
        "        if w1 == 0:\n",
        "            raise ValueError(\"Cannot plot line with w1=0 and w2=0.\")\n",
        "        x = np.full_like(x, -offset / w1)  # x is constant for a vertical line\n",
        "        y = np.linspace(ax.get_ylim()[0], ax.get_ylim()[1], 100)  # generate y values spanning the current y-axis.\n",
        "\n",
        "\n",
        "\n",
        "    line, = ax.plot(x, y, **kwargs)\n",
        "\n",
        "    return line"
      ],
      "metadata": {
        "id": "DwdW0ljRqbTB"
      },
      "execution_count": 453,
      "outputs": []
    },
    {
      "cell_type": "code",
      "execution_count": 454,
      "metadata": {
        "scrolled": true,
        "id": "zJpc9S8IpwjQ",
        "outputId": "65200d2f-ebcc-48d4-b411-4a84deae4675",
        "colab": {
          "base_uri": "https://localhost:8080/",
          "height": 453
        }
      },
      "outputs": [
        {
          "output_type": "execute_result",
          "data": {
            "text/plain": [
              "<matplotlib.colorbar.Colorbar at 0x7c405be37290>"
            ]
          },
          "metadata": {},
          "execution_count": 454
        },
        {
          "output_type": "display_data",
          "data": {
            "text/plain": [
              "<Figure size 640x480 with 2 Axes>"
            ],
            "image/png": "[encoded data removed]"
          },
          "metadata": {}
        }
      ],
      "source": [
        "plt.scatter(X[:,0],X[:,1],c=y)\n",
        "plt.colorbar()"
      ]
    },
    {
      "cell_type": "markdown",
      "metadata": {
        "id": "O-Z8nNDNpwjR"
      },
      "source": [
        "### draw Percepton layout\n",
        "* Hint: now we have more then one Perceptron\n",
        "* write math. formulation as linear model"
      ]
    },
    {
      "cell_type": "code",
      "execution_count": 455,
      "metadata": {
        "id": "7LH2sHkNpwjW",
        "outputId": "76ce31f8-8913-43a3-cca1-e99c3f021523",
        "colab": {
          "base_uri": "https://localhost:8080/",
          "height": 453
        }
      },
      "outputs": [
        {
          "output_type": "execute_result",
          "data": {
            "text/plain": [
              "<matplotlib.colorbar.Colorbar at 0x7c405bd0b090>"
            ]
          },
          "metadata": {},
          "execution_count": 455
        },
        {
          "output_type": "display_data",
          "data": {
            "text/plain": [
              "<Figure size 640x480 with 2 Axes>"
            ],
            "image/png": "[encoded data removed]"
          },
          "metadata": {}
        }
      ],
      "source": [
        "plt.scatter(X[:,0],X[:,1],c=y)\n",
        "\n",
        "\n",
        "line1x= np.arange(0,6)\n",
        "line1y= lambda x: (x * -0.5) +3.5\n",
        "\n",
        "line2x = np.arange(0,6)\n",
        "line2y = lambda x: (x * (0)) + 3\n",
        "\n",
        "plt.plot(line1x,line1y(line1x), 'r-')\n",
        "plt.plot(line2x,line2y(line1x), 'r-')\n",
        "plt.plot(line2y(line1x),line2x, 'r-')\n",
        "plt.plot()\n",
        "plt.colorbar()"
      ]
    },
    {
      "cell_type": "markdown",
      "metadata": {
        "id": "0js_2_ADpwjX"
      },
      "source": [
        "### Transform lables to one-hot coding\n",
        "* Hint: Use Scikit-Learn"
      ]
    },
    {
      "cell_type": "code",
      "execution_count": 456,
      "metadata": {
        "id": "rYzzf4EwpwjY"
      },
      "outputs": [],
      "source": [
        "from sklearn.preprocessing import OneHotEncoder"
      ]
    },
    {
      "cell_type": "code",
      "source": [
        "y"
      ],
      "metadata": {
        "colab": {
          "base_uri": "https://localhost:8080/"
        },
        "id": "01D5UrEe0HLN",
        "outputId": "51dc2293-8fa8-4358-db54-9fe76c84bd48"
      },
      "execution_count": 457,
      "outputs": [
        {
          "output_type": "execute_result",
          "data": {
            "text/plain": [
              "array([0, 1, 2, 1, 2, 2, 1, 0, 2, 2, 0, 2, 0, 1, 1, 0, 0, 1, 1, 0, 2, 1,\n",
              "       2, 1, 1, 1, 0, 1, 2, 1, 2, 0, 0, 1, 2, 2, 2, 0, 2, 0, 0, 2, 0, 2,\n",
              "       1, 0, 0, 1, 0, 1])"
            ]
          },
          "metadata": {},
          "execution_count": 457
        }
      ]
    },
    {
      "cell_type": "code",
      "source": [
        "y.reshape(-1,1)"
      ],
      "metadata": {
        "colab": {
          "base_uri": "https://localhost:8080/"
        },
        "id": "zOe2vMrk0E4L",
        "outputId": "661e2208-6f3e-43c5-e076-afedc8bcd6de"
      },
      "execution_count": 458,
      "outputs": [
        {
          "output_type": "execute_result",
          "data": {
            "text/plain": [
              "array([[0],\n",
              "       [1],\n",
              "       [2],\n",
              "       [1],\n",
              "       [2],\n",
              "       [2],\n",
              "       [1],\n",
              "       [0],\n",
              "       [2],\n",
              "       [2],\n",
              "       [0],\n",
              "       [2],\n",
              "       [0],\n",
              "       [1],\n",
              "       [1],\n",
              "       [0],\n",
              "       [0],\n",
              "       [1],\n",
              "       [1],\n",
              "       [0],\n",
              "       [2],\n",
              "       [1],\n",
              "       [2],\n",
              "       [1],\n",
              "       [1],\n",
              "       [1],\n",
              "       [0],\n",
              "       [1],\n",
              "       [2],\n",
              "       [1],\n",
              "       [2],\n",
              "       [0],\n",
              "       [0],\n",
              "       [1],\n",
              "       [2],\n",
              "       [2],\n",
              "       [2],\n",
              "       [0],\n",
              "       [2],\n",
              "       [0],\n",
              "       [0],\n",
              "       [2],\n",
              "       [0],\n",
              "       [2],\n",
              "       [1],\n",
              "       [0],\n",
              "       [0],\n",
              "       [1],\n",
              "       [0],\n",
              "       [1]])"
            ]
          },
          "metadata": {},
          "execution_count": 458
        }
      ]
    },
    {
      "cell_type": "code",
      "source": [
        "onehot = OneHotEncoder()\n",
        "y_one = onehot.fit_transform(y.reshape(-1,1)).toarray()\n",
        "y_one\n",
        "\n"
      ],
      "metadata": {
        "id": "tewrGDGhrns8",
        "outputId": "0ec003fe-223d-480d-c9b6-033fa31bd0be",
        "colab": {
          "base_uri": "https://localhost:8080/"
        }
      },
      "execution_count": 459,
      "outputs": [
        {
          "output_type": "execute_result",
          "data": {
            "text/plain": [
              "array([[1., 0., 0.],\n",
              "       [0., 1., 0.],\n",
              "       [0., 0., 1.],\n",
              "       [0., 1., 0.],\n",
              "       [0., 0., 1.],\n",
              "       [0., 0., 1.],\n",
              "       [0., 1., 0.],\n",
              "       [1., 0., 0.],\n",
              "       [0., 0., 1.],\n",
              "       [0., 0., 1.],\n",
              "       [1., 0., 0.],\n",
              "       [0., 0., 1.],\n",
              "       [1., 0., 0.],\n",
              "       [0., 1., 0.],\n",
              "       [0., 1., 0.],\n",
              "       [1., 0., 0.],\n",
              "       [1., 0., 0.],\n",
              "       [0., 1., 0.],\n",
              "       [0., 1., 0.],\n",
              "       [1., 0., 0.],\n",
              "       [0., 0., 1.],\n",
              "       [0., 1., 0.],\n",
              "       [0., 0., 1.],\n",
              "       [0., 1., 0.],\n",
              "       [0., 1., 0.],\n",
              "       [0., 1., 0.],\n",
              "       [1., 0., 0.],\n",
              "       [0., 1., 0.],\n",
              "       [0., 0., 1.],\n",
              "       [0., 1., 0.],\n",
              "       [0., 0., 1.],\n",
              "       [1., 0., 0.],\n",
              "       [1., 0., 0.],\n",
              "       [0., 1., 0.],\n",
              "       [0., 0., 1.],\n",
              "       [0., 0., 1.],\n",
              "       [0., 0., 1.],\n",
              "       [1., 0., 0.],\n",
              "       [0., 0., 1.],\n",
              "       [1., 0., 0.],\n",
              "       [1., 0., 0.],\n",
              "       [0., 0., 1.],\n",
              "       [1., 0., 0.],\n",
              "       [0., 0., 1.],\n",
              "       [0., 1., 0.],\n",
              "       [1., 0., 0.],\n",
              "       [1., 0., 0.],\n",
              "       [0., 1., 0.],\n",
              "       [1., 0., 0.],\n",
              "       [0., 1., 0.]])"
            ]
          },
          "metadata": {},
          "execution_count": 459
        }
      ]
    },
    {
      "cell_type": "code",
      "source": [
        "y_one=(y_one*2-1)\n",
        "\n",
        "y_one"
      ],
      "metadata": {
        "colab": {
          "base_uri": "https://localhost:8080/"
        },
        "id": "ntiIQKpp1WHz",
        "outputId": "4ca526bc-7dae-4f4f-f085-9b396ecb75fb"
      },
      "execution_count": 460,
      "outputs": [
        {
          "output_type": "execute_result",
          "data": {
            "text/plain": [
              "array([[ 1., -1., -1.],\n",
              "       [-1.,  1., -1.],\n",
              "       [-1., -1.,  1.],\n",
              "       [-1.,  1., -1.],\n",
              "       [-1., -1.,  1.],\n",
              "       [-1., -1.,  1.],\n",
              "       [-1.,  1., -1.],\n",
              "       [ 1., -1., -1.],\n",
              "       [-1., -1.,  1.],\n",
              "       [-1., -1.,  1.],\n",
              "       [ 1., -1., -1.],\n",
              "       [-1., -1.,  1.],\n",
              "       [ 1., -1., -1.],\n",
              "       [-1.,  1., -1.],\n",
              "       [-1.,  1., -1.],\n",
              "       [ 1., -1., -1.],\n",
              "       [ 1., -1., -1.],\n",
              "       [-1.,  1., -1.],\n",
              "       [-1.,  1., -1.],\n",
              "       [ 1., -1., -1.],\n",
              "       [-1., -1.,  1.],\n",
              "       [-1.,  1., -1.],\n",
              "       [-1., -1.,  1.],\n",
              "       [-1.,  1., -1.],\n",
              "       [-1.,  1., -1.],\n",
              "       [-1.,  1., -1.],\n",
              "       [ 1., -1., -1.],\n",
              "       [-1.,  1., -1.],\n",
              "       [-1., -1.,  1.],\n",
              "       [-1.,  1., -1.],\n",
              "       [-1., -1.,  1.],\n",
              "       [ 1., -1., -1.],\n",
              "       [ 1., -1., -1.],\n",
              "       [-1.,  1., -1.],\n",
              "       [-1., -1.,  1.],\n",
              "       [-1., -1.,  1.],\n",
              "       [-1., -1.,  1.],\n",
              "       [ 1., -1., -1.],\n",
              "       [-1., -1.,  1.],\n",
              "       [ 1., -1., -1.],\n",
              "       [ 1., -1., -1.],\n",
              "       [-1., -1.,  1.],\n",
              "       [ 1., -1., -1.],\n",
              "       [-1., -1.,  1.],\n",
              "       [-1.,  1., -1.],\n",
              "       [ 1., -1., -1.],\n",
              "       [ 1., -1., -1.],\n",
              "       [-1.,  1., -1.],\n",
              "       [ 1., -1., -1.],\n",
              "       [-1.,  1., -1.]])"
            ]
          },
          "metadata": {},
          "execution_count": 460
        }
      ]
    },
    {
      "cell_type": "markdown",
      "metadata": {
        "id": "U8M_5r6PpwjZ"
      },
      "source": [
        "### Manually find parameters $w$ and $b$ for\n",
        "* for each Perceptron seperately\n",
        "* then combine to single matrix multiplication formulation"
      ]
    },
    {
      "cell_type": "code",
      "source": [
        "def plot_line_from_normal_vector_and_offset(normal_vector, offset, x_range=None, ax=None, **kwargs):\n",
        "    \"\"\"\n",
        "    Plots a 2D line defined by its normal vector w and offset b such that wx + b = 0.\n",
        "\n",
        "    Args:\n",
        "        normal_vector (list or numpy.ndarray): A 2D vector representing the normal to the line (w). Must be of length 2.\n",
        "        offset (float): The offset (b) such that w.x + b = 0.\n",
        "        x_range (tuple, optional): A tuple (xmin, xmax) specifying the range of x-values to plot.\n",
        "                                     If None (default), a reasonable range is automatically determined.\n",
        "        ax (matplotlib.axes._axes.Axes, optional): The matplotlib axes object to plot on. If None (default),\n",
        "                                                  the current axes (plt.gca()) is used, or a new figure and axes\n",
        "                                                  are created.\n",
        "        **kwargs: Keyword arguments to pass to the `plot` function (e.g., color, linestyle, linewidth).\n",
        "\n",
        "    Returns:\n",
        "        matplotlib.lines.Line2D: The line object created by `ax.plot`.\n",
        "    \"\"\"\n",
        "    normal_vector = np.array(normal_vector)  # Ensure it's a NumPy array for calculations\n",
        "\n",
        "    if normal_vector.shape != (2,):\n",
        "        raise ValueError(\"Normal vector must be a 2D vector (length 2).\")\n",
        "\n",
        "    w1, w2 = normal_vector\n",
        "\n",
        "    if ax is None:\n",
        "        fig, ax = plt.subplots()\n",
        "\n",
        "    if x_range is None:\n",
        "        # Determine a reasonable x-range\n",
        "        xmin = -5\n",
        "        xmax = 5\n",
        "        x_range = (xmin, xmax)\n",
        "\n",
        "    xmin, xmax = x_range\n",
        "    x = np.linspace(xmin, xmax, 100)  # Generate x-values\n",
        "\n",
        "    if w2 != 0:\n",
        "        y = (-w1 * x - offset) / w2  # Solve for y: w1*x + w2*y + b = 0  =>  y = (-w1*x - b) / w2\n",
        "    else:\n",
        "        # Handle the case where the line is vertical (w2=0). Plot a vertical line.\n",
        "        if w1 == 0:\n",
        "            raise ValueError(\"Cannot plot line with w1=0 and w2=0.\")\n",
        "        x = np.full_like(x, -offset / w1)  # x is constant for a vertical line\n",
        "        y = np.linspace(ax.get_ylim()[0], ax.get_ylim()[1], 100)  # generate y values spanning the current y-axis.\n",
        "\n",
        "\n",
        "\n",
        "    line, = ax.plot(x, y, **kwargs)\n",
        "\n",
        "    return line"
      ],
      "metadata": {
        "id": "cciowY7P5bYC"
      },
      "execution_count": 461,
      "outputs": []
    },
    {
      "cell_type": "code",
      "source": [
        "fig, ax1 = plt.subplots()\n",
        "\n",
        "\n",
        "\n",
        "\n",
        "w1 = np.array([0.5,1])\n",
        "b1 = (-3.5)\n",
        "\n",
        "\n",
        "w2 = np.array([0,1])\n",
        "b2 = (-3)\n",
        "\n",
        "\n",
        "w3 = np.array([1,0])\n",
        "b3 = (-3.5)\n",
        "\n",
        "\n",
        "\n",
        "line1 = plot_line_from_normal_vector_and_offset(w1,b1,x_range= [0,5], ax= ax1)\n",
        "line2 = plot_line_from_normal_vector_and_offset(w2,b2,x_range= [0,5], ax= ax1)\n",
        "line3 = plot_line_from_normal_vector_and_offset(w3,b3,x_range= [0,5], ax= ax1)\n",
        "\n",
        "plt.scatter(X[:,0],X[:,1],c=y)\n",
        "plt.colorbar()"
      ],
      "metadata": {
        "id": "XPJRj9fqu5uY",
        "outputId": "51623f2d-23d3-4c73-ed19-a1988aec6fbb",
        "colab": {
          "base_uri": "https://localhost:8080/",
          "height": 453
        }
      },
      "execution_count": 462,
      "outputs": [
        {
          "output_type": "execute_result",
          "data": {
            "text/plain": [
              "<matplotlib.colorbar.Colorbar at 0x7c405bbb7890>"
            ]
          },
          "metadata": {},
          "execution_count": 462
        },
        {
          "output_type": "display_data",
          "data": {
            "text/plain": [
              "<Figure size 640x480 with 2 Axes>"
            ],
            "image/png": "[encoded data removed]"
          },
          "metadata": {}
        }
      ]
    },
    {
      "cell_type": "markdown",
      "metadata": {
        "id": "Q6086Phkpwjf"
      },
      "source": [
        "#### test single perceptrons by class\n"
      ]
    },
    {
      "cell_type": "code",
      "execution_count": 463,
      "metadata": {
        "id": "qJ_JaRYupwjg",
        "colab": {
          "base_uri": "https://localhost:8080/"
        },
        "outputId": "25c5c7d0-5cce-40b6-a9f9-f665a3b1beb4"
      },
      "outputs": [
        {
          "output_type": "execute_result",
          "data": {
            "text/plain": [
              "np.float64(0.910685795443845)"
            ]
          },
          "metadata": {},
          "execution_count": 463
        }
      ],
      "source": [
        "#use first train sample\n",
        "w1.dot(X[1,:].T)+b1"
      ]
    },
    {
      "cell_type": "code",
      "source": [
        "#or\n",
        "X[1,:].dot(w1)+b1"
      ],
      "metadata": {
        "colab": {
          "base_uri": "https://localhost:8080/"
        },
        "id": "cihMcTAsl9XX",
        "outputId": "bf9a153c-842b-48ab-dc92-da1efea531b1"
      },
      "execution_count": 464,
      "outputs": [
        {
          "output_type": "execute_result",
          "data": {
            "text/plain": [
              "np.float64(0.910685795443845)"
            ]
          },
          "metadata": {},
          "execution_count": 464
        }
      ]
    },
    {
      "cell_type": "code",
      "source": [
        "# check for all train samples if sign(y)==sign(wx+b)\n",
        "i=1\n",
        "print (y[i],np.sign(w1.dot(X[i,:].T)+b1))\n",
        "y[i]==np.sign(w1.dot(X[i,:].T)+b1)"
      ],
      "metadata": {
        "colab": {
          "base_uri": "https://localhost:8080/"
        },
        "id": "bXbD1M03mCq6",
        "outputId": "cb31cd1a-bd32-4dee-d527-9020b1e98c9e"
      },
      "execution_count": 465,
      "outputs": [
        {
          "output_type": "stream",
          "name": "stdout",
          "text": [
            "1 1.0\n"
          ]
        },
        {
          "output_type": "execute_result",
          "data": {
            "text/plain": [
              "np.True_"
            ]
          },
          "metadata": {},
          "execution_count": 465
        }
      ]
    },
    {
      "cell_type": "code",
      "source": [
        "w1.dot(X.T)+b1"
      ],
      "metadata": {
        "colab": {
          "base_uri": "https://localhost:8080/"
        },
        "id": "LdZMYSVlmLNR",
        "outputId": "be7d607e-56da-472f-aa95-e945b567f85a"
      },
      "execution_count": 466,
      "outputs": [
        {
          "output_type": "execute_result",
          "data": {
            "text/plain": [
              "array([-0.74588419,  0.9106858 ,  0.98339344,  0.45261912,  1.4341747 ,\n",
              "        1.3196799 ,  1.01211796, -0.34346618,  1.1974218 ,  1.30609387,\n",
              "       -0.98560318,  1.33246525, -0.40095602,  0.81321186,  0.82063814,\n",
              "       -0.74685199, -1.04984017,  0.79280751,  1.05437071, -0.87013623,\n",
              "        1.46300497,  1.00643835,  1.59196585,  0.69488331,  0.71175711,\n",
              "        0.5727165 , -0.62497359,  0.70591097,  1.57136475,  0.71270758,\n",
              "        1.11784243, -0.79806244, -1.04226915,  1.09236017,  1.4163396 ,\n",
              "        1.44627217,  1.44353889, -0.61439586,  1.35764604, -0.43236253,\n",
              "       -0.88625745,  1.35059199, -1.01266144,  1.81937326,  0.76162352,\n",
              "       -0.80927706, -0.91487774,  0.60230105, -0.87628534,  0.91373152])"
            ]
          },
          "metadata": {},
          "execution_count": 466
        }
      ]
    },
    {
      "cell_type": "code",
      "source": [
        "np.sign(w1.dot(X.T)+b1)"
      ],
      "metadata": {
        "colab": {
          "base_uri": "https://localhost:8080/"
        },
        "id": "fHpdgh3LmOvs",
        "outputId": "143b98bb-3d0c-4c6d-dd0f-35a7cd086e3c"
      },
      "execution_count": 467,
      "outputs": [
        {
          "output_type": "execute_result",
          "data": {
            "text/plain": [
              "array([-1.,  1.,  1.,  1.,  1.,  1.,  1., -1.,  1.,  1., -1.,  1., -1.,\n",
              "        1.,  1., -1., -1.,  1.,  1., -1.,  1.,  1.,  1.,  1.,  1.,  1.,\n",
              "       -1.,  1.,  1.,  1.,  1., -1., -1.,  1.,  1.,  1.,  1., -1.,  1.,\n",
              "       -1., -1.,  1., -1.,  1.,  1., -1., -1.,  1., -1.,  1.])"
            ]
          },
          "metadata": {},
          "execution_count": 467
        }
      ]
    },
    {
      "cell_type": "code",
      "source": [
        "#check result\n",
        "y==np.sign(w1.dot(X.T)+b1)"
      ],
      "metadata": {
        "colab": {
          "base_uri": "https://localhost:8080/"
        },
        "id": "Nl00a_tHmY6V",
        "outputId": "9d3ceb96-98cb-4c70-9d42-50441586703f"
      },
      "execution_count": 468,
      "outputs": [
        {
          "output_type": "execute_result",
          "data": {
            "text/plain": [
              "array([False,  True, False,  True, False, False,  True, False, False,\n",
              "       False, False, False, False,  True,  True, False, False,  True,\n",
              "        True, False, False,  True, False,  True,  True,  True, False,\n",
              "        True, False,  True, False, False, False,  True, False, False,\n",
              "       False, False, False, False, False, False, False, False,  True,\n",
              "       False, False,  True, False,  True])"
            ]
          },
          "metadata": {},
          "execution_count": 468
        }
      ]
    },
    {
      "cell_type": "code",
      "source": [
        "y==np.sign(X.dot(w1.T)+b1)"
      ],
      "metadata": {
        "colab": {
          "base_uri": "https://localhost:8080/"
        },
        "id": "Ofw54uPdmfPS",
        "outputId": "e6b19e99-be7b-47ac-9545-306412cbdd38"
      },
      "execution_count": 469,
      "outputs": [
        {
          "output_type": "execute_result",
          "data": {
            "text/plain": [
              "array([False,  True, False,  True, False, False,  True, False, False,\n",
              "       False, False, False, False,  True,  True, False, False,  True,\n",
              "        True, False, False,  True, False,  True,  True,  True, False,\n",
              "        True, False,  True, False, False, False,  True, False, False,\n",
              "       False, False, False, False, False, False, False, False,  True,\n",
              "       False, False,  True, False,  True])"
            ]
          },
          "metadata": {},
          "execution_count": 469
        }
      ]
    },
    {
      "cell_type": "code",
      "source": [
        "# get IDs of wrong classified\n",
        "pos=np.where(y!=np.sign(w1.dot(X.T)+b1))\n",
        "print(pos)"
      ],
      "metadata": {
        "colab": {
          "base_uri": "https://localhost:8080/"
        },
        "id": "0uOxbfNCmwIw",
        "outputId": "43b2c79b-4636-431d-9a39-33c959f46eaa"
      },
      "execution_count": 470,
      "outputs": [
        {
          "output_type": "stream",
          "name": "stdout",
          "text": [
            "(array([ 0,  2,  4,  5,  7,  8,  9, 10, 11, 12, 15, 16, 19, 20, 22, 26, 28,\n",
            "       30, 31, 32, 34, 35, 36, 37, 38, 39, 40, 41, 42, 43, 45, 46, 48]),)\n"
          ]
        }
      ]
    },
    {
      "cell_type": "code",
      "source": [
        "y_test=np.copy(y)\n",
        "y_test[pos]=0\n",
        "plot_line_from_normal_vector_and_offset(w1,b1,x_range= [0,5])\n",
        "plt.scatter(X[:,0],X[:,1],c=y_test)#set color\n",
        "plt.colorbar()\n",
        "#abline(1,2)"
      ],
      "metadata": {
        "colab": {
          "base_uri": "https://localhost:8080/",
          "height": 453
        },
        "id": "gWjm4Imzm0G6",
        "outputId": "092bb634-a01c-4589-bec8-981829d420d4"
      },
      "execution_count": 479,
      "outputs": [
        {
          "output_type": "execute_result",
          "data": {
            "text/plain": [
              "<matplotlib.colorbar.Colorbar at 0x7c405b61b190>"
            ]
          },
          "metadata": {},
          "execution_count": 479
        },
        {
          "output_type": "display_data",
          "data": {
            "text/plain": [
              "<Figure size 640x480 with 2 Axes>"
            ],
            "image/png": "[encoded data removed]"
          },
          "metadata": {}
        }
      ]
    },
    {
      "cell_type": "code",
      "source": [
        "# get IDs of wrong classified\n",
        "pos=np.where(y!=np.sign(w2.dot(X.T)+b2))\n",
        "print(pos)\n",
        "y_test=np.copy(y)\n",
        "y_test[pos]= 0\n",
        "plot_line_from_normal_vector_and_offset(w2,b2,x_range= [0,5])\n",
        "plt.scatter(X[:,0],X[:,1],c=y_test)#set color\n",
        "plt.colorbar()\n",
        "#abline(1,2)"
      ],
      "metadata": {
        "colab": {
          "base_uri": "https://localhost:8080/",
          "height": 506
        },
        "id": "K620aXFmzDaf",
        "outputId": "abe9e455-79b4-431c-e6b4-a0a03621c182"
      },
      "execution_count": 482,
      "outputs": [
        {
          "output_type": "stream",
          "name": "stdout",
          "text": [
            "(array([ 0,  1,  2,  3,  4,  5,  6,  7,  8,  9, 10, 11, 12, 13, 14, 15, 16,\n",
            "       17, 18, 19, 20, 21, 22, 23, 24, 25, 26, 27, 28, 29, 30, 31, 32, 33,\n",
            "       34, 35, 36, 37, 38, 39, 40, 41, 42, 43, 44, 45, 46, 47, 48, 49]),)\n"
          ]
        },
        {
          "output_type": "execute_result",
          "data": {
            "text/plain": [
              "<matplotlib.colorbar.Colorbar at 0x7c405b43f290>"
            ]
          },
          "metadata": {},
          "execution_count": 482
        },
        {
          "output_type": "display_data",
          "data": {
            "text/plain": [
              "<Figure size 640x480 with 2 Axes>"
            ],
            "image/png": "[encoded data removed]"
          },
          "metadata": {}
        }
      ]
    },
    {
      "cell_type": "code",
      "source": [
        "# get IDs of wrong classified\n",
        "pos=np.where(y_one!=np.sign(w3.dot(X.T)+b3))\n",
        "print(pos)\n",
        "y_test=np.copy(y_one)\n",
        "y_test[pos]= 0\n",
        "plot_line_from_normal_vector_and_offset(w2,b2,x_range= [0,5])\n",
        "plt.scatter(X[:,0],X[:,1],c=y_test)#set color\n",
        "plt.colorbar()\n",
        "#abline(1,2)"
      ],
      "metadata": {
        "colab": {
          "base_uri": "https://localhost:8080/",
          "height": 216
        },
        "id": "SsfK4yc9sRrl",
        "outputId": "71309e75-10c3-4d17-d7d2-b9acbe8c95ce"
      },
      "execution_count": 484,
      "outputs": [
        {
          "output_type": "error",
          "ename": "ValueError",
          "evalue": "operands could not be broadcast together with shapes (50,3) (50,) ",
          "traceback": [
            "\u001b[0;31m---------------------------------------------------------------------------\u001b[0m",
            "\u001b[0;31mValueError\u001b[0m                                Traceback (most recent call last)",
            "\u001b[0;32m<ipython-input-484-645a5510dcb2>\u001b[0m in \u001b[0;36m<cell line: 0>\u001b[0;34m()\u001b[0m\n\u001b[1;32m      1\u001b[0m \u001b[0;31m# get IDs of wrong classified\u001b[0m\u001b[0;34m\u001b[0m\u001b[0;34m\u001b[0m\u001b[0m\n\u001b[0;32m----> 2\u001b[0;31m \u001b[0mpos\u001b[0m\u001b[0;34m=\u001b[0m\u001b[0mnp\u001b[0m\u001b[0;34m.\u001b[0m\u001b[0mwhere\u001b[0m\u001b[0;34m(\u001b[0m\u001b[0my_one\u001b[0m\u001b[0;34m!=\u001b[0m\u001b[0mnp\u001b[0m\u001b[0;34m.\u001b[0m\u001b[0msign\u001b[0m\u001b[0;34m(\u001b[0m\u001b[0mw3\u001b[0m\u001b[0;34m.\u001b[0m\u001b[0mdot\u001b[0m\u001b[0;34m(\u001b[0m\u001b[0mX\u001b[0m\u001b[0;34m.\u001b[0m\u001b[0mT\u001b[0m\u001b[0;34m)\u001b[0m\u001b[0;34m+\u001b[0m\u001b[0mb3\u001b[0m\u001b[0;34m)\u001b[0m\u001b[0;34m)\u001b[0m\u001b[0;34m\u001b[0m\u001b[0;34m\u001b[0m\u001b[0m\n\u001b[0m\u001b[1;32m      3\u001b[0m \u001b[0mprint\u001b[0m\u001b[0;34m(\u001b[0m\u001b[0mpos\u001b[0m\u001b[0;34m)\u001b[0m\u001b[0;34m\u001b[0m\u001b[0;34m\u001b[0m\u001b[0m\n\u001b[1;32m      4\u001b[0m \u001b[0my_test\u001b[0m\u001b[0;34m=\u001b[0m\u001b[0mnp\u001b[0m\u001b[0;34m.\u001b[0m\u001b[0mcopy\u001b[0m\u001b[0;34m(\u001b[0m\u001b[0my_one\u001b[0m\u001b[0;34m)\u001b[0m\u001b[0;34m\u001b[0m\u001b[0;34m\u001b[0m\u001b[0m\n\u001b[1;32m      5\u001b[0m \u001b[0my_test\u001b[0m\u001b[0;34m[\u001b[0m\u001b[0mpos\u001b[0m\u001b[0;34m]\u001b[0m\u001b[0;34m=\u001b[0m \u001b[0;36m0\u001b[0m\u001b[0;34m\u001b[0m\u001b[0;34m\u001b[0m\u001b[0m\n",
            "\u001b[0;31mValueError\u001b[0m: operands could not be broadcast together with shapes (50,3) (50,) "
          ]
        }
      ]
    },
    {
      "cell_type": "markdown",
      "metadata": {
        "id": "I6d2v5Vypwjm"
      },
      "source": [
        "#### test full Setup"
      ]
    },
    {
      "cell_type": "markdown",
      "metadata": {
        "id": "mpR1nHwlpwjn"
      },
      "source": [
        "## Add non-linear activation / loss -> $softmax$\n",
        "* implement a $softmax$ function\n",
        "* replace $sgn$ by $softmax$\n",
        "* plot confidence of the test samples"
      ]
    },
    {
      "cell_type": "code",
      "execution_count": 474,
      "metadata": {
        "id": "eQDXw5d4pwjq"
      },
      "outputs": [],
      "source": [
        "def softmax(x):\n",
        "    \"\"\"Compute softmax values for each sets of scores in x.\"\"\"\n",
        "\n",
        "    return"
      ]
    },
    {
      "cell_type": "code",
      "execution_count": 474,
      "metadata": {
        "id": "b1MdsZoepwjw"
      },
      "outputs": [],
      "source": []
    },
    {
      "cell_type": "code",
      "execution_count": 474,
      "metadata": {
        "id": "fRC2Ip7vpwjy"
      },
      "outputs": [],
      "source": []
    }
  ],
  "metadata": {
    "celltoolbar": "Slideshow",
    "kernelspec": {
      "display_name": "Python 3 (ipykernel)",
      "language": "python",
      "name": "python3"
    },
    "language_info": {
      "codemirror_mode": {
        "name": "ipython",
        "version": 3
      },
      "file_extension": ".py",
      "mimetype": "text/x-python",
      "name": "python",
      "nbconvert_exporter": "python",
      "pygments_lexer": "ipython3",
      "version": "3.11.4"
    },
    "colab": {
      "provenance": []
    }
  },
  "nbformat": 4,
  "nbformat_minor": 0
}