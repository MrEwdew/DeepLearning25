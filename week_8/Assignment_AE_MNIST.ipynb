{
  "nbformat": 4,
  "nbformat_minor": 0,
  "metadata": {
    "colab": {
      "name": "Assignment-AE-MNIST.ipynb",
      "provenance": []
    },
    "kernelspec": {
      "name": "python3",
      "display_name": "Python 3"
    },
    "language_info": {
      "name": "python"
    }
  },
  "cells": [
    {
      "cell_type": "markdown",
      "source": [
        "# Assignment Week 8\n",
        "Data Augmentation and AE Networks usinng MNIST"
      ],
      "metadata": {
        "id": "5_A5TUjvlJep"
      }
    },
    {
      "cell_type": "code",
      "execution_count": 16,
      "metadata": {
        "id": "f0QracyXjHFc"
      },
      "outputs": [],
      "source": [
        "#MNIST is a build in Pytorch dataset\n",
        "from torchvision import datasets as dts\n",
        "from torchvision.transforms import ToTensor\n",
        "train = dts.MNIST(\n",
        "    root = 'data',\n",
        "    train = True,\n",
        "    transform = ToTensor(),\n",
        "    download = True,\n",
        ")\n",
        "test = dts.MNIST(\n",
        "    root = 'data',\n",
        "    train = False,\n",
        "    transform = ToTensor()\n",
        ")"
      ]
    },
    {
      "cell_type": "code",
      "source": [
        "train[0][0].shape"
      ],
      "metadata": {
        "colab": {
          "base_uri": "https://localhost:8080/"
        },
        "id": "YZAxhGvYkcbz",
        "outputId": "266391b6-8d04-45d5-cb91-7b90d2973efa"
      },
      "execution_count": 17,
      "outputs": [
        {
          "output_type": "execute_result",
          "data": {
            "text/plain": [
              "torch.Size([1, 28, 28])"
            ]
          },
          "metadata": {},
          "execution_count": 17
        }
      ]
    },
    {
      "cell_type": "code",
      "source": [
        "import matplotlib.pyplot as plt\n",
        "plt.imshow(train[0][0].reshape((28,28)), cmap='gray')"
      ],
      "metadata": {
        "id": "eHRx0_jAjIv_",
        "colab": {
          "base_uri": "https://localhost:8080/",
          "height": 448
        },
        "outputId": "0000ecff-5c10-4770-8d1e-4ff399408016"
      },
      "execution_count": 87,
      "outputs": [
        {
          "output_type": "execute_result",
          "data": {
            "text/plain": [
              "<matplotlib.image.AxesImage at 0x7cebd9c113d0>"
            ]
          },
          "metadata": {},
          "execution_count": 87
        },
        {
          "output_type": "display_data",
          "data": {
            "text/plain": [
              "<Figure size 640x480 with 1 Axes>"
            ],
            "image/png": "[encoded data removed]"
          },
          "metadata": {}
        }
      ]
    },
    {
      "cell_type": "markdown",
      "source": [
        "## Exercise 1\n",
        "Augment the training data with 6 differnet suitable augmentations\n",
        "* use the PyTorch augmentation framework -> https://pytorch.org/vision/stable/transforms.html\n",
        "* visualize some examples"
      ],
      "metadata": {
        "id": "oD6iiJHHmpv4"
      }
    },
    {
      "cell_type": "code",
      "source": [],
      "metadata": {
        "id": "3ZWPkwtNoaXL"
      },
      "execution_count": 7,
      "outputs": []
    },
    {
      "cell_type": "code",
      "source": [
        "# Image Classification\n",
        "import torch\n",
        "from torchvision.transforms import v2\n",
        "\n",
        "\n",
        "transforms = v2.Compose([\n",
        "    #v2.RandomResizedCrop(size=(28, 28), antialias=True),\n",
        "    #v2.RandomHorizontalFlip(p=0.1),\n",
        "    v2.RandomRotation(60),\n",
        "    v2.GaussianNoise(0.3,0.1),\n",
        "\n",
        "    v2.ToDtype(torch.float32, scale=True),\n",
        "    #v2.Normalize(mean=[0.485, 0.456, 0.406], std=[0.229, 0.224, 0.225]),\n",
        "])\n",
        "\n",
        "plt.imshow(transforms(train[0][0]).reshape((28,28)), cmap='gray')"
      ],
      "metadata": {
        "id": "NlewbwbKkITw",
        "outputId": "231604f7-64b0-4110-d442-8768017d28d3",
        "colab": {
          "base_uri": "https://localhost:8080/",
          "height": 448
        }
      },
      "execution_count": 115,
      "outputs": [
        {
          "output_type": "execute_result",
          "data": {
            "text/plain": [
              "<matplotlib.image.AxesImage at 0x7cebd8fb7cd0>"
            ]
          },
          "metadata": {},
          "execution_count": 115
        },
        {
          "output_type": "display_data",
          "data": {
            "text/plain": [
              "<Figure size 640x480 with 1 Axes>"
            ],
            "image/png": "[encoded data removed]"
          },
          "metadata": {}
        }
      ]
    },
    {
      "cell_type": "code",
      "source": [
        "class MLP_Autoencoder(torch.nn.Module):\n",
        "    def __init__(self):\n",
        "        super(MLP_Autoencoder, self).__init__()\n",
        "        # Encoder\n",
        "        self.encoder = torch.nn.Sequential(\n",
        "            torch.nn.Linear(28*28, 128),\n",
        "            torch.nn.ReLU(),\n",
        "            torch.nn.Linear(128, 64),\n",
        "            torch.nn.ReLU()\n",
        "        )\n",
        "        # Decoder\n",
        "        self.decoder = torch.nn.Sequential(\n",
        "            torch.nn.Linear(64, 128),\n",
        "            torch.nn.ReLU(),\n",
        "            torch.nn.Linear(128, 28*28),\n",
        "            torch.nn.Sigmoid()  # To normalize output between 0 and 1\n",
        "        )\n",
        "\n",
        "    def forward(self, x):\n",
        "        x = x.view(x.size(0), -1)  # Flatten image\n",
        "        encoded = self.encoder(x)\n",
        "        decoded = self.decoder(encoded)\n",
        "        return decoded"
      ],
      "metadata": {
        "id": "Fpvj83Cv2OMo"
      },
      "execution_count": 199,
      "outputs": []
    },
    {
      "cell_type": "code",
      "source": [
        "mlp = MLP_Autoencoder()\n",
        "\n",
        "mlp(train[0][0]).shape\n",
        "\n",
        "plt.imshow(mlp(train[0][0]).detach().numpy().reshape(28,28))"
      ],
      "metadata": {
        "id": "rf8ozckb2YK8",
        "outputId": "36387a88-5686-4056-80a9-6416e13dc7f6",
        "colab": {
          "base_uri": "https://localhost:8080/",
          "height": 448
        }
      },
      "execution_count": 193,
      "outputs": [
        {
          "output_type": "execute_result",
          "data": {
            "text/plain": [
              "<matplotlib.image.AxesImage at 0x7cebd8d4a590>"
            ]
          },
          "metadata": {},
          "execution_count": 193
        },
        {
          "output_type": "display_data",
          "data": {
            "text/plain": [
              "<Figure size 640x480 with 1 Axes>"
            ],
            "image/png": "[encoded data removed]"
          },
          "metadata": {}
        }
      ]
    },
    {
      "cell_type": "code",
      "source": [
        "encoder_layer = torch.nn.TransformerEncoderLayer(d_model=28, nhead=4)\n",
        "transformer_encoder = torch.nn.TransformerEncoder(encoder_layer, num_layers=4)\n",
        "out = transformer_encoder(train[0][0])\n",
        "\n",
        "\n",
        "plt.imshow(out.detach().numpy().reshape(28,28))"
      ],
      "metadata": {
        "id": "aD4hJO5jzhGg",
        "outputId": "b7b41786-f37b-4020-810d-082fcf76d5ae",
        "colab": {
          "base_uri": "https://localhost:8080/",
          "height": 448
        }
      },
      "execution_count": 176,
      "outputs": [
        {
          "output_type": "execute_result",
          "data": {
            "text/plain": [
              "<matplotlib.image.AxesImage at 0x7cebd8d60c10>"
            ]
          },
          "metadata": {},
          "execution_count": 176
        },
        {
          "output_type": "display_data",
          "data": {
            "text/plain": [
              "<Figure size 640x480 with 1 Axes>"
            ],
            "image/png": "[encoded data removed]"
          },
          "metadata": {}
        }
      ]
    },
    {
      "cell_type": "markdown",
      "source": [
        "## Exercise 2\n",
        "Build and train a MLP Autoencoder with\n",
        "* 2 Encoder Layers\n",
        "* 2 Decoder Layers\n",
        "* Identity Loss"
      ],
      "metadata": {
        "id": "o1GVo26EnDEU"
      }
    },
    {
      "cell_type": "code",
      "source": [
        "class MLP(torch.nn.Module):\n",
        "\n",
        "    def __init__(self):\n",
        "        super(MLP, self).__init__()\n",
        "        self.en1 = torch.nn.TransformerEncoderLayer(d_model=512, nhead=8)\n",
        "        self.en2 = torch.nn.TransformerEncoderLayer(d_model=512, nhead=8)\n",
        "        self.de1 = torch.nn.TransformerDecoderLayer(d_model=512, nhead=8, batch_first=True)\n",
        "        self.de2 = torch.nn.TransformerDecoderLayer(d_model=512, nhead=8, batch_first=True)\n",
        "\n",
        "    def forward(self, x):\n",
        "        out = self.en1(x)\n",
        "        out = self.en2(x)\n",
        "        out = self.de1(x)\n",
        "        out = self.de2(x)\n",
        "        return out"
      ],
      "metadata": {
        "id": "6CvHjqKdoGjn"
      },
      "execution_count": 118,
      "outputs": []
    },
    {
      "cell_type": "markdown",
      "source": [
        "## Exercise 3\n"
      ],
      "metadata": {
        "id": "VziHLrXPoQaN"
      }
    },
    {
      "cell_type": "markdown",
      "source": [
        "Use the Gaussian Noise as augmentation and your AE to remove the noise.\n",
        "* visualize input and output examples"
      ],
      "metadata": {
        "id": "eEVmHUmwoVu0"
      }
    },
    {
      "cell_type": "code",
      "source": [
        "class AddGaussianNoise(object):\n",
        "    def __init__(self, mean=0., std=1.):\n",
        "        self.std = std\n",
        "        self.mean = mean\n",
        "\n",
        "    def __call__(self, tensor):\n",
        "        return tensor + torch.randn(tensor.size()) * self.std + self.mean\n",
        "\n",
        "    def __repr__(self):\n",
        "        return self.__class__.__name__ + '(mean={0}, std={1})'.format(self.mean, self.std)"
      ],
      "metadata": {
        "id": "2bULuZo6oUFD"
      },
      "execution_count": 4,
      "outputs": []
    },
    {
      "cell_type": "code",
      "source": [],
      "metadata": {
        "id": "H4FBzjXaojyC"
      },
      "execution_count": 4,
      "outputs": []
    },
    {
      "cell_type": "markdown",
      "source": [
        "## Exercise 4\n",
        "Clustering: extract the latent space representations of the train data and apply K-Means (fron Scikit-Learn) with k=10. Use the data lables to evaluate the cluter quality."
      ],
      "metadata": {
        "id": "j6vRtZMdopR3"
      }
    },
    {
      "cell_type": "code",
      "source": [],
      "metadata": {
        "id": "TE4vcPhFooIr"
      },
      "execution_count": 4,
      "outputs": []
    }
  ]
}