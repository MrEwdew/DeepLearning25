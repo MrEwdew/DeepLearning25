{
  "nbformat": 4,
  "nbformat_minor": 0,
  "metadata": {
    "colab": {
      "name": "Assignment-AE-MNIST.ipynb",
      "provenance": []
    },
    "kernelspec": {
      "name": "python3",
      "display_name": "Python 3"
    },
    "language_info": {
      "name": "python"
    }
  },
  "cells": [
    {
      "cell_type": "markdown",
      "source": [
        "# Assignment Week 8\n",
        "Data Augmentation and AE Networks usinng MNIST"
      ],
      "metadata": {
        "id": "5_A5TUjvlJep"
      }
    },
    {
      "cell_type": "code",
      "execution_count": 16,
      "metadata": {
        "id": "f0QracyXjHFc"
      },
      "outputs": [],
      "source": [
        "#MNIST is a build in Pytorch dataset\n",
        "from torchvision import datasets as dts\n",
        "from torchvision.transforms import ToTensor\n",
        "train = dts.MNIST(\n",
        "    root = 'data',\n",
        "    train = True,\n",
        "    transform = ToTensor(),\n",
        "    download = True,\n",
        ")\n",
        "test = dts.MNIST(\n",
        "    root = 'data',\n",
        "    train = False,\n",
        "    transform = ToTensor()\n",
        ")"
      ]
    },
    {
      "cell_type": "code",
      "source": [
        "train[0][0].shape"
      ],
      "metadata": {
        "colab": {
          "base_uri": "https://localhost:8080/"
        },
        "id": "YZAxhGvYkcbz",
        "outputId": "266391b6-8d04-45d5-cb91-7b90d2973efa"
      },
      "execution_count": 17,
      "outputs": [
        {
          "output_type": "execute_result",
          "data": {
            "text/plain": [
              "torch.Size([1, 28, 28])"
            ]
          },
          "metadata": {},
          "execution_count": 17
        }
      ]
    },
    {
      "cell_type": "code",
      "source": [
        "import matplotlib.pyplot as plt\n",
        "plt.imshow(train[0][0].reshape((28,28)), cmap='gray')"
      ],
      "metadata": {
        "id": "eHRx0_jAjIv_",
        "colab": {
          "base_uri": "https://localhost:8080/",
          "height": 448
        },
        "outputId": "487e7e32-ad62-40bf-b897-ca15f3849540"
      },
      "execution_count": 315,
      "outputs": [
        {
          "output_type": "execute_result",
          "data": {
            "text/plain": [
              "<matplotlib.image.AxesImage at 0x7cebd5db2d50>"
            ]
          },
          "metadata": {},
          "execution_count": 315
        },
        {
          "output_type": "display_data",
          "data": {
            "text/plain": [
              "<Figure size 640x480 with 1 Axes>"
            ],
            "image/png": "[encoded data removed]"
          },
          "metadata": {}
        }
      ]
    },
    {
      "cell_type": "markdown",
      "source": [
        "## Exercise 1\n",
        "Augment the training data with 6 differnet suitable augmentations\n",
        "* use the PyTorch augmentation framework -> https://pytorch.org/vision/stable/transforms.html\n",
        "* visualize some examples"
      ],
      "metadata": {
        "id": "oD6iiJHHmpv4"
      }
    },
    {
      "cell_type": "code",
      "source": [],
      "metadata": {
        "id": "3ZWPkwtNoaXL"
      },
      "execution_count": 7,
      "outputs": []
    },
    {
      "cell_type": "code",
      "source": [
        "# Image Classification\n",
        "import torch\n",
        "from torchvision.transforms import v2\n",
        "\n",
        "\n",
        "transforms = v2.Compose([\n",
        "    #v2.RandomResizedCrop(size=(28, 28), antialias=True),\n",
        "    #v2.RandomHorizontalFlip(p=0.1),\n",
        "    v2.RandomRotation(60),\n",
        "    v2.GaussianNoise(0.3,0.1),\n",
        "\n",
        "    v2.ToDtype(torch.float32, scale=True),\n",
        "    #v2.Normalize(mean=[0.485, 0.456, 0.406], std=[0.229, 0.224, 0.225]),\n",
        "])\n",
        "\n",
        "plt.imshow(transforms(train[0][0]).reshape((28,28)), cmap='gray')"
      ],
      "metadata": {
        "id": "NlewbwbKkITw",
        "colab": {
          "base_uri": "https://localhost:8080/",
          "height": 448
        },
        "outputId": "6294e5ab-d96b-4a93-bbab-78d2fb9a6753"
      },
      "execution_count": 312,
      "outputs": [
        {
          "output_type": "execute_result",
          "data": {
            "text/plain": [
              "<matplotlib.image.AxesImage at 0x7cebd5ed4650>"
            ]
          },
          "metadata": {},
          "execution_count": 312
        },
        {
          "output_type": "display_data",
          "data": {
            "text/plain": [
              "<Figure size 640x480 with 1 Axes>"
            ],
            "image/png": "[encoded data removed]"
          },
          "metadata": {}
        }
      ]
    },
    {
      "cell_type": "code",
      "source": [],
      "metadata": {
        "id": "Fpvj83Cv2OMo"
      },
      "execution_count": 201,
      "outputs": []
    },
    {
      "cell_type": "markdown",
      "source": [
        "## Exercise 2\n",
        "Build and train a MLP Autoencoder with\n",
        "* 2 Encoder Layers\n",
        "* 2 Decoder Layers\n",
        "* Identity Loss"
      ],
      "metadata": {
        "id": "o1GVo26EnDEU"
      }
    },
    {
      "cell_type": "code",
      "source": [
        "\n",
        "#from torch.nn.functional import relu\n",
        "\n",
        "class AE(torch.nn.Module):\n",
        "\n",
        "    def __init__(self):\n",
        "        super().__init__()\n",
        "\n",
        "        self.encoden_hidden_layer = torch.nn.Linear(28*28,28*7)\n",
        "        self.encoden_output_layer = torch.nn.Linear(28*7,28*7)\n",
        "\n",
        "        self.decoder_hidden_layer = torch.nn.Linear(28*7,28*7)\n",
        "        self.decoder_output_layer = torch.nn.Linear(28*7,28*28)\n",
        "\n",
        "    def forward(self, x):\n",
        "        x = x.reshape(x.size(0), -1)\n",
        "        activation = self.encoden_hidden_layer(x)\n",
        "        activation = torch.relu(activation)\n",
        "        code = self.encoden_output_layer(activation)\n",
        "        code = torch.relu(code)\n",
        "        activation = self.decoder_hidden_layer(code)\n",
        "        activation = torch.relu(activation)\n",
        "        activation = self.decoder_output_layer(activation)\n",
        "        reconstructed = torch.relu(activation)\n",
        "        return reconstructed"
      ],
      "metadata": {
        "id": "6CvHjqKdoGjn"
      },
      "execution_count": 305,
      "outputs": []
    },
    {
      "cell_type": "code",
      "source": [
        "device = torch.device('cuda')\n",
        "for images, labels in trainset:\n",
        "  images.to(device)\n",
        "for images, labels in testset:\n",
        "  images.to(device)"
      ],
      "metadata": {
        "id": "4faEKMwp_gqR"
      },
      "execution_count": null,
      "outputs": []
    },
    {
      "cell_type": "code",
      "source": [
        "mlp = AE()\n",
        "mlp.to(device) # transfer model to GPU\n",
        "mlp.train()    # set to train mode\n",
        "criterion = torch.nn.CrossEntropyLoss()\n",
        "optimizer = torch.optim.SGD(mlp.parameters(), lr = 0.003, momentum=0.9)"
      ],
      "metadata": {
        "id": "ggCp_9ts_YLP"
      },
      "execution_count": null,
      "outputs": []
    },
    {
      "cell_type": "code",
      "source": [
        "plt.imshow(train[0][0].resize(28,28),cmap='gray')"
      ],
      "metadata": {
        "id": "wwIS9Nuy--Fb",
        "outputId": "530a9616-617f-48ee-c57c-ef7eae815475",
        "colab": {
          "base_uri": "https://localhost:8080/",
          "height": 448
        }
      },
      "execution_count": 316,
      "outputs": [
        {
          "output_type": "execute_result",
          "data": {
            "text/plain": [
              "<matplotlib.image.AxesImage at 0x7cebd5e7e610>"
            ]
          },
          "metadata": {},
          "execution_count": 316
        },
        {
          "output_type": "display_data",
          "data": {
            "text/plain": [
              "<Figure size 640x480 with 1 Axes>"
            ],
            "image/png": "[encoded data removed]"
          },
          "metadata": {}
        }
      ]
    },
    {
      "cell_type": "code",
      "source": [
        "mlp(train[0][0]).shape"
      ],
      "metadata": {
        "id": "I58k6NHT5z5S",
        "outputId": "2cdee716-ffad-49a1-8489-bb029064c94b",
        "colab": {
          "base_uri": "https://localhost:8080/"
        }
      },
      "execution_count": 311,
      "outputs": [
        {
          "output_type": "execute_result",
          "data": {
            "text/plain": [
              "torch.Size([1, 784])"
            ]
          },
          "metadata": {},
          "execution_count": 311
        }
      ]
    },
    {
      "cell_type": "code",
      "source": [
        "test_img = mlp(train[0][0])\n",
        "\n",
        "\n",
        "transform_test = v2.Compose([\n",
        "    v2.ToDtype(torch.float32, scale=True)\n",
        "])\n",
        "\n",
        "plt.imshow(transform_test(test_img.resize(28,28)).detach().numpy())"
      ],
      "metadata": {
        "id": "ooSrciRl7jCy",
        "outputId": "0cca2288-dd43-4092-86a8-fa448cdc27bb",
        "colab": {
          "base_uri": "https://localhost:8080/",
          "height": 448
        }
      },
      "execution_count": 308,
      "outputs": [
        {
          "output_type": "execute_result",
          "data": {
            "text/plain": [
              "<matplotlib.image.AxesImage at 0x7cebd619a250>"
            ]
          },
          "metadata": {},
          "execution_count": 308
        },
        {
          "output_type": "display_data",
          "data": {
            "text/plain": [
              "<Figure size 640x480 with 1 Axes>"
            ],
            "image/png": "[encoded data removed]"
          },
          "metadata": {}
        }
      ]
    },
    {
      "cell_type": "markdown",
      "source": [
        "## Exercise 3\n"
      ],
      "metadata": {
        "id": "VziHLrXPoQaN"
      }
    },
    {
      "cell_type": "markdown",
      "source": [
        "Use the Gaussian Noise as augmentation and your AE to remove the noise.\n",
        "* visualize input and output examples"
      ],
      "metadata": {
        "id": "eEVmHUmwoVu0"
      }
    },
    {
      "cell_type": "code",
      "source": [
        "class AddGaussianNoise(object):\n",
        "    def __init__(self, mean=0., std=1.):\n",
        "        self.std = std\n",
        "        self.mean = mean\n",
        "\n",
        "    def __call__(self, tensor):\n",
        "        return tensor + torch.randn(tensor.size()) * self.std + self.mean\n",
        "\n",
        "    def __repr__(self):\n",
        "        return self.__class__.__name__ + '(mean={0}, std={1})'.format(self.mean, self.std)"
      ],
      "metadata": {
        "id": "2bULuZo6oUFD"
      },
      "execution_count": 4,
      "outputs": []
    },
    {
      "cell_type": "code",
      "source": [],
      "metadata": {
        "id": "H4FBzjXaojyC"
      },
      "execution_count": 4,
      "outputs": []
    },
    {
      "cell_type": "markdown",
      "source": [
        "## Exercise 4\n",
        "Clustering: extract the latent space representations of the train data and apply K-Means (fron Scikit-Learn) with k=10. Use the data lables to evaluate the cluter quality."
      ],
      "metadata": {
        "id": "j6vRtZMdopR3"
      }
    },
    {
      "cell_type": "code",
      "source": [],
      "metadata": {
        "id": "TE4vcPhFooIr"
      },
      "execution_count": 4,
      "outputs": []
    }
  ]
}