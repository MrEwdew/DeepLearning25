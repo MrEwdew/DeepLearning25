{
  "nbformat": 4,
  "nbformat_minor": 0,
  "metadata": {
    "colab": {
      "name": "Assignment-AE-MNIST.ipynb",
      "provenance": [],
      "gpuType": "T4"
    },
    "kernelspec": {
      "name": "python3",
      "display_name": "Python 3"
    },
    "language_info": {
      "name": "python"
    },
    "accelerator": "GPU"
  },
  "cells": [
    {
      "cell_type": "markdown",
      "source": [
        "# Assignment Week 8\n",
        "Data Augmentation and AE Networks usinng MNIST"
      ],
      "metadata": {
        "id": "5_A5TUjvlJep"
      }
    },
    {
      "cell_type": "code",
      "execution_count": 47,
      "metadata": {
        "id": "f0QracyXjHFc"
      },
      "outputs": [],
      "source": [
        "#MNIST is a build in Pytorch dataset\n",
        "from torchvision import datasets as dts\n",
        "from torchvision.transforms import ToTensor\n",
        "train = dts.MNIST(\n",
        "    root = 'data',\n",
        "    train = True,\n",
        "    transform = ToTensor(),\n",
        "    download = True,\n",
        ")\n",
        "test = dts.MNIST(\n",
        "    root = 'data',\n",
        "    train = False,\n",
        "    transform = ToTensor()\n",
        ")"
      ]
    },
    {
      "cell_type": "code",
      "source": [
        "train[0][0].shape"
      ],
      "metadata": {
        "colab": {
          "base_uri": "https://localhost:8080/"
        },
        "id": "YZAxhGvYkcbz",
        "outputId": "420bcdd0-f221-4430-e2dc-110cfdc0858b"
      },
      "execution_count": 48,
      "outputs": [
        {
          "output_type": "execute_result",
          "data": {
            "text/plain": [
              "torch.Size([1, 28, 28])"
            ]
          },
          "metadata": {},
          "execution_count": 48
        }
      ]
    },
    {
      "cell_type": "code",
      "source": [
        "train[0][-1]"
      ],
      "metadata": {
        "id": "q1SBe5rTAU0q",
        "outputId": "461842ab-883c-456d-f73d-c527268970ac",
        "colab": {
          "base_uri": "https://localhost:8080/"
        }
      },
      "execution_count": 49,
      "outputs": [
        {
          "output_type": "execute_result",
          "data": {
            "text/plain": [
              "5"
            ]
          },
          "metadata": {},
          "execution_count": 49
        }
      ]
    },
    {
      "cell_type": "code",
      "source": [
        "import matplotlib.pyplot as plt\n",
        "plt.imshow(train[0][0].reshape((28,28)), cmap='gray')"
      ],
      "metadata": {
        "id": "eHRx0_jAjIv_",
        "colab": {
          "base_uri": "https://localhost:8080/",
          "height": 448
        },
        "outputId": "83b3f00e-144e-465b-ed85-2974e63d7f57"
      },
      "execution_count": 50,
      "outputs": [
        {
          "output_type": "execute_result",
          "data": {
            "text/plain": [
              "<matplotlib.image.AxesImage at 0x78843e2d5010>"
            ]
          },
          "metadata": {},
          "execution_count": 50
        },
        {
          "output_type": "display_data",
          "data": {
            "text/plain": [
              "<Figure size 640x480 with 1 Axes>"
            ],
            "image/png": "[encoded data removed]"
          },
          "metadata": {}
        }
      ]
    },
    {
      "cell_type": "markdown",
      "source": [
        "## Exercise 1\n",
        "Augment the training data with 6 differnet suitable augmentations\n",
        "* use the PyTorch augmentation framework -> https://pytorch.org/vision/stable/transforms.html\n",
        "* visualize some examples"
      ],
      "metadata": {
        "id": "oD6iiJHHmpv4"
      }
    },
    {
      "cell_type": "code",
      "source": [],
      "metadata": {
        "id": "3ZWPkwtNoaXL"
      },
      "execution_count": 50,
      "outputs": []
    },
    {
      "cell_type": "code",
      "source": [
        "# Image Classification\n",
        "import torch\n",
        "from torchvision.transforms import v2\n",
        "\n",
        "\n",
        "transforms = v2.Compose([\n",
        "    #v2.RandomResizedCrop(size=(28, 28), antialias=True),\n",
        "    #v2.RandomHorizontalFlip(p=0.1),\n",
        "    v2.RandomRotation(60),\n",
        "    v2.GaussianNoise(0.3,0.1),\n",
        "\n",
        "    v2.ToDtype(torch.float32, scale=True),\n",
        "    #v2.Normalize(mean=[0.485, 0.456, 0.406], std=[0.229, 0.224, 0.225]),\n",
        "])\n",
        "\n",
        "plt.imshow(transforms(train[0][0]).reshape((28,28)), cmap='gray')"
      ],
      "metadata": {
        "id": "NlewbwbKkITw",
        "colab": {
          "base_uri": "https://localhost:8080/",
          "height": 448
        },
        "outputId": "afc456be-020d-4f62-ee25-97ce0d5ffd4e"
      },
      "execution_count": 51,
      "outputs": [
        {
          "output_type": "execute_result",
          "data": {
            "text/plain": [
              "<matplotlib.image.AxesImage at 0x78843cd9fa10>"
            ]
          },
          "metadata": {},
          "execution_count": 51
        },
        {
          "output_type": "display_data",
          "data": {
            "text/plain": [
              "<Figure size 640x480 with 1 Axes>"
            ],
            "image/png": "[encoded data removed]"
          },
          "metadata": {}
        }
      ]
    },
    {
      "cell_type": "code",
      "source": [],
      "metadata": {
        "id": "Fpvj83Cv2OMo"
      },
      "execution_count": 51,
      "outputs": []
    },
    {
      "cell_type": "markdown",
      "source": [
        "## Exercise 2\n",
        "Build and train a MLP Autoencoder with\n",
        "* 2 Encoder Layers\n",
        "* 2 Decoder Layers\n",
        "* Identity Loss"
      ],
      "metadata": {
        "id": "o1GVo26EnDEU"
      }
    },
    {
      "cell_type": "code",
      "source": [
        "\n",
        "#from torch.nn.functional import relu\n",
        "\n",
        "class AE(torch.nn.Module):\n",
        "\n",
        "    def __init__(self):\n",
        "        super().__init__()\n",
        "\n",
        "        self.encoden_hidden_layer = torch.nn.Linear(28*28,28*14)\n",
        "        self.encoden_output_layer = torch.nn.Linear(28*14,28*7)\n",
        "\n",
        "        self.decoder_hidden_layer = torch.nn.Linear(28*7,28*14)\n",
        "        self.decoder_output_layer = torch.nn.Linear(28*14,28*28)\n",
        "\n",
        "    def forward(self, x):\n",
        "        x = x.reshape(x.size(0), -1)\n",
        "        activation = self.encoden_hidden_layer(x)\n",
        "        activation = torch.relu(activation)\n",
        "        code = self.encoden_output_layer(activation)\n",
        "        code = torch.relu(code)\n",
        "        activation = self.decoder_hidden_layer(code)\n",
        "        activation = torch.relu(activation)\n",
        "        activation = self.decoder_output_layer(activation)\n",
        "        reconstructed = torch.relu(activation)\n",
        "        return reconstructed"
      ],
      "metadata": {
        "id": "6CvHjqKdoGjn"
      },
      "execution_count": 52,
      "outputs": []
    },
    {
      "cell_type": "code",
      "source": [
        "device = torch.device('cuda')\n",
        "for images, labels in train:\n",
        "  images.to(device)\n",
        "  #print(labels)\n",
        "for images, labels in test:\n",
        "  images.to(device)"
      ],
      "metadata": {
        "id": "4faEKMwp_gqR"
      },
      "execution_count": 53,
      "outputs": []
    },
    {
      "cell_type": "code",
      "source": [
        "mlp = AE()\n",
        "mlp.to(device) # transfer model to GPU\n",
        "mlp.train()    # set to train mode\n",
        "criterion = torch.nn.CrossEntropyLoss()\n",
        "optimizer = torch.optim.SGD(mlp.parameters(), lr = 0.003, momentum=0.9)\n",
        "\n",
        "criterion = nn.MSELoss()  # Identity Loss\n",
        "optimizer = optim.Adam(mlp.parameters(), lr=1e-3)"
      ],
      "metadata": {
        "id": "ggCp_9ts_YLP"
      },
      "execution_count": 54,
      "outputs": []
    },
    {
      "cell_type": "code",
      "source": [],
      "metadata": {
        "id": "EB6uKFAADvtq"
      },
      "execution_count": 54,
      "outputs": []
    },
    {
      "cell_type": "code",
      "source": [
        "num_epochs = 10\n",
        "for epoch in range(num_epochs):\n",
        "    total_loss = 0\n",
        "    for batch in test:\n",
        "        inputs, _ = batch\n",
        "        inputs = inputs.to(device)\n",
        "\n",
        "        # Forward\n",
        "        outputs = mlp(inputs)\n",
        "        loss = criterion(outputs, inputs.view(inputs.size(0), -1))\n",
        "\n",
        "        # Backward\n",
        "        optimizer.zero_grad()\n",
        "        loss.backward()\n",
        "        optimizer.step()\n",
        "\n",
        "        total_loss += loss.item()\n",
        "\n",
        "    print(f\"Epoch [{epoch+1}/{num_epochs}], Loss: {total_loss / len(test):.4f}\")"
      ],
      "metadata": {
        "id": "1QeFgijQAGR0",
        "outputId": "9c78adb3-49fb-4e6b-faae-9f9447c29f6b",
        "colab": {
          "base_uri": "https://localhost:8080/"
        }
      },
      "execution_count": 55,
      "outputs": [
        {
          "output_type": "stream",
          "name": "stdout",
          "text": [
            "Epoch [1/10], Loss: 0.0433\n",
            "Epoch [2/10], Loss: 0.0348\n",
            "Epoch [3/10], Loss: 0.0329\n",
            "Epoch [4/10], Loss: 0.0316\n",
            "Epoch [5/10], Loss: 0.0310\n",
            "Epoch [6/10], Loss: 0.0305\n",
            "Epoch [7/10], Loss: 0.0302\n",
            "Epoch [8/10], Loss: 0.0300\n",
            "Epoch [9/10], Loss: 0.0299\n",
            "Epoch [10/10], Loss: 0.0298\n"
          ]
        }
      ]
    },
    {
      "cell_type": "code",
      "source": [
        "plt.imshow(train[2][0].resize(28,28))"
      ],
      "metadata": {
        "id": "XIuaATkoFiyp",
        "outputId": "95526156-010d-4531-b501-d1580cf31b56",
        "colab": {
          "base_uri": "https://localhost:8080/",
          "height": 448
        }
      },
      "execution_count": 67,
      "outputs": [
        {
          "output_type": "execute_result",
          "data": {
            "text/plain": [
              "<matplotlib.image.AxesImage at 0x7884467a2f10>"
            ]
          },
          "metadata": {},
          "execution_count": 67
        },
        {
          "output_type": "display_data",
          "data": {
            "text/plain": [
              "<Figure size 640x480 with 1 Axes>"
            ],
            "image/png": "[encoded data removed]"
          },
          "metadata": {}
        }
      ]
    },
    {
      "cell_type": "code",
      "source": [
        "plt.imshow(mlp(train[2][0].to(device)).resize(28,28).cpu().detach().numpy())"
      ],
      "metadata": {
        "id": "Dmjg_s3ZEbge",
        "outputId": "eae0966e-0a26-4456-d3dd-b2a0b1b7aad3",
        "colab": {
          "base_uri": "https://localhost:8080/",
          "height": 448
        }
      },
      "execution_count": 66,
      "outputs": [
        {
          "output_type": "execute_result",
          "data": {
            "text/plain": [
              "<matplotlib.image.AxesImage at 0x788445487690>"
            ]
          },
          "metadata": {},
          "execution_count": 66
        },
        {
          "output_type": "display_data",
          "data": {
            "text/plain": [
              "<Figure size 640x480 with 1 Axes>"
            ],
            "image/png": "[encoded data removed]"
          },
          "metadata": {}
        }
      ]
    },
    {
      "cell_type": "markdown",
      "source": [
        "## Exercise 3\n"
      ],
      "metadata": {
        "id": "VziHLrXPoQaN"
      }
    },
    {
      "cell_type": "markdown",
      "source": [
        "Use the Gaussian Noise as augmentation and your AE to remove the noise.\n",
        "* visualize input and output examples"
      ],
      "metadata": {
        "id": "eEVmHUmwoVu0"
      }
    },
    {
      "cell_type": "code",
      "source": [
        "class AddGaussianNoise(object):\n",
        "    def __init__(self, mean=0., std=1.):\n",
        "        self.std = std\n",
        "        self.mean = mean\n",
        "\n",
        "    def __call__(self, tensor):\n",
        "        return tensor + torch.randn(tensor.size()) * self.std + self.mean\n",
        "\n",
        "    def __repr__(self):\n",
        "        return self.__class__.__name__ + '(mean={0}, std={1})'.format(self.mean, self.std)"
      ],
      "metadata": {
        "id": "2bULuZo6oUFD"
      },
      "execution_count": 56,
      "outputs": []
    },
    {
      "cell_type": "code",
      "source": [],
      "metadata": {
        "id": "H4FBzjXaojyC"
      },
      "execution_count": 56,
      "outputs": []
    },
    {
      "cell_type": "markdown",
      "source": [
        "## Exercise 4\n",
        "Clustering: extract the latent space representations of the train data and apply K-Means (fron Scikit-Learn) with k=10. Use the data lables to evaluate the cluter quality."
      ],
      "metadata": {
        "id": "j6vRtZMdopR3"
      }
    }
  ]
}