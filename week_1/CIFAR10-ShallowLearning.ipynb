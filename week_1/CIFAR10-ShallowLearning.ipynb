{
  "cells": [
    {
      "cell_type": "markdown",
      "metadata": {
        "id": "view-in-github",
        "colab_type": "text"
      },
      "source": [
        "<a href=\"https://colab.research.google.com/github/MrEwdew/DeepLearning25/blob/main/week_1/CIFAR10-ShallowLearning.ipynb\" target=\"_parent\"><img src=\"https://colab.research.google.com/assets/colab-badge.svg\" alt=\"Open In Colab\"/></a>"
      ]
    },
    {
      "cell_type": "markdown",
      "metadata": {
        "id": "P7t4Y8D_BxLK"
      },
      "source": [
        "# Lab 1: CIFAR10 Challenge\n",
        "\n",
        "**CIFAR10** (http://www.cs.toronto.edu/~kriz/cifar.html) is one of the most famous ML data sets.\n",
        "\n",
        "## Data\n",
        "* 32x32 color images\n",
        "* in 10 classes\n",
        "* 50k training images\n",
        "* 10k test images\n",
        "\n"
      ]
    },
    {
      "cell_type": "markdown",
      "metadata": {
        "id": "a8-2lrE9BxLR"
      },
      "source": [
        "<img src=\"https://production-media.paperswithcode.com/datasets/CIFAR-10-0000000431-b71f61c0_U5n3Glr.jpg\" width=700>"
      ]
    },
    {
      "cell_type": "code",
      "execution_count": 71,
      "metadata": {
        "id": "owj3QsH2BxLS"
      },
      "outputs": [],
      "source": [
        "#get data\n",
        "from keras.datasets import cifar10\n",
        "(X_train, y_train), (X_test, y_test) = cifar10.load_data()"
      ]
    },
    {
      "cell_type": "code",
      "execution_count": 72,
      "metadata": {
        "colab": {
          "base_uri": "https://localhost:8080/"
        },
        "id": "gFjmpalPBxLW",
        "outputId": "ddd6aa39-5ebf-4127-9ff8-4dec6c49e446"
      },
      "outputs": [
        {
          "output_type": "execute_result",
          "data": {
            "text/plain": [
              "(50000, 32, 32, 3)"
            ]
          },
          "metadata": {},
          "execution_count": 72
        }
      ],
      "source": [
        "#traindata: 50k 32X32 rgb images\n",
        "X_train.shape"
      ]
    },
    {
      "cell_type": "code",
      "source": [
        "X_train[0]"
      ],
      "metadata": {
        "id": "Y-cuy0A6T1Uk",
        "outputId": "87689d4c-06f0-4bcb-8931-938b6e65f4fb",
        "colab": {
          "base_uri": "https://localhost:8080/",
          "height": 73
        }
      },
      "execution_count": 73,
      "outputs": [
        {
          "output_type": "execute_result",
          "data": {
            "text/plain": [
              "array([[[ 59,  62,  63],\n",
              "        [ 43,  46,  45],\n",
              "        [ 50,  48,  43],\n",
              "        ...,\n",
              "        [158, 132, 108],\n",
              "        [152, 125, 102],\n",
              "        [148, 124, 103]],\n",
              "\n",
              "       [[ 16,  20,  20],\n",
              "        [  0,   0,   0],\n",
              "        [ 18,   8,   0],\n",
              "        ...,\n",
              "        [123,  88,  55],\n",
              "        [119,  83,  50],\n",
              "        [122,  87,  57]],\n",
              "\n",
              "       [[ 25,  24,  21],\n",
              "        [ 16,   7,   0],\n",
              "        [ 49,  27,   8],\n",
              "        ...,\n",
              "        [118,  84,  50],\n",
              "        [120,  84,  50],\n",
              "        [109,  73,  42]],\n",
              "\n",
              "       ...,\n",
              "\n",
              "       [[208, 170,  96],\n",
              "        [201, 153,  34],\n",
              "        [198, 161,  26],\n",
              "        ...,\n",
              "        [160, 133,  70],\n",
              "        [ 56,  31,   7],\n",
              "        [ 53,  34,  20]],\n",
              "\n",
              "       [[180, 139,  96],\n",
              "        [173, 123,  42],\n",
              "        [186, 144,  30],\n",
              "        ...,\n",
              "        [184, 148,  94],\n",
              "        [ 97,  62,  34],\n",
              "        [ 83,  53,  34]],\n",
              "\n",
              "       [[177, 144, 116],\n",
              "        [168, 129,  94],\n",
              "        [179, 142,  87],\n",
              "        ...,\n",
              "        [216, 184, 140],\n",
              "        [151, 118,  84],\n",
              "        [123,  92,  72]]], dtype=uint8)"
            ],
            "text/html": [
              "<style>\n",
              "      .ndarray_repr .ndarray_raw_data {\n",
              "        display: none;\n",
              "      }\n",
              "      .ndarray_repr.show_array .ndarray_raw_data {\n",
              "        display: block;\n",
              "      }\n",
              "      .ndarray_repr.show_array .ndarray_image_preview {\n",
              "        display: none;\n",
              "      }\n",
              "      </style>\n",
              "      <div id=\"id-a3da8755-abd0-4758-b95f-25152e687096\" class=\"ndarray_repr\"><pre>ndarray (32, 32, 3) <button style=\"padding: 0 2px;\">show data</button></pre><img src=\"data:image/png;base64,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\" class=\"ndarray_image_preview\" /><pre class=\"ndarray_raw_data\">array([[[ 59,  62,  63],\n",
              "        [ 43,  46,  45],\n",
              "        [ 50,  48,  43],\n",
              "        ...,\n",
              "        [158, 132, 108],\n",
              "        [152, 125, 102],\n",
              "        [148, 124, 103]],\n",
              "\n",
              "       [[ 16,  20,  20],\n",
              "        [  0,   0,   0],\n",
              "        [ 18,   8,   0],\n",
              "        ...,\n",
              "        [123,  88,  55],\n",
              "        [119,  83,  50],\n",
              "        [122,  87,  57]],\n",
              "\n",
              "       [[ 25,  24,  21],\n",
              "        [ 16,   7,   0],\n",
              "        [ 49,  27,   8],\n",
              "        ...,\n",
              "        [118,  84,  50],\n",
              "        [120,  84,  50],\n",
              "        [109,  73,  42]],\n",
              "\n",
              "       ...,\n",
              "\n",
              "       [[208, 170,  96],\n",
              "        [201, 153,  34],\n",
              "        [198, 161,  26],\n",
              "        ...,\n",
              "        [160, 133,  70],\n",
              "        [ 56,  31,   7],\n",
              "        [ 53,  34,  20]],\n",
              "\n",
              "       [[180, 139,  96],\n",
              "        [173, 123,  42],\n",
              "        [186, 144,  30],\n",
              "        ...,\n",
              "        [184, 148,  94],\n",
              "        [ 97,  62,  34],\n",
              "        [ 83,  53,  34]],\n",
              "\n",
              "       [[177, 144, 116],\n",
              "        [168, 129,  94],\n",
              "        [179, 142,  87],\n",
              "        ...,\n",
              "        [216, 184, 140],\n",
              "        [151, 118,  84],\n",
              "        [123,  92,  72]]], dtype=uint8)</pre></div><script>\n",
              "      (() => {\n",
              "      const titles = ['show data', 'hide data'];\n",
              "      let index = 0\n",
              "      document.querySelector('#id-a3da8755-abd0-4758-b95f-25152e687096 button').onclick = (e) => {\n",
              "        document.querySelector('#id-a3da8755-abd0-4758-b95f-25152e687096').classList.toggle('show_array');\n",
              "        index = (++index) % 2;\n",
              "        document.querySelector('#id-a3da8755-abd0-4758-b95f-25152e687096 button').textContent = titles[index];\n",
              "        e.preventDefault();\n",
              "        e.stopPropagation();\n",
              "      }\n",
              "      })();\n",
              "    </script>"
            ]
          },
          "metadata": {},
          "execution_count": 73
        }
      ]
    },
    {
      "cell_type": "code",
      "execution_count": 74,
      "metadata": {
        "colab": {
          "base_uri": "https://localhost:8080/"
        },
        "id": "CtB2ZlTkBxLW",
        "outputId": "1c6d7a1c-fd91-4a5d-b32d-45a4eb18da79"
      },
      "outputs": [
        {
          "output_type": "execute_result",
          "data": {
            "text/plain": [
              "array([[6],\n",
              "       [9],\n",
              "       [9],\n",
              "       ...,\n",
              "       [9],\n",
              "       [1],\n",
              "       [1]], dtype=uint8)"
            ]
          },
          "metadata": {},
          "execution_count": 74
        }
      ],
      "source": [
        "#labels\n",
        "y_train"
      ]
    },
    {
      "cell_type": "code",
      "source": [
        "X_train[0][0][0]"
      ],
      "metadata": {
        "id": "M67ENz0DCJi0",
        "colab": {
          "base_uri": "https://localhost:8080/"
        },
        "outputId": "69899440-f199-4bf3-ea2d-05163419c067"
      },
      "execution_count": 75,
      "outputs": [
        {
          "output_type": "execute_result",
          "data": {
            "text/plain": [
              "array([59, 62, 63], dtype=uint8)"
            ]
          },
          "metadata": {},
          "execution_count": 75
        }
      ]
    },
    {
      "cell_type": "markdown",
      "source": [
        "## Task: build the best classifier (with feature extration) using the methods you know from ML1+2\n",
        "* work in small teams (2-4)\n",
        "* use NumPy pre-processing, feature extraction and hyer-parameter tuning in Scikit-Learn\n",
        "* no Neural Networks!\n",
        "* best test F1-Score winns!"
      ],
      "metadata": {
        "id": "9rEXJUhVCmvB"
      }
    },
    {
      "cell_type": "code",
      "source": [
        "import numpy as np"
      ],
      "metadata": {
        "id": "6FXU5hLhDfUP"
      },
      "execution_count": 113,
      "outputs": []
    },
    {
      "cell_type": "code",
      "source": [
        "\n",
        "im_R = X_train.copy()\n",
        "im_R[:,:, :, (1, 2)] = 0\n",
        "im_G = X_train.copy()\n",
        "im_G[:,:, :, (0, 2)] = 0\n",
        "im_B = X_train.copy()\n",
        "im_B[:,:, :, (0, 1)] = 0"
      ],
      "metadata": {
        "id": "eZLYcIjwa9Fw"
      },
      "execution_count": 77,
      "outputs": []
    },
    {
      "cell_type": "code",
      "source": [
        "im_R[0]"
      ],
      "metadata": {
        "colab": {
          "base_uri": "https://localhost:8080/",
          "height": 73
        },
        "id": "rBE3XWlfbF4g",
        "outputId": "35407d64-5f18-44d7-ec56-29f129b28b71"
      },
      "execution_count": 78,
      "outputs": [
        {
          "output_type": "execute_result",
          "data": {
            "text/plain": [
              "array([[[ 59,   0,   0],\n",
              "        [ 43,   0,   0],\n",
              "        [ 50,   0,   0],\n",
              "        ...,\n",
              "        [158,   0,   0],\n",
              "        [152,   0,   0],\n",
              "        [148,   0,   0]],\n",
              "\n",
              "       [[ 16,   0,   0],\n",
              "        [  0,   0,   0],\n",
              "        [ 18,   0,   0],\n",
              "        ...,\n",
              "        [123,   0,   0],\n",
              "        [119,   0,   0],\n",
              "        [122,   0,   0]],\n",
              "\n",
              "       [[ 25,   0,   0],\n",
              "        [ 16,   0,   0],\n",
              "        [ 49,   0,   0],\n",
              "        ...,\n",
              "        [118,   0,   0],\n",
              "        [120,   0,   0],\n",
              "        [109,   0,   0]],\n",
              "\n",
              "       ...,\n",
              "\n",
              "       [[208,   0,   0],\n",
              "        [201,   0,   0],\n",
              "        [198,   0,   0],\n",
              "        ...,\n",
              "        [160,   0,   0],\n",
              "        [ 56,   0,   0],\n",
              "        [ 53,   0,   0]],\n",
              "\n",
              "       [[180,   0,   0],\n",
              "        [173,   0,   0],\n",
              "        [186,   0,   0],\n",
              "        ...,\n",
              "        [184,   0,   0],\n",
              "        [ 97,   0,   0],\n",
              "        [ 83,   0,   0]],\n",
              "\n",
              "       [[177,   0,   0],\n",
              "        [168,   0,   0],\n",
              "        [179,   0,   0],\n",
              "        ...,\n",
              "        [216,   0,   0],\n",
              "        [151,   0,   0],\n",
              "        [123,   0,   0]]], dtype=uint8)"
            ],
            "text/html": [
              "<style>\n",
              "      .ndarray_repr .ndarray_raw_data {\n",
              "        display: none;\n",
              "      }\n",
              "      .ndarray_repr.show_array .ndarray_raw_data {\n",
              "        display: block;\n",
              "      }\n",
              "      .ndarray_repr.show_array .ndarray_image_preview {\n",
              "        display: none;\n",
              "      }\n",
              "      </style>\n",
              "      <div id=\"id-4d17fbca-4364-43df-82cc-d0f0c651f5b5\" class=\"ndarray_repr\"><pre>ndarray (32, 32, 3) <button style=\"padding: 0 2px;\">show data</button></pre><img src=\"data:image/png;base64,iVBORw0KGgoAAAANSUhEUgAAACAAAAAgCAIAAAD8GO2jAAAEuElEQVR4nE3WS28b1xUH8B/JmeGbFCmJlC3FFuTEhlH0CbQLddl90Q/aL1Cgi6JA0U2CtE3zQBLXbqVYkC1LtPgYvtnF4BghuBiQd+695/xfp/RbRlTp84hDDshIwC1LepRZMKfGhhldsKRChTZNUnJ28dea5EtG9ClxQIkpE3bMmLHihhprKlSZsaZEmRV1JtzSoEQJsaZCUgePOWVAnRI5c3ZkYEeXNRkbKixY0SCJs8uxY4sJK8qMSWq0eco+KRM25JTpkDAioc+YZXSgFVukbEhYkEUnUWXNe5IedbocsokLYkFCwoYdb9gwZkYLVChTIY9S5uRsGTFiwpzkkDY1ytRZsWXHkk087xgHtmvG/EBKhxU5jxhQYsGE99zwqijuIR1aAU6xqMw+Te7pMua/TMg4JuEVC1K6nHMfOBUHVPmIAdckfRKqNAK6vaiggPE1L3jLjMf8gRP+yN8LFkbf2qBGRoM1j2iTDALSCTkJM8rk7LHkP9yyo0KHATU+4YprFnwefC0+XdpBwtMC5EJHoyDG9kc8+ZopNWrU6fEZaxYcUmLFjCnLaHLKjpQ1u0KwpSBWQYbiOlVumHHGghrPguz3JLTZ5wkv+YaMXQgiZcuWEkkeB0xD3BPuOWbHY54w45iMOwphfsSIMzp0uOOONC63ZUO5qGATRKzT4jUvSciY8wm/4wVtDnjDHmUy3pDwNii7FxossaVMqaDpXtx6x/ugY50rhhyzRwpOAokNUx5E309oM+YNK+agyZKUZEwSWxQU6sV1Bhzzb77lnBFDyizZ4546DxiFif6NyzCCPChTroRiseGOa+7o8WtO+Cc9KtGKJj0S6qTc0OIhDymH2RTGvmVJUnSqRBId7HPEr3jOHVXO2HLEmllocMMLvuCcfe5JOQiEC6dbkGzJI2EqfEyNU37OA/7BI45iwYw8StxQ54ALhsH6UphjnawgdPqj1RUGXPCEE7AKo53yJQvuuaFCjWN+xpq0wJMZ22BNgyHJIpIojZN/zzkdrqkw4i2v+Qst5hzR4SVL+jyNcJ1xR4l50PJ50aJCzEUK1vgFVb7ijgVjLpiQ0qLDIVeBxwWYRK69o06DOuNwQ9sIliVD/kSfQRC5RUKTI3LqvGNFmyXfcRUptqEJytTofaggoxbZu+UmtLalT6HEH9iFCCo0I4GFK9yzpM2UMXP2OaBcnLajwYAd+3RZsmRGlTLPgtdbJny41ppv+ZQvuKUWwT6lWQRBFq9tmVGhQZOMYYTJITN+wnPKTJnFhHLF/6Liw/ixx1NO+J5kGLk6DfvukEW78SlnXFKmQYU6U3LWtDiPUj6MIwN+yYDPSB7R5XuuWdJiGrPFbXSzGNyuuWTLkFKIfI8sQC4Mv8nHPOSCdyQdcnrgphg0omkr3tOMeWQZKp1EDOThRUVnMqpknJLzV/5FUoxm/fDUe4Qnb8hIY5Rbhhns2IQBj8jpRhTOwkjG/LmYKiagFU7ZZRLfVYxM64iglBKNyM6MTnSyw4zv+IYhQ3BAcskiNurSZ8IoUrAS7ihCqhLJlQawG0YsueVVPB/xvDC7DasYtmrs0aMf418eu2+Zk1FhTE5KO6Cqxrtn/JRnnPIbLvk/jBfuxT5UBAIAAAAASUVORK5CYII=\" class=\"ndarray_image_preview\" /><pre class=\"ndarray_raw_data\">array([[[ 59,   0,   0],\n",
              "        [ 43,   0,   0],\n",
              "        [ 50,   0,   0],\n",
              "        ...,\n",
              "        [158,   0,   0],\n",
              "        [152,   0,   0],\n",
              "        [148,   0,   0]],\n",
              "\n",
              "       [[ 16,   0,   0],\n",
              "        [  0,   0,   0],\n",
              "        [ 18,   0,   0],\n",
              "        ...,\n",
              "        [123,   0,   0],\n",
              "        [119,   0,   0],\n",
              "        [122,   0,   0]],\n",
              "\n",
              "       [[ 25,   0,   0],\n",
              "        [ 16,   0,   0],\n",
              "        [ 49,   0,   0],\n",
              "        ...,\n",
              "        [118,   0,   0],\n",
              "        [120,   0,   0],\n",
              "        [109,   0,   0]],\n",
              "\n",
              "       ...,\n",
              "\n",
              "       [[208,   0,   0],\n",
              "        [201,   0,   0],\n",
              "        [198,   0,   0],\n",
              "        ...,\n",
              "        [160,   0,   0],\n",
              "        [ 56,   0,   0],\n",
              "        [ 53,   0,   0]],\n",
              "\n",
              "       [[180,   0,   0],\n",
              "        [173,   0,   0],\n",
              "        [186,   0,   0],\n",
              "        ...,\n",
              "        [184,   0,   0],\n",
              "        [ 97,   0,   0],\n",
              "        [ 83,   0,   0]],\n",
              "\n",
              "       [[177,   0,   0],\n",
              "        [168,   0,   0],\n",
              "        [179,   0,   0],\n",
              "        ...,\n",
              "        [216,   0,   0],\n",
              "        [151,   0,   0],\n",
              "        [123,   0,   0]]], dtype=uint8)</pre></div><script>\n",
              "      (() => {\n",
              "      const titles = ['show data', 'hide data'];\n",
              "      let index = 0\n",
              "      document.querySelector('#id-4d17fbca-4364-43df-82cc-d0f0c651f5b5 button').onclick = (e) => {\n",
              "        document.querySelector('#id-4d17fbca-4364-43df-82cc-d0f0c651f5b5').classList.toggle('show_array');\n",
              "        index = (++index) % 2;\n",
              "        document.querySelector('#id-4d17fbca-4364-43df-82cc-d0f0c651f5b5 button').textContent = titles[index];\n",
              "        e.preventDefault();\n",
              "        e.stopPropagation();\n",
              "      }\n",
              "      })();\n",
              "    </script>"
            ]
          },
          "metadata": {},
          "execution_count": 78
        }
      ]
    },
    {
      "cell_type": "code",
      "source": [
        "im_G[0]"
      ],
      "metadata": {
        "colab": {
          "base_uri": "https://localhost:8080/",
          "height": 73
        },
        "id": "_1nG_J5ubc2j",
        "outputId": "9c2ee553-834f-42e6-b918-c4f21f0c7a4f"
      },
      "execution_count": 79,
      "outputs": [
        {
          "output_type": "execute_result",
          "data": {
            "text/plain": [
              "array([[[  0,  62,   0],\n",
              "        [  0,  46,   0],\n",
              "        [  0,  48,   0],\n",
              "        ...,\n",
              "        [  0, 132,   0],\n",
              "        [  0, 125,   0],\n",
              "        [  0, 124,   0]],\n",
              "\n",
              "       [[  0,  20,   0],\n",
              "        [  0,   0,   0],\n",
              "        [  0,   8,   0],\n",
              "        ...,\n",
              "        [  0,  88,   0],\n",
              "        [  0,  83,   0],\n",
              "        [  0,  87,   0]],\n",
              "\n",
              "       [[  0,  24,   0],\n",
              "        [  0,   7,   0],\n",
              "        [  0,  27,   0],\n",
              "        ...,\n",
              "        [  0,  84,   0],\n",
              "        [  0,  84,   0],\n",
              "        [  0,  73,   0]],\n",
              "\n",
              "       ...,\n",
              "\n",
              "       [[  0, 170,   0],\n",
              "        [  0, 153,   0],\n",
              "        [  0, 161,   0],\n",
              "        ...,\n",
              "        [  0, 133,   0],\n",
              "        [  0,  31,   0],\n",
              "        [  0,  34,   0]],\n",
              "\n",
              "       [[  0, 139,   0],\n",
              "        [  0, 123,   0],\n",
              "        [  0, 144,   0],\n",
              "        ...,\n",
              "        [  0, 148,   0],\n",
              "        [  0,  62,   0],\n",
              "        [  0,  53,   0]],\n",
              "\n",
              "       [[  0, 144,   0],\n",
              "        [  0, 129,   0],\n",
              "        [  0, 142,   0],\n",
              "        ...,\n",
              "        [  0, 184,   0],\n",
              "        [  0, 118,   0],\n",
              "        [  0,  92,   0]]], dtype=uint8)"
            ],
            "text/html": [
              "<style>\n",
              "      .ndarray_repr .ndarray_raw_data {\n",
              "        display: none;\n",
              "      }\n",
              "      .ndarray_repr.show_array .ndarray_raw_data {\n",
              "        display: block;\n",
              "      }\n",
              "      .ndarray_repr.show_array .ndarray_image_preview {\n",
              "        display: none;\n",
              "      }\n",
              "      </style>\n",
              "      <div id=\"id-e41e0088-6e60-4a70-9f9f-80b7b474b5d7\" class=\"ndarray_repr\"><pre>ndarray (32, 32, 3) <button style=\"padding: 0 2px;\">show data</button></pre><img src=\"data:image/png;base64,iVBORw0KGgoAAAANSUhEUgAAACAAAAAgCAIAAAD8GO2jAAAEx0lEQVR4nE3WS28b5xnF8d8MhxeJIkVdLcsW0iapXTSI0ysQFG3RLvsJ+vH6FYousi66aFdBCrQwCkO141iWLFMXivfbzHQxehATBBdczLzvc875nyfxOwakNNhjlx41mtS4ZU2PnAVzNsCMHiULUGOLNnUWJKQsKGWec0WLPXI2KMhJmDMjp0bGmpQmcwrm1FiQsSBnk5QaKXNWZDIZTfZ4wAGbJCxYkbDBmoJdVtTJabBkTYM2DRJKkNBmwpqEoUxCh0dx9hsKpjTo0eCOjA5D5sxBmyU5zbjigjoF4/inYCLTpEmbLgXISCnIYso13rNiGmNcxHmbTKhTxlgwZsqUlUyPOi1qMRCUrFlSkpPFeavvhBtSxrzjjn0O6XDLmBF3vKEmc0CDzRhiyQx0aHNHlzlvWVCwSZ1rShK6/IQLpuwzZUydIw4rDTosqdNkRhH+y1mxRZ/XjFizwW95yNecUpAyYEyHnBYtEnJOuJHZ5YaEKUuSmOOKHXLOGJJRo0XGDV12GTDlBWvabJOyTcGSJQcy+2yRMmRCDupsgZcsaIUja5yyZJsdhFRT1uHslPT7cGRS6qDl/pOCDd5xxS5z2nwSjhpSo8EOP+I7XoTl1mQ0wpCJ7HtvTViRhsNOWLPPMXOeUHJHj2uOmPBjdtihzx0NSgqKuE1ZBS2npEWHPmfUueSSQ37PWx6xR59eaNunxYAL6nSZfZChalZllYOMMStGfMeYFq9o8YhjRrT4gncRlAmb5LRpx7UuSVgGsmY0ZAZhnhq1MFybW455xhmnPGTAJ7jHpPcs2SXnGQO+4g2NyJMqyUkkS3h0yIJt/sBT/hzkecnH7FEGsmaMOOCIMV0apKxY32ueKUPbNIK2xya/5Ne8Z81jEg6ZM2AdZ3rLf/iSI0Zs8gNSlizoM5JZs6Ad+hyxwUf8hqf8kxM+C5LPGXLOJSs67HPOQ6bMmARCmhzRlKkxYh51sccFP+dzMKLDEzK+YcaQt0GFH/IkxGsw53X0Uo09jmVmNGmRkrPFn/gj+7wkZcS3jPhLgPoBHc5IOeZzcgbRgGX8julVGhShSXW1X1DnX5yz4JbTD7jdYidGNOJVFEDVjBUQO2RMKWT3PKmHwbf5Kw9irHXa7nFyyIgafZa0GPMN/40npDymTTNQ8ZnsvrmyGNySK/rBjx2OyTkPTFVl24p7V8mqWrbJcVTvhC6H0vuxVHTbC280uWPElC5tngXOkg9at7r3Gc/5Xyw4DcbM6DCV3nO1pMYqoN9hk0NuWXJCwa/4aXBlShJReMWUreDuBe9p0eN5VZnX0bQVx7vUo8qX/IOn4ZlmVHd1xkrSn9GJ872JxD2hx4XMCQlv6IdNpyFRPyBYssW7yNEBBYNosUq5ahJjCk444oy+7J7mh7S5ZBl71YqcGRtMYyWpXjakG3y+jkJch4kbfMqUv/NCpkWXrXjWbaS02jI3o43LeHrJknk0VyVSL8aLK8ZM+BtTmTE12mzQZJshwzh1I96UhQYJW2SxgfW4oWSXNd/yb3Z5fL8AZF4z4ICNcMKEAddcU0SGi8hB9eh1eH8WvsoZcso1E7b5iJlMPTp6zTYHUcs3XMUaWwaiG2TMGVMG5FexuFdV8wXP+JQvOfd/OF76FWh8dPYAAAAASUVORK5CYII=\" class=\"ndarray_image_preview\" /><pre class=\"ndarray_raw_data\">array([[[  0,  62,   0],\n",
              "        [  0,  46,   0],\n",
              "        [  0,  48,   0],\n",
              "        ...,\n",
              "        [  0, 132,   0],\n",
              "        [  0, 125,   0],\n",
              "        [  0, 124,   0]],\n",
              "\n",
              "       [[  0,  20,   0],\n",
              "        [  0,   0,   0],\n",
              "        [  0,   8,   0],\n",
              "        ...,\n",
              "        [  0,  88,   0],\n",
              "        [  0,  83,   0],\n",
              "        [  0,  87,   0]],\n",
              "\n",
              "       [[  0,  24,   0],\n",
              "        [  0,   7,   0],\n",
              "        [  0,  27,   0],\n",
              "        ...,\n",
              "        [  0,  84,   0],\n",
              "        [  0,  84,   0],\n",
              "        [  0,  73,   0]],\n",
              "\n",
              "       ...,\n",
              "\n",
              "       [[  0, 170,   0],\n",
              "        [  0, 153,   0],\n",
              "        [  0, 161,   0],\n",
              "        ...,\n",
              "        [  0, 133,   0],\n",
              "        [  0,  31,   0],\n",
              "        [  0,  34,   0]],\n",
              "\n",
              "       [[  0, 139,   0],\n",
              "        [  0, 123,   0],\n",
              "        [  0, 144,   0],\n",
              "        ...,\n",
              "        [  0, 148,   0],\n",
              "        [  0,  62,   0],\n",
              "        [  0,  53,   0]],\n",
              "\n",
              "       [[  0, 144,   0],\n",
              "        [  0, 129,   0],\n",
              "        [  0, 142,   0],\n",
              "        ...,\n",
              "        [  0, 184,   0],\n",
              "        [  0, 118,   0],\n",
              "        [  0,  92,   0]]], dtype=uint8)</pre></div><script>\n",
              "      (() => {\n",
              "      const titles = ['show data', 'hide data'];\n",
              "      let index = 0\n",
              "      document.querySelector('#id-e41e0088-6e60-4a70-9f9f-80b7b474b5d7 button').onclick = (e) => {\n",
              "        document.querySelector('#id-e41e0088-6e60-4a70-9f9f-80b7b474b5d7').classList.toggle('show_array');\n",
              "        index = (++index) % 2;\n",
              "        document.querySelector('#id-e41e0088-6e60-4a70-9f9f-80b7b474b5d7 button').textContent = titles[index];\n",
              "        e.preventDefault();\n",
              "        e.stopPropagation();\n",
              "      }\n",
              "      })();\n",
              "    </script>"
            ]
          },
          "metadata": {},
          "execution_count": 79
        }
      ]
    },
    {
      "cell_type": "code",
      "source": [
        "im_B[0]"
      ],
      "metadata": {
        "colab": {
          "base_uri": "https://localhost:8080/",
          "height": 73
        },
        "id": "gZWUgH35bgEu",
        "outputId": "0163f0b5-603d-4d0b-93d5-47b99166ba0f"
      },
      "execution_count": 80,
      "outputs": [
        {
          "output_type": "execute_result",
          "data": {
            "text/plain": [
              "array([[[  0,   0,  63],\n",
              "        [  0,   0,  45],\n",
              "        [  0,   0,  43],\n",
              "        ...,\n",
              "        [  0,   0, 108],\n",
              "        [  0,   0, 102],\n",
              "        [  0,   0, 103]],\n",
              "\n",
              "       [[  0,   0,  20],\n",
              "        [  0,   0,   0],\n",
              "        [  0,   0,   0],\n",
              "        ...,\n",
              "        [  0,   0,  55],\n",
              "        [  0,   0,  50],\n",
              "        [  0,   0,  57]],\n",
              "\n",
              "       [[  0,   0,  21],\n",
              "        [  0,   0,   0],\n",
              "        [  0,   0,   8],\n",
              "        ...,\n",
              "        [  0,   0,  50],\n",
              "        [  0,   0,  50],\n",
              "        [  0,   0,  42]],\n",
              "\n",
              "       ...,\n",
              "\n",
              "       [[  0,   0,  96],\n",
              "        [  0,   0,  34],\n",
              "        [  0,   0,  26],\n",
              "        ...,\n",
              "        [  0,   0,  70],\n",
              "        [  0,   0,   7],\n",
              "        [  0,   0,  20]],\n",
              "\n",
              "       [[  0,   0,  96],\n",
              "        [  0,   0,  42],\n",
              "        [  0,   0,  30],\n",
              "        ...,\n",
              "        [  0,   0,  94],\n",
              "        [  0,   0,  34],\n",
              "        [  0,   0,  34]],\n",
              "\n",
              "       [[  0,   0, 116],\n",
              "        [  0,   0,  94],\n",
              "        [  0,   0,  87],\n",
              "        ...,\n",
              "        [  0,   0, 140],\n",
              "        [  0,   0,  84],\n",
              "        [  0,   0,  72]]], dtype=uint8)"
            ],
            "text/html": [
              "<style>\n",
              "      .ndarray_repr .ndarray_raw_data {\n",
              "        display: none;\n",
              "      }\n",
              "      .ndarray_repr.show_array .ndarray_raw_data {\n",
              "        display: block;\n",
              "      }\n",
              "      .ndarray_repr.show_array .ndarray_image_preview {\n",
              "        display: none;\n",
              "      }\n",
              "      </style>\n",
              "      <div id=\"id-cb79bc72-0377-4cb9-9649-3805d1c93067\" class=\"ndarray_repr\"><pre>ndarray (32, 32, 3) <button style=\"padding: 0 2px;\">show data</button></pre><img src=\"data:image/png;base64,iVBORw0KGgoAAAANSUhEUgAAACAAAAAgCAIAAAD8GO2jAAAErElEQVR4nE3WS28b9xUF8N+8+JSoyJRsNXYaK1ECtEXrADGKAF0EQTdZ9SO2X6Eouu22mwToKmlrICkQ24lkPSm+hsPhTBeDG3hHEOS9/3vOuefchM+5oaFlxJg9Cobk3NFywJYNJQN2LJiwo6IgY48xAypSciqShCOuwIB9HpLS0qNiQ0NCS0NOnyUVU7CJojVjCgpStmzp5yRR/YAHjEko2ZAwpGXDiJYh6FOS0GcYLZsoNWLFFsxyanIOyShjwBrs0Wcef1uyZEvCmHUM1H2zpUfNLS1o2OTxoyEFO5DFjDkNa1Lu2LGiCvQ72gaUTGgDqJaSLTVpzoCMLBDYkVDRBo4VPZZkNDRs38LkihVnPGHGNUtK1szIc8bU9NgGkysSDhhwxYQtV2QgZ81dvGmf5+xoKchJKdjnEWXOkDtyRjHXIS0pJXtsmAUrGZ+wx/ecx6CXbChIQrIFNe8yz5lSkkf1LJioAtkf2dEjZcecDSekvKHiBQ0THsVDO3jvGeccB8O3LIK9jpsBL1jSj3/WXJBzwoBJwN1SU4GEjJwNbR6rgYIxKSkNB8y5ZRAyfUwZT5kx5kN+yVe8ZsOCnB5FSCDtkFlTc0/KgDlzcuYBa8KzEN+UjF+w5CNG/Ip5tOwHwh1nbc4uxDtkxJrLgP6Sgo+44ZgTLsIPMl5zx08sGMVapCSh9bTT3B41JTtmXLAg5Z4e73NKQ8Hvec0lJSXHNOzxLiecc03RQc+ABUXONfOuG1lMOuCeKZ9TUfGAimesuKThmi0P6HPIT/wthu5MKWWbgwVJaFQs/Zgv+Iw/s8ea7/g1Z8x5wyErVpzylAnCBCt27LpNxjYm2IZgaj7mMxbMeELDcWixDmxf8XVY9xuEDrucuGOUh/C7kKk4JOU9vuB3/IVDfsuHHLBgzktesWJAwb94zIINt7EWnfqTzk1Xb1n/iDu+5EsOWXLAJzzgK5bc8QMVOY85Y8w7bCl5/ZYlj5nm4RMZddDwJ/7II/5NzYz/suOvFCw4YMxLap7yKX1eBZF5SLYUybkLE26Z8GkM/h0lN3zLkDLedcA5Wxb8wDfMaXnIhEHE3D11161iFBt3yN/5hveY0WcSBjnllj5X7Biy4GtesI5QGVNRUjPkNA9vaiIIt5xzzj0ZU47ZcE5LF7EFowjFlhlJ0LvhLnL3g46DLi9rRhxRRrRe0KPhlIon/CPksGISWJfcUrMkZUiPVUy867xzQ48+axqGHHPAEZdsOaPPH3jOgA1rEhp+5Jw1Ix6GJR9xyhPOu4S7pkG3e0wpuKcT8T+54DyctR8nxZqKPh8zoWYVl9k+v+ER/+vse8CKNoJlFn53HTKdcchNOMGUbRC+H6tbRBqnnDDlglUXOCsyRmwiKbtpNlGlDOXsyFgx5IAVt2EPP59lGU9p+ZY3eWRQGldiB9pDmjgGemH3VdhkGQnY55YtE9JQxzzm/k+3aAV7lGHi3aV1Ee+dhsX/7OfdYSuWdsSchikV17xkEm/az+MwrcNK8zDhXlRso1kX6Plb1nsTilyBdRxeO0543JU74jkbrkiiWSfW7C0Am1iRLD5X7IfYOoFUvMOYZ5yxYvF/7nny4MzNv8IAAAAASUVORK5CYII=\" class=\"ndarray_image_preview\" /><pre class=\"ndarray_raw_data\">array([[[  0,   0,  63],\n",
              "        [  0,   0,  45],\n",
              "        [  0,   0,  43],\n",
              "        ...,\n",
              "        [  0,   0, 108],\n",
              "        [  0,   0, 102],\n",
              "        [  0,   0, 103]],\n",
              "\n",
              "       [[  0,   0,  20],\n",
              "        [  0,   0,   0],\n",
              "        [  0,   0,   0],\n",
              "        ...,\n",
              "        [  0,   0,  55],\n",
              "        [  0,   0,  50],\n",
              "        [  0,   0,  57]],\n",
              "\n",
              "       [[  0,   0,  21],\n",
              "        [  0,   0,   0],\n",
              "        [  0,   0,   8],\n",
              "        ...,\n",
              "        [  0,   0,  50],\n",
              "        [  0,   0,  50],\n",
              "        [  0,   0,  42]],\n",
              "\n",
              "       ...,\n",
              "\n",
              "       [[  0,   0,  96],\n",
              "        [  0,   0,  34],\n",
              "        [  0,   0,  26],\n",
              "        ...,\n",
              "        [  0,   0,  70],\n",
              "        [  0,   0,   7],\n",
              "        [  0,   0,  20]],\n",
              "\n",
              "       [[  0,   0,  96],\n",
              "        [  0,   0,  42],\n",
              "        [  0,   0,  30],\n",
              "        ...,\n",
              "        [  0,   0,  94],\n",
              "        [  0,   0,  34],\n",
              "        [  0,   0,  34]],\n",
              "\n",
              "       [[  0,   0, 116],\n",
              "        [  0,   0,  94],\n",
              "        [  0,   0,  87],\n",
              "        ...,\n",
              "        [  0,   0, 140],\n",
              "        [  0,   0,  84],\n",
              "        [  0,   0,  72]]], dtype=uint8)</pre></div><script>\n",
              "      (() => {\n",
              "      const titles = ['show data', 'hide data'];\n",
              "      let index = 0\n",
              "      document.querySelector('#id-cb79bc72-0377-4cb9-9649-3805d1c93067 button').onclick = (e) => {\n",
              "        document.querySelector('#id-cb79bc72-0377-4cb9-9649-3805d1c93067').classList.toggle('show_array');\n",
              "        index = (++index) % 2;\n",
              "        document.querySelector('#id-cb79bc72-0377-4cb9-9649-3805d1c93067 button').textContent = titles[index];\n",
              "        e.preventDefault();\n",
              "        e.stopPropagation();\n",
              "      }\n",
              "      })();\n",
              "    </script>"
            ]
          },
          "metadata": {},
          "execution_count": 80
        }
      ]
    },
    {
      "cell_type": "code",
      "source": [
        "image"
      ],
      "metadata": {
        "id": "imW9080YXxiq",
        "outputId": "d2809659-5eec-4fb5-d746-9e7a6fb9aa68",
        "colab": {
          "base_uri": "https://localhost:8080/",
          "height": 344
        }
      },
      "execution_count": 81,
      "outputs": [
        {
          "output_type": "execute_result",
          "data": {
            "text/plain": [
              "array([[ 47, 123, 133, ...,  14,   3,  12],\n",
              "       [ 93, 144, 145, ...,  12,   7,   7],\n",
              "       [126, 147, 143, ...,   2,  13,   3],\n",
              "       ...,\n",
              "       [ 81,  79,  74, ...,   6,   4,   7],\n",
              "       [ 88,  82,  74, ...,   5,   7,   8],\n",
              "       [ 91,  79,  68, ...,   4,  10,   7]], dtype=uint8)"
            ],
            "text/html": [
              "<style>\n",
              "      .ndarray_repr .ndarray_raw_data {\n",
              "        display: none;\n",
              "      }\n",
              "      .ndarray_repr.show_array .ndarray_raw_data {\n",
              "        display: block;\n",
              "      }\n",
              "      .ndarray_repr.show_array .ndarray_image_preview {\n",
              "        display: none;\n",
              "      }\n",
              "      </style>\n",
              "      <div id=\"id-4b9c41f9-f86d-4e3a-b324-51f95ad83266\" class=\"ndarray_repr\"><pre>ndarray (303, 384) <button style=\"padding: 0 2px;\">show data</button></pre><img src=\"data:image/png;base64,iVBORw0KGgoAAAANSUhEUgAAAYAAAAEvCAAAAABp5klYAAEAAElEQVR4nEz9Z6yuWZYehj1r7b3f8KWTw823bqWu6lTd1T2JkzkmKc5QMoNAyyPZFGjJkEEJkm3AMPzHlmHAMGwZggIEkqBgWQBJibBEkSY5nMyZ6enpNN3V1V1d8VbdfE8+X3rD3mst/9jvqXH9uKhz7znfed8dVnjWWs9DX/yVUapiIWZqBgMTERORmYiSc0mVHasKOcAMVjgzSPIgwMyCkKdo3ghmIIIpEUwNAGDmlRgKJhhggBJgRkRq5EgUHhEsXSCN6oMTMzgmJDIQWypUjYiIkxpDJXrPoqAQEzMBCjMzs8CkAuejNyEvnYviyMBl38NzSuY8Q82gRVc0IZVGLAmeDWRJ4UXZkYojMjUiL9EVMRWRU08FJwcCAeajc1EYV/8xW4rC7M1E4JyVbWFd0Tk2AWusVOEYJgQwm4BgYBNbF996v1zV/gt7pBxFCSCCmRmRMZGYqhIMxDAxAwEAkUHViHj4AUoGQCFkgIKIkVdaCABAZjAYjEAGAmz4KxCQzMyB2AiUgmeDJmcgmAGmSgztmaAgTsSORMR7ZzBYL2oKEIPIDCZK5EDqxAidmCiIzHTlgibzNVSisvdCgMEMZuwZHA0O5Ig8CGByZmamloKTaKRsbgwVMzIyACIgBUGR38u1iYtSU2RiM1EnKqZqyREA9mIGUQJgBgKZqRBDtervPI4++hdc8jqsDJMMe0uU8slSDzI1GMEA5KthzE6RV9oYCgdDfqD8ajBzw7crzGBkCoAA2LBgzE7F4GB5P5wlUR5ejMyUTBnEQgwom7AzUyOGqRlIjCnfLIBgCKamktIswSOpa8HGbNQGb8nIJ4DIRNUI8OxFAEcqpqQASJmhCpiamqlJ4ZI4BxLyaIUtrz8cTMTILK8PhLz1RJyUkB9ME0zMmGBKLIApERHMlMjMJJkjFR83998fr31YSSHKYmbsoCAzI4CUQGQwIeS/MQyvamZmTFcrziZEJCDAiMjyo8GZGUCEfJxJMVwBAPm2AMREIiZgJZiKEQE6fDiBadjf/GuTGciLqakRjBzlH8jP1oCIvSujkoKJCWQKWKU9HNnamInNDNB8lvO5sgAzUygpYHn1Qfk72ZORQloosSIvgidIMijlgwZmkqTek6oaOYJADUoAoEZsnM++khlBs8UUqHXU3PqAvYdQ6smizycWYmYgJgOBcPVRIANgpJTtvH26IaowU9L8e/IdydbfFFAig+WPgBEsG1IYIArAjE0EAPfeeSClAmrGDGYSE5NKFExQMlVjl60kDEJEKkSODFAzZbJEzi8dRXOUCphGkNVRyFHSAirG3qkpCyUtPJkaGHnduTAjx5IEICLAiXgvGhJbRCAlgGBkalAhlU+dQJe4cJoIZkQgCJmRksJMlcmMzABLTICZEogATawUd6+dBC/sohaqlhdtOOqGvKJG+UAgr6IZAWAYoEbIH5a/luEnGaTIm0dXpij/GF1tgqkR8t+bOTUQiMkSiLOnA0C9YzMiZ5rgnCmBPGDC2c5dnQBotqtWElJUl8RZUkN0bGJMvCZCNGKQY4OJQAo4ZSE2I6KkGG6Rcl5ENhgRJWEVcerZyFtyw4NFZTUmSH57ikZISiQgTzAhCQJOXrO9QXakZorhZAJkMIuhDXb3qXkTqGfxZmRClk/wsA9m2Yty3gZAYU5hADFn022s5KDK2SwAMkQR2eMAakYwurJhRmaqIDImE4PT/M3mNCX2jDSEUgpVco7EslkiIyJTyTfVzBsRO+KUzautmYgdMxIBibj3ZCCyyM5E2UV2BFNTFpgTRFElMjHNz9abkUBNHSDmnDInmCmbOYho3niYDCdUKV9s8U569SEHBGYpeQULkYBhKppDF4MpHLFTUzEYTKRoN3dPfFCFR/ICGBRkg5UnyqeWzK7+AMiQ7SjYm4op4AUeyRyIAGKKeQM423wD6XB3hujIQVXB1Htvoo57BZMqBI6JJDmAYaoViSY1UnKD5xZ1MIsgovxcMAA6XBtvMLJeKZGnhFKYTcykVCVvJk6jwhdBoBylNw81IhPOF9NAZAlEvcHEiKXiJno236mzXp1cfRuIYJKQnbJ56cFeuyBijhkqqjBhr2qmpmzGRFCCGhyxmoqyoWyDGN++8BJYelBymmMhVmMyJSUzDkjgHG2AYGJEolCm1BOyr0rMlsR5YSSwiIMaYOKSGuA8HGlUR2rZgpORczAYkYiZeDYVY2KDqRpUy67sS+qMQqkiSszEgLCHqJGxiRFbn120GhQwosSOVNUcaSfwseojF6b5+gAWYIkcawT3FD0RFFA1FiX2OXAgIqpiSwxRHy2YaXJMYo6UARUjptQZJRU2EJTYDDBzviMGJMIFMetdErMEIhOjISSGC0UZjs0YZoSqLxLtTHwil8OwbP+NHEySMQ0Bj8/hrjkAbMTKANTAg0Gz3hhA3r6rQwK14MhMkoIIYOacgaiRWQ7KVI0NiAA5IvRDeFUgkTlVLxYJ5MlUhiwiR2EGMygKgoqJ6nCEKzMVEUtETICulSgRhV4VTITkXAkWFWYmGKJjIIe0agpi4iFwcI5NrM8JKQbvSgYTUSIyYtKUysEVOVPT/HJkNvi4HHQajEiNiZmckEE64WSmZgYxZXL1rg9DYDHkdtYxkxp5AQia7Q3MoJQzr7y82aWSAV4Fnsl0iJrMAAa0txzLERQg7fPHqLIZMciQ3ZJKjr1kSD/AFr2EOMQEzKaiIGK98mAENibkJPEqajYkESPyJnmLVIlN1AXKBhhszDBTMTKYWDKXMy4QRME2mEyYEQ3vZwYo5yUQmOajSDwsNnJwDCO6SswMCkvKANtwp0BDqkNQ7SE5HDEfYUltwzP/ycElM4g4NtDgaUAyBDvZ99rgBYiyPzVzLr/ZEJwYDSGP5qCM2HL8S0RkGaGwHBgoCCqlKpFp9hcgCCnHYJTApKpCOZ0gG+JhBYOYEPNDG4bowgzsPVkrSYcQAipg4Co6SwbHXglmIjpjS0oOPQGwHLGAiVVTYs6r8mmcSiCFgcFQlQTmQs2YyCxdZeM5V7XIUDWYtxw5uPyUpoRh13IY78QTxGa+d6RwMMkPakFhBMlO3ogGZzMEkdnsGkBqORjtlEgVxMOG8JAOeDExAQupOWcqzMNP5DAnf59KEoUbbhWIoI6gam54AGM4M6gMGztgP4A3VbtK2gAkUdKkaiLGDoiqjpkoqhE7AnLo7hzBQI5btijEcADlg0rDkuermsx5ZrAOGScbhuhaFM65JJ9mNKZXEQqA5NhgUDVTGKEHExO5jMYwdAi0xRyVpoWHQnPYn48ww4ih+UoYcvqA7AsoR0rZ0CGDNjEnbQ5qBAEJyJRAqmowJs23M7ohepd80CmjE4qkagIzHuJUAQkSgVXFzHHMV4ey3zY4hphky0DOjChHuqJmClEiJlJVL2YES0P4CDFimGg2Y0zkOKip6GC7lZksJSkoOFZRmBHlXFGNYV7FoAMaAjVVEGs2xkQEGfCtqyRF/gQJUICMYTAyQoYxoOqUWIJ3MDM1LW1AwEAwY04AqdKnBsoGV0SmILNPcQUHonx1jc2Io3NQBZnYcLJYlVV9NoX5VCs+zeWcs8Eh5z1l4ejFRZeMCZoiMXEO/UEGZSKDGUUDM8MUpgpQgBnMoyfKywpTmFGlYvlgESPp4MWAJAxAklNjwASqZGqUE2HTQjJ0BFLFVW5vOqRGliEXEfMAExGuXJQjEyWyNJhOn7NnCgPGOLwniJDI9eaVFJQBgoytESMl8vm+c14zIkj2KNmOkanLvw9BVCifDQDEiQLlKMlgIixEYOeJicyUiAf8mAhqTHzhPGcvlV/OC1IhlkSZWSV5QNUMZc7iEB2ZDq5NzYyhqiCkjJ/nLA7erY0Ack7UQExwknFcl62FeZixIzbNeJNXUXIlJ4iyKvLFy6Bg/lAbnKCZgfP+StKQD7t55H8lSBRmyleIkYwzmk5MMLOQPwggUu+Z/OCVOQEAGAoFF5phrmCqTAw1dTmd4KhwSPkJiIjXzpGZKXmGKjRQD5jpYM+oNHPago3YVKHlEBuJAhBDyQwDWAVECuocF2t1zpF0zMSdZyVnEg2kSk7ZI0Zf9ExmBuqNCAlXsQR6cwVFFOQ9egl+QcwOhJ58DrygQg5qzpI4UnIBMbLviD0Y6JN6g3OJEI0Ck6Rs5JI6lpSRKO1l4k+nylUkoxZbx9vhtn9xdZvHH86OL9ZH52d8stuNU7e9KshaGmeY3oCezMCmjiLLmtUzrlCVAe4ZsMdsyggZISYewtDs8phYr6Ks4UbpEAMNCzGEaWQxh+GknCGiLt+/XN5RM5YI4iGKy8CnMYgcQU0IjlQBQg92zM43GskomWrOZ9jIgRXRjNiZCVEEWzvqG66ctBVyqMKWXLYGGPIQkHPkRBLUkrohgHfZOw3Rk2k+7gpjqOSEmYzZzYui6NbB99DubvHl6UhHcePk9Q8uDzfv6bP980cfHJ2WoVsLIgr0bghioGRKMJHs1OCvYFUYYDSANkMojWw48n3J60pE+U8C8ncPfp2udix7oQEoyHE1k8GUPoWjAUO0vAGBiByJZuQqZ4QgaDQAOacSMwe2AQdN5D1pjrhhpEpgqJkoO5PkWCMFi5d1ldYuhJixbeKMqmbHkJ8aBMD3AmYRNmQMK0MqLhFgJqS5gKHCEs1f+THAF9xSHdb9zuZn661YpNC8frQ8WRZPjwznh7e3Xjx4/1888Ey9ltV6PfLDuyuZkpm6waF4uVr8q5UZ1mjIjIdwZ1h5AI7UBsgIQ/BmBBrC0iF91vwxBDOvqp9mS8BVBSbD5GRI5D1LElIbsoO83cJkAEhNh91Tg0KcgekKYDEAqsomORA2URY1iDFJFB9sRezIiBhsUCISGooCSmYKFNkyoB9qUhn10nh1kOTqwLB0zrPkuoAad5Y4Jbt+7afOdm+cPegP5RMX++rGs3ELfn+cgs3+lY//8NijjEe+HrV0lduZGZuyqaoZvOLTQ5ldw/ClXoVQBB7QaeQwMa+/DGFxPl+5agnSq4rVp7WX7K3UCgzp0rCpNPxrdKwiSaEgslz9YZh5gqklZjWCGonCZXcGSFIrQQaY+RzEIRET4DgK2HouevJmAjjOVUDHpEouW1mFcM4u0YshGTgh579BxRgxjTOImROqjHSCHZkfLrp2xbjpijtfkh2nj0bXVz86cro++IlZuejC5qJdcI+tP/fmP/92O+G2Ktc0QPRDVGn9UHfxwzp8uiIZDoVpRoNwdch1+FIJSny1fIPrGDwGX2ERwJ/EZexAGOC3HOYSESjl5zBHktTgow3HY/hRGb5UA0GNNdeCqDF2MLDSVRtBtpbKaqpGUZgseVpPK1u3ZTHk9KaeVa6yNpgJMYOMFc7EiF32Y0NQC+3zuVKHfL2CAQ7DKpiZq+LSXtm+tqWP7vzwvddGxYfFtfPNOwfP6nVVnNTV1uk7/t5b+os3/tnpdMMtrRzqIzkpvkJBKG9ATtVtQJ/zGn66grl4mH8tCOIIRJRvxFC+NKhyrqOp5kQ1ZxtEIGKYEQuMQbmgDQAFzFSH8JMyoDD8aM6RB7yDBWRiHDJSRqJsDswpGyVEBZkKkaqpmhIsga2r27UrOS1HZuxYNfs0yNWxyVjW8PyWIVwzooYM5Jh7EDOp6oCCAuytN1K1jN9xP55+NYwOy/YRhc9+/3H3wtnh7hffCuOx82k5eXT7tQ//+PaB/vT6u0+o7PZXxLnoSTlLYjO1vAF5wcNgtYcFBGXnympDII2cbGf/q8MumnnAMqaWcwnLINSA7zKJqomQo+EK2HDF2ExF1bwqOZPcRDAgegYip2JmqiPkAqBIBpfqlIOIAYMggWMhAkThvGp0mjho6xCcRapzE4emAINzkGGzzRlBRdnpcOoHKEEdaRRNLocAlIbaU+McpcgBV8czbvzE+N7iJj0+q2SvHR32D/Z6d/9yb8ZfD/tLrYvpl5cP33v9j3789b/3sOwW2Vrr1QZoym/JTFTc2i47hooCEvUqbiEeEEUAlqJKEoMmi31KvUDVQL6ohDwbYMyONCkreU8gF7xjgllvzM47ACYxKhtDoUKpa8WFolQQUlKKMUZhhicgdeLXgtgp86pTQEW6BIKK9MYkuQqgSU0gbRdFTdmhb7qUkkrfauidonHErZJEJUeaVFIiNoVjdtK30ZjJOUgydgQFM4RSL5qSgR1r3zWaRJW8BgaKUcVO/KhhNbv+he2tx59f3X88e/L1nzo9Chvn5Xj0Dz/3yuli8+VQma0gdO3ej8K31n9jd7695oSVl/VyiKMMfWckUXzieNyLU85hCkkOwk3IDAJ1gynSjGTkmIGJe8tX1bMKmP1QQ7OMsSsEYOSEy0RBOaSVRDA4FwHAxBQ6hBs6RFUtmRuHflWwOVIxb6n1FeKVVRoyLlY1BVScmkAVAiKvIn5NIyxp7ARaaLeqSUXZ+56YGWYxFIjqPCPjXNEybp5RZzMFw0DOQQXkAykpORfaCZaY0TKE6nz/4Xrjziv7m9c33zr343fe+hsVb8W0ft5/8eDBS8vx5v3u8HinvpDxonvx9+980v+Nv/OsauLEFhs6BBqqRo4BYg/HC+I6ZZQn30MaumMMV2HYEMAMHjbjw8P/6+AnYcysisGUa84RMKCjMCjnVE3Yw1LIvth0+GwaWo/M2M5bP1oYeTYl0lDLMrkKgBpTNtZkBAOzCg1wuagRLKYiWEcFujJqE8x7o+BUo10hnQGRmLQtYQIZwHyYBjMzUxVHZsYs2RAQTEWIUYt6a4hjEfFsMp5eH1Uy+d5FjN/s/+oL70RxR6uHLzx+49EezmMZqo32bDqJHPo37vPl7G/8p5+McDqmKBtrqECHfiQh846LptAgA/ibl82yjcenEAWQa28DFmRmjlUNorl2pupAoBwmEBmZHzaCLVtYNklgImFTgUAG/Pmq0+gKI/JdLMa1oO7FUhSSaI5QljrAjCknfTQ4+NwhCRhDxAwuOWmpQtfrSH3j6TIER8TsVdXYsUvC3tmAVsKU+FPXZapGObbSjp2DRfMJmoik7M2jR3DpZKtepp9yezduvf80pm/c/cyXf2NezE5PRl/0ceNlp5cp2BO053K+3A7xRvxwKcv/zf/peO+ZH61YkqVkrMlRxhG9U3Xcf5p35PQ1499XbTz5AqgREczlOFoBJqhdpRG5a4IIDBgx4EzNjBCHm8LDtSBHpmYu6VC1MTIzNdIBbQzatdwtpzzZqlJvjTUNlXoxMdLhtzARIToyETKBmpkKmCXC8XptNUcN41VMPokbZ9fOw/2l6LxGC6OOCOCMzZgZUoZGMigFNQUbaa6AM5kuau5pZK1b3jm5nL1xPu63739nY378P97d+//c3zs4Olq/fvv5aP7S8YmWTUpqe3YxDu3mfPK574+ONv8X/7fl/qoLfqGWBFD1AByreZ8iRY1eB+wgn3uDkyENG8w+TJGR8AxmCjODgAxxMStDhXIXDMgQTeyqU44Ai8QMU2NVNTNmgEyVrqq8PYbYaWmhmNy+26yWHabjOlxcLk7OaJpy3SZ3PxCMXQ5DjaAG054pdcJ+Haq6JNOi67xzS5mBHKlE75wHCKRqxKTKpGDOqK0ZhAYbpQIiU0eqBHDK506DmUevSuVlmm2523pr+TbLjdFvL378h/ubr50uv+rcpjt4dBS5PFgj9qEfhzYu61H7lW8f/ujnf+XvltxudD3ZUEdRGJjNmxPXeSB38+DKz+aSo8JpvhlwmnH8HLAp1K5aGG1IbEhEkdyQyKUMLg334k+SY5OknsyIwAoiuTJsw/Yv/eFLW83q8TL4EbBeFv7uxvz9x72pkYcJG8wU5syMBhcCAhJUrKjK1zbr5Ce2urxV79vZk+ZxsuCJWYjJAOOoLrjU5loxriqdubykoDR0sebmGiaxnPSUDVW20rL3vW9f3POzw9+ZYrWo3uy+vbx5sDh9/82Pb81H9z985WBe0NmNc+OuWc2mbfekvL3Vux/85Nee19ysgyKXY4RJe3bsuwrOQh/DUIyjbATViTEIfOUkzRTKgILYKEOEBEL0zICkjDlCBxjUBsh+wEhVHPILwdSYjSIo36RsxHMTqYm+dHdyebG/t9h00mnhqSuXz7e+cvvtI4CYciMKzExhue2bVYxEiqS+3t6ZzoAiXYK3Qrmz3CrGL50czSNcSBBR8tSEkjSCvcst47lVPreOIfsYUzg3dH0P0AzxwmNNFUnZKn+xOx7tvXdMe21TuMmTz/ski/f8Lx4euG/5u1MpvvnBmz96/AvU3NnsVw9LTl/4jcuXRz/1j8SvcicnTJL3LkUh57kz5d6y4f70IpAHqxFr51vvWoQYou48x3SJghICKRFU4H0BGMChV3ZqzknGtMAqyYxQRCFVeDFznk0IgUxMCCZ5GEFTMZJFFRvXlfbVm+dxs2nTWaxHRVvMN8lP/fqTrV/+wXcWTFXjCUrgXKNVA0tfSML0zLq9Fw17tBNHtHf6QX1+udknG9Hyi8/v/e7Ti9wpFiyVFg0g9BlS40JSgiNSEnhtQAyBs46S1ZhdWrG2wpL3kyY6FnK9avvGu2/u9R+uq8uNw8XGJRxmI/ez3/w7n/uZ/qCd0/jog+YHD19e3PrqounWzWrz+j/efnbWvPH3Ny/LohkSWCpTcpVZ7w1gw2ADQbn5loCEnGvBkgrDtZjeoCeX3hIsVzjZFUi9HyBQFVyZMACGZS4AUZScIhMgCYZygP1yzJnxZFmJtBVmF/rna0Ek6cKhFbHuJJxsQHlMev4zr/z3p6Neqhw9gXLTBLHrBGM5Br7atrdptV02321ufn55OaqLrnGid6vmaNpdip9vzifrCcWhra6AqamSETmYmpKaJaWZURFksSIU1p/LpA+gUepck0zMTDTY3QWf33iSdg/mj8YHTT+9deRX9vL133z+T95Y4903ls+/sDr/wbVy4X40H3UHTz/wd9sn67m9+CgWfc8Cz4qgQwDjFX9S0TcAOhRdlGBiTFEZpJ0orbvJTlNaUrPcSmJGxDkQNzANhjOXMeCYTZUoGljFQI5N4VxO5K/KEwZOcNYpF+vi9PBXP46uED8tyuKS19PA1xZPI9c8X6Xi5r/6/30SXA4SDQCTqTLp+NE4nHP5Z56tbqPl9CBt2ldu/uakBPNo1HUPyzetvbf/ta7qN/rl6GI6lAZ7IhADQrmFx1mM9e7h/s7Yt01qlj9qMA9OzjkgSlMdPnbeiFV7SvdWoyT3+z5VN2W+/byVsPV4WR6OHv3iWNrbk7PjPR/63oAn8xfGRzfro5v95Mn47F/6z4qwRBJyALHlw577ZGCGYAaHoeNoAO9ZTTX35/vpVG26s0LqksVVj+TYIryLRExm5pkAaCIAqmpOYi4S5ygbSYdeiz+J/nOFKGNGYKx+4k+9V61sa0Rp/oRWsXlkYVNv2dn5xu10+Z3qlb/wtyzogAoaKRRkEvH6+QmXX33+wmE81f5i85e+Zm/za4/qOiQpLtLkrRuHO27rc+81k5bGvvBDx0YiZiLAiQJmWJfbh3dnfXdeufkldxd3+v4DKquViaRQ6ENiFjCn8Wrj7qq6fYqRq6i1neXFvu0hbcjR9v36ccEHnS9U6muX04uNTouw3Y59aGZPp+/+6v8rclerJ1NnkvviGRnIMTNSgSMVl/FYMgUYSQCzsqjq+ho6HZHjpNperKSFEcOu8jRknFY1INtnS0LMIgNSR3lzJTlQbkoZoheBCjuJqfqxLz4an5e3l8dprFxtr0sh9O6t/c3x6oNY9X372X/tb966LDIuAoiCSEXbdya1u/PkNsZd1KKrvnX9u+V892y9X5zYVtPTTXr/kIo/d+N3/P3r5XpilptFfQYezIkQVFG+dLeKZzT2iu0tm3O6mPzU9pOH9hyjoIWebqqJgYz1TrHGwe/1BYe2pfJZ69OuO1Wv1599Z7e+7do21s16jHLlNidTKy+sauvRWf9g8frXOyQpKZpHvKqPec7taiQiRHkQhwZAh8hU+vFoPPFhhNxxVlHtrQ11lMUihmJoMYRZcgTLUZPpMFiHFCM7UmJHjREzOyTKFcohvDAPSsRq0zsvPx9dbrjvXaab08UcIwrYkFP3+uVRPdpYETbO3/+lb71nNgQmpkpMZvX53VO6tlO5+unDyaxbntfdTx/Yt2TdzM8O7zYns6dtmMXm4pWL39mUDkOfDcgZACNLYjDh4kvF/NgXvmlOw4RXHdEtO5KX7jw7eW/uaVHdXAmMlLCQe4tu5Be2ON0qRtJvFAspy7bA7OnJ7t7prDgJ4WQyHZ/dO5pz6HS91bdtbTfeHX3rx37Dl1Elz+KwsSMz9sPIFUUQRIgjZShoyEt82NmYjJKWctmXdVGN2qpCEcYdjYt5TJ5tGKIxIzUiEpiZqiZTMRD3hSc4h6mlvod3iR2QfQZgZl64gFiY/czi2Wxb2m5rMpqvpnvthiCszC0O2mfYnz5LW0+b7/6V/6jToW0exAQDW3nU3CsOuuZr5c3q/aK+Gw+ea71oqvkqbPLxnPdnJ0e3dj+Z392YdjROQlcZgIHZqAObha3ti83CQZc20jZJz1VaTe8cf3PjS1tv/d7xNKyYxRybEqZ3P6A76006LrZWZ7ie6PZOeTndeHzxWO+EarS83J+cbk33jndX9WZEqWfrze3+eDvMjv8UvDFFZhfNETh4U3jVXKQS51TMu455cG+U1Jy7MQtkAn8iBa1DGxAqI1d0sd66OJ5HDkOhjR2bGg/ug3KCWU5Ge2UAHJv1i9PTtVxlXMNskJlEFNKh+lc+nFd3nh25G0W85O0qrg67YnRcT/rLrqKjcOvRE3/M+3/mv3ODE9HclsJtGvcHhc3ODh4/+pft6e3TRfz87xy88eFJU754O3U3F62WfGqpdP/639qyLig7gooSaW7ycxBUB3cuirhUIl5Jl6qqPR6H9eqMH51+6ee2/+5qE30h5kiEXFmdj3c/ouMJp/XW6gP76I20uXTPvvvk7r89v7wx3Wwvn7pmuTWvK8dNM1nHYpk2xzb1Uwr1+cg1VnJrZTLzYDOf28zVvIp3IlJli4S1H19Wfvfg5tNrOJssziad+4lv9eegNe+GSVMkai7HdDLq+3Gno+SQCAwg8EoBcy3w2i9oMZ0HTbJcJPNhMnt83kMdnx6sqyRUsJgjqcF1+tXHa3vl4jxUboq96bJoiktau7CzmsY7p89f/P78xePVweX7P/G1ha22Ww3IMEZKoXz20vI1fFieB/u1B3d/sPiF2u6cfDuIdNN5vXGpzqrl2d50cvq5gyQhQgTOsS2ZGSAKtnSzbXm4eTHiZty71atNv5K0177w+W8sa47vbO39G//lwhfwRAqmdPNBiWfulJ4fntSri8348uzjnd1n3zj70s/t/yEOW0mdL3nsRs9m3vpDmy3aNIrkZmuMJ21JXRkXk02JEEuqHNhylQuqkpR8EMlFtwnFyl78zM7kVs3OZmOpbh5Vcq3Uy+PL+dmqiE3C6IWbF1J1oXaS03oV7c5dIaZLvPDXXv36Kj1cPX5qGxu7924ejOsXf/HnXnG+X+23oWAiGLGzSbFu4hefXqy3L9+fO5yxTGJ5kp4U/vD0gM6a9rFd6+rVfLe4mKWTv9DKqE+BC3beex8K7Q5u3Zwt1il1G/ONi8/9ymw3uR18Zz3bTJsf/tCWvaNyp7DH8cNfuNQlCZhMyVVl4ZnMFs1kg6bLMF+erGbHBd9d6AjL8eXy/sMv7YxL3/7Wx7f+QoN2qPeJ3ZN+Y3MetrcaM92hau9I9+5Xx0Vx8Kybhqnq5ng0dis937gcn5+1MjncCSKg5vQylOjLJHVYzpXYYi+SOJeGaajnEueirqHl07h1SLO0QfAW/M4MHyxW7ZNnTX/67PTog4ummLr6YHvtVFQ0Tw6pGUpqqi7EH/+Vx883zh+enXh++P6C2mq6uyXrvZ/75abuukmfcs7A7FIsqvKzi7Ni82hpkfbb9Nb6uFtPeyZaSLzUUWlPcP3STyLJyefuwpvnTjR3dQDpS8Xme2dN+rGfPC/in7t5cKs9+uyPx93ysqKkL+x+2c2Vu/YFCoufeIEZIGZTy9mASnK6zy91u4bmYDn6xQ1+2s+PZ7TxuV/+md3ti9Wk5/jw0a/8j2IUVRFJUW6E2XjW+4UtA+kW/EHaWj2qXrx4/xuPY4kasr81Lvuj0dOwMa3K8OS8FYSqdqcn642+9Z0v+pYLE7AZUeKrMq93jqAiAzKmpPX1m5Xwch1j8C1P/PNm7rqKkJq+2r+7uTnbnXb162U7Sm3vciAKYpPOnlanP/PKH8gLqTFdna2cHj08OZvT9m7Rzg//d/PNuOYoGRTRKFaGl92iuOn6F3Zo/Mq1enoyrnaujUI/WXahX0D42var/eN6dNJefvILoQklUpS8Isobm3L+SEd3j353slNv3ZIPPlz9s/c2X/Yb/tnzcLBbb/iz+cYIG333wRcW6F3uJhBJSQ0AHx5vx04Xy53+he2+/tJnJrPpady37TthMXWz8fTw/Bvnf3XL65D/keh42RdVZ8UkjGYzjjb7dte+8Vrzm56TSntBPnVNMzv6aNZPfL9dq4RRSGXYks2OVbxLkYNPcM4Hh6vuZ8thhQoxE1SN17dfdLK9qlvtUchGWi8n8fJiEmj3S5+rGtmcNF3oF/yZ1lGh7FRFQUAqtJid/Eu/9H6fnpfL5fbBKDbm08XDs/myPKied91/wL2oG9pTtK3Lpv3So8WWP5Iyle6Dk42DtJTmPvVw28W1yR4XbVnFjWVxqConr233JKjAjvNY0M2TnaOD0fTDJzdPnm6Ho4/Prv/c9uKzX7m9e/vW0zhpTor926+8vtVROX385h1zuRJPRkzEzDTaHG3Da/nKTdKR9e6lTZ7Mbh8cPF58Mt+jszujVbf+x6OfJRATe8900XZIrh4lSrHqaDcVm/OdcuOl2nGLWUXJKvDGnRf2PrngWrAzYpDFdrz3Ak+L6bqMMq6atXMOMMrzUqamFiU3AecRK7PVwXbvCyt3Cuoac9N4qX6c0uruvetFuzx7ctIu5lGluVcsXC3JNKWkpoldWI+++EvptdfjEthbpNm0W4Wy167pOxnd+PjD+D/1adyAmZnJgvU02396uHN2EY7bLX3vEXCQikXti3V875PLgzvL9uQZfRTCwo+7tpbXR2kVw6eVTNucjkHU9VjtH77Az67/2Ozo7gffeeheKja/em91vdyaXr829arTy6efXF8WIqJgZjcMZLjlvWJra3R3/M6XX/zB+Rea0cGsT09/74P68pvvj3+c5r6alA8e/FKdss1TWYztztSTrXrx1dkCvDu+PtvDJ/iJNk03g414rBjfvP2ae39Uha11p+jX0deJZ2PjaqUMCtxXzkSiOmaGqpqmJKJ6NVMIqt8o2t3d1TU/DkH6IvZ+Otl88aXJYrITeGO0PltQxeV2vbrdWgKUTNRgyR0D7n/+jaevbn/p3uxeW5ye8J0bpJtbLEXNfqb0/vRXZe2ZSNWAUrriVkN3RqmY+mtTWhVvHz/jc7Onx3OizQ0cPTytd/cuFu75oohd/+TzZfTS5/kYAKO4u6y7UETeo889r3dOPzo5W8f4xw//4LsP3r3/9O1+Rz56b4lnF1p/hr44OjIQVNRMVUVEUr9wi1lXP9r5+vkbVr/46MnN+nTR//Afvn94/o0n63mcbaTinZ2v5uxGkj7djboet6koZxtew2ncuKis12eHL/rpNKSH0Kpfr9bF+OD4qQapqlHtEo0jYfMy9lXvXJ/KykjhnSn80LD4aVuawpmBbG98XlOIfl7bRKVa8A2m4+tOtZ+7Fcr64oxnUf36yb37tnZVBAREZlTG2V87mm88mD3iCoW7M+kueVYt+zo91tn++NX7185fvPvxhiHXOOMEMlnM7KLXbnxwNr955/T5znK2F/XZ9uLVeC7pcOxmrvLj06ow3z1/M+rGqq9SzsZo2s7XdLty987bcTx461oTC7sfbp+NFkGedt7qxXHJF22xvz6h/rP3HpBjVSWwGZiUdqOdHZxOzm9zK0/2qtH5jddOf0L78ovXdr51Wd18tr7YcPPv/twv/Z5nGBv5B+H0e2mv11qpjXFTrT4uN87G641HVLkCz65X40ngVOnt049u1mfjHkreb35081q479xqm6LnhuuoXFLufuE8AhcCG4hYpaPkuzf6g+AvOIxsVGB7q7moN3Xv2ijcTfNy5UaFtE3b+ydpc1q4jrt1UrIU4WSvubP5hMp+1beTqgyYyzQkPwthOvN6+UGYPuvO//y0FREAquPUys4KS4OU47fncfSkqzq/WvSTPdqOkPlsVqcfPC8C+ovZxXE/o329SFGcJKKUqK2vFbPLp+/djzKtJ+OPzjvn9/bmS02T2XJrbbH90me/eBiXl83qsU+3IvavF9EXqUvKqS/rw+n0hSlPrl/XgteTVXe9/o52/vmbd+ib7Z//oX5ph863NtPXtrc5Ndx0JM/8bK/eHI+295qjvZpoPCkOGseb7a35ahR+2113zYbT6Xyb3SYXE6p9cRZ5fnHz+nrB6zpFMIiicICSIy9qajqUf4mgpkSQa/tHvROenE3qzoqujfVjFX7Xa9/Z8cPZHl9/IkfTJbeTtkylkeNhOjIeb/3yu0VXJyNdU1m0uZvdHc5TretYu37jLL3x2rdLZExuEXxdC9btqK6rcXdMPljTB9+u016zXtHt5keH45bGzzfK1TEms3Sx+5yYi5SHd3S0erieujp1k8tZs/xCGsmkk6qaPnfh+9eOd133yVv+1riZu67y8vCuucSudK4UpKSRxqfV9kp23KVN7s8OZFmcH673Pp7uu2bnk09e+7EvNS//+pMwWXz8c9VCSeD5wp0Vd0ZVfV6lA3owkarur8dQnJV//Ctxo/oHn/zs0+evl6laj5qu6C+p7DsnN9t46+F0/MerwqvPM4oCTQ7I6bBLAA/VFAIpE6XPzGU8mzfhwauKCY6aCa2xvfm46I53nh7dlcsbXa9tHSbkeOep70s3tKdb0K9Idzne7GPlGHpeOotRgGkReZSsGo1Gy3P98g+Hug9KtFj4USV2+ZT3Isd6hEJXz+uPH96uqtb3hSXr25Utynq6bE/2Tu++p8Rmef5VSt84SrPR2fFiO/X9quxjKqto2Dh+Yjv7z6Wx164/q6/3a6GuuP76B3OfrGdSNvUJ21unp6PxzhNp4/iwuazc3Xj/ZOd+urhXlpNPuspGt1c2qzHefqasYBTtd155bF2YLrbbKVblbElq1o5s+/HGT55/ovb8ZvPEDs+2Gh3h0lzkQsLpuPOh/oEn6moDOTUrkEfDGeSYiNgxAaaSZzLsnsiFTMb05DuPLp48r7bt5r1JvIzcN0d+UlWb89GNO69WY/hyciCahk5lU23oM9+ZrD+vDqEQnoxcWYbCu7AuQs+bU56Hbn/0wf5hTGIG4ijkYwjYCm4yqv31abxYdijKld/nfu2nsb5ZtT3ubTL3XelWzbPd1PfSW4bUpNoIJH5re3W5tfjk5Mn1rvSTnbrgW5vjN91BVdPe3vFHtDN1k9j58f0DXS6i9b0IYAEyvdyayQXXsf/49s7u6ju//bB9afndRzelPOk//kb9teB+8nP68YOTbtuUFdI6fGvn49Tsek3n6XAkMU6NLprvjA6aN/1bxaV790I3V8fQovT11qgjl6oVzd6uaP1B1SenoiBHFDyz8955oU+LTKYAOcBE6q2zcGzXnOnRN1I1m04uuzHZBZua7I7RFl3Du4putd7aH6uyxmKocdEBF920+PrNonKL1FwyeSGnhVWpQ5D2gtL1zZPDFx9edb8b0+JaS5crm1Rl3HhnvbUl83a2q9uXclZX424nXSw/3urYNyuu5LK53qlnuhrGcSPpiq26tddu318s3pr60XEf3O6I+1fr+0/jxmVbLpN7fnK9JjdqGwoJTAqGsVoSi7R2csG+2bPvnZ7Xr+6cfnv7Tb9+6fbbZ7/w8W+/tPjJEF987dmiqZMRKHXqTp6/eHO8/8H2qbe4e9RVGtu2fuuvvvQ3Vy9dvPr8n97ctLmNjEh78xyLVSwnB0dPr1Uf3WcJRT+0+ajBwDAPy8hkHtkhVoMptugsxHWk+iVpyZ+nV++8u13utbIq2pImW49O8bgf9Rsn5dP+s51SULsaaPavX4yryf0nhSsn7NrjSY3EkrgSrrUXKrV9ull2r/6+c6Rq5BTx6M1zZ2XXFR3FCdsRjWvsH7ObpaKQppbiWvtk82i+tX0SXRqBnAdZHhmnzk2Q1h/Pz7+41+11dtT50cYhWn10ky4LOa3vvt/75iQeLvulj8+++hYIQoCYOINTHp3rzencu/HpHyX6U7dXv3P3V7fnDU1OnryUDk+ffDYVvDj6cHuUhJU4UhHpt/6t+6ONG8dS1OVlBbM2hF/fRPsr6bdHq50nn/nWftmtJ7puarYwaWnKm/zeAVd/sJgWHBlEOvTEKog9dBjMyd3epOoV/lDCYuXURVwrTxa7N4uP9yP3PkWqn9HdSMXRTCEUHGO2MBRNobmvCutp4k3Ez3TNUdjc3XLPnVenahypWGugomhWdRk2aBjwb6jy7c4H1tYI43m3CGXZWNUenfC+Rde6Qtar6i6nve6ZhV4p7nWeXAIlOI7mqkRYLBX9cfqwL6bVzZVd0MHZ3jcm57EZq7vYoPVC6vk4TDltH6x6Rk9siTUkcXAX4920LjSenf7Z3fl++Ye/lB69tf1ef+9H4trxyw//3l/hy7NEHFv4CGeVT+57j0/KJ3eeTZcTW027sIfVg49/+vbn3nlXL5ajh392e73smoIS2BLCeqPU1f3VayP+w+ARtcg9+pRbpph9UgVBlQFVgMwY5na0bLfDRTupH1zSS+6xfxVHdLYNxzjU+VZ3fqNPnR5zCltbLSlZ1eThGqtpa3RZTurne1udzF1xMSklxI7HjiS6Mq12dHPUlknICCAe9alpPNUxxMnu2gc+pfLiQ56wnbW7t8/mKrKpp7xsdjyLl0fljXnyUBrYFena5WKZJrx1+dadk7L8kB9g/xzNx1+YXLp6/ckNdSXtnj/rli+UtendJx+QR28OvY+kXZLuxlMJs3hKh5cvPane99KMP3i63pEH4fCjNz7fbBy+vdA1FtNp5NArNKy8xAd/ulnZ3hmnx7tlO07ue9/+t+rXa8xeOGJPx79gL63Ox1SV3MY28WjtT956OezbW6XFNOtym5GTPPQEr3B5pAJKgSXqeC0lLTjunE7TWgPf6CcnN8PHbfHsM2cdb17YWJ9Wb36t4NiN1+PDL1/OHbrQGCEZkbmXnzyfxWZnd8PP5fmz5iDR2NP5NqpuLV5temJdHI/OXabAkr5Inj7aToFptLecy3lxUToZbbJ2s+VTLYue/MnGWlOPI1+vw+jgt4rVzCUXLCUj/eirJ7OLycX5djlL8cneZbv3pN4bF9euy/OTl44cd7La3t17XOw8cxf7H99oqt4FqJJhbeDR49cehULMj6+df9fi/tbpyB3d+bFp/eR3rz3iVfXa2cefWJoXRdHWC5TonIXF7j/66ns7718/2jy607fb1br7+Jd/akknz7TeeNxK5Ufd3Yc+ie9TRU2xuLj+dPOlcPu3CgvnW6syk+opZBHrKo/7A4bMtaAGBrvUHa0CtsY8ru7LxF9sT9qid3coNquG0T/rRlvXT54dyfrs+HRUiZMuDk2loNWKppsn1N9yx6c6294st2r0mATupNDTxajudmcb/VwDp/WqTVYxa/ejG+v1oipOsbHe2KgSTfnocm1LiuiTmyPpqunndMMojGz3JBVRTESUCPbhdHwUR+VBcA/nlzt+fJgm1QXS48d9sbXsdLvePDx78rFWsb08ebT3eJxSzP8pB492fjyOE66ru8t76etHYXN5We59MZWPV5OH139Am+WH59fffPHzbnf+dleWoQynlsbW/8at01F9bXEnljc269RdW+iGfbKgtmOPWTmdfHL3sqsKlOOipJ3D8+dvnO3JP16P02br1QD23nO1sb1RI/ncxWxmw+S5KXyH5yvu+7jB6/nOW6PnP88vP0VdPVuKS8zl2eL49NJ8Neldy+XJ6Z/M94CMUyNhtdP0RgG+Hr19UwOq7cK3fZjp+sn1y1kRyTbB7FVBrbHZe3/5wcEnc+V2c+eibxJYOyqrONOCUhUxa8NGGyZbnxB4wz+Po45zfxGpuuPJhn6w9f7eF673j0PYW1buabHNNxfp+a7fT/P6onm+x3Rs7WVx9rl/sh4Nw+UCEEnsvrXJ5ebB9VvHdPOdvafvnfi3v/59d3CZNr689Uq5wI3LB+N/9d23Xvvjddn1XNZkCa188+ev328O53242L0YFWGDnr3cPxOW2Szxt1/z4dqDrdVltSmnxQsLd3L2Gf7p8GvvbNHFXnK5m9/IQMwcBjjULCOjBrJkznjRi60WW9a/3I/qz94/+f56d3S5aChQ++QjmhafnPqNadOWciN8dx6L0g+FebX0WDe3DoM+13GdhIoyGEN9fHx6cen2JqtLi27piihKPhTBl3VRuqfvjC+Lcnp76+yCWioRbaLSStJIfVvG3RM3rYIsJHWLV95bAcSeCOyYrPnR4ZthlHbqyw9/yDx/9yxOqs2t1FW+rEHV6LIL1K5T9fgkFnfPFg6mKYmqZxNjR8WiwQHtuIPrJ/LGF7+0vng2XbaLjVfm3a0b49HkvQ/5h48O9174IxPb3uh79GSj4unf+bD+fnzT/OZ5bbI6vRm2nq7L9bxr1i/pb+hoQ8lrXMft7RU9/+7i9s5y9N/M6talkMdjUopJ8tCXH8oBeT4DZhA1kFwuSPTiqN85Peysa5693PuT2oKLr56cbp2lp/Ri6c65LN5Yv117NhgPDUabD940ahrb9OtWK11eqzvHpGlVlZbCRt1sjWGu/K5qb3Deq+uc49/9i6djPk9bdVdfdqlPCDXaOpXJl+zH28F4ZKmdnvf1nf+i8HHIAmCqxff/3NHB/o+mzTh47osbo6ftg427B6txGo2TjUftZFwvEnbscsNe/m9HmYoLmZWWPFFT8fzoWvHu07R3/u4r6fqNnVdd75/Wy++9Mm2qJ8czt/rDn3xl68STH9tKpODFmGefvBG//FH35d+rJsczt3Pwwo1PntAk7cR1sfzsR5cbo/05dKO6KDeWzaPpVzYP3e+dzRY2k1T0ediZEjOc9mAd8OfM8WLKMIHag7BQeyL67qHWz6i9eWYeNbpoaXPmlnrrs/e2DS7t7r/1vA59r35gj7TTjzY+OXU723XJnqhdzp+eN+3yk3e5t8lIaCcUI5mOJo9EiclS1/VtT6P3uno92ZuvA6ZVML81SqPgKw2+U12HdGBpXc08LsMXL94pOUGjGUxErVz8Jhdz/wDoxzyrJpew+m5ZXYZmCRfSiawW9Xh88sBv+Ttnn3RCRMRMlIydc0xH63nzkNt56/EV+eb6xvLxoz9eLDyu2z/43sbxd9z48eOHb3/mN98NlJ4fg7nTasyrk7/ffnL+3Qc/O3l4Gbs2PdmNKBF26s2bY3/3W093dCyNbczYqh9ebG2OZsd/c9YEWjlHbpircJAkYO8Trka4DMxQViip+/hzkpD25osP7eD1j2bXzp1NE4ir8uKinmA3Ga0Dp5sffs31LhbGafDCs9H2no5jf+gLtzIJuy1PDXHdXpR3NgVO51bEg8Wp+uBUkhYUYM3qt/78Bzy77LTAqjPnDKsYEhXhlAI/PRHt08jWK965/U+7oJQHM2BGfDL72s98kg4ne3LaVD5YnC7XG8vAUtazjy9D+UQ2sEjP/XLD7f7GqB83AzUWO1Kw6d5pd2v77Hxz/NGyPfjC0fKt0QGuP2oW7Vc+fOcrn6Tu7KBpr7/4n/VCrueyi3XvGql35v/Fv2M3nl18nu+fT0ej7qlu8DqmpXs26sK798oN5ln7ZHvz/CN+U4v95f8zOqptVXu7Yu1gTULe8/8fVYERu8x665I7TbOLNa1Wh7MLtdvHc0nt+HLiuOJYTaaPNvnZuK+oevG3Htw4HXHdpWG4GPrxH+21I/0sUleUwgWSa/z2bjEreigB/Tq+9mj6zgOyGM2IV+zh48a3/tL+qt2ZzsdTLorUtkGw0Y23y+dWzE4LV2NUPnrUv763/u26o1IYA48RzRr+2//2GfFmEy5vNvzo8KIrOW1+cA/LUUNW3D5351LteI2Hl49a6t3AemGkCgc8j+EHP13Y8hRxb4xEC/2E4/jE/1xztr/+if/uqX8wmt795+/X1Hkhtpr6cUd8xt3f/8tpfLHe2X2rLf0Lxy+2ruyLkt/r6Ub77NVRVWFJfP+4+vKMb+A/eJTGxeW4arxLnAUChHworRNmjcoMdNEYKYqpRkEK3759a/+gkc6Ni9FHHz96sqL1wiGM121Y9Pu18ytbzb76zrfH5wWHpThL0chSAv/aDx/+UdP2bXd6er68VlY21+WSQy3zminWVdHcGn8rgpnYe7f541I0hcT/dLeqZ7y9OjooY1mNZOkXvW/Lccnt2JHb2D9udu4U+/85awiGFKXriWOvVqazf6Kuj+3Oawt5jvv+opu4Py6bp+57PFt2ZyveGYUN2gl/6n+4qIKRiKWm6VWMIMKTsjn99lNaWu+b+6NTvdaO1s/ePdGHT+5+eDa7dr3S+Jniv6pWrbXMaVRPN3shK2z8/q+tHo0fnZy9dnB3r/n1P7pd1FsnTXPwxTtPTvoPm639VIVnx37T4fbyX380I0Ep0ZM5M2aNCQ6iRpU3TzE5JJ/RxYEYl+jBx9fOXEC7Xt57p/xKXy7T6fTsBd09KVGwimMbbW4tfv2shC+UMleJGuGykn/eXz/4MDnE3RuXS/QTlWa/W949bFfLvX7Zvrja/s57Awef6fz03/1PSuunj/+Tf//DXbfa70+pPpEDu3MsRdo6W2ylzuqJb/W8Qfq5//vSlJicByVVJUIfqtX3Vl9948nmE9oqq/KoufPsvdHy2nntF93oxplu7DbcLw+Wb/zd48lyFEXJEVuuQiU1jdw9+ZGrels0Nzc2H5+fO/Pql+n0x5a/lX76j5/f/Mpn/qPn9YgIZmFj47xMpJKS2/n68788/uEbix+8Mj2UX/79Wm+cJb+8sVpu/9V/7qcW1+OmuW2fvPjiO//71IRacyulKVmmpuqNlB15eOqVSYNlLp3MfwGa/7P/89PVhr/fbz4NenrjD67HfSmez2wdIjpbh9lzmuz8N0cpkOXqLGdK1q1+uXH6Rj1xcXStvDh7UuGD+JmmnSRLQVx5ttXjsPy9TL0Ig+mT//D1J/WidO/+H/+aTN1FO/J8c7Fsg9uqFqOPb124wqoRNU/Lwn7yP/7RagMDVRdrNCKzztXNwxsv2icXLxXb944vQ387rF5tHsz55iiR9htPkm3feXvr7T8atRrNUeZ2YR5oGZTS89Rf2+p95T5+vliRNSvbs3g32tY76/6NL7/0P/ymCS5dcKbzvktqZsTU3L3423/p+uKtO+UfbNL7d3/0+cfT7dVLxYUWB5+fVovyrPduY3vS/1++/vxO39mIHcGA5EjJQwpxzoyF/n1vUWDpU176gdrTmi/+Gz86K+bHk3vP6eYfv/JRb1PsdS8fTVba+n46Gt//wn/7TpxEeG9iLrPVMfdFe/nZ/8M/sIl+5trHzn7v+Of3eZwqPFp11/1qfNT3s1e+9V/XsfQOBlN/MQtyNBsdsat+6hfag+eT86Z/3tXnU6227/6LzUr7yIW0lxubt//JbxfOIw94METAkHploVvNrv9p/7Ss3Hy5dbHD1fY8Pj9wS96yk2dbmg7kbP9HvzbePEfZVULeukScJz6hHemSNscvfv6Fbz54aWRn/YWNw+6Dm59Zprc3D3e39OQ/RN2Vc4S61D56mImaqVt1den+4qsf3z7x22kCXpddSNHKouUPpkFkt5zeOf7a35Hl9GzLqswbxhQDRS4pVZ0PPfvea8eee/U9Mq3e1eQE19+8+eZlU7/w6AcHrr1xeft8+cPbi2vclkah9CM0r/2j+2c3eoIJMXFuTTQo2tGz//rnf0vvPFtduzw6uHjJL0I4jjbfmc6bVanFZ46/WTa7LcGMAI1Y8q3F6UazXHz95N+52D+iw7m51U48W/HxZJWoqKldtweb8ve+U5tGZpdFNTwb1I7ZgUby7B/++N35cb2uLmQ+13GazLtqXZ883e4x30ky+7VPajefNKNVFHYcmADV3PBvVNt60T55vbq2SjM1X+Ly4OZDevWdN083lxe/86T3yaxKA+dIFgWhbmpemva//NmvTh7dte2Hdx8u93rIiTJthoPRWRrfOjz97//x/Y4i7/Rp0gmB2DtxpFCS1MMTsad/N1KFRkNHxJxbS2AwLHfP6eVfeHLzhOl8fJJu+Lsnkx+lpy/phmMNCGH+ve8SExyIMrNkZooGc5L0+T/bvPXG4Xj1nTSSqX/o77h5c3v0uOs3w6z/p2+ZTeCGMdHq/EDObhxd7J+N1v2tv/QFzFd9GK3mTb3+eOvmmS+KeH6uxa787tvTsKh9HmzJlWsxcIE2knTN7CfvLMbny3BwrLzewpkvjmcblzfPrt0bL3/3nysO5zTu0YVEhUsCAdRA1JH0RrD14QFGn/n8zm8ere9uP5nG9HIXb5Xfdl/7ftqINIogxyrshMlSUnDfbV8cz3wzObz7E6W9Nl/O7x03u49oNArLdmf92f7tf/SDVVPCFV0/HrUFAHLet56EPUnZuwJg0L8f1VHSHH9mFRWoAYn7bjr56sFyftibFT62ZwfdMtitaty2Wkp89A+3zM+r3FgKcwMFV1+3O3NZvvDTL7x9987x69/5xsdp8+e03F+ipJPK3Gj9+++IbazNZf74Mc11tSGLEbvjET/a+5lfvNa3FzFcLEf+eLx5zqzrFlX9w9/yhbfSYaDXIQWJhPKCDM5JN1qs3viZnQd0GsN8unFaXZx4aNh/bf+TH7z7sdteb7QcBG3po3lKCYmZYISWJZogtC1uzPZf2E/rOderO3tzreiDT96/7BPJROrO+eBSZ9wSm4qaT13sq/Fl0ZUJn+d/eW9+B8cbZ5Oz8X6x/87H7/3B0xVGrg3t1tqXfjGlvFCcKNNBBNUQkhT0v5WYiDU5VRukGzIlEafi0rvPvuaWWysJBT/uvyj9iwui8fFFM+3/2Ye35sQ06piIYeIGykP4BOlCoz/5E7PPPPrN49lW+aN/LTWTlk5tPhmnp7//YBInfRCGGLHNjkZdaeuagq4XcdylnR//M9tzZ5e2JsdHE1Zx7uyPv3txeMpjyiJaYM7ciDqenfZCluDm07mkN37+oIyfLPuWz5bleHL9C+t/+C8WG0lHTZCxymQ96hEtOBESdlARU5jnpg9N2fj56KAu727aVh8vmseX63kz7Uhlp/U6SkrBQa0hM0li41XirdXxxM1HKwnT45vXbtzeuzvePP7oR+/ev4DzZ5NixUVpfbBJV7CyGziX2EONI0sxijKi/7UZUq8k5jmBJAwwb4ImkGp9595kveZ6d7YIxLdwfhpbfvb4Q+ZczFdHKVJZdkbMECWSHi61fj17abrc+2JsdTR2SRymdLY4/uh9U7hgqfZdaKsOaq6grks1TJKocZTiKy+/fmOR2uREfLl6+t4PH6fKvKGAeR54XlpPsa9v3fqDqAFRiNrOYMyvfO7VW2IPT7bq3edf/9aDKQuCiSs1d6X7jp1jS5E8S4xZ0MNUpEgKTUrCzgUXmzz66Z0qe0/k1LEZVCglI6iKS8lbr94hiakkVqF6XJ4K2JI659W8qStMjZx3heWJRRLyrMZE5gqxkv49UUDEnDASXfG6qlamySBCPWb7my7tTlfUraZtQnn0/KgA2BFAKNXIkao3gCxHJi5YR/1KqtntFw4kdYt5JCeb08snz449EwcPMWesQU2MHMS4QaYgeL5rtgjljXuFd3px2j9a967yUOcNgdSTkSMDiZKDwnWiBDVKMRFUIUUj/bb3/YJRVyuQkDfhYlCVcpE0sWfriUyUWCUqmGmViaGNWIUcZVkCcuyUPIOYsw/WqHlCUDmZSz0lx5ZZLzQObLWejVznDQHqvQHsPDMGJmelTJdO5oJa4aGJnYOxZVp4Hbqz1oCCzZrgLp/zZPreJBapKRpbWfIuRHZu4JMwx6TiccXIYzBVO52OO6x/+HY0MNQQOgSLFJSdYwInDdFFbwyCKDsbOOQO3LKY+MVH77PCi5VVVTjWpFfkdrmBCUSOSWIyT5yUCVkBCMYovfA6VmO+PBsRe87jUq3zjlWiFYHMIQ0nbegLd0QeYqxJXZalsk/ZX3K4ltvGYxzGyzKPuMFlGngTVVEOzloM/FNmsMyhQcxAckRmzMQENeYr5j6f+/oZyRyTYeANynNYxMb1unWbtDoZLXtvMfS+9yH4POlAyKI9HTi3KxOzkkFM0p6teqdwVTIXOIluSOcqIs0E8haoiBRZjAlElrypMsQ64cu6m3DvFGxUnYeSotbjeeYJghvEOxhQdd613gREFqBq5JG6ntlTPR+VdV0iDbqMqmbqQBw5kLKZUwWZiZlzZFEjUzJvCeRKAXPKcyuUlb/YIbjcxZwpLlgV7IhC5gwW8UwJmsWFLPMAZQpVBsNMrqggBkUkziIHZj4ZLCpxLothoIOHC1kwyNbFSDqtN1p4gnel1qVroxiyvhHZoM6kn07+EoOI18C0io1pIGnFQKVXsqQVmam7UgOwrHXhTQEwmdOeR2RJTAiEJLKpqkzWOmdwYE9EJABYhEvqO2Z4MJSYM7dhKJl71R0T5wzqKDfb1JKSC4UT7XoLnKloVSSz0cgwPGkgBXvA8iwNQS3PlxesXSRftlcXQJUZWc+AiakpyyL1MY5pmE7H1XozERTDaDqIB7b0PJtkPnNaAbBEkTzluhZRgirYMIu9etJGjRhMnvplKSMk5kz6GNRcQOzDoIGXSx2gwH0P57VjpsJDqDMPmozOyMAw652ZeHJBkxir5AhYxLdH07TbrGqK5jnUjZhzbOlTtrTBFKlzmoiCwtjBKMERkaQAdNQHboKF2E2mTe62MYEHtINGAhJsoO0xKAAwwVFIRMEnMQaIDOyYKAGkYBedqZkY69WkvwCGlDneOHNpe1cO4n6Ze4LIuTxwMdCCDmaNaFD6ImSPnKuS+UTSp7wRxJ4tJuVAMTllpCRuVKu7bJ13+QMyQ8QgyGmDlqeJITCIVWxDo0L7ZqcPZadpTiDyTgWUWIJCyamqJp9NqfjChbXnETGT67vknGMo+V6vSANhqmTwru8QijYpYHBxYEKKKKlouS/RlpMy9EDWHOhCYE3RCmVPKatW5AmPPFSelFSUyKkxgRxppkXjoeDdOeYA6QLBEUS9psSEFEwAE9mCxMF7ixmE2cDA1Vw4nGW1DyKAHPRq1tmTKjMnBZwjNSF8SmUkbGwoKPVCQcyBCytX0Mm4jimrfjiO3kmDULcgMDvXASA2cn10rnejdVWlzqranI/tuF4EJufJrPC9T5SwKgMDYAOxg1eNo77uxy1LYnLBsyTnyOIwSOgyx49xMOGRdctaErORc6qRPLEorWFkqfSiySOXbogqsigofLHuhcwXa4OYAkSZ+MYjk7P2SkwCcxCzQY1GlTRoD+9pOO4ilfYCJjHNO9XBzDmIgAACe0dXvHtKBLAORFAAEZnywEtD/0sYkaYYxBypETGpZM7JTNhhnyoOXHGqmBmxOCbHkoKDGFMezlawgFSIXYImF7TLfLqiTqhAMufUnGdVJxSsF5YsWQhneerOWWYjEDVymasZMLVAMArZkdGnc52ijUOWHxvUGJmWNa1r9aoKYm5rE5dS1ROMA5kE9MkV/pKy/GYmhyS0PmkgIee0s4JEC1MClzGZ8zB0yh7J2PUSvES9vLaU2eMxw0TgTDQzm1nv/UB46dTIJBA5zs6Eg2MoM6mBg3JghfPqWI3DFTvfFWccDaJYnzLlDSjdIB/FubuCaDCXZiNThTPtnXeslixzUvrBp7Bn0yGyIhhIDRFwBEdqUOtzTT+zLBpwdYDEDEweyBx7w6El0jxTqCXU2CQFzntg5s28WjaLpipMogxkYq8UzKIaoh++PVcyzNhzMhWOziKYJb+siYiRwFCKkTHYQCaittMCiwBO2eKLy1abvHMgIkqOAZAT5z1DzRNl9Zes9TqU0AkeHqIO5jKn9JVewOAKhuwZBL66CMjCmDqIPCkRmIAITexhpsqAaSxCYSoaNE/lMovAMwZ2V1I2gRtaJNWUc9hsnGcF4TI3GYLoVVScAzzQlUirZfhJjFmH/AxgrRKqSPlEmlaJHHuLKfceu0SmnN930O7NWjEugFTYOWcMT9QbAabpinshkAwyulkZzxZl2Uz6mEUAAc5JEGVNJSJVhYHpSuZp4O0BA+Y4kywpYL4MCpDpINMEL2L5U7I/zdmWUdaJudIL+NRXk8ARCLQOECWozzJaKBFFqKgjQGCm6Mgo8zVZHlO0HkSig1KuVwXIkQzkT3mKi4yHfx80hPRPFD/MTEQHDjoIMwAi1lJQJhrkGgxauI69aRIj713KmwkCwCQ2hMLamyVSUVIoBEOapnIl0ysDq6hRni5LY2VXpN4TKUAsyKlX9q4gUoExOc5SOZyPFbHPPt9yOgB4pwkhaMq9QdlNE/KcDFQzqSCDZOAyS5lgi1yGoLOGqoKI2TRBXK6qkYA8x96I2AwK5SyOnm+eZX5uS5GMjZwhihoRuzj4m0GBmzrk2knKY+DqLR+LrFyv6phTgimRmipYNbNnKucwo6dgrdUcSMTUyNNAZWRgh6zepJZVVBwTIpENKlvmKPMCmxEnEPHAFWYgKg4fdtYzUybf5JTrWXnSkciKvJ657sqGrOQymBQalBeI4TsRcgSXCVaNspwsccxSTVeGG9HARESarwQJMoVrMCIVY6dgKFjYmRqxSxRAAh7IhxhwENGQWXmVhAhJxA18pHkRP53ZpIE5jT49ooMmoAznX4kJxKRZR4szHGCq2gg1AgdTMqCOHWqgD857IeRrJ45t4GnMPKbE7EkcEfyg9QjJS+pyFxcbEwwqyqZG0B4ay87JsAF51ZWgg8paKcrMhMRuUEMFEecaxIBxGDmCt6TeOhk0ZwdWVGDY+0E5ZtCKMwMcYAQmuaL5yCkElV3vGeoSg8gVxebpRcNUjec2EOCbZTeskkl3hZnMHJkZhMyzUzNTzrxmg+AkDXl8lkFhA0k+Qlcj/hAxJSZDDoOMuPPofNaPg6HShkbcqDoGAUhqDDJzSlkMNBfBrROJDsZeRVRBRerIOzKGEQYuact1IBCp9I8FZKrKV0muwQaR6KxpYyEMFG5DIkacpRSynhflbMNXpN66K1nd/A9ZGjXT1njLui6cyVAsADBYJtpiIlEiEPvNCyGnCoYqfD1etVb6vulxpT+QQKQc6IqsSTN5fMzOXRnkYVcjvJR1V/N9IGZnEbmlMLu43OKtquo0CbPGMrd2m0PnEb1cKZGej6vYRhv3qpJANO0iQUQKhqqpieVpIWMoiItWFeQdqyTSLP9n+QhaMlLxWbxJtk/r2KkrZJBmuxI7CpRn31NCYFOpYWJ5Ao8dm4GZTIg8sTGT+QTtyTtRmBAHilA1gnoFQY2vGG87dkTMFFIhAilU4SCJybGJQZ+BNaEsGjI2XffqyqjMybksqTsmYTPVRN4sAc5REjAKJYnq1SeBKXljTUoEpxaD70r167JvN1wZeyVlsgRH5kLroGAHGDmNVHSe1YjQKacw6vuKc9YUY5z0oU3ceQuutRUh+To2Rs5M1WRAJBjekqETMccaWZNzKqZdVslUoa7SjXXXMUMNxaJIrJyAhMx4pWbEhM7DkhE7NYvm6kyJaSZaCEoNUeGywyQmuMKr5nQ8Z2k5zKArRHQQPQEo66ewmamkhERZbY5dygftSiaVHGBqMZkmZYJLnJlWl4kL4uEzhx6WADNSqJlKo8Qm0oMg5jAYPzOBh6uAmCwU6NppUlIVFVAes9LBySQ2VZBL0ULwoeGMiCl0nUhtTJzAhQNSSpZiA4P3hE6TGpjKuBbnYxu8sy4WRR/Ie6cZcQRgvLcIZwX57KR50L9FVgMZ6qRmKDJGdpVVacqcIGCDaRLQ4Hsg5hxEvWUcHTZo/Joxg4x0UDIYmLvhVI1ZtRdWsHNqJpxZd0CUwVAzIWcAadIrbjIFGSgLQptC7ErTyuAYKpIAMJESsRFBXIadhzjeICFRKRoIUZmqbHoQHYPzjHPOQJ0aI4nrKTjWNvlh9NMj9N6CLlMQUqWGVZwr3BXdo4Apw/aBTKhE6gFnLWUBs+wbydRr0wXpuzIHaRl4AhmrESAaBv5UN6xIJi4XVs68Lt5ygpZ1Z2GVwQUP9V55SGzy4cx7e8XqCRsYJilHHkZJ1chlSUaDGJsxD2q/DFg0EJllRQ7Nmu2m0FFMyZRzXp19mZqJestXz5mJwUFBpJrVamBmLCxUtiD2/YrH40V2KTTwPpq7Sg8zyIpaU2/kK8kqxyTm+8rQkytEoRJIJGU/bKJqOccm6jNJHrwk9s6SN0VuZc7LUGMZ0rQtchxtkIznw8GMTFPIUI2lKzQ075Lk0u1V3cfcVRCRAEABzzTEXUPXrrvSMrHhWgwT8EqsakQOpNCEIZlLARmMwICNZsZKUKbEHmB/AJ1k7ewshyrIssHkvJlBKQ3vZZrZd42Hrm2GCptRUxWORfuM/ma8Ph81AdRIhZzB7LyoKqS+dzlFMajCC2RiRa8SzQ9ZyJB8GqmKsXe+a8Cu74MvJEXnY/b1V6M/WAdm6RPnwoHq1Zvl9v68xAbLpj3XF/IByWyeufylWYGRmE2YTZTZA1nN6FPclK4yzXwlrhTyNKsa5sImMwnzIKCXqXezyi0NQua4ukYkTEYE6okZsNzFbjBhMgP7KAQw+ejYzAY9VGaDqTKbwiKRBKj0rjTpPEQBS0FBEMtgO4EEJsQOG6ldmi+rZlAyAGlBXnxS65Iz7gByzn2K4ax9cEk6kqQQs4ItJiOJRi74LEac0ZJV2U4bLIpsDmxYKItm9Km+IDCkF2phIF8agH0icJapAxmIjNllE6mWiSs/lcJQ6FCtGjzwcBUAuKy9bMSDOqTPh33YoqH5NBtB4T/RWcvx+SA1aAojJlEihqWojlQdOzeUjciymrRocmZq6AN3wULsyDtihemggsIqypx5rKFkQsTakXPQdl1yNgktrFizsCk4BC3JzCz1KDLSIBZ8Fj6oRq5rEFzfUllor6IRDlkkGUDVwtcc+0FMlxVAXjqz4WsDEbFd+QeYcZaHh5l5ZiNm1iHgTyACJfK5EsNIQ8XGBjUv+xPJAAAAqxKTiFcTcI+CTIj5apOZKV+cOFCJEaCqZJ4MJlCSQUvbFNmJKxOSFMwqxtGJRHMMNYvKjMpU1JmSkxIdawRZTM51pOaZqBCQReM2KZOm3HXCFp2CiOnTxNJxKtfEowbk1KJGI+fMmRDAzrh0aBopq8NiMpKLy1bH0ltZ8mnbRAsOkiViben7+qiMk0bVrsBMEVUPUzUi1kEoCgYwYRCm4Ku+cQgrD2bNzCyoMbOpT5rxsNBZ4ZJ5n4QYqsYa4SH2aS2QIKYkkIC+7XYjezLlNuuFRYFnU7CDWRL2g0yd9XkeGVqg18BatB2NirRyAxymhfUCcj4pMys0JQoBFsE+RjIh6uMo6VhEBeyZg6YG3GvoLURQoQne+sL1DonVmRiYyDu2pMQi3HtF47UFdVT7BG+9OCOoWnAiRzXX27v1fGffnW5/cODWk+Jo8qhczt4rLzdWo/kkOQE5BPFR1iTm0JtTpry6PISHgxxLygiJKZEC0tcWXaFWtC45Ukei/GmwqQJ4kMvS6UQmBvSqpASSwBAM0pKDSQI5SipwflQBWRSPkTv2WVVVsvq4u5IFM1VHpCBD0xceGmnuCoZQGa8MXkNcGFzLnjXF5MDQmK8vsoSOE5Bf55i3dUxgI0rGChNhTdEc1zqYzx4ZvVv7wIBq1fZUU98nx54h1hM6M+uZ2MNUmlU92r7R3sOLYb21Ue5UVUiXqK5Xh2/+vY/OF2Wq+0lTpFFjBlWxqgCrxchKyHI4qpbjNhscRm4szKiCz5qcIp4G43Ulu0XZSfkMNIMsY2i5pgGiK32qqwHgYXIDDmrKPGjffOoBsvEAKIutDcUOwHpHBjIZqa+sBROzJc1PQUYkERWn3IwnAm+DgOMVv7Mm8dprkQJpbuHK4MYQdWkyCpLASaNa76IDMwEKTUyAifMumYXERFDpNZjAc/TMJLHp6WD7zl652DviMq3PyxeWRR0bp7g7T2/+e//Xtwmuba2H0LAKPZPAWXID7Km5fHWlzWOc4XsNKp4BlkGSObexZegsXwFiIjUvTDABm6OknNtS1AhQFZDKlXY8gXPwpbnaEAZ/D8p5YFKABvlz5BkIEMGBaYhpo5iY1akTX5hkFRJVIyQSy80flPV+Fczu6hPMoFG9p9hy7bTLKBYIppxRJGYVCsSOzHHK8I0FTWBmSs6jT75gSIKAHMHDgT0jtq3QvWtfclT/sLz5vJiu3eLhXjduLyvMbPOtl/7W5me/PdZwubeYrAMAhkMHSeQHlbQco+Ro9SruHJIo35vBjDNA572CacDwr4r9RAbzdiVglz/y6jPIQY0dYlbZBZQGxBecAVAzVhoQQDNN2dvAqRIU5CWL0UTNtYieTDiwJsm6DpLFpdUCoji2SOxYur7MyilOYaYEcmRDNSP1oDBYSyKYRDJB2fQEY5coMYOYVJWJIKowgLx0ZCStOTXnqZSEAEUhIk3nd2d3vxzD/HR3SV4enNX1yB2vjNF7klufvHD40v/j+1w14Oy0AVigIaPPmlcGMxpUwHMikDURkRmImYpgYmDO+UEiz+SIyHjYQU9DU4kJiKEkuKrLELEzN+wIhB3DCN5sIIom5WHPMvcQ0aeIiDJz/jYosm4XPEBskXytEjnjDqCsU8zeoKqkMfkcPOnaOWYM+YpXAbnSSM3DCCbKzFAx7kTZkWpCzxxhqgp2jrrcAgkBmQqzsoNTM28IFo1i6mPYubm3s3any43GVXJhb+5jPP44tHYWVy8/u7zYfnjyl95uQ3XpVpwLnJZl7FVSbiUgYwFTrlIM6G0umESFEjOCT6asSgSYGAo1BgyaQWfyueoOQyLPoo7UwARtgyONV57FwKZQyRpS+U9c5X5qNAAYlPWC1ZRVFKSGik3hSPsehiSpHpCoAkNZUMAeQiFpMqOgMJClFDVvfuuTRocI5+qstJmr/c55n8zQsieQxlLVDZGwKRkROwcQKYiMXRELMoIoe5jC+hh1unttdxwv4zjYZPms2J0dxDPfYqutx18eNUt65dmo3X/zm5YiUp3RDjVVOOTyEDsInJkjubIin8KNSo6gbKKqyoRc2iQClI0MUCYVeOctZ/4GRWAx81kaxFaj0sSgufcUcFDVlLTLQfCwATBTUnPMURWmzJGyvnxM4oiMRC2ByXxvgYVKaxNVxVAkN9UQLfioTih4SQKAzUTUkQjIcSSBEmlywUPJ6dBDmIigluC8duLYRenMGmdjGCBAwZYU3o2WXRj51MOgjsn33noh6aDF3r1rQfqn+9JvzUfV2i3m2+n+S80ZvxDSH29tX17M5v2TP/MBLjZ77/vsTG3UR2iCS0ZmVx1tlru5bCg2m8E4UFI1HcYgsqliZrJMUBONYMTeOzVzlHolioClxnkHVZtV2oM5rNGWZP3mxq3N0U4zWay/c/rRrjplhufe54qRJCImRZAmtMEn80ndouQ0WtXJyEgbH6yDoNR2TKKqBRNUQMm094WjBVtKILKuij7VKYJYVXm0rhOauMGwRGx9pT0VpH6Nzki3j4oVwUvnRYvz0qhzVvRUdZQYPs3S2sxb4wDuyatBYtWJrHm0Hk8O752fVct0NE3vzraf7+6e7D4MN75361H5yY+3OK66EKt08ca+3X4/mGPOsuwwZoZSnYRJzYV5yXE+7TlyGtn5lKN5DbEOZ6N6pSNEZR9MPTyEAyd4ixyQlMx50jX9dVMjlkjDmd7pmmjOsU9RTYxSDNQXf/rPFed9XF34ncKKt3/9mdVaY7kxWoxzZgcIm4I0hcguKcMW1y6iUpKau+SDX6u6UqNV3HTTbnmQwQ2zhJxLq4qpGcrG9SGFxichB9OqD86hc0ycm3g0UmnqenOMdjYPPh7PXN/IzWufqSe+6t7/4ScNg4vFuN1fhXptSuyAoAAoBON10nXi1e0vF6886tfqLfLG7mTnk4k7PpijsfGzy5/ms+OyLue9FXI2OrnzH/MoUo5/xdgh9uKTsSOjZvOE47Xl2rdhv3oVxayffiQ/iOu4u7QRXF8UTMHUI5BwyUIewuHqAkB8RqIp414g9FHh2GLf+1JgGhJdbt76n3y0FnpWvNJenGwuv/RLv/53S7jzzbQUn2eLBwAIIK6SOove63qRZmGt61RPF/OqcN7WEa4/295eV/ViqgpmZIU3AKEzdkmxIkedWKw4KZhR1a30WnHvYArHYtlfF+LMYgt9WG8/9i/tvXCvt25jY72//2U5/uEHz7qCt+/vrdbFEESLK7wK0YJiSwGrFyebq+cXKW35vi03d8L54X3afnzx9kufKW1/sbUw9KuigC6vdXc+9/N/kGAyVKq0AzkqXQLE4M6355NPJrT1wo3Pf3XzeL93pxsnF7/74P7zOjZj2WjJYGAeBK8zgguDMxUCkR/a1gfteKI5uGBLUjnPyQhxsvyzGH27Kp4qFUfS7rUbD55+fu+/OnJb3WR1/ekGhpJcbmhh9pK8Rkvl8+1uXooLbny7tOnFarnotKqaPXcZ0JQwpay/Z2bsfS7MqavNJBYBi6q0Phq6uis5+k4wgKgDOslGPUFwsttdu3kvzEbY2ts4qtJ7Pty494XLo2/+XlzMat9rbuZA7wBLFmdtr3vXLz7+1Q/8Zj9bXaubYjQpooXVzfb84ff/+qsP+82k4fgWaawvLWy3RzvLf/MPyjbH+0ZsYsFLSaSiiuDOqd0o7/3lz+qDm9SvMRlLtBeu/9iHv2f1crp2GB6XyQ1FFQxSjrnmnuGjnFQDQEEwMa6C0x6FmU3+zeu65PtPyqm5o41Vs3e+3j22/9nfORefbj7eGnCi3BtkYCERNtM47ppZhN776RfFjEY8j/3T9959sBOTQsVHBRtEhgYv9EoqyXilANlquYe+t7L2DYsGG7IzslSCQabaIvSFV9uJ27fS9cPnX6LTB5vc/PCzG/MPcGOmf/Gn/+j304mNJDcCYpKSOHL8YDJJT47D/t4Hl6PEirNlNZ4IcesXC/vO/yq+//RFWy2/8aXb69OoDpV200t5ZZIZrqDaB1cYSWxS7nzrPbG123/2x7SbnEpodBRTMX4Buv+Vf/aH+3wyHQD8HLTqIBqqpgAxs9Ffh0nue8oijd6RijnfuYQirfXwr4QirtfvfR5ut/guFbiotz762Ve+/2H1/3baT6aRkBu8JffDJI7iEY3PNs8m56//hRdciwmtdbUsJn0XV1//XlPS1BYVkXfQYSLHIAxNQtw5osV4Y+LbxVLRrTdYvca6WIOcI1PPCheTN6tXRSPF1t0XX9l6f3F5XvryiWy8/PrTcrN5Ii/wYvyjv60yXrngiQh1FHZQo0smv5bX/8oPfFfFUJRzbzeKg/LpGabf+4P/H1N/GqxZlp1lgmutvfeZvvnO16/P7uHhMWZMmRk5kJnK1IBSIISQhMRcqgKqm6pmqG6jKKzMqqzLyrobKKowihoEqCgakBACSYCQkJSZSikHZUZGZMwRHhE+u9/5fvMZ9t5rrf5xbmDt5r/CzTzM/H7fOXuv9b7P82M6vndVyh3aem/94t77G5vvbCy16Xz+7/2qASACZiZkARDkNueZ7q4f967/6MfHg1l5MMFB/QLSdEHdGRTJr/6C5JIgJQhWTgOhBk5XggBKFhV/WkUIOfyHC5dxCAoIaSNmAuf+yvzO+v2vv5jb1QdT6s70au+WhfPV0cfu8N+NgmhPiyUmtlkSYVU1UGe1TK/80FYYIBllm580/c7Up/Bg79tvJa4cKBKdJjzbL6CFIEZjlJiGy08/tmKknB7c3b1VOSNeutLmo0hI0cRokyqr3ZTOPn+pSGcaXr16sozm3CI1oTfpnB+H/hPfXYP/sonWJhYRgJUcBM+FT8TMzA9cOJQ6lZUsHctihdecuaWvOceTweNpr3MI2j37zYc/cO2tiVuyOfxc/E9dm4RlI6Ks5Fja1bc3qT3zp+//+0984uA7rwy2Vj59pqp2psl88cjy4eitf3yYpGQSVCtIRO0Rug1RQutQwp9WVksxhNYUfvqWQIxFGUx19Q+M6sXixsduquse9uLm/SfsB9OL2TTD7Ye98//w26kk7QQCTBQEVrQNqXe4ENj4y+MhW7LzPbtdvzf2W2ds1oPbg+ZLX4ecbTvEwzQGAQRtrHhMpEqh/9TOo9vrxwnPlmBg/3ffOLBpVQCBCCbOG0AT2WUnCbtJ//nHnng/e6mfbNh3i3oFjvIdemT/MGmu7ddP3l3Q/zIPLrEIgFYBJAo2hZum0f1g3pyMfKe/+mA2dKv7mZnoa8NmeFD9CU567jvT9PE35BMrcPfBokjujc6/+BMnHJVQBNRaqcWIIkpUlLQe/IXhLx30Bhe7b5aPUfmpe4+d7BwUuGtzXnn4T26lZBNQq2AsIbZHC0Q0ykyOAP+sxCjQVkQMMpu2G6I2gIb8z0N5o6/dzUGzf+ejnRvnF6Xflnlma+jB8Zlzv/LPU7SSRvKDWXuaVMEQuzOqNf3xJ4+286Nxrz6BxNeP2M3Jg5OmOO9K88r/2UvqgsUgRaJ8Govalkk+ZSqHq489euW8wHvmrLe2jPebnrnxizPb2EAFVNqRRGtI0bPF9BB//LIc3d30ycbM5SeLVaerL8fM9zevkD/oLUP38J8cF8Gm7BqHEtBpKKpo4/jSn/3m6nEv3ZK3uxcfjdi5f2d5b2dBx9Onr/ScreaTp16Dj9qZ4XdMY5p45rH/6ZseIVCKTRRSAQN1lizFlbH75E9d+burs0JGxWDml8tH+qsgK8f5aLdxo9G3/kHDa5NeVreJfkRSIEJRhMg2g2CDCiAgBGk31KcTZQ1JE+gvTR7KF+/Xl17e1+y8LMo3zol/kPiczg+n7xaj+kX6hUygcWmo09P4egKLdL+TTeGxx4snw83zVK5enh43jmyZuE5Jb31q7/7nD3+z7vgsRumLxqVaMNEtK1fZx7afv77Sq+zBzUeZTagh0+Lgyt/+nX9qZmszDdngMFU1iGiTMB0VH+k98y/vPjst08ONm2n5dPbb6eSRxc4ke2ZaH4EMxuXgP/47i76rfTevQRQFzdLaCP1Uk7sZkvlgcDWfNZ5upYvhzXx85lK2/bVrW53NL98Zf2ahFrNuZWw9M9vXvoYG1ICH08gBU1SmJQ6++Jmdo/eMOysR4jk+saEsEgpr5dJLaTefO/qXoRpAaUXAYBvqamPxgNaCnPqEW3UngKJpW3wA3pXwV+D+8Nyt0fiDtLpUNOHGWTu/CHEwp73luytgJtmZTy9/o+lyRKR2HA5axQ4Pedn7ie+/y0fV/vHoELvcKfZudLYO6/c11G+UNv6Fe3eSZbt8N+gdBIRm9SRu73zq0bN1XvP8l58N0paXu7Oz4cEnP/qr/3zam66W+3miYMSrRjh7+8Intt4+46psvbl4cqk5c+t4ePHEdrofOVhm2bKZbm+G6ZlP/2YgTNW7CKgRKJBDXFzYBZPSaD8ZLGar281+8kE5vbIdaz55Z/NrL5y70Xnw2UWvOBpN7ExSAB8//7OiICDeAraV5ITV2vLMpc1k+uZ4c7tWM2qw0zspU8GUBtlEXBzf7j3z1jseUwekbX4HQVUIUIScUQFLp2fQVv+IhKadDOG8f/Hy6zvjuPXOuswfnYgcdCZHK2+uSuU1LeLddZiMxsmP3n09pt7bEMkQMYuNsuhw+Ucfe9j3zfxCekdkMa7Dw3S7Xjl8sjwfq952Z/pn/utoApluYEjARt+17tid23rhRY4cTsw8rnkJIUnAoYk+u7H20x/52duuTAwsmRwh2Sq9ufni9cPN+fYoZoumuPXuo4PCus1ifbEPkWfTLIupdf6H3jyKkMWmx0jKaLp1RCcvzpuRTZKRBXPleH97kSfD1UsLu5JXs0evLOvLPXew8WAu44GOl2KTev9ifx4NKiTxNJwNRgxB9vjHn4Rk9dwHJ8/YbjHWIOPuZg9cHjiiNTrR0ffuVj5xjRMFBRZ3usYSBUIG07ZNFfB0uaYxMrOIkFl+761L2jzYGzT3r/i9G/NDu7rZvWCavcUhmm4e3QBKtT9yvjSG7LL9ISKGbtUt45UXD41ffsUW7w/XcFFPmovnO8XJ2dEV413RTe6MXpxTRMgqJzFEcs7W7swn/tMfNOsNLdb4zReOivnBtGHtzG1SVpl//fn/bh0zmYMhQBWWftl94vosfa/s7c/37n/3leOnlrsr2+vZ2Q9WRk3VLJJopiV3FjtXclM3kvogQMY50SCS7+5jTK1/gpOtdKf33f2YFtcOhwlScnHvvN3vlFN87+YDlQRTA6LlBEwMRL5pazXt5ERjtfLYztG0eGtYVDf2x+8tXTHr7gyHhbrS97oUXJKtP/eE7eGinbu0GvM2x0sI2qpfAKCdnSMiALMoIlKFbiM8ULx3r+yN3O576e6lx4urncNuQpsruRRFYlGJZ48/67gJlKUOOAqaCB2Xhy/qtTjLPn0/vRDs/MBtra+trfvRrPB+a+ey48HDLxaKGJuYFERicq7k7I98b3e5+4r65V5zknCzPzWZn0qxPCGbGXj1zE93lnW+yLKEEBFoiz7befhzk8mymxwNBx9/9kgGN/fns1efqn4XTDNarSZN3sl9ebldVzCisHDwmRHeeSMMsr507m1vDW//5u/pJ8Mjj0Qok+Y4m++9k26WeU5v9LYG/bllQB+xn2Z5bzjs5nl7mgRpnxyXLhyZ9IOXPvtDz12/uF4UXtcudsugtRDlIVDuysXwh0pGTrn95hCLijAzIKkgEQGiMQRt0g1BWx4SgOqP1nvvPoHPP60PB3duPlpvP/j6W2/ka2Scuqi2SnXJsTbVR1ejaMjp9ELVVx3LzuMwng+INt6mmaR5t+tvz+7VM3ts5XB+sJ+WV3ovCAgtbOM5xwi1j9//Ys9q53wl8NLkAnQmjUsIQugkthOi2Hr/E+u9VehVPjKmnY7UP7S4O15dOZMc50Sd1+25NVlbvffYuf1fnzQnaXHI1Ak1XakfE00TaMBYYIl1arXxK88/PxomRfGOXXzptZXH18zFq/30uboe5qGgAiwfNV/+1NUknc5We53UM3VPDmaLk5OymhprjTGEFlFs76m1UX9On7T/Js2Nbo7EX+h6XzVSk68PY1F0k/vx8cJrDkiGVFpIugozkwFFUiIyhkCiCLMIRwSVGHwzPPNZ32zef2GtfLR7eJQOn+ldgsHlcHfXd6lf5CylJhqlrq73pdNrSh9bxXkN06F+Zj8meu9mLtk7I8p65Z6cw8Wu1vF4P2qVznb2b35cmV1I5vsLJ2XT2C9+rK8nD5pFeu9m7paAsdutplQ4ky8nIQncvVf8Z9VM5nmeqG/K2XLvqssmh1dXb2zN7m3SxZvVxqccr3373q/RM24z12Qj05PptIPXCtsuJUCBCOql7ScnT4yzsFxbbH73leTahc7Z/a2+Tfa6dx7YVQeD7swMb13DrL63fG1sNNSUd04gdRyTIjHGEBGRqkbbv5ivm5XJw0sfzWZ+EiI8vBm5h+wq3+2aTJd2TavZhZ6Yqi2c8+kyS5WRAFqXkLACojXtPE2jGGdcPvmJYNea17/06xhMXF/tjW+9NNrEZgib3Xo+fw9TiA2maqW+iHbWpl0U0UA1qGcvGus2Ll2sd85sJ5BzkzTH9WgrSn3i+ieHi7KMlx5dhQiadc50FkJi5PsSpuR+OT7UkO+P9KToaU9KVMAMkgZSCPcfPZ+FQSMIiOLttl2a57MjeGp+dHFtKz5+fny/Wjn3ken9NO85xvRI6oqP4kn+qeXQgRhsjDpWTo0ppw/1wFUeuqvX1y6MdPxo/yvj1yePf+GqJ3dxwwx5cSdPv/ugm/Xm+dLlTVy/WwugiY1UtefQBEV27DfOGiJ8+FzX8KabvnXHbB+M7922cGykrOJS3dxs3qOnPWLivY/aVnk8GwwdYLLsxRpkBGrdMe2jR0AZqHNOD6VTOIvlLoXuvdjdCUmZHY/ene0M35WNxBgVBqRm5Cm1HtuDLOe1SXdi2pkvKfMH4oq8wb4Hxplgk68YN9gKi6LuxI2xMPvIGS2wP3u86C8DXl/MD/OLe4PxwNbUeDYMhpGiGlCp9aO/lJlEYgQ0Jp7pTkO6tXjgPePXD3rvPuHqfrPx5uSpZ/Ky9NtucIxSrYsxB92x9BoDljUSxEbi6PqCjG4P5qbAneQoXZZw/oPXf2w3zy/f7p8xkOJBZxQrihJPrhaaDDB0T+PilAIAqQi4UKDqfIDlmz9No+k+NiZJOzz65uVsnsRC5yuyV2zeOru5OK9JFHuaCnSibT/0NGB6ej9rA1WIdArCAvTFcmFVaOPmy3Dl0tZCe/lo6us07w+oOskFFElYhXyPRFVjDCHGEGZl7a9EMyunE+2lZrQoJu8fma31bLVrzeTdt996Z3efR3aij2aJSynLWLO8aX5fx8RacqlodJI/OFNl3nNk5cjsckIKBMvFp9kigOn0UkOj2WN6/jdgLvlo5aIbPLWkYV34B1+bXVs9aJLFnbToF93MTbRz0gXhGAN4rTnk5BnOri8GIkcnzUp3XqPLZidsHnvtW9Omt7ndO16dzO5mZNZHsel2QleCW+s0p0lHABE1zllOfILdrJlPfv5zK0APdufZ1kZhrGynY9tXTGit1wtheZCV19C01WBQUA4RUSlvJziIVk7Toy1zA9ueKyLmFvvZYQx303T9/oTma/3gp2fkeNIZltPhRjbnlhDic59p7TM1AKhkKmvC5QAP7aPuXpnicTbms/2Hh+eqg7XVg9Vzu5Nev+GZjbPNGFAjWm+cmew8mizRNDezOJzrATT5HCkhBqEmZrkGihnw4dVu4GWkzPgI9VWcvvbR64Pb3xwkfuWRh3/g/j6acMOcX/PLUXiw+IFmZQlpaUbLw4WakERKwdYmWDHJfHn51dQ0NEr7s7VlmrnvFClcnMhEq4Vt0n39tuvvDQbNUjoJnaEsriavtiXx09IEEDAi805/5szozJE783LR6w5zFagemTRZ6PklLeHc/YcrB1vFeh4lDaf1jKgoSs61IXRCYkVjED58AqFwa9ToU5LUklQnyEe0tWHPzBh2Fsy52k66w3WKwo0HiP0TEBAjQCQs2HGkxd60ym+/q/1qUZTpDsoWPqzTk9tNKIcfuSiUxq73fVYBxiW6JtjPptA0yf59m9WLdMWWNqZJQaKMTRC01jlNk0W2o7FXJISu6MNoWb/13DrgY+dsUdXb9848+/R4dpRshriazHEgJgB7yYe/OaOMYtP6mxF8kyvcqwb74WBKk7LOdzZsMIffOB5+T7O7/7XJ7/pQvOFlmLvBcO3cWRgDFNjRl7HtLYoxBqMPTDELspORSb7Y3GhOzp7f6FLUdBAWWb+qbVOG47LYEJMvV33ntI6pAADOChMGwDbBQq1K4zRqLcJttxixbpKwSJMl4nmbjLHrMLjKN2TTojfYsjHhejmvInfopGkIfdvRFcamUfTFlXTYjXTxcro+Pl6Ml1jYZXfLZqPyXpPY6X23kSTWttUdcURPAuMiHg6yTscjbs1SzJxTRlEBXzNQJuDQrxtYNKGp6mpp33OrH582fhWntDrkwyW+/3B54eMbjSSJ9B85u1itC5xZWv017HNjG9UmelBK2MyS3Tef6PZ7/YJwdc5jW51zs7v/7OZnDwafH2zfb+yyuayWRa2R40VmHjwYxrunSUuNoiIChkKGmIKWi9B5m1w3S1DAOHcCqxWtLUzqrcxHO3GlNEeEFD5cfAuAorWopxUYAv3/y/mcxisAVOuY2s5qdy084KSeN/ZokFa3e13ebWJIY6bILUYjf+O+JwBOHdk0cyQAmOxsDop0kNz91tvHvtOz46Zz5FcSHcLu3FW+ydbSGpdBYgg+pZhSsZqyx5lZm5uk/3JWDY7ylCSqAbCJBtAANnpaREOaFJlzFkIzweqt737zhgXNwnH+yEkYDN+6pWnXNtLr837iMnSSLu6b8Ti4XpJgbgqbYNIoH9yM6TQfmWRad26+yn7Z/dzBk79x/IPFl/QRea1MNsl0XZpnCq6fr4Rk8N6slb0jRu8jWGssiMUpOpvgkTm6Us4qJmeaE1i3i6ITjS5zrercEzE3QtperxQgRnJEriVhgFgFgTai2ZbBREElKiWVDUmiZzu7KTVPDm527vUGl/bW14Ot0+IuVn2wznTyxP/uXSpqTCMzOfDeoiyrXv3eY4ugw43Mm5hdulNe6DGDyGCzrGJR0iArOFpEMljm7OOFFa4Xxf6I9rbq2Wz/yvv9wrIwWALnQjCxwXze5PMTQJdoHa2zAeajOD28WfZXBtPOiizu7ezPq3TVVVVeNHH01tyWi7V69Tfmg+O+LVkSzqOpWIvFynw6/84zr3V9yKvOkY7KkjbL5969edRbXS/vdk++/Km705FboslC5JPjfHVkvpPw6Q3VtuoPTsVbGNui8f343K1Z7QKwaH1yAU5GcNipQbvar2IqPTcIjB/2tSHz6gxrcpr5V+LICiCxPQ+RQUdqnLHLBzQ4OCzffevEL929exvwAYwPRjTqMh2XvTW/KwNcyX2Svp3o1BgvaI1EpXIYRou4d2b/wUQ2NrlYctNs926dpFYeuOXU9QduzS5n3b7WeaZaJ8uYuSlKsxoznD4Sbl56Ij/sSRarbpSliGKWAxvH3d6s/4KVRBsokuhR7nW8XvjoeRofH5uHcHh7eW3RrGYWkShLl88soEa22c+li4K8Js7mjDFJoUkin3/LQVU7tmZhJmFz1Kk7L/6FP3e2nsV5797389fAN4cVaNTplTVb8Wr5rjhkMQ4Z0VgIgWNII3/QCflmk+QdxFRLdn5coqZoCiTNoEPFfKBL3D+mJmFRZgGoPYNNLETPZEDAKqCIgmmjW3Dal1GT37iWZEDw+JmD4/NNOCy3eR9MfjyKs/wOmE2BI8TyirzTqCEqKGg7jisWCJSdn9lH8uMbPNA8pRClO4xRDAD7bqhqVM3qebpkkxriZHdQ389G5jDoUZ5gc6bKx/VyeMu4pfa5R95DGmNuU+c+mHUikoCAwYPJpx5eOT67w/bN6XtP3jWPXOn6jrPH/VBls3mvMQ83Lmvv309RGQ2JUSUUhU5gqSbD7JH7PDsfCZo0t0nZCXTnwn2zMjrfm9V+IIOTFZPZuJiXDeWuGNzKI6J4QgdtEpesU8R6bJpuPywbd2W6Vu/tbug7Zy4eqSv9KgM1tamK3R8s3yInAQmUDHsgi6f/1gCqQAIqHKVtOSNKjJFZVP0b3UEn7PWHr6TnTJeH+do0eaTnwnK46k961NQDiwdc9f7dcTTWN4sYmqbxIdqFaR5U6bS7Nh+P+nmC7GO6NkSy+aDIE1vboU6SHcgfOkAT2QsC+pfCEobl+vDrDy756vUiXV1dOB+7ssyIgMElyJx2ljeUWdvkc9X5rbgzeGriRrB6/U9Q5/3y6O5hXNZISWYp7WYnXbl5tPJLHgyAdaQcFVQkhzp28um3/95Ob6dOBqXtQrxQiC5O1tbPjFYy2DIXeUwOQsWKaVL3lC+/vhehDSebD/ugdaiCLvd7G0bM1ubJG0fvfjAuadD/7kHPjfPNqtrA1eK4WD7FybcycIGZFVAZk9QoAONplpk+vF60GVv98JeY/fcxSfiJ6WYHDujquFu4ZPzm4dpgoYuNJEv6GHhwdv133gCbJSAe0NgkzfJGXXw3Tn1+Y7y6c+VKR7kpKw3HDZucENBkc3dl93dnyV0PGZYRKI58fCkzTf/R3beuf+LKmn32a5NmcpKnmFlFDy5J0tQhY/reuFuJsChzcL0HHwxXMB9YrFz93nzdjk8GaVP3a9vT3kZ5ZGQ5euar9wxZZ1t7Kas1uo8Dp3H+5oPqMzEdpWHWdSfZRpC4dqKJX4XhsLneyQ5OxrOSBhtDr/ODi/CvBhAZjEUJ7awYVYxaW+/3E3BN2Ll2fsVRNynX/1D3pdulaY4e9hgf3BF39SrevU1RDAQmipraNCVFatudLaJCgIzG03OqWmuIEKD2X13PF9l+en45f2R4L/Vxoyv9Qa5NuvLEesYp5+nZPP/FZSJNI2AiKxEhhAzNcZfX5r0zBm59dcLkeNGk3ciYKpLNzWDY2To/feeBbyKjMSY2dbi/P7u9fLj9o917vzVrwvNOOmbis2gGNaHJej0nLpGtbxGCaXGaMS67X15/93j95OhBz06vZEUz2e9reVzOF8uQuEaykA3CL6ARNugbUWNErUPU6AXSMP6f/+oNM/PuuOk2t/vDZn7nX7xx69V3mgfzpNfJ6wBWmliMTDpfOfdvX1kcqsSWLt2GFwSMSnPy1tEZBxq6qzJYzzTVSc0rj0wWJr9khg8bw9fXdge/WDcSyQFY8FpYiyqnf4mqnhZ+WjRDCwA8vRKshF+aXjz/+Mu9b8T0TdqMO0lCYA7fGBsZulSl6W8WWfefHHoWFQoSQozR15W1DfDEDpN61Kl6j+1c2FotZHFwGzgAA2pzdGsMx/W5XzixxGC5DnbuoPoNSar45hu9OwaPoKZ62TETP0wlTYFtp6AQIdrXXNmh1qAHzOU3D7ok/Y7D9RUTMeuZYX9QHPmTQ8I4WmsGWe8fvxeRGQgBVUViYF3TJXZsYg6Wf3FtNXY3tw+m+Qy3y18+GG1c/YPdtx/6lQMKCUcCv4xFWnf4L/y1fX85MSCKxrWNH2hpAc2Nm7fqYhCOaH201styKBeX33kjsuelO8ljdn5e9n/3Zc8iDCAcfAQSVuVTLhtAy2xkVtIWjoDMLMzMM5d9s7Sjj6n9dml/7TudSiNaXH3C+vv1ycNqo5fGgu7+QmPF5WkGxlprjDFkPYv8trWdwcGD1Dbze/ePYzZaG5lQNo3GphvW3Htm49d/D01iWGMtagHk21M3XD/3/m895eLKHhzIANdt7LrGxCjKDTsjxUtHUYGVEIBsxzX+nz461cRc2JU3T4qk1+2Czde2TOWbysMixaL/ukdBYLUWEo4EZU0z6Hd4BlkKv1McHj9Mz3WOl1nTO/7/fO9zn39uvX/96ka9119ZafZ2DxblYjG+9oX0JZP4IyVjQNEYAhFFdMZmRX54y637eeKAwXT55q3Q663kg3dnvbulLVWWtpn8bET0JF61CdYyspA5LZ8qAFhBEAYiBlRFgx/+skv65c9sfTWOjnbyg/SD+x9fDdIdH0yzS4lkveVkpextnPwPyVG/IfSFz0Mb+BLjE4Wv/6Q7COnmKvaOwaZ16Xp9JkiSToB4sDZAPPkF6leOqtQZqIrjwoTf+kPYXb1zLPTO9iPzS3KvQ2tmGvJxlhpdNrHoVev/BJv+3BhUFTDzzCy/+/c+e5TlR88ux8XYxqbrB52z+rbasUmOkhQf/9s3rGWLwTjxw6Wk3GhxYjxA7hZJ8y908GNrw+PHXrt9tu4fBT3ez689f8Cd/axbdC589/jhcHVzVYbH/6uVw51lZf8D51wUiZqwRM/33v63v1+jgzyfKRRbZ7b2dbC3PTvZ6M2GF5u8S92/9UFScMzJGxCTOwVRS+F08AOo+JOkLG1FFRFUHLZ8H6wD/V8+t/c+DhaVuBm/d/1SbyzBHiWdHE7OZ4tzYP72dxkKARShJCCCIY5C8yy4H/zek9X3noy3Rv2i3EuOl1djzx0fn2NMegwnM/s/f0DOIBEHQxpYAeCvXzbD3XcWawuEQSeOSjPXzbQyC/RJPtczfnT8lxa5BDplJvuYLaj4yQtdvXv9cLC3tHVq8guwUd046hOY4/Xq+r/5uSwmDKpAhpwKgEbmlhBPy+iMX/mhH5mcfe/+heKp/4audjB23HV09+5fSGx/PJ0oaH/l/V/8BqbMbIwlEMWMIzOTEUCM0RX5X7wa0asGSne7wwed0XSReD/I1HFCOf2Nl9vnArEyJpnVpEqr2PfUkhGJ8I+2gUI5JV+0sCoCKfOFefrPnr1/oMX7nX7nhB5WjwzCMepyeK64A3btzPJ/+4avB1aBRIzTBH2jztEs2OTgzF/efczeO+OKO13bFDxvPsg24ooko2rF53cO/vGrq0SgZJCFlEWZ7dZf3to3/lbZ694bkOvYlWYxGohmY+CjdJXP5f/Fu/WwiVYVEUXs0g9P8vU/vc3J7kz61l65Ub8wuL0KL5+dP1zDlfra//Dr+SJvEmNO6WZt/yEH5cACpoypTde3rj934zu//1mZ/L8efuLsmbVi07lb9zdXhuN7nWONF0c/++v7saOSJQ0RMAv0orREDhUVQdvj/8fFo1Wt2A7YyslwXjephpTTcmW2sfb//rZ8eINGNEmKEtXYoCkqCAsQ4U8pM5KykdNSKGlb88KQ1l/8A8ODw7i+Vy2ulcfL8+vJ7mTke2Qb28l/+/87WZwzdWuGNzbVGARRl0X3qEySC3/5waCHdc+VuZZlw7rYNHvpBg0bCz/75ao2HQIBAlUCEYmhyTp/dbXsvrx+8eGdZ8LNjW5veZwM89xAeRLWV7j3cz+Tm6zJYutRiOopbZbTJ3/qhfvl0WvL0eOXV8Ms6jPTEpZVN236/+rnnRmvNmgsYUsPEQCiGltxsucIZECfGL1oZr/fvbP6f+zq5nqfNlyaDDrby3d4P//C3f/nq95m2JBj02KJwEUhUkVSZkCJ/oz78We0P+4rkeEyJL62zEk96p6sp//qZ/pKZAhEjbEucRpBm54uhr7tNRmDfzI2EV0biSMAMaePIFpkWmcf+9gzzGXzEE3dZYI1bnhuZGO0lFt/M3ey5FGDhG2mWsRgDCGJWV1l48/+QHHu7e61uYdEaD5eh87Rm54/e1R2/8VLExy4YFr0sDPIkYWTGC7851tJ99jt9QI+3MhNjMTUTRN/OOvsrP+z/9XVhWqnFEVSYSCU4FcePPPETzTHDdz7dvdTz0jWdGczo2Ls4Gf+bXCaL5LktLbgEVXAUEAEYZHowAeTusmFy1/YTqbDt9Lxzny/Wey+WKyd4bPjD1ie4b/xy6kjaSDHOvuQuxPVtrRmiWi4scQrP/npkjShTjkrtOboQuxoWCkG//pvrS+JjDHIQs46ayVmdXBp6CzbUL9B23oIlAWJSEW5/QFIcLjolV9ab55KdTnvHm4pZvWYOp3UZB3kQWngcNBfVEgIQAhl6mIQkxh3HIbVvPPNC//RG1vNl16wLpstjseDkXTXO7/9357rfWmBfd8oSMuxAyIRRdcIvfN3/xqY9XrW2eFxljURDSGQJEiX8Bf/vosUIK0iGVAR0FR6u0aHD8rZXzwzjekTD37+zR/pDKDuHXYxn//1W6mtCrXUVptAFUlRWrAUkqIVsBirhqa/+dbHXui/1t869yjPmsnbv/JTvcPn9SAv+rd+7rc6yXFCQEzph0CghJSMqpCDIIhQuux/+Z/uf/ZiZM7lIEqCSQps3FlI/vZvpied9tIgkhhSBpUmDOacChoFAGXFn0BU0Oip/QGInD6CQrdm46Z/Y/ow+/Q79sKBAPRq5m5YzcSjbv+jXzzeOcrTubGmjZuSRibCxiaHMFiw73zsL/s7t41cOFuV8+pcc/5wJZy8+TtfXbvb7wjFHJAAjCsdBS+ITLUpnv7rS1pkdtFsMsba28JEY5xQ/Wv/sC6WnRBHJVJL6/aud5Iuxj3tb8W/eqkj5W7vd777J57we9wxo2/9zYcuYA4hcdFaAmZpcTkKbSdNJDBSbNiYOjeRLj353PhTZ3G+XDbfvffp58X/U9+BX3vP7fecUbKRE9CWCEaMhkQ0sRCDACD4/1v+M4NPft+q92XI66iaKq3Y3uR//FqTGyUyiEiYGgQkkOjO7wohu3b/qPjjBkU1xuRDxBu1L+EmLZOyW/+lJ3dvhR+GWbZwdawGLrX9+2WxwfLl/37TM2SdqTOiLdtWreGQHm7ocSIhGp//NTNqjuvpzEBTiBQfO/jOv6qNZPbhpZiJIoqapDLIosI+ma3ur/zpH14UYT6cD0kEFZ2JFkHf/j++7LYf9JFiJtg2ewBjdutMjGllZ+nmUz9+Ptl8deXkxqW1buzc/ZkvUwUZLAfptMPWGWVWPcUup9JakwhBApOryp6pie2VB9/7zFWzF3v65urnB7t//x92GT0MPWpDBcdUTrGTrbNIERWUI5goQdYO0+XlH/5EX1nj0Hi0uTv6yj+ZdJYbYzGGEEzigFCRQDTZPNayF5y0jB/8SZTIiOCYpU3MKSuoGMsV9fZM43/4WXymQ2yCC0kjfO/n36s6g9H9qsqEytQ4EjGoizRVFgCDx6ldOJWyWlt8bCd/fjJPzKTOO6mb/NytzrK/6C1Wqq4qEkWvFhCA1Ddp4NCbdr7vz/YbbapB5+H+TLRz4Uzd2/0Xv3SYS7Mzb3rd41xjAGNArS3P3AInTUMrM9k4d+5z512UxWj24Bfe88us7DF0ah7WsZVoomVBItSlavtfJEbA0FB/bIMFNH3s2v725+v3Tvz27a959p1l2jksNGMxIRbUfmI5b/UL1EQwGsEtrI0Se6HsrF57ZnP9EXbzyXJ58xuvZpX2xwM1RCyUJtyym9SAjd3pztLGwEiI+CdnmmnLKQZAVUlMjGigAaLYCFWO843u9hMrVvxi+vDwwWyBBtCUHXFNJ4JTsHUxT9q/nsVEECZo1GjjyZrhU08CVGHM06MbTZP5DsZOk3LWymMk5k5rjyheFUTIbnzmaWgshIO5p2Zuhvj22wuLgDwSn0rsRvDoythrOGmyyvjUxlIc17kZ7KzJ4dFJHa1RMKZ1QklSdvIKbA0OI5vULhElCpJGtFxpUsOHbDDryOR5bJalVzJwiiimXBoyQACJi0LqIpjoKZfIQBpjviS1RV0LWKODp5/u1zfentSVKhlUILRtiAIRSYPYNBpzWpQBYxAE/1QJhtlgSxVXBcIIhBpFIdYRvPXYg2y76mX10cSDbZiA0ZmELFsFQQLBgIm2HDthkojQEEqMaoz3DotlrAvAxhkbLHLuHafeEJAh9Q58RJSKrBHPEC0LstiWwmOTpPTGgE19L3LifUckGsfiVDFgJI0OApNEo2Q0BHEC1qhAgkQICKYyzlMiJkYgarkVURCVgaJX285+VdvOF5o2qozYejlALDFaEZPGoEhJOqWW/IjCqqCAWvjKCNgAxN4WjYveWlUh0+rHgKyzCGqs4YgGjCFCxAhARKqWDUgg0tOdmTKIIgEjK6pFVRO5DidjT06jJ6vkbGQkqRO2FaEaMSa4GEBbSB0ZZEQDUZGCYh4i+GAHDcZEMbSiEAW2FtkraIpogEAsWSPM2qu8ITGDk1Q9OJlbk2NUNBTFOjaETKQJhkBCMUE3YWMxqq2IQmSbNUSihtrDBBBhomwQLAdObKsZQlIAIhEw7UDgNJGGIKxAhqjV1CAiEHtObIzJ0qFJY81qTCSnQbWdI0eTiEawoEqpa6ZpY7IYUU4r0ApkrGkxloikekqLBIIWV2mVgBUhnhY1xAIBglBkRTSoYCEYY6m3bEyfkSvjDIBJ1KMQWwJXOjYITUuNayHnQIZZDaqYelBMxdhQcGUaBwmAgZZ8j2jbKSwiqiaqkRlwr5OrkCwRyYETJPUKVhvDaK0VIiEMQJyZxtTEmjEYYMVE0SQiaqwGMFbba7ZqbRUNewOapBogi9D2hABR1IDEU0AVI7XY39MAlmndFGrIGHLkyCy9BczQAn0oUwAAxVBFsqJqJUSbZqYiFyGB2OJRMG250WDZB0LCNlzUSi8UAKxRJWMhoiIgEgoZElZwxKLKzIjIiAouCbxIKEFRJUIT2/GRIwHfqdGBngJcRISQ1KgVVoM21i6jpaBaSKMLQIJgQBQUSSIgBkGNjgUECPsJNy7xjVMBiIIFM1qSmLJqCLFJFNiLiwiKhgSTOlokBRcikyoYOlUeGIeGW9CpEQUr1nBLdWyLmSB8ikYHVAQwIBEMnWJAwbQEDuRMQzAGF9086S6rRcYC2pwCAUEZY8NqQKIzGiIC+Nwih1OsC4BBEEUEy4xKCEyIaFpaDwKQVVEAATGnjOOlIkhsj80CACIGowIwpWzQIjEDGhQyitGAVgJNVM4wegaD+CFBFIwCEJgwJ7FoCgdMFo0SULDS6l1IJRoBEQMaRcmgIDW1QNAkYQEO2iIlRSlljAKOvKgiowkKbNGiCoM1oIwOBYzxAAaRlZgISCFDVKGMUTyYpBWLKICCKIEq2lZZA2jaoBS3n00lBAIiqE8DcX2sq0aSomFFUDQC2k4FiZgjUIxkLAp3A1ELtMa2/dJSxTAqEYGyIVDV1o8BgGiFUUWNBVVBRUgZ0KhAY9usKCo6FFQIvsmLvMGWVSzGRpJcINZbR7aOyJHBGBQURCKIiiiMhAYTgNIyKSwdJmzANKAokciYxMAUQdEAAgsCqNokiezRlWjQWDIsxoG4fK4kYhw0GE3GmpKAh1olR0OAJImqgg/oGIwBIGBAAgCJVr1LagcYW2rVqYmNtX1PSduHQEByBGpaZCfIqQIvJTRWIlZoHCovxWFUQ4KIrZCDiQyJZCGAAZEJCiYWXQUttJLbTKgJpw+dU8gwnRpg0CISoFJeqQATAvpoW9oVCQJg0kSKYgGJYuAPkRXCVRJscJ5X4Owkn0YflVxKHFiRDImAQVE0JMQ+TWwdKQkpGp8ofkiDDb6xGBWEgDTxXiQqNJkESFAwoRhJQiposPKNQ5KYWDESTBKCXbD1uU2YySgAalLWmBQAUEUgNK4lhgEQGIrGqmbW15okCKhIiCxiNLJpj0CAUVUROCSt9AljyyyMrsHUhMakTBg1wXliPBv1CUIUtZY8Q5rVlQGDEpUoCWK09i2Tul2xtDcwBQSDngwZY6lpWZSIPykKKCFaBkIRdJFb3iS0TyGvXhyBNTGoQfYpgIOaBugDoSKhlj6xLLkIGCORnQkN22RpbAzOxep0/g4AomhMNN1GfeIRDDUNpkUZAQK61AtxAwm1GUlwKqLGEmuUJA1lBxBEXVLMGyIGG4wzwiwiYCzE0OoohYUIBJ1Fz9aqQBQGmzhTMTlpIBFEFTRmRqgIHC1yAKtBHHhph5KqYI1vj/EKFiNaCM5jZgIjtkAxNlHJtGxZAUCMFjkCUXQiBtiQoCVFUodRnKMycYhtD4yQCG1wiSiqTYOPgJTYyAhoKKohksD/Ia1IDqxGVm6fUVaZrVWvURXUmGWWWQSyisjKwglHyjgsnAiSxugABMG0pzIyVGNTWw5CwIIJ0klqi0Ue09IYRCMg7TuGA5EBiSppFpVNBxXQKEKjbZLYobAA2gAcA0gblAQVA63vl1glCJBVS0jMkmrFBpYj0CiRMdUQwRqjigYQLROQfmhpQgJqlYQYW90CYetuJEEEUTBEQu0A+fQcxwRGURGNMRykq4oEEkwpSSdhX1gOacHzrEU0qLafFrUMBvnUVAdIJpwq3drptyoSKLGesqnRGRABFzy2S4P2SCSq0SApELooaDAqRjYoElIV0VMlDSKCqG9aaJSwEsSiW8p06PqLhLwa8FYiOkPIaAj4lPUthAGNJdFIiWv9qioiSOisKKiYlkitEKVd3KqBFk/b0s41IqJLjVSIipawQnJEKhoZhBXMqdINQZGwJTMqnGIm25ctiCAJkqgSmQ93iqdA8/y0ZUqxic6YpCEEk0KordEZu6zx1vLcFI2l9oaICAoENp7SR2NsA4zUjmyNabnsiiACAqeQaCQ0EtQYTkBFVUKmJWQOIRhSAaJIxDVjoe323AAAKrAkDO34zYraKA4JohjQoA4T4lmCwszYfqiQEIAFwZBKVIIYmRAJInNCElo9JIFEiGQIVEWgVQ7Jh/FuVVBCAFFAQ1B4SDWIM6qqGtUQKIDERJEkqGkAFamdyBCIqCEFRLQtCkNbRHh7U2ipeaAq+iHdHpilnWVaI8iiYNQLEkMNWY4AxD5NKFbUfp7aM6dxai2HIGiNF4BTR1ybl0CElv8Dp18IIlCy7CwDEJKIIEkwwghgTKOgooa8NdGzNc4yIiIygDEKyi0PCpyNxhK6xqoqGFMtMSRoPYoYlPbqJdGQqrT6s3ZEBQQcFMgEIMOiLXNEBVpYVOupFgVwCBwjGSOiQCrmlCfLAgoqEFvumQxi0zCChnY+bQMAwYf2uPZuZlBVLLS7Kj01Y7jIQKTStoX1lBwPyoIETFhbNFl3ZWOQO8xXB/aQl7s3H1SkXRcah2oNCrCBdk+nYlnAEICQKiEzABGqiIQ2ja2ejDFR2+ubnrIXRcm39xT1JpVQaxYNAhprmhjRGvXGoEYkjkBEpNAAkgIiCVk57eMAA+YaawcOvRKhtGfRU+0YGVQRssJiUmaJYpIECR1FVgERBcJMFNCCMohwSzAHUGNZlQmg9dZBVO+oNin4AOisUW6kJUxFVRHW4BQ+dIUgtC5nABQxKoBo8NQVpgYAiE61hqqnngsAQwrBU6pb1x/dyVx3Rtxolpsr5BJ//7s3DpfLFJdJtwZEIGPbq5x4K2osSAjtsR9QEfRDgLS2cyGFDxVkoIDCACIYidpvJAIpS2i/94hWRAlVGjDCBBFVVFHlw0efRmdiTNiyIAqTpGYUaBnIIYvBaEUVQdm0prtT3isoAYIyc2xMghzbKRqSYY5qWpOUMACqIBAaEwlE1VBsvd9aGA0qEroiCNEHaFuiao1GJpV2RgAo7ZuAqHUhtQdJQKRWA894itY47XPhqSIBlAWgu7Hxxe6gB+NpSdEzxYaabmGSi5f8N1+9IZ20mVoCAiISVTIO0GYxMAK1pGEiYmXmFqcHKsyOOIqiObUUaCutYkJLIoiI0Zs8jQYtcRQCQxo9JkllHbMhSZhVVRShPVVYdsQMgp6tQaGgVWfcbbI6wYBd0wQWMCRshVFINa0bdBTqhCxxbNhEISsC7aEIIbAYQokpgggYakQUkUEcYQQiKyJoDMUSEitmULIaRCIrIYBBKBNkNShRWjefooIqoYqobUcG7bmDgEBBWFEF9D+AyNphngKASQcXn7k+AokqhpTZJhYRMSywl8vve+HV37pduHnuHIoEdoCGUlD8k8wioNqQmlQbdarCLEpCBIy2zkLlkno5UCACMipoNTC6hq2TKAGMNRpit833qoterImNMajMAI5NmUUXk1glGFOMhgBNe6EDCSFltBDRaaTacT+d+YioxqTiPYOKUYuRHLCgRQZjcel05CMzK4EId2kZEvIONSoB5z6eemOhXXI7FSPqkhYqjl5BQUWSyAZVgAVRA4MTUVSR5PSlKkoWhJwKGIscrYCDEDUhnzVJQ4YjGFTRyqSxBuzOLzzxydU4qPOmvvnoS9thc+9Stn/mQc6RlmmZr+P27Jde3ltdZt35QMWiMQCEatsfoKghFlZFVWnxeKgqjGBn0jEzXuXWeIBDH2pR42qTYPCY1M6CF5M3JuScN6axRWR1rhQEsESRYqoZozdZEiNaMu3ry6iwgkvBAbTaO7JGPySvMzEwI4HaiIjAnDKAKghHRlygbS0olkIFhiI7T8AAoB5IBU3LD1ZtNbGENrYuHIxtHRdrRUUggtbrjLG99QCfvgU+POW0rhYgywqApAYtGWPxtPACnEkplqK++Jm1jUDT1TcGZ0QvT/2xTL2LQ12ktrPUcrY+z3/suV+6MSwrU7nWgI2EYD8MLdk289ie0uBDHCuiDiTGVCEAGQSAihWtIhhgIstNesoYrikUEbmlbSuSCoiCBTGcexugsWpaKwkiEQgqSwRLwVBkQA6inutIyqeP+3YeL0bavDALIBoiBw6pMWbRRqMoq9iY1jpGqsLsMLIx6k5fZPQhgw1VWAnTGIRsYiZoCASV2os3KrRoTz59CwMiICgToDIhyYdCRwBB+fDgq6ICNjaDS5+5uJEmDzfuZvKwguMGerqC3hyntpsddDrJmG7ZM+lHNn/za9Fa706dqIhg9fR/pthunNuS6umSghB4VQ6kq0ttubXo2zcTmxZPL0XwgoYr9urRc4SgiigNgQpLJIMYuBHoxhpyZyK3WG0O7TSaq8xEtUatODWRkFsHGSISAgmwtr4AQFAkIh/TkHjTGAIFtAbTKGqjx1M4akQUReB2ugiQmsgfkmVFFCOlBiXUhQCKRnWnufxWykkkp59/ajPVLVZGiPhUTqsK3G4xSFRVgViT9Sef396acHrSmX7ziVzWjqsRS45AFUAioVotTJmP99fHve8v357GnoZMVEGQ1AIgAoE20C5l+VQjH4hAQRknYlwTCLW902Tauh7FUajF5j5GbRMCWVN4FwQRkRTl9GssakozT5WbMqaQSEpturO9sbZCHCBSVTSOEyRhFoT2Dwg0tiYu25ofBSOIp8Q2RfQRHJlKlVWVAY0hRcOqaCxyq+cltC3tliMioKUWUAtobGBE5EjSmqtZ6dRh3DbaTUuiVcJTV7YhAFAlITFqxIq0Lz1qwuXPfWy7OLSc694zHA8OZmFjr4PjPIMBhjH0DZYFcuHiZJj91Jd+7+bIw6lOV8C21AKAU/VK6+nVdoAnoGpqTrBpEtPuGykQIIGwEw5gjTQmkRBtwpwvbZmCOIqNEkYkRYMoTAGDk6SwTiVNSwUgo5qFIECkGbVqDpQYtGFwCKCEIgqCKmz+A5IeAAk0RdXgLHgwpFKJ8eikwSyqirJAVBQ6FX0oEkVkPT2oIBGCYxEiQu+jNWTarkQ7fjhVqLW/kVSNaf+gNZqiiCo7ISY2igTAqooz+8iLH9uaz3/rD93559uPFq/e8Z313spJqguNNCRDXgRi6Bx1ZK+7udj4/Oq/mHTTJqGWjWJJEKCdrgAiwIfTJYvCQgiQBFYyomAQEaFyFhFEKHpNEm4cEYsgGoM2SBAQCawCqCyshgC90VSlMkwaPUZSK6SaEngWRGJFFIX2ntACqbCd2gOqsguR0CBH085eI0XTcGMhSYjrRsEgoAM0DCqR22dpg63XBREbatXTVhSIVBqbJejLJhEVVDB42tK1+qGT5cPnv7QvEIVTN1VrzlZGdmJUVUWE1ejl771eTI4e+/z+d55+7Pfehc4wWbdxDaJKxCpxKzpujLWzARx067f7s/Mfnf0Snm40EeH0GyoM7QZSW6M0AEIMbAxoYGeC6dRoLDBDjhzEItU2YQnobPACxAFdAzWKQY6QO/GozKxKFus0FpVCjM6hVAZBosagSqYNpmhiRWkmWTsiQVBhDkKE1qABjs46aC0cqsyWenPgrGIvninzuZaaaWkELFlDSka9J+uJUAGJlVFQABgMWZUs1ktFTNFSe3kCAWn5VUAgYvCUi3jqtmsHN6pkQMESBCIkpFakAQi8/dEnM3BZfO+NZ6586V6/6NqFDKu6ggTAUkJuJOP9jQ2/v9Fr0Dbp3c0vvLI7XW1aGxQQGBLIMpfWjGhtj0NEC8zMLGjUR7CoaRYcYt0QELKQM8YlIGRRIqWZJeNaVYqzDYBxEOomRBFVIAlQQXTGoQl1jJQlpKEK0CwWnoOP4MA0GLm3TiQGuYmAiDbPcyeBo9ck0WpaJS4E53xDKciS0NRaxzzzNZqmAiPYSSgNjaH5Mp5IaTikMfGBTaNGuLMIFowlrqumiUDWgIQmghL5gEaCkBMATkxcFZs0EatQRzQaITHAgUVVvReIUcFCJiYKULQeEcz1s9d6396//u5bn7jw9fvbV1ZXOufpztIbcFYpSRGOD8cd1yTd3cm2UpzOTqof72TTVCFEEwX/JIUqosY02CAmJshgIDIIkQLEyO1pSUWSiJmYkFhuIrla0TijUhtCNKBLNSCWPDGjAWYioxwiJ8JAJLECl1tR02mtv8iiCCzYIBcx8cQWBco8BAJWQkU+lfeIgoJLGqYEGSxwayvPvKSJeG6x+RJtbLB0MWexnIbOIvNNtQ53LtRxqFH6J9npJ5uEWQBRPZGANhiFnAmhU7EAdx892qvSFMEExzV2TJNpawBvI0UASi2Cm2GRpVOaf+5Tz4TlGsu/ewFuxEurGXuKDTde0xFIxzkZT2fFBnIIoe+LqUAvZoM3/8F2VKSUvNpg0ZExUKYJchINI2gb6wEjMQJJS74nMqyRlUtAMlpnCojCnBKIRuFUSIPgKfMS0DMrIkKl5AxQ0m18U6vDpnWdARphNBjbMAiCKQ2qL1p5H4BqgBQjuDbXrDGiekLkpDU/oBJXWOA8ZUEQ5kXf8zr5VbjS7d9b357wt1944/DmjnAnzkcyzgj01IZuUOR04QGIzopIFCw1kSSZvZTSkBaaL5Il5lSrZWwPJhkLGWKO7cPKkHQggHn8I0+cf/XBxYe/u3rmDbx2ZTGjZnVZJ5Ck6NLElmUKST+D0ueEh4cv2nJ2mED2wtfvJS5aYgDrSBBiEI7KLdNMEYDARZYYIPnQsE1gkCMDeo+ZA2iQrCGrnpXBGEI0yqqnhzeRlBVAvO9HIWUGryYlVlOSMcQREg0NJMAJqEIUSDislEmsMwUAEAYAFlYuRAE0RmsgikVuL1WATWq8R0pcW7ARy4O52b6GL/7qzlO/fRmuH12te1/79BvvrNwviqVLQ9KOmyEiOZQQ28MemAAqQWzCNp0uejaztoIkdd5nGCB1EtvjODYAosjRtgNW4Cb3J5l87JHtXXOVx/bjd8vnV6e7D89qHaJ1zS1c2xj6Jh3LAFBNJ+Jwv3O3Cxj6iZgf/sfzBDVwwlZZyWnkbBmQ2Lt244dglBXAtObplqwrgGQ4cRzZJTUBtzYyQVVRD84AaHuMFYmBoxICBR+pLTQQgW80ExVEhABt+EwZGBipNmZtz3mIIArCkQwIGonaVpLAWBAggMDSPprQmRCTTgQQjoKj+szj9NS5N3p/zk+eP6z7/Ttrg2tfuryxt/CtsK8VK0NkVAsSUjidsAe1mQqbSd4/s3XuItv5bPftgySrJcVSTHoKsIoWlVEBRYBImSVAB85fvhLfLS7fv/NkvXdu5eAuxUgPQEXvHY66iywzBrwAQmWalAfdt89dnq/RsrM7+uyveAveENtG0Vi0DlGsUeMCgjCAkgKSa1XlcHo3RlKICGQQJQMAZoWEQFhiNFFQBLk9TYu2GDqyHiwYoxE4IGJmVDiSMeQJs/Yf1IgDR0un5UJMpyZqh4sEDFaFPzRoCwhIO+ABRLKsZNrLIQklydYz6WfH/qvVjxzt5/Nu/cYnn96vsqdhsnL15QNi706PV5LF6Bm1HWCDREpRGm/y+PjnPvNEZ+xdzWz2vnPw5t4JG2uzBgAJEcmSiAE6Rf8z9JtYxBcvb7yyMzg+GJ79Zndn+nC60jsaLcUhhq2Bq+zK7oN6yR4zKrLVmcKKHnTZh/1gnvvmgaGQqVgS4ZpFM4ZojLKY9i7OqKKowZzqtklUBEMAFpta5YCEZIhKS2isZWpARUA+nJPXSQIheIRuEgVjay0UhNPFlIpa0gAGgARb8dhuqHpMpCJAVlkBggJLOzmN0q7XLCgRkkFuM84WAFxnOFz7/gNauW2/6OPqV279Z//GfvfjkMjKyadvLOL49XLlpFBRlfYywIiu3SyqKKkPvUeufubRcw1PxtGUW7Pp5ifmz1UfvHQ7htlAAAyAcARG1GAAEUQ0goT4sSvb77/9Yvba5MmT5aN+UmOoNFmdpUk4G3CZAE8PjiiXJO8OZZAslzu77//AQ7SzDuvHf5UTtAEtILGqsQlqyZY04ikLAWMEq2LaWjd65qDaQOaQK8zSACocCDsgQUAlE0EBQt/WJ6iQKrrN85vXt1YJU2im9995794YTG2sQY2aSqQQKEUklUbUxaRa28dpR5QZCdGr1UasUWBQJAtkUBWJBBERrPUVWwMpiia9nTPP1R+89zht3aqKO/zC6qffXH79iVCsbL/J5yZbyUvTtEIyRA4q06rE23iQQFJ7d+H5H3hxkU+OjAv96nYa7k0a/3Cx+aff+te7OwtQIBRxpGQSEUEDKgpZML3mx6TgK81JMe2+n67vzqakxxcSnCaDXehE15F7u9B3fVcM0PLBABs3yENals7onRe+UquSGOstANpQrgXvnAJgRNBok4oNNOhKV/ZClQaUZQ8p1AXP+90DsxhxYrCr82KeO1HVuIwdT7ZK0mRv5E6MRpTuix/7ROekaAjmqVs///11fPXrv2E6cVKIjJZpYEumK3FpIXWyTBkmBRQ8Hzgq+7FsrGW2RjxStEVaS8QkRbaRrC4pjy4N3Ya4yn3W+8FhFn+1/97a3u7urPi+73Pv7K5t8rce2O99bfzDt69/63H4eg7BmEjZIovt4DnRELNFKtz0d37iC+6uOZr1BzfOHsv5b98+e+vZV377R+nkD5/7Hxeu6QRQ3/VEwl7ZsY2QsK0thIvTC+GoyCdNztVOnB8k5eSMLqToaM9XDabLElcrMxQMlena2mXan75+Law9RFRz/v3IXHZtWksGDfW9IqtyG8cQVGARNJR4E6wpUx6e78YKjhZUmH3q5eVoAaRWPdYNAtgsMqI07MutlVkahr7USz/xQhfujTXvL8sN9BNarq/+8T/15X/31sqsLwsUtC5y2RY7RJDyrG4Ei1FTjfDI5jHWlFghPvsgTafOGgMcDM6jIcptHppGgSw1TX9nvXC4DKv7vzb014Y7o9vVN8fxj3x9vPP4QMX3lpc7n+/9UlFUmHKTlu1MUxYgDdvDUT38w/9RMSkVpoP708WvJxy/o7fWs5XHtD88d+nk/yyzsmeaXuUICQjUnZqfEoh+J8ZKrGeXwnxLGJgpCJJjm0igLTnwS+qhBZdbZxPLdil4gv2jodSWH70hGLPa5hwEVFXIiQC2wSQV9uQ0eKkRph3vtzuyRb2mW5fTu6WMKrZVndsQQTs1owRMSyPGQAHZ/V7/cHO/K5/6yceW5fu9Rd2M6ul7hNt1eTCDx3/qY7/275LGIataNBJOe8xqqwYjpDhLNEypT5VNhRGiJvcAxwMjqY3eW5skQFGbmASbaOAY00eurJLeedN/5vnpN65t4u+8wDCq8l9b/OAf3F184tvjuNi8m/yRg29Y4TT6DMkoC6vVVMUVjD/xx9JFddjTlZN3X19Mzz8jzaMnV8N18SG+s/rYF792ksv9C1EBFNEgtaIXYTRF98VBPi03DbBrQu6jjWCiSIqLRpYgVB5ZiE7BGkxShtCwevPYvVF0VR4X1wK5poh2puxtipENApEwtnkDROu48QL1CMP2tf79NNxd96PVC8PJB6/NvEtiYtmYoEtGY1HFJSVpY7x2Q7W1v+r/6B/Lyr29gtPZoewO0T00dPX40bdeLx/745/+Ww+Wg6AAooaECBVJ1RAqSNOpsOD+4xeuZWn18O77N5v13U2osczapKREJ6QJYy2ATSCuts9vDmcXdmd6cO7h9VV9+8np3cGBO3vSk4drN3/vkq2sZK9s/onbDwsUNN5YIwAgVCFxNTj+47+f3ksfDnfKm79Snzym8ODCI1ffUtwsT7g81if+4Df/iwfdx4+zjNtFMDFYUEJwsemmbmXfpR4Vgkm8pOiS6Exh64jBF/NlaAariGCsoBj20+iibSYXRw8PR53ykWFI6phaRKMaJAiDWATJOKoCYqoVK6Gz9aVHhnXzvMKFR6NyOrx+6eobN/djkfnlKGk4WgNgo3dEJBoak0/zSWb+8mfK+3sa5stpZbKTlaKbHqXzb/U25rf2Hnvub/ydl+ZdJhIFPlU/k6baROeMps21P/zJgjQCkfXTX/368YNBWnfnGhWMJUZFcABoAgYCevzqmuzfWz+6Mp0Mqvnlot97adT9SD7oDBLzm51nb+xtbx5cufPKD/zEP4wW1JZGVNRYIWQCLF/4g+a9nbl79N5v3JxnlF7p31lt8MktKzvNJN06g0dP/lf/bXnSrCwtgqIAABkV4xJF2ozdZLpFi5gkxhLYDKPjJiWtgo1h1OTxblLUDg0JBedoElLVaiVGLRZ5lT35CieBbFZhzmV7wQNVdAhCSkZCTVmotHPhMS67eZ9BgxkaO/P0iUvf/b3D8dA68YJJAj5SDMELUUaogThzf+Xz5fiwNzu5+HZn62C5gXcuL6HXnD+c+2Tldf/YX/r7v1pzkqhidMCn7cAlF8arG/zJP7J/sr+bS5aJOPpPvu+tf3FnujaxEpEMaddWtokVkok24Sp9dFR0pk63Hvn13slz7//KF84cueG4O+mN6VK1faX8Quh/6aY9c+G1L77xFSeRVFkjOBRKBDGf/BRMiqOTj43//Z2w3cOjzyz6w+FR0fQWr+jjF6wpFJ+9/LrpPVxtrbIMjkHRmrS06cWkO99/zDPHZScHY8UYBO88LyqXrPbU9Y/GBwk1YDCJk2JgKo6w8fDumhRVtTh+7JswkmDnwViTJNlSgDCKFUWjAhLJIogpPoazdJBQ4s2GqNTSZNXdzifPf+Odhcm9Ws/RogHnOCbMVGLE3knnv35+evfO4MEkeyfCtJwMFyFeP5ie7OisM59e3a+3/oL/bR+NGtR26wRSp4ntTBajP/Rn3Hca/sBuTszAaKf/Ej/6d/71P1iulqZdCQapnQDYOseEm+zxyxOtpnhjOXniy0ej7fCrn1qkZ3YvPvZV8xjeS8XFavG+Jp8ufubqH/iaiGkIlSOpxsaKB/+Ra5PYf/vs4W8tO9ekcLetnMfeODGz2dqcdFljmW//d//XcRg6ViBQPQVjeHFhUS7qmcZgm8DONQ6iqJq8oJio659tnEnP3JqvW8/kXFzMECQwL6vRdnWQ+HhrHTAQWZuDDwpzC0DswUVuV+ImMVUpq5c7fVh1J4O1WvsluGDBDGKql8OZfz/JY24PBkCOKzbOWwbDjvHI/akXDqfjAcy9XX5h7+Yn3PH4ufGNo/X1k/ULabp/vCq3P/5/f2sSiZGUEMkgaV2gnywuffGPhptJfui2R+Pl+qafPTh/6IvH/s7f+71MTTsTkCgheBQC9XzuB9beTZd6pd7YvvKJ5a9Nnv7qr176xP5effeJ3m8/ObFnzL1Z/sIr1fLt87/9Z4Zl7M1NRFZyCOKozOc/HJfFsT7ys8fd7U1e6oXDoQmjvXFBW4tzK+Nj1+tZXP9T/72FWoEsIqCwcZnzjYraQTI2Sc2cYCc2VgID2lq8d5SN8pNRVfaKQb8790qJ9A5KzNAjnynvoVXpn5zrQpk6inUoTVS0gdmTa+qm8YyknbmH5dpHVpebG8u4fjZ+8CtvcmG7WWYba6E5++gfDlkHykHZNFXNxpXIzsSiCN3s2h/k2X0Md+/PtjZOWL/y8v3iwQE7m187vzX8cpp75lnnvyFhJikyj3niZ1hgGXo/8r//0P2H70xCdeb49QcrZ3EvdPYOb9fx8G//x726Rl+HalGmoQMFWcSF+v5H3qBxojQ+PIio99/4pa3u+//8S7PuH5sc91+/B3de71x+9tLzj9x9wPH+9wI20VpwuSWDSakIzUfBzV97/Ne/Ys+U38ifzq/ugevQZAnrq+v+fpkXvZ6t9I98PI2pIxVhMGk/gXqJltLqQsrzEMiD9TH1vSTJsuC6DVM9GWsJMWfbWcQqH/SShjS3aSc13h5VWT7iru1CVzKHNhdDQhxRgdkkVq0Rz9aONR33vifxoXP4/uXMv/dUupzeMfkOWttEKyc6/PP/iCzZrgA6inW38cZCqDcenv2v3O6D6Fdf/f6T5Zqsbh766c1z9qC/tQJNVV6ZxtXb6688/vQf/UfcGBuC0ymk1mtN6X/+fcv7+GbPHHz3z9y584XF6zicaHF9pezEuz/9kdd+54GGfN417S7Bes3y4tnbociOOuHoqYtf/nfPn3lIn8jv3sx7s5eHJ/2dd0KW/8s/dnebBvd1HO59/OfXjwtEVBWEOtfFMl43e8WJ1X/67DNPya2zN0Okt84lvjm/KkcnnNi8W2DaqeS//LMw7ikiicRgDBJGrtAWOp92YmAgpKQJohxibNQiAXuIC7uAmNeUGNUoXpFkuSQSQ6exHWdVow3epEtW5cSyGKuhYUD0dZd979MdWdzYvrWWdObbB+fum3npFivdTMbRlvnK933zQYjoVATRAmMCKphMV57eehuFzbibDvwwLFY7rz359GTncv7g3ko0j5iHw+k6Fd/ufuFfLlObxlniBJIYVHb+k89Obqf3iuK1i+uxpqlOV+4mw/U6VnY4Hn7yI0cnS1fnTAiAznI0PO49enOrIwfX4sdGd77+xE72g/yLax+7CIPq5u7qI8nrxXq1uetnyTcuNBmefO964yJQu4XUad9i2KT58QdnqgvJAuZnvtO7UqEZH+dP2okcxkE3zzIDcdKjM3/zr/aklXlGNGRQUTuASdrPV4CFUNEFsE6QoBcd29Raq6XzHKlxbElUukQuq411iWpoFBxSakCIElTHSd4Bl1hHvtTYBLIk00k5+NjOuytPBdPE33tv77sH2dJtP7Z2/HDZ6dukeywnzwS1MShyVUMeFYCjUo2fc/0p4u77s7h6Z/H67su3Pv6YDLR5yNuufxlgr354Z8Wt37z8onFxGQuWblejc8Mvfm7/bXlvip11fa5cDo5ure5tP/JYh+sh6eDd90ePlwVwT0XAJEkaAqKc26FOjdu/d8mfbP/0537vO6/+zmgwV5gMn/vk1usH2e9+Z39jdbH6cn38CGQze3HpIrd1ETKFKaV7LR77Qf6tx2D9JD44t/3egxt74zWD6clR7jr9bsKNgBGpnvvhGSACGkOWWu9aWY9fvw9x3yCgslpCl1pjKbGIrkgpSSKTKksMQSjJCld7IhQ2ZC1isEQ2MjjrnAKosrJEkBgiZcBMeU3LH7k9Onejk9O15SO398zJBT/d6pdb8yoUDsPqcO9CObC+nT4HSmpPlkI1TD9S2ml3vsHH7/Pn+0UY3F2O3cKcDOqjIc3no7P3Vg++eblXxs9/mUk6blEpBSyqx3/0cL9DZfdM9rE7zYnDu7g5SrJ53Q9VDsY+LJ5OYblRJwiKykIcTffxCZcEdvmV/su/b3v2KF7X1N6c5f4kgWwrv7C+tn2B+7pWP3ueXz95cPZVn0VmIhVA19Sh8/xDOXz7iesaHsPvusXejpqba5mb3zXn7naogpQVSHnojv/ALzeAqmQFNAiSQIL14aO2WIiKQhQ0MSoYjYtgwCAvbTELaoyAMiMClEipMaQLpMwsfIyAaQQyVAkFo9ETVx5AXVsIYa/Fx4cXtuwnn1t9ss7NtetXNd2Y737t299+85XfeXnX202ljWt+lkqIVBRYR3RW1WT0PZ3XdqFOV353fbL9/r8+zt60wzsPPriZN/0h2+N/X0+X1foZuIh3r21BnpkaTWTnJP3JLqvcO5Ocr49jA3fj5qdXPpskXC7iVDtLqffO/MTUQAPKzBy8Ija6tru5aYOk6X6//Mryh4a/jEdv77Ksd+zqo8PZ1U88eDj3Xsru+7/9cp68+zxjiIaIQBVK3++dv/xBtL3+d3/3QlGtTJ9cfYV1AL2m7Hf81kpSzX2slssqAb/a+ywaAwpkUIVZyXIEb4/EVJ5jVFTHnsGa4IxUyyaEmGHtMSUkIhRf3fc2zWyaJi42PlpTR9tzBECapFxkRWZJyXCkIjGu6CSI9bXa/c501u0O1tPecqMb6kV598HUDPLy3hvvHL5/XMP3EKStAIIoUJ5oNAV8T+z35Kj38kp9dePsua2HTxYzmF+8WLpmMSxvDN2z04N9WZ70xsNPYuSTClMLquF7vudhQyYcJzeXuyeu1+w/3uGbmyzKg0GoJGkm1Y9t9hYUBEBYgdHGdMVd7xaTvct72/Kr86/+I3Hvjt95h/Pwm//oX37n3Ojt46dWU29Nsx3LM0lv8XzqIhAiEQBmULnvvXVw5/DuyVelmXbN5n2Yv/KtXX7nZJjYzmo+KGJZ1h57cZ4fdh9VMm2Ml8i0zVPL6cSlJSMAASfSBHAUKc2dssLMpiqusM4YQhCu/fR4WkefOGkWS6Ho2RpLSIoyD16A0Fj0y6rUxIZKkgxeGLmNYouDOVkdJriUrmxr1yymSzCLE398vhuu91eXLk2hLtml6ANgWGSXk5WjMp+qf+LLcq/P5/ebajiqdbm0xfL1W+dM/uJh/+69B6bij2jIrAXheuHdn3hA9XCexIEU7szDX/l4fvSw6OK86fTHdc7GJZOD7OMYAcmSMmvXQsxwsteAKyY8PTy7KB+bnX1/nIdU62gX2de0+/Pv3ryZblANWfEkxpX+2aZnY2RhUYi5yOX/fVpjXsxSX9+YHK3lm7CyleNkr4Hp0neGuFiwgaPbUjb6xGlLTxSIQHwjEGehMoHRGCKIFBsvoH63TPpdJ35m8sSlqXUWAdG688PmZMnazDw6qxLYV94LALnYdA1UDGmikPcy8JUXJBMvYzoyW8bpfG3KmwdIQqYxsHqxY/uf//zKhX6dd58ecwCpvSFPBBzBuJ2kljn1pvETv/zF2ys+1t3uNej5pjeFg5dMwXtwaefW5StpcTi7MtBgkZqYmv4jA5Owq3Bjv+tXxje+sH9m9dyDUO7Vw1Dszwugtavjoz/aGEJhSIs8bXJjdI7ltHQPN6+Xn7u4+RPnQ5nM9/rI2xsHyw/KX9g/c48uVPPXj16ONowXb5Tb0qBYZDIAFJLH3EV54fFO9+HZc37v/uLtl5ZXzu7tX0WjtU8SWc4qIOgUK28fDOLOE8Zz2gsWYyRnXEFgqtHrY1wmWE4H3NBYqVwu7Tqc1NrEOMFqmYtVawGoWrhOpXFWe2OO1kyEPMQwODECbB2yMhpkCYJqIGdBiEFtZ3N35sOm0Twpmnh0Zo2WK1M7vmqr/ihmF29Td2gfeUl5hnnqa+2gAgHSOfVLXfrkpQufOiE+ePA9cucrT8ni+GL9wF0+M9HlxP7w7/Ixn00nhadAhgqmgGf7h/fWyiTH7ozKA4nneT884RfrcGQ0vPsoSb6QzsrVtzugqmosLSdZErLj1bE97C9Okg9otSY7CeOTa9v14VYdt+vt2ef1MKX6LXn20eJr6Ybcm7t0lra1AVWHf/Kd9evL1d7W08tl98zNvSbWq2F0XNa+t9lzRnytaZaUmcVJtoLoAmrdiSwgCIA+dZMP0nvrMcmS6CZ1/rBMkqUQ5CQxD814Js2428E6STOQSpPaR2Ul49TXjcNeiHNJaWxFVRWtEY9WjY3CYsgoQ3wQcoexnmXcDUW/OYOzdHF+586T3/Pm7XI87PmKm16tWUKZQYSliCIiP2ISKbpl8eO/tPmDA7MsabmzWNabfHedUph0lz3bF9y7QrY3LzBtDHIKLsbtJhTEwwdnFnbv5e+71v03nzxzsF9J1hiUpoT0sJ/K8dYnPmAjgoCKHUkjXY1K2TD/4OFlCN8d9NeeOSr3Pzcbov/0w5kxl7/9sfHW0e7hFfrmE7Q1Xx7p0nSbts4LWX3h3M/++dFe/Rw9nd68hFl6Cz/e32WdNmlTZvUKm7SRWGall2q8liWKRPXqCYCyqmKuWL17+cG5xqehTqo1ZdLE53DSDNbK/ToZiU3DEptUUdVkaeWDqKL1VqtSMGuyh9MgprasICKo4JGCoSplVatom+5i5MbboFb9Ud0hrgeSDXm8vf9K/1y283ZeV/PZdhbLwpZsjAYFIgLozm2UIdevXa9S80p37+7qolOYh2tZDk59rMzi9eres71j04mcRSbxqAnVAyKlg3L7jauvJo/+3rXONeHtan2Pz05rp2u+6yT1+/1n/5m3qqRRxGms6yqvNh72tfNsYu8PPtndzda/+d1rj049FzkPnxr89lv9qgrXFm9L+vZzopeuv7E0BoAIEJadu/5Je3+l+53d/cnGvt+58sFru4PjxbfelY9t5wYnQVY9gc+b2I2zJl1/s20t520qHdgXO8vBW3f7sdsVe7K57yuuurlemBzt5dvmaLPxRdOAQowWU4vTKAJKVA/SZYVA5YW7zlbYs6SoAlETIiOESKDgWQmiqfP1blWDzyuY1INqSyZdat4+2fFvPvogOfaUZpsbhwHa7D20gEylk06qhVSDo0fufs+j1WOvfbwZz57GauRDKFLTz19Zhsv+9oAhL11JAYSlZlynik9s9sGZ/dd+4NLZ3XvDeRruHXSKw36WDGgmq6Ww1w3v9JQyouRscuPRzaawR9o5gvwTr5mPyPT1JzshSe4+vLY5yN4/f7Psym+OrmSH6ccf8HE36fm23oeE6WynHF/BDw5G9//UX39CR/BN+5Hjw8nZpyfv/85oNEh6dm19yIjsHKtKdV5cYFfaRCUyqg7Hy/DmU715tykLs5hsUmc5hPPBd/INf7ibr5dlAFE1JeYmcfN5jKygJDBIp8F6sdtfic4iWUZFazmKIXSIOZ7WVO1e7z26uHeS1PUwwRIWNzn6pHO9OTfYuRGTXUwzDNy9Pahj7mIAQtAoCvNl3TE47Dfuc7/yj68f73z8t/xjo/uS1JyGEKEYbz33r1cTp1GGRxwyAWe0xO4wrH5QHF62v7Hz5+6WsiXOjvZG5Zj7kjbrdXWCkMXJZCVVAVU1NllgVfn3nqp5dYzhbr2YHQ4eozLJH3l5dKG/c3NYFLOVzvlf3rq5/dSlZT97+3O7dnOy5F7ZFnAxWc7fnS0enGHzHXz+g+F4OZpNdg52bmXX+7dPyC6Wo4EYUuvjYjw4s8KFIWnSJgttmx0mkFgf1o6cC94uyR5VYY2GHxwkq7ocnS3H2suWYhHCMkltKlXbuga1tm7Qsa7w/XmRh7lVYSUDsjRBDKALQNY51rg8+86xjHmlWi6G42Pf3JLL2zidnH27TjfpuFO6LNjZCGMQZ1U4J4whAj148iRvmty+/YI++fZ3x9uLpyRmUQsFoYJxXt7c3SQ4foahf1iKkhpGMTDmZqPY/7XDz3aHx8tkfv2dl/srTezCsufFQOIOu5kgmXyhiCCokFtfhWVzdKkJ2WrsPDgfnhlgvX/11qd+69YXJmuj5Mg8SJNtdut4Z3G+98bLB8PqHntuK3CKk/O43Z+cu+n8D37tx/63L6/BpcoOXysuv5kmQyzSRNZ6DTkBqat5x/jOPVXnRTWQRkFSUi3DB8PuwXlMi3F6Em0BRmXeSUYO7twM26lrMglAFXCzlnWnoESqMpCxz7IqWX+7Tq3D1CYxRpTYpIkPDrAzUXCWfayPT+zq4kyTJdlxMl+Kv9qnkIdb9dpwPij9SdOzjNUgqxOMkiTeG4ohEjaP3HAQBK//+1E96k38+9OLZ7Vr6yrlWIWePUrOHePMNU6dzg0DSZNZ09z+KOlkuPb4s7funTnW7PVrx7/5hU5T9vpG+7O5rB35abx4aeoVjFVRhiYmncXd99zFep33wvr5ldTcHxXn7c2//307pniWOMNje/yCefDAuWNa3F3Q+eNbhatMC95As7dC2bGB8VocVo99tfH765c+2P7nz1wq4dnzuzfHq6PugguFOW4neGf+2I2IaRAT22gwYK2F0HfNpVVdRKjSwE7etZeRqEcnCD2jM8JO0yTRi0qaNzGyooqsxVIS4ky/UQ9ljok1ASyJKYJHxcpoXnOtjRqE16hcWTQeDU8vDbi7Bvde6Tz6wMyS3rhYMWVp+ydkPHWWzdDUuW1sd9bks3uxTq1gNhj/3Hl87dKrW09kJUrE3NWdWMwHw+KW28ah1B349QQ8J0mIxSR79UcTHcGTd//V45PlxqtPz/c+uvf6R7q7nQozb0vEdK6CywbFKliJgDaJnvbe/dHFuRsnIzqmh3AJs96d+73PvTE108/agLh99t18fn7ndmK/Maz6y613x7i+Xwgl2jQIvfArW69srKxq88Tsk1+5f6GXvdT317JXfmiwHt1x3KxthzhbHOfFpfxVeen1HKQTsQFGMipCpk7APTwjJ+twdG12nI7HSXx3pOVkkGEJWuJaYfvpko1v2NgmSMi7S15dHrtlonDl/fsmlrkAlYzAwtEQqsTgrTOUdDtpr/tyb0yNURfPdNxgpTN5+OynqmVlBrEcJXvHj65kdX+9Aq1s0XjTlD40pcfOm35Zb/YTazeftLB+p1NIg6kjK0E4sNRZjym6lUTP7X2r66EraCQYHFvtS5F0Nn9r96sPzh9d4L3PPPagXnXOgbW9IhpzoHd5d9azJCxonZBzPDva79Vmc5BsoZw/bk72UjxpLjx5lmbG0eT9k3MX42XZ6IbuclCmgxuWZpaAQxByWPFrx6NH9pYhH6xe+5Hwxs35p9eG168/tdyfTbAusnbFu7xT6sl0pfttwpZgYJ0zoOSwCAuI6z+8M4652JjC8HyWbLi01xxMenEtBKVikFKnN1hZSZvpNGovm4devpz73gTi8KZ3aCxEAms4qLXMAmSsrYKvGubGl98Z+r17s5PpcVJPvZ8kG9/+vTMbSSmx0qLjysOHN5qVcbYgjU7rRJvZkhIM+juPpIOb0cq5p89sfeJ8kuSDURo4yZPMokK1KD63fWv1AYF8686sSStQ4lKaOzdlVGlItl68dHU6guMyZBB7WbC+DNjLpn5F65E7sgesxqVOGmpKTuDoRrU7TIBvJd+LfuO999YvjXZf/dptauqx7oVvfOvfmlcP0wIuX0qaK/3XKS0Ni0QWANtr4O7l870prACdJKvJC5/64Su0u/7Ua7d+98FXj1OnZYwBq8n9e/vH8O7PK8cQo0ATQmgCQ1rantSLl57bPyiT90ejtPLGzPf655uTcegmJADpsLAFoXW6XNRsU7/s9icLZDaTpz+4AwkQgVogILAQAJCsMyYYCkCqAM08aeKRr9UzgXRl1pvvrqbLeiAH6915rdVkM9vT/mzQOUl7c4MCVkPjfvNzd/KPlKWL3Sfv3zh7xfcLLmsfMAJxhLiize7F+snDfvXNAQ+SRj1SNDr92k/KtJ8m1Jk89t1DN9v2N5ML/QfiU8GkVy7twaZeM7/mGiAkQImGvTNhfDu4xkjPXZbseobH773w0VgiRIr25o38afvyRefvfDS5u9KMHv3gRj1EarRF+dHYLLbe2P+Njd7ne51c1qdIyfDK+wcv7CzzO6HYJPGRAGGrf3VlPH+j8MogajQhFFRCE9D7zvI7Vy5+cFnxMBnND6xO+GpvN0uac68mwYbGZKQcBTWiy/wCR53ywDmauN7qP29S41HUUohqHflFC2vk2ICzoICYpa/OTVFpmc2oSKzUQzu6WPpEPOpSd6QjSUJltGthUuDYhqTr4tIn/pV5f605OtPtnLyOO5eP1gppKOOjk+OTSaiW1cmDb2TUnc7c7W81EPYVvaSZc+YlQpOsFHXY2L4sspGqWVlRSkvxs3EtMR5VYmZfjwOHsayiSTnpuricHL95ftwzx/FfH3QeCSurN79090jtYKO5/creJ0pjNw7/fzT9V6yt25XY+Y0w5/zCijvvk+89N19ekkWySqQqqEolqduyBEtAC1JbVrfRL3a3bcANGH7qd/uhYTjAD4INoy25jW7IrZxVUlWxKJLFUAw38OZ78tlnx5W/MOccY/hhbT6cp7Of1lpfmOn/g1Gxc+f2Qftq+Htnv8zcASK6g2P46O9/e/ry0b173fP5Cf9Z/uTV6fy8/9qdY5vezBwGRcAIe7TUMPrRmq4jS4wGBKm9Gvm1wyT/6OW9T7M/b9f7Xq2uzz48E09Ujidlmq9VNxabLgMxWx4d9adMYInv/P4DdgIshq7WnJC5FEVRM2io0KwIrfeL/ZO82wKvPSSJe59N7KMvk4envL/afPVza6v6mWlYUBmLQeu5VyAgdr//zdXd/t1XrFzdl8u9YdE32Xx91kcbrCPNxvdzNdKDW/8cBtjtcW9EmrN8+PD1G13iMItRYHc093tuNd6PXerOZTe07fDJS7t/N0gk2ravEUW4lIsf/ZXqoYzhjQ+qxbNUhJ/9D0ev7lYO3Cu/qP5UWO698vFHh8OXmvMb33j4exgyUkAwA0fr4mKK/LNhvvP+l/Z+0Bz+vGs27urmi3Xtqv3ZsJUwKCgts797AA1eFNfnHjQaIpmpb3maelyt/uT+gyEO+9OXdweYTx7NitSMTvZ41nbdrIit9Bk9IywOWZoeCy1W9e2Pv1+BZkbF7IokZBaK9fVBhMrRNvuDNdz90aBy075ACjTvb3+aBp+2x3VaLrvVhLCui283cVE3aVebgUhyJVvs8//3tx+Qu/F8r1j1L390eYe9jz3vjNt12nm+qG7cvLzhQe38D9j6OG4xQM4p6uKf/uf7T5dS3mkylXW2qmtgZ5QK5xaNG5crO3xn+Q/JfFN6NMvZW28V9+f9D77yiyWfvbx34/TEbdL9G4vTq+ne/vTnxU+Kxev54fDXXj57uleR/JtFLUaAhGpgttPtXU1OQ/xnx9/73f/VaM3j5ynu3DhbP39bXmvCerfnKtUwL16fqE7W5TJsj2pnJCJAj+W5L1t/87L7bv7qw0HuqCkOCBrjmuzqszdfMnTSND0kYCIHVlZ8vnKlMBfj9juxNABQ5NY16EuNipWYESgUtNXNA+ZP/goOHx+NLseCZbVsDlc7r31UpL1XLq/YrWMgTt/vHKgnEGnJVY6iYpjT/+s//+D4so+79zc82uGuU4dZh57wNo12+l+8Tq/MF1//g1Pqh+Fy1NaWzZn6f/2X7te9ZDlelHB1tNPYIC0G05X3oTMoZ/Lrt/6vq1RxEUgyGEJhvaQ+4X//xmvfsTfTG2ewP3t1veTjqkQahN+yb994Z/FhtF/d/fDs1iuTH/zrMsXaa/aMkCVDiqO2TrQ7H/zhb9MeXP7Dv1C8KMx//8aNdi/h87t9lqrk0aRUN38AtTI4AERHoFmJZ5W0IS9kuH73sFiN/KjpO355cvAOZLro3tsdN07bNoZSFRDA7p8mTW2Nfr5/+PcbFU9oMbhMhKYUMPUW+0UWKMnIOwBmuPj0zmy3enH2qcng8pIuv3Ic++HkpOlyefnk0Sfn+p2Vqoui6w6kzy6liltX2D/+3r1Pz7Fc7X0WsmIYbDax1I0b1sNqv8+vTw5OVncv/nbRtI0ftXkT0ZJod/WPVxOkYTA/iNYE28yXMUKBzGOZXdzdPz75Tl/mSLntjX2IGy3YFdB9+nfP38ZP5eeN5Lr88ldeffX1W/dfumPL4s0vf/YIu9t3V18EN/3J36GIY4rJLCUzQS4L40wQi8WX/ugiuckrh+v64id1Xu2m7vDw8t9+8vT5Bx9RiMEhfE9aFyXnHLdp/IJEOvWh4CoPFt/FI3WbZdGszy/GpVTZf3n885O9w3HHHnlUDKU72DlpF5uaNzw/dv/saSz7bGIMWDgAS5KTxCCGANiTI8no2sHF9L/53y6rz+dws9r07s5D6nj3Kx/TV3oaPX3uus3hF398ss+EqoCEToFQsO6s4f/j/+kOnX/0p2cLe+dPOm+ki6ZK4K3Y/Xwz9jf5+Uv2tx8hFy5nKTUJoMcc//t7f2O0SnV0C57bMkuiBa/r4vNgurjZ/MbFd2au4zc/IDQQsJIh9tG4b/5t+5dunxV5ANDHbnXHlxmE5Qe3R48O3bPXqunH8eAbH/2zBxEpJWQCMe8QtwVgA6fSVIfd5b3VT35zmEeX/qO94Rj92/nBv7TB8P47ZRGf2L9Gsm37jxKYJQCsxExFoVB78rM/fXB2uO6pX8Vnnb15ur98eXPOR7C7rCQhD4Zdd46azVjmu4uPPxj65DMhIebWedCcFXgUJFpOCdE5AFCfD1L7z3+9Lu5R82iSwuStJS3O9PDxOUPqNxf3N6/96MWXrjokyOhZQ1LMUZlcHq3+y/8b7K3/6J2DJw8HuL+JuJ8iLs0OnY5Hd2bLO/U//fvBMQEVLuq21teV7b966R1benJrP0rrOOAi5lUBxz8qynHxVfnbv78OQT/bHtoEEwUxBCxW8K9/+p/+qV+cneeueUyDzajmTZvjl9dzbn+lPHbjz74++rvNv2JfsDhiNDUgRd2GQQ25/f0fvHnvxl+bfwx9/1qP1mbXy2s3H3z/vaf4+R+OXz949Z/XqZJtykOFABCdM8tihrQe7s0+7t/ev5h0bffo/E6ho+e+Pdz79LKYD9MowrBD7Xpl5rjyO8P3H82kd3W3Dc1pxP8EVLOoRafqLZpGDSXmTLN75x3u/85hl/v5oN3F28/D5JOT127OisvT9YXHb/38O8mqSRMgQcnZiVqKxnRV991O/X+ooH0xf+fh1N6kJ32P4xNXELTtTSuWx7t/77/NXjOEgiQBIG7HRpvf/S8PHnehjs9gMQ1Tw+zdgb+Y5cr28O/8o8XNRc2pJlAjNBFlZ31fdtDhr/9H71w+nR1MYlyXoxu7ovmz1fE5yteqcfqwsv969VEmBEAyGUDSYJl+2Wc2RqPBdPhXv/Xh8UvfWU3L9lf99/Jr40GID/799xZ7Mv7yyb/L7BzSNgO4DdySpWRmSKlqotuMvvJGWw5OL9vLm/zSuIx+f9mMlgdXw84m6z5v2GnrQqSR/x9e7FSd7m0CZUeo5y6pIpAK0zYe7S2BoAjdfl6Mry7+7Z8tQu58XB/P9z8vdodtN8K+t2pw6+Pfo6NusgbaHjJqHQoENLKbpzRL/4v//bc+fXMzFCinXRv3i3CQWlr6OzLHtzf/z3+wPFB2QJbEg0k2ctav+Cf/n//5rdWzWVien92qL2lTpPL54eHTvcsv/9G3f28w1cJ1BxHNFAg8CiEgZj8PO38y/5vfeNY0Ibx6sDYOOc8vF3+u/3/f/vbRyzeL7/6D9UU/NFBFMo3uOnkKaoZI1AgWi87/N3938LUb+3d+8PHux3/KF3nkEr023PuCrMB/G2Ix6ra9AnCmCJY0/DL7r9mCLH62vpX9vWI2ccHqHtfe2AbgupRsI6HIGae0Sv7d708m1Ay7tWMkIgLE/3jbeE4FpcQWNRhozsbFyd7JuMlZf+ud5bNhWYzt+GQTNH3t2dPi+ez14vs/Pq6vBmAYSIRMLWASNInDuYhPDv7S/+xFcdi+d+v11QdP8jJtRqObN28efbFTfvHf/XthLepCe2NO21I1YutwPfpzf/lei0/nl/WkcoM83pBcHun+1T/9J0scNS4MV1SwiSADoeWsxOsAbe8r/upvvLJ+Jnw62h/fqOp09ekhffI/ku/P/vhFD88r13HwZuho7QFY1cE2e0kdVxQ3fnixo3Dz5Tt7u5+1f/bhzju3muDy83cf6z/YO595CrAlYUBRgRhUkmx/ejlWuKCyz8UbL9dheFKUhSGz9UVFuQe38aqOkZqmqE8+mAWhovMS1DsIZOkU/2NVQzO9rFDAzAExpGgMkIp1M9loO/zKr/jVaVm0+83otLCdxYvnxwf/4uxwxgddLpTIVJGcmklWZGiPzjbNrl/s/me/+3l/s/7Zu6O9sKp0WK73x3fc6Xv/4E8OirP9WPkcoQgtMWrKEubjmRusv/JXfuXOF58+HeYhjUc15o3cWf7s7yxD9uj82hc9O1ZF3PZ0zPmlFyET6vd/6y/Xn6bh5iCGZG1auv278uJffja/GJ8OAy/Qe1IIRcdqHpQzggEQokbIrERYSP3ynYM4nd7/8Gr/t16bx/Lqez9v/13O46wHlyWjbQOWSEwESwVHgEiXrurZrzVXg6/cLtbteCQh4YqDFzXvRF1KzLC80fz0MwmIsqsCg1VwEBDkDP8KqCoSLUbcd70VYBRYomxGfFUAbMy13WD0raN1ucguDObPNJk+O61DO+Ke1QpAUmMPrXrroGhINpNNvQ7rkPa++c3oX68XJxNPPg9Wtz96L/3sB6FaTcKidrw9j5mzAoHFgvqIlMOvfPUv7q8++RQyH9EBp48/+/HnB8ugNEnK2Q02waMCbFtvmtUvybfqhNTdvHX/rWkJn9HuboSgf/Txk5PRBUUffJ7fiMmIyAe1qAUK5q2hgBKixWEWaKa23qnnO7tf239eHv/K7l7/8OT5ux+dEBU6bEtgEGBQQ1RFZhXdBmyHqQ3UJq975/zK13fOPRQGgZO6OFBsR3MEpeWFnT+XsekwFTHejRsyJ4wMl/g3BJc+UjfqUJqqagZnO/ODy/5gkxVNgVYImrIv6skAJnfCxSXOLpsmVQTmXLJyPkKsrIEqQNsTWoxmWFjjzEQA8Wt3j4aHx5W5uDr94qNPT7GkTusAapLRM7AYseUESR1JNuV676U3XzsyC7o4++jdD8QIyTkFREJE3t6+MQ0ARF0PImqm6rOG6YTiPjtfF/3q8TJD19rW62FGTspsai6DJ1WYGGhM4CwKM6qpbavpgG58uO9yt6Pn6265RGYwdA6cBCcuAoYAfW9SiaXsk9+u4YKAxZ6n029koJSH+yl6FwEaK1xczS4WPSISE5ZECESUAIMQnePfENr4CB0U1hsTD2bF5TRtqhaJQGJymiVmdNmXtUu9Gks04DLkHn2Soh2AFdrDAFFiBMakmhDjL7ObTYkCZIiixszUFy4rkzpEYEcWzQAtS0iKqLo1YYoyhLZthdN6aMgIxNs9gYR5e8Adk89o4pKKGhJAsqzOW2aUTEEjqudsmP11ggyMCI04KRICe1LbPv0VGEQhIxNqloFmdU6iG9nKnKlH3Bb7WAo2l1wSMCOXi4yQsXPXobMGULP64KEcOqjHbIMyq6yrtJqtsxojEDneTukhAas48f7CXVLpSicqVQeVdMWGDdtBZo8ajRCKjC4IIOcotLD9BrxP6MQAXeDE0wDKRiBCzhtVK2DK6soeUAmQdqIWlqmAnETBkE2ZVDE73vrgiGjIZLgVb3pElKaBnsycwESQGVSREcFEkdVMxXCk4jA5UBIFRPBkOScAdR41GwBjykUhccvWGTFjFqYtfeRDK3BdAyVQBS5FzND7BKB9RNuIJkchNEDExGgsoiJZDBDVstOeGK4rcwAQDMiypF43K0gQBlgXklMT3fb3w4DEjin/kk8CAxWM7qDvY8cuIBg5r6mpcNACu+QkZke8MSAkw/Mx5FD0UdW57EJeMzIraBQwNMPWgA1CAiUkcNd5SKa2Y48IKaEryEQoiyOg0KOpKRpvixnYEaGA2kBFRcVKl81HLVrcvuduK54GDgEBASlnYs3ZX/c7o2NiZWrIOQUDMgCNCIpIQICKjCoqDrZaLAAQOzFVRUDyDkSAmeL2LofszKP2oNclS9qmbDGycyiiZoaoqrQN7JlLaoAMpRoqIGygQQMTZwZEjIK03aa7bSsREJBYv3bzMNjVdtntthD6YrgG1DprzO0gWARDJUbJhmW9PQtcZCYiIiO2PiZXKLMiY3CQhNBcBiOEzGKqAFA775PlzdhUMqiRAG1PCamAc4gIkgXRISgQWlJDzwRRM5Co8Bap4O1uHoJoxMzIWRRg65yZmRnqdodZCUmAiJJUA98npOsKaAbyYasAGDNEB0ZkamTbUnkDxgiSvCqACJohoQgEQzTJ4JwhUWkdSAYmBvIOBL1TBQCDba6KOSEDOuc7UGVm5zRLFsfbz99UmNCUORNuU2vO1n3metpqKWsZkk8yJNWWVACQvSGjkdJIuqxZQy2oZNFKb9mUfafeJ/QARGCa+goNiLFn2ALIMRMmXxiJKbKjzOhYNG6rQMgNghkhBc1iRBAhqyQVjy44jsldy3wKpoYKsm0RgQBv48aIoKowzAYuC2RTRBCremQn6PS6deQAjEjUQJEZkkNT0GyM6FCyef2l3wYODTChIXlX5q0css33WDY2E0C0UnM2G1YJABBUyTnQDEiOTUwEGJRAYUkukG4zmmBmCACKqls/lLxT50JKSTBoctBkUktZCw0Q1QAIJIOpWYRibE1KHSs4BEcoioxcp8r35i0rMKondZDBgSETixq4ZKAawvbeqVAQADCqEpPRtsjJtK00IYOSOWQ0pWixp6DXhTkyAAUwcGYihtwXGkGcFaBihtvKKRJm9I7MLIhuEvitaIIAQU1VjADYEM2yKJjhVkYQYK/ZkAgFAFWMHGUlRMzsAIAoo6llU2R0QCZJlbcGGSIBWFYkAMmMiMyaMYg4ERiKZiRXRAQlQAyI6BDFmBC9kOu3ByzqlldxSiulinOkMWdB71Jv4z4qoEFCayKXJmzKll2GLGQ5VqImCup6ZcsUzEGb1XomJsrZQkcORSDoNjuIljJ7AkFGBYFSVcFUMwIR5T5oNiEzNk89Ql8gIsk1hrmtOSMCsiu8qStSNFUjdskMDIi85B7IF+JRwFEPuNUwRMEMnM8IAmaQFAgJCVVFoKhWSISahJBZAZ0wCKIp0TaZu3UaCaKikie4LIsd3sRNaYAIiF6ASbMiqjJb3gLG4K4pbyEzA0KsVZFRVR07pZzdMOfz3bWkTgqnncfcO/S0ntfgggNNLQRtyEMaNzDY5KpwUPRl2/XeTRJJiSKdI4Q5jpUWwS1rFCKrSHoj9tCMdKVFluTYIngvvbPQlWGjGyxE6uQpKoFi0L5YBy4TKlLKRcCMYhWwQyUCvbZgaNtLUpfQRDMhITBDFgJ0KXPH3otpBBFgE2JTEdxGXEGTsDdRBi0MQcG5HoAZoAUx0mjONQoJuEHHTLQ1ZBSIUUmpVAki7CCmQUwbWfMETWMPoVoTJnY+lWaiEZwXI2POKD4IOMyFSwJoPaJuvysw6n10UJoZa9pppRWpCIuKm9aGlLqeEFyTEYRNoOsJjckpb7Dx4BygWW4JzJIa1DkyFNpDtExgRq7IMREb1qFL5hXVCDQp+4QOupLIJFnHFl0caEiYOlIuW3KaI1WREL0hkGUEyIbXZA/TNdtqkpU8k0omIhZm5q26BQAmHsgQRIORAQJuP0hQpyoKxBkJQSWl7VIsODHFYEBBM4ZiMDdFM5MSVA2Y1VLGgnnjApliQUxZGDtyXPkUO09kCAYNICDTNYUC4MCRSjZn2djRtbih4MBE1dCJB23UVNA7ytkAMrCmwhiRzGC3BWCkPhkVgJiCUCxzqaLS5cJicA5VDBwIR0hUSXKesyNC0GwybJpqlNebsQp6VBUGxYJzmZz25ggsVS1m1xdUFapJlYkEPajA9uIV9qzZ2zazJ9tNriDknRqIs21IVMwy5wwMAGRqeTvffP2/ZuIY2YHoliTnLY10DUsSopckzJpjQdlhugYUbPsPAURSRvBITKxmZt469diDC6HwfXKMagZUX5//MCQAQMrX35/LxkxEGdAMTYvtgpA4S5IjudBi8CyWR5z6Ytj5FrfHgVJP5hK0g8yV9JjUXPCsidmAC8xRjRABsgPXohZOkFCNISs4ltyjt0ZwsF03w+vXEnSXvDNoe2mDoBUKKkSFy5LKPnmPml0WVWbeDmSJWUWvG75mBgDkUEQEFR1BlhKjIBUhqSKBSEYCAIKt/2CWSgfsLWfnfY7bz9XAjLdZVMiIoExAlShqBNo+X20LSIkye0QEc5rBY4oFG/uSkmqGwKWXrcHqxJAIETaIoMZoZmrsDAGZFMi2J4lAiJlMk3MiRQfgk+XeQxGWdewCdhsveRvHMacuMnUCEZBAOJZWNnGAJtmnjKLEaFveySG1WUkUGAAsg7F6TIIOetwaI2Vrjnqxade0vR+NFjG0VVdQXbY5ZgxOtlBRAmdAzEBqImYsWYx4C/wBkklWBeatjKrbxvn1YGkr4W3RUr2mRhgli2lPW6qKVMWuZS4AAOg9MRL6sm5NyXFCNETgLYNlpshMIoJq6MiB9WqQEIY5gZqJgakBcgaja47PAJAqIVAydY48ZDXayiXXYIChowyVgGhEp+QqberJpocyJSMCUZOWhGKJzH1LmYE5avLZBARSpxRUyTFa7mNmJ52CQyPm7CG14ryzbJ5jE3jbX2z7wK432EAIIa/zBP2qiEUm2iJrGkyzEmV2qKLbH5YBbNVfQEEAIKJIRGgIJKBi5DtvCJYFr29VTs0A7Zd4BpSQRQkZMUcFR4hAAERx+5qEzhGrqfUmREiwvQNdQyOoYCKMaiDM2ANzFkGJSIbs2NTSNeFXqwCoaImoit4BoWwzj0xGYNewKXgVNWV2QIYQ+k4YfUCL1iKKgip5bylZnTgTsuPSkrMEaNRbS0TkvZGrWgNNSmSCqcyQCqYt3ApqnhHaUGiz4VF/fUIhAqkyS2kpO1UPHjFhTFRgAMuGpGIBxW9JHQEkBATYyoggigigYEAeVUy27W5m9ibOMuh26ge262amv4QAVZSZwAlIskCKgHw9CkYEhMKMSBS61js16P31N2kmRARWZEUkpIhkpiqBDQwIGxfQiFxG9GiGyYAdmZIZIDm3AXfNhomSN9kGe80QzERRHaOJFtiPgLOqtEVnjEyilsSMqG4w5+gj1WRE2TKWTdHXkFWxT+w9mOSMTFx11DlHhKJouWojVy72g01blGyUhBHMtCS/icriKEFAKBYOvZYiCAbAQKwxlrWsXMroiLcfn23JMth2ZcFUoAbJYkQ9ezI1MJWkqEjX3pwZksPt/QwRoRcKTramMzFkMFZUk+0FhuASFB4Jw8ZA2G+HrQCAqspAmJISKjrI2QXMqXGk6NmGaL1gCExUsGRDNRURKVUUmDARgVlO3syCt+wNaDv9DUSSI/61nMFTbEXy0flwlevs2qL1mUiSQs6j+Y4tVQfJsMbpmts4Ocv1i/1NgbEKSz8kE1dRVgMw8yGKGqgobm8IZH6bX10UBeQESEmJTcxCLmUUIaRMHvquKCgJWip7cWhUbAwwRfTZkIp1mVFcDtFjFxCD9SqV64dLG2+IQA0JyVujAeMWWxABBADCkBXRkCR6EZBSEH9pZSICgLv2ipSuDVtAMDDoHSOCZKfoUbKBj4TGsVBgsiSBxTxiAOGkwcqMbNlB6wrOUYjaQRBxbKimiExaaGQHeM0WOxMqXMfvu0ROIpgbWFplHbfTOK9kp3GZGFKrVfaznAc76bX66CiiHj2d2xokvauEIc/uaTWjPZjT3oVtCfCQ1bJAQDMDRurNkCBGh2IpGRI4RiXqiUGi0oydJHBDNPMsGqyUHgI2oevBlaZWmvQmsQDXBAmx4Nx1zpdAM+oGfeNMkcAkaAYky4wGxIa2NQihVSDcmsFMAIimSKjqrk3UtH0EoG5fsMCryvbl1QTQEEAzynYGEIBYVDOBYQywlQx1e8PwWTQDO0+AzoFVlDotii3qtSWcEETZHDsvSRyAKqE63mK5mJrRaHKu8HBUhIVKdXkkSz+NjVN9+Wj/rWGZ6mlaPVnVtHdVz3b+w53/ursMk6uiq/xKvFtPxExyH6nETXScPagKgKJKBpNcg4khgDjGnNBVXlCB2HkWAQp9ggKysW1fz3PjCpAsMsAGFHnQk7B4wNZxQJCURgXrpmhKUfasokmYEPT6oW0shsSqBSBoRszCgIiGqoSIYGiAhtczFWaIdK2tbiG7tAXKr58zhCufHAHmbbkbtiq8okpGJZNYKwAIUt4+/MUQPQa+njtHZAAmMdQspkhOCTKCJVf3MbPLsZikBzgadH076PY76EaLfjhczIvl7tvfvAu6eWYeeMDMffurw1/UX/zov5C/d3mVEkXNqfe+QUbJQJpRQIAyiKiplpazOfCookYIyRREkJJs+6RDFQgInZllIjXqzUM0nx32CZ2PmkbWbcxDFzq/hIEaKKNUKXV1P+m3v2OkJMBI2/Ksbc+igqlZRoKcgBFMmUC3H/cvlaVrV9nAlLdVQIVtnjVd9+IzgiqA1c6h5Rw9M8AvE5OmEVSBCDRn9iC65SgJIBt5ZhABAgREB0ZsWCRQQSaX0VQAk2MCU5GMPb0Eq6viqIM+ZZI4yYvGj+3eb31z8cVi416x0JGliDcnDyfug7f9d8Ofxfd/dlLHbAKW1CHmhN5taARrGTaOgbZWtYgQZcmKSICaGAO5HIGcWm5V2aFIKM0oWAYEAlLyolhhbKoCYzi6Wd1dtC1EH65SXl/1rC1jLdoAOoPtmgqTKCIyGiCQIJvqdqslEDIZqToiQbS0BVoRETEjESFQRuTtiyQaqGwRMkIAAkRDyNYBmIfWMwCDYm/gTaAEh+wExLZDarl+1SxAJTNY8o7UgFFNCcklLpRVIjCAIaBbgzODENL++oymHHMVh3PseLgSbPJbX/7G+hcf473j3dhgxYtV4irvxPbm+tbw/Ccv/dXb377MvflgeeA8EAD3FUUorMnMYITak6eYMzgDMzRkUSAwYWWsksXeB9KMHsiSMRgPJFrQSKqgCoFfv5WGw6PNoDteH37Bc5gc5U8+e36aqXNdvXRIBIbkkBhNUR2SXk8foAJiiURKwBlMgBQyo2RjIIDrh7GpIYIjRjBDRTATUTJEIstioIqSA2y/Xri+ilQEPQNfD/5oqzwTGm3nuCMSI6jKVuDQhGoAqNlUAclFQCTlwqXrAeSwiXlw5cdt7AYjd9kIunb41bf9v+Lhazd0vtaI85SmhwwhutwM4shun/y7X7/5858/G4YV7M3Ie/TAzYgXMoBeFLN4x1suRg0IUIHwlxV/jg58T+Z8gKTkRAy0v17MVIB60wsObtw8uHk0m8Sdi3GnTXO831etrYavv7ZuLy8/HA5EEjEAMdD1youZmYIZGiBvM89iWRGMzETUBK+HTFtj8npZGv12+IDbEgWTgQKaJDMVIBB14NBMnEMBi+2IDK63Q6mCknIAQcwjFWUHunEukAgiKhCiSQBBhCSoakhMgIxqzpWxF5a+Hfjx5SDzqsdqzTM/pGVx79ab/IvybjFqr5Ck7ZZ70xpK6Ofz9lc/W5fQv/3x5/ir1Y+f9RWuC1EhzTrq3KRfu90zsJwMmHMGuOZrERA7YAJARmQxdSjZCBghCHhNEFybCCOGdcs3Dsa7uzuphdGz+ex8Eun03qq/aobjt1337Oqt1/52974vtv6rJi9KQEjXb5fGYshs1zNIhImI9fouz7T9tOGX6wvkaLuLA9Ab2HbgpwAoOQBsrflqf39aVKkJrJoWixdEkoUcbTEOiqUHM+mrHC2ApgosApCnnI0YBHj7tkSBkWLMpRJrRsO/Fk0TsrZ1djbqGs9zAr/kblC89ivNF3AXPZ7e6sq+GbV7O86t1+cf7/1WuEyDp4Wl6od/+sq+/bytfMNa9FUxTm3skyu0Wg50HgKuq75lS+wkCziEaORAkbVMsKq5EgTjAMIS0YN5dItRG1Fbu/Mb50V5QDujeV/28Wh9U8tF6FZ1SLOdatSdp5Pq3S9OfUoVdxVsrzIilGzMmhnAgLxLHRTWSCEQJThXTsrqwCaiy80ThhPzXa3qzWoDUwoM/VbMgWLJZRTWLoAAjfdfurlfOuSwVlVNXbxYPTw14mHu67KBUnxvng19r0AMIsysWYBK2WKJDKrsLXvPkgFMXQmS6Y/xbyXTXiH1uTKzMNyMW1uXNk/+d7/y+fOJn8yXoR7l4XxUDkjrzem3y7/xvTtXcW/vdDw6c/yzL7/04Xc+jlOm5GNhLpvHXkB5M+WNI00pUtAetlB2liDgLBmXqR8btUQIwA7EOQNvGQmT9gDk7r5MBW4mr4oucmW8772WF8u6wnUhGIsbl6uVwuzZH5LrucI22HavLYsaAqJt96FjiBlQ+kQlQT09Pro9iEnuFnE9txl9fvF+VUrvK8sFEwCqEIIBIDSOU2TObmkvf+loZ78lxSoU1Sz1Amj2rOyePbvsoBQuHCJWfSYU4+1pYoDIZLI1f5gQgD3FRMEZMagRKXkThT/Gv5YQM1LaNIdRexp0nezNlsH8N9+avdidXIVTN4Zw0JTD22d60n/wpff+lH/Gdx5OD2/tPf9Y/Fk7OPT/9MPdzMlb3cdRZmyTI14PsHWgfpYLSGpFl5ABWbMSAlAOyhKylNsVLe1rVM8CuSOEPrlv/vaLWWjeGj6SCgGsHgzFfGi6R/Hh5HC/MHt5s3qGevvRf3dSVv1O0uvRLYuBZvbXUjP0aoRqWJaDw7tTphtkwYqYBw3pop49+fEsupyLOjlGMMlbyRNBCk1mYvCVX7k9zJs8JghFbmFLn5vaC9htPvp8qYVKcOh8n5kNaCApiV1v/oGt5wKm6jynzGWhCqQJfWFkavB9N+myZNU8wIB5smqxwmXaIfoL+8/Pb5eXdnZjA0NKRdvsPNPJZYzvfHZj+uiGf7veuXyQaTP47Ctv/ZPfeNYwI6KX7GLGpOiKPqVkREie2uwxK5Im9C2jMucNgzNLHLIhmSI4J1ECYmHi43o8ffOPXilmX33ksNrB1appL2nM7pXq95f7b7x1uNP8SB7uv5k23cPF3/o7Hbn5QLezvLaVxoWB0KmKFULUy3DvaDweTqp6OFy3YUDZLfzApMy/8tIffpCLCloSMyTeOq4A4EwYWn/8zbv1cj4ITkhWa1NScp7RNI6y7v7OG7/4wAgyuF6jAhJyK9mQEdJ2SUbxelMAi5h3mFkNTRFRxXC7jKqGptnZfLiujfzzmopV+N03frG4NVgknma/d7JXzbr8i+bqfns0Ije1G2dfDuHTn8K+1P7Xf6qHk7/472IgSmK07Dk4lSg9KqJyBDT03KkYUTkaW4GJ3ebSL1NZthB0e9UykuQsgHnUpK7+6o3vvXP2xlvPCiRqlouUo09YHnfrd3+9Gh5km1Q9v5Cb8ws8/+x/83+R0Wy7sgVgasjEdg0AoibMgnt3jo9GJXsO4VGAZhS68xImT15+wnw/jT8+daEbEgIwo+l2kJUsmxvd+/JdXdGEMawhbrignJBy8J7IWbMYvvwyvb/cccQth+08LRmgIxUW2wLxDoAcmxkgmYhlYPau1O1mV3bz7LwHNUE73mxi0ezunsjx7ddeNAM/60NM05bC/PTonOL08ItDTy9eX18d333sJ3TUGOP5jRvLP/uj//AH52KWOyVHyGYSe/BI2GVTIba+wXoyHe/sDnPatFykZtOvTlZaR4fEhM6tk3pCwdF009m9wfLl0xsbdfc+2smzmU0IC8XizovzvcM0GZ089z3P3enj8PKzr/5c/6v/qj+6KLYTDCBIQM7UTAFUNVDM0zfuj6gsy7KfnYxiMp96SLubepqexMXrb336hx/ZjfkWCt+e4wBT6Bq//9orN80R+ZziVYVU4nqDrjAExdG5jeRF99Kfb362GQQswG2nTz1mtZTy8HqYQWxJGZTZYzYOun2/zWDbcZ4bxm1OuSjdjfViLGG9Gnd2O/T7yWgDe3G95xeRLvZdObr13q6c/OYf3v6V0wenU7i388l8BHV9/w9/+PYH3/rHGRwaBO8siffGjgVNnaApJdyvb792Z9c3az6XgjNVU+38bAHRGTKi85LQBct4uWj85CtRj/VrHyyr59U8W/TWJ65gJ51vbt3Aae1X674fZiy7F7PRN479//QfnHkGQgBA9ijJoZKBIiImtarOC70x8LJoU9G7UVE/6vdknN44Wzwqd2T6usaPL5C3TemAhASibKM7b7w8TpR7Htp6M0jmur4jciE4yLb0/SbsrH76jd8p329RvTjWDIBrBAPzPqsqIEIGMjOQAgxIEQUhI6l4QFSz6JpOELyjrohXMe+cm+tD2r37dDlyTeMKnqo9yi413fDFSw9ut7eXP3l7/ANZHW/2N2FnMauLL+D1x0P40r/2UBqpmzmXxRMVfWrRYdESo+n01W/s7Q+86OoWTSZwckX4tPhG+u4JX28sZA9CmhOP1mOOzdPbiy8/womGNpYD8FWCk+Lgzvlc0+y4yqWc6S674ZP5oCZcLf/mn3yxpYAArahsE4G3BCYh5bT76i6Nb49zA3XZZdorr5rq1q0P1tA9fFC+pc6Vr5yuLwDBjGh7BlBT5vK1bxxCjn3jj/jpVTUCX8Z1mhYoDTFTwQa2jv6D39lfPGPNPrisGdQx5Cjke9veZMxXLtTO2qYnp7k3QkCHqmigWXtXUxf8fDFZh+W7A73UsHMyrn47jlNa2NGmrvWLYX2lcLxaPb6a3t0994P8B82dr2L76Z13xidxmUapqjdv2re+356PWq45gILk6Mw8c7yEyNiMv/yr92qPxIW/PXrUTIv99SBdPH3jP/sHTw1jEQeSkUhaF9TcaPNXz18fjc7up/NJXO1NvMXzfHxU6OA93vADLJ/nvUlJwucwPJn2myF98Gufk5JRxkpSIl9asr7KcbAZbnj6v44789HQwtngrEpX9xSHD/dCrg/bP5rt39kfelb71s1/9MzreiwM/f7Crb3v3Vd/U00pQVHni0UoJ0j7V+veYYSBT8llVVNfdcunt99abIh+SfQWSdUYo3oSKAblIByXxf7Vznye9MqfQReT9ymHXKi4ADX+FVCmlLnxPVKYxpXs/6XHx2fFeVEYd1ObD07amx99efY57715vn//n946n9XHt0IZP53f++rswVObYDudHR81/+cRuW4CCSUCQ0KTjAw506W+9sab7wxzjnEwl3D72Qrqs6cDjosP/9Tv/t+/M9Y8WRwszDsARk3+/D8Znd4cMvu2Z8UbL9qKewtFODx5dlH+6sS/WLXZ1RB9Qlza/fpE89G//JeVRzBDCYBEIFKv0Umq1vHN10d/yZ4D33i6XHgqbTA8KapCT1JDN26PuCz44gnXz//bZ+yCRa3Fok+d3v/t1y4sNDMbuPl6dODnhassu71Vdo3iqsJQYE4GnX558/ceH65KJs0KmJ0lgZzq5Hb3aqZchbI47tqSh2dX2ue0uVwjE2dCYsnfc0PNm1gUKWjtVv1yZo3/J//BatQPiCV5vLzKSn781r+89dbFE83Fl87rdmdvszm++dHqaX/00iL1oZnEdlpUuVi7jVZqHkAZkCxlQtTR8Te/vD9oeyZan+s8dM3wyMc6Xw5+98lP/3fu9w4p+oieLAMURaeT+5+8lsvor1KxxINa1RWjfDEs3bP57v1qsvko7985Gnwg5JTd5r2wm+qzr/777FAYxBGAKgBJHrvT0OcqX35jusSrAVervdQgy8XFUTuzG2du/6B2zFGuupG7/2d+74XLAT03BaGkO799Y8HYPOpCW4f9Mq+WR1MuzXIBtHKTtHuZkY0RoX92++sXS+uICBkwQt+XoLTevX+vjFxrivv9OhTR13vDJaRu92BxtVSmjA4VzDUKksoSoUtdLv1kcXC1sKGeFHWKvkidvzpYnR+d6e7zbh3Sx58fHw2kXg/2mldnZ9gdv/Oj5eHeJqxOw5/+Y5LB2X5n5CHpdnYwZcD0zq/fOa4uQh8TXBT+uKrX8SOA/uJ4hi8tHv6nzx4W4C73gMxEhMen/9EXk9L3jhIxTI+L3Ys57VQTvfFBNznwC79M39x/fGFBENteebUzLpub+srH6gwZyw62Q9mOIGO9tN2/ODr7vbf2Lw80pYHPEjTd5EqnflKNtXGF9ICjsCx+9ew0MTP3HgfrvP+rI+iLB5u4O65co1Va3ZkOVkhFLlZzrFzQadtyFXKE4/PTV3/w1BO7rf6dOvPK1b07Lxcz2LmZoq8e9VbPX8SjUW68k8nB2dNZH4hUOTB1PQ5q3axPeyiOR8vN0NxfHM7a9qpwWHIc7Y73M9BPBsvnVtbzPx5+rXpyer78xc/WNyZE3WX/1rFczDyl9FqmEfggopKiUM7KwaPGG7/2tUPo+0XbzjePJrekHR3RCu88oedVpfL5zn+xN3Mrtja7QU3dstm921oU71rJSzqcNpw3zdlFMf3w+e0Up7x8+ueLU//t85R79GIOzk6eP3//wTegy5olqygQIVhwq2bAcvBbj3Xw/j//nP262GPk2OvRHY+DgGUwrHj5Yq3eSw7Tbxyhy5DVUyZ7802n3Sr9+n/6Z968eeOl6vmLwN1yEzVMlquz4Z2jV3bHhSVlH2oZqxSHUFUFa1YDcAXK4KWvvRRa4c0X/c7bk+L2QPerpeOR91Mf4+jlmwocWNkJTYbBeWnz3oiatu99apqjzcfvLnbqtgWWIued/bswKkfToX2xHOyMEt2x9OiSwniwSf1HaTqml3d14WMbq2YnBgcpbvcFAoGq/8YbDldPVp+dqeNsfuzwEKqrh/3eYXUWXu4/fe1vHl3i3kpzVjOz2d5NaA/6ommDw+kwrRdNMaXevXg0e3f+yT//9gdvTPem8KUfZpetDtLfSBp3XjR/YUfMg6Vuyw2bkCeCy+E3D1/f4998/ap+Ma92M3qeNcXpbBa60bSiQPOnyy55L9bqq++ElJG8wKKcvFaE4SR+9pCKyWC8v19K/+LFuapsuhs7xchpKfVo6GIHZWHTIIWViGBAviwd55Xe/PJhDeWt+5PmyckGJlNXhKNBP3fTMnvXpoN7u32bERHECUbhCjjm8ZAguW4njL4oPhp+XTeaKXZN5uFet/Pi7NX3/fF49ul5/1J5FaeTs8M2T+Lz4sHQjTeBeLQcmBbVBtGAAiZSEcngvvTqsMmbFdarwvS4SXJVVx6b+T28bQLN4bn78/H/UaLWltSU3E490Jf8QZf8qAt3h115JZrrivpwH3Zc+OitcJWxm3C3lyJJ7N3x2bC98fzn95foIIj5LRMMXSg05te+XIaSw+2uUFq2F7cAZrq4oFHlGyaWzToPgtVeYRV2/tQXjwsiNaP0+jTR+UXYt8Z42j6Lb6Uno7TKfV1OguxUMZS1z12MgKQlyM5LH06TOiIAo6xY3njtqEvZcTFxj5vTIS/aqqu1Uaz7THXqefclueorFkTqwTJgbIso/enMZPfiG7nAX7u5mPtda9ulHfcvxC3cOOdfw+Z3X4o7v7FcrweP538yu8E4uvpoPv1Wb9TZzXFe1mtIYlQU2OeUUrIw/Fbd9/M4Gd8KPJy+2c5WlyWEbvfGTtLjN9sF6bz/619O8xqRnWfLg8N/9Kat8yKhLmEE1uK4TAV8tjiO9fj0dPPgZ5cfnoyrwZx5vVgnamBnsLPIza2gaq4MwRESM5nkjo7fKnigFUY6GlWbpdttn+ztd1URXmzYMvuYhjH3qY+B5t07d6pKU2TbWb8Cpi5Uo/njs/Txp1Qu9O37twa43iyWPd3dNZ1fgWQBMNHcY/mWEyJXVj5vmo53X/nyzbTqeDRyXI3uFv3yIq7RjbAUl3c0VTVXN+6N2LNkokAuYD+13nQzsWl5OSkFjvf2VjtlP+yzVPffX39x7l6Qn06/xpeJ9wZXTQQ3a4Z7033Z//O/8WtvqLI9rW7ZoK0qEO4dFK5z2vMaf72O1lFePTtbv7g6v7g3ezH76e+9iCeyHjMevWq5slP5X9KQc44R68Lqr/k8HvW9L1dp4SP2XneHBI3T0WiHeXJV/3hZDZoSvoijmQAMShfs7YPL2yaKncIm4TVhb6P1y/d5quftQOtNuzsYVzN68/W9uQxdFRO47ir5XPawYcxh1Ez+XHIAYWP93kFrOVVu78by+fcvyO+/vCf9+I23X58Mu3Xbca257m7uh9qBg2x6dTBuITerdaeYAXZ2B/Mnjw+PlleNvxhxIUVBmlZ2eHiYqG/c3t50YLdfwrVjK1xMZe951QF2Exk0MaA1GqYuN2e3NDfj8QopF1aqtd//n2xmm8HDz3iXK+Jil6Ec3Jp99999K5zfnOyV3qO0QyIey4rKNlWTK7r9zvnL2ukcZvmubh7vpzngx9q9RPpGRxfe7cDR8vL8/q//URUQNAkV9/FgslmIrAvPOh8+pn638IMnbzR9Nc/7h/9qAF/iAv3Ok3pS9uvOODubh9Hgnb0L7B02NW73pLNIP3rd8tWSQiGTDT30C3rhyzUWNWeeCGnfAzND23tAuDwIr7z9MRUy7uXr45at2qxln16spIhLCCWv0m7ZLHNZ+zZVfsM4ct2QoplFHwZNRnYOonibOvZHmy/dsLPT4WTxlWmZF+Kcz5qRsOzLyimmXO+OZjkW0ZUdRBppMIGQvfglKO/0tpz4KWG5w8ndkM+rE993evJ7L29074RsonO+kUqZ4BOtYvs+TsvHT39zCksXl+YalDrH4XoxotFX29uT00iLenpzPQ+v42ertKu7Q9WlUjlbrilfuBeL/+Avv9sZU0rA/NLSLnuuIi0l2+OXZjhyzeWoPVp9gDfcj07vXfoph02xd25LLLqurTfppf35o2Puu9K4INmuOBOppjuv9xhs6opuZM82x81sXJ3UO/tOEuTEudHSQxvE4jD2Qzzjt35RuoyKL1sNQLLB4e5gevnwk8P7kzJx24/uNbPnR0My8YE35bBlVBVMUE5nKDF5NkqTNyYh+oPhrChjMJfPKeOIpXDULfpiQAG6rAnT+Gip6NQ5b5o2Xgcbvw7roe7NNu1UOSQ+akazae/HV/sXNz+pLttXn87ghs7LvDYLhRsOm0Jfutc9qBP65WH52sfvXdXmZizDbrCQsEdQ7f3Oh/XiiqvDwyIeH344WiUb8l3Tz4aji8k4nZ7mMhz2s7NX3/h5BMegEodLfcA7IRdLLPqHNBH/5Obi6SSuX61f7L1eb54/L1+H2c77q+V66rP6i2rn6oNh8WLNwUGyskMwANXgkN6czAJi3z+Z2SS7y3Bxf0ejNi+6aqrRaSoKF9c7QD0jQGzK10apKVZcFrO9dmfRj8c7Dqa+nDUfX+1JhTEPirib52MftYDZ0WgmWOQM5sOAitRrNtA83b8DV88ntJwU0/WVvAiTkJWdnL3oyqrSkrpEuedu+PKL1kd1MrCJruq1iHOa2xy6Zd9vgg8XYTSIcfLi8PR882LdH/M68xer8vidvz+e9dNu7VdJdRL6qisS0l7ZPRMfu9LZ4OWLTbM3D6L0jREo3lrHV3Zmy0nIj5/jnQamm3RwcP9ySPVjEQ9rqL+499oPCwEO0EUo6kvfGvVWVv3m4a82xcLme29uOnThyeqV4xcf+UNgeTIoYkzRhs2k62/5D9cyXFO9aesCETRnCWjTb7lKY37mbLX5ksDy3lVdbJ4FPzoovLtyyKHQKAax6XjUcjkzkAII/GRG1uTgNI5vw2Kvf/74RO8O0FGsbh8/m+WxmTMBBENgEKqAEJxDkD7vv+KKycEnXRr5SM1p+XIxDG7+fPVCdbQzUDSjQdn27ODOp495bq71wuzH1BXd6KKOjifjPY5WFuG8aA9PlLqDpzuzOj6+v7rRVlf9c9q/qnaOzZdpzHnx8M4774oVk09uzc80MLC31KYwLKerwvPvzvdWsuNeDPr1y7S628osuQKK/ErqRzJnf3MFPZRlQ7/9z6KKI2Zm08FBTE499n549an4Yh73i3XtHribTVrVN+DxPf1RvDHplTcb2TkbDC82toca0ReqisyOSTKk3V85KZpht0KqV5c2LcJNg+c3LqCeghYE4DyIEPhIXV2k1L5IREXaWfBBaui8wL7rYnqWNdw5fvrE3ao6CRRTOejnHFwepFkcUE8gXPctJNyOPg5f7pZyb49w0sYDWyzEy2J98ryRuzd2ppCK1LfGvoyp4+OnpoXTtVcXaKDc51gBZr26sNDozuHyhbs5vxh+MdJx3Zz0Dw9SKG/ri/e++scwAZQY3GrUzvfr6Ny8zINquU40IvDt43Q0Sp0LmfGijj5NVk1Zze/UgrdfvJdqLLHcdfPoqb6xN5tn16XV3aJDsqTm9qRDV2rCLkoNg0cXs9fv1k9+OPSHD1/yfm73vvTDB9LDb/+Q17QDBnAD8934sA8RcMVu5VEco+OINB6CVs7tRg3N07uj8QX5evTB+njHhWZVGpL05p1i1iUHWUFxuHeyHDlXtpBdLZEn7BBC2QAAJ+xJREFU1YOf4A4u/WGx98jtFY5Wp7i/t+gSRB1cnoFCZlaummUGRDX05V7pNmcS/RBzUfjR7LTqn1ws/au3i8W5TUIYxeW8dbVpv7z10SqA219OGtSN7coIjrRMLeO4HH/+jIaDz3aTXe7MKv/5wdLtXl184xmcvHbvg/6dj9OayxeDMRx8+tknLxEXqae9vNh3Z5kyFhZnWIzcZfurw+PT9nihabVZzQ7v6NvNa6d1tQd6eth5Hi6xPB66S6jGffn294I3UXA3wnx2tre77DrO7ebVq109Gr36Ip287ZBf3OQfDb9uX37x2W9c9eUgpZ5qW5DM275az6CYDydzp7LdjOZ80ca0v9S9y8aqxXq9N7bV2fKVbrhc79GqFrMIvvBdfxnzgAfrTT0MQ88bXz3RsTpyeX4eR5dxb3T5KQ0nL55MB+LspWEsQ86Z0+lqEtkZI4flRiAEVGN+PQzD+tJvqNdiflK/fJc+frhzZ3BcuavT+c5oOvLVKgW3BtjcGV3h2tFg3SmirevWo2DLejV6/+ujW2dws72il0+e7X98w15McL17+d7+Yu/D2/vv/fbyyb1E1YYnax92vzY/7W98Njw5Sm2lIWBb90MddpcceDxcFaOT4bK8io9u7cjFk73N3YMV7rYIUyH1g++6A7MeN0c48GKOVWFQLuNo31JXvhh39TzMz167SHfeudO+cvyz9GD3K6sTPjz7yuHpwdnGquEp4nSR7l89mT2Gup+mVdkBMxowzep23q7H4eChOtyErlysd5ZnfCvG9CLsniSBwM459H7vi6OgA869v9oAtjgEWe2gjDawSk5os441WXPmH49uHo/JzBf9GqIrQu6t8A3w8P0lYK0G0rwxGfuiOwHgItg83CovT/rDvSFQwXfqi3XuA/E4WEeun+3un52M3aK1wkdhTkHM965jv2ifkF3s8vF7cuPmk2Y6n+pVcXhx92E8dDcu3jp7MjjseO0gdavhm9P1nOun5bj69+0gT4tub2lBoG/LlEKhvVw2fT+enp2Xf96v562MxpaImQCUPfnmQmng2ravBE0AQ1isPmM7G6sukSbzzk5mL9zHPy+keVkZBu8M4PwXtx/+Rvdv7l0t7wZfFs2qDB+m8cUt67CnWsZZzMj7s6p9/PNJXByerqkWpsFss3y4uyOq3e3zxzy5ROZMSA4LPqrj1aChwWks24yIk5mzYh7rOvc80RUcDNvl5rZ/UkM7Ph+NnZRFH/zaEUlWgFLOkSFnX6ILE69W7ut60s6KUQimfqwVGyH6OrTJ1hwYUsrMrAVR7wQBySdNcdBAnYo6wXrS1OvD5dWbbz76/q8cvJfqizs+LPY/Odz9+Tes+HCvGaRUqsCmTaPhyz/4XG43r4/8e5VbhDX15kJjXKkkL5seLLcceGXTR3hvH5bLro8FOlQUQFfO04gNINou+YCx6/jT5dEX04OzTa/1Ac77wZOXXh/fePQRfn1+3o3bH/f+1p/ZubP/wf+4u5lufr7MpVYn+29+fH5rjLlqGFqkUGCK3ab06zyNS9ePI0dnZ6dhr1v1hZx3B+OL5eEVe8+AhGZuWvZpE4uD73Ue1Rvuryg/rvJ6NGxPJ0f+cr4a3x5yvzt8fjZdtzjKZUWuHA0SEkTiaXrKlHIy885bJ0bl+gVPR77wgSulKDmU3G4at2O5qQJKjOIZNg5CdjTMPYxsw2gIVlVdjxf7c5pP0/qLm1/98cPJMT165XnV1M19t3/3p7+2Pmju8Ec7pGorH4r4bfzaVZjPo3+SreQ4ToGrGCMLYW5agNuXMChX6c7Hdw8nTb3bLtsshbdU5IRcOhgiYElUtoKeGOnhn/muO+um5zQtbz6s4P7Xv7c4uXxZ0/L53c64/ZWHSc7bD/bD7U1383nUq53p4slns3L6WQJka/siayYAV7a1HO7ARV+OXngvzQwS7yzj/mpxJG70IJFJFDYtEXoutOtgNHmfVpPscqwR8mFOk511GhdXvX9lH/PwLE52Z1j2/cK53LsYynqlyC3zcPHUBJCl9QXNC8dM7Qt/5zBtNh0OkikA2by5XBQ7RUJQyTFLyf2arGQ3oj5JtFj4lq2rupmVV7vRqtbvtA/f/ua7L8LgxoeUYzr8vHjuvoL1ZnT40z1dBykmdXeZ2nde+s7z/mp31iTviyINtIEQFtEcavKDhTOJ3exsHAaLfOi7ikMfCjNFANPSkzpfmcqm1i4iOP7hbzdvfVItWEc7FovB/r3Pfv6hPHJ/fvJ0cEL7Z4/go/PXv/SAJh93OnW+wOWLwVurnyzwD6LPXlKJCgAAWjdd//igPlw3aVNVgCXCcw23q64egPrBeJ3VAEFjFdYmcWnF3WfPQgcIukxo0movKQ0nUvpySG2qdnm12fVP0gRjSamwzSYZmAg4fHipUhiRMKWuCgbI5fqcBx4iS8KKnDUdDNKqPzwAkpxFFMisdIGdNIlhYzQP7ZCT9nWyWaysisP5sP/Zt1795OyW+ws/f3i76PbC833/0/s3H5298YdDdhlGtM7jajodhlEKVzQZnPY7Vx20mxCCawys57oZDDOCG6R6XsvFGdltXROxOSMHUCEmZoiU53VMRCqpfzx+AemGb8P4KSY+p72Du1/QV+gUltBd+ovz2WYS2j9467XVZXRRK9dvnqfhm8XH3qeC0qBDFyjF7MqE37s9GK3WRSVNDmm+v5+He/M1PH7Jd4cugJD33hlqS1ERdqf/pOWw8UnmVyi0Oih3BgW2i8GgdJFKGJe2xvDs6ZeLTVmb0OyyQZaeeRg/jGyaseaQlhH7TRPTpP/k+csTGe2erzQUHnpKfk/P1Ne9CSJiZhqQM3DLCCUzV1ELFwIgWtfMR4sgVSvl4sHkSx89vr9+vdilJ5V/dXJnQg8OeeUgQGHSOab+RRkl743fk4o0p0lbhbV1ZAKYTs52aVMh5k3R3Ty4O8sH+U/GrldM5IAcWonmVFOu8pONoPeWJP6zv/lDgy/mR0nmHvqn/6SO468f3b14sPZYw7SsBu9t3n/rGz9q9cGL4aCQtHln8sNnt/44D1AMQIZ9jITskwX36Nk4kR+UM7ZR0aXBmV+mDpOnTfNsT0BNVENUDYa1jj7/E+uJMOPmyicarvVw8UUxdMzStTBolY4mm2n98AwHMnKazpY+gCHyaP2+kgMh09wtNzlvzHivPLksYsCUmlSoU3UrG+za/OP93R0XxEAYStGo7lj6thNsRquQoNiENvBqXfXT9vMbfl0/vNu+tfji9cOXHmrpwxufPXsxCk31e+Muuqll2W3PBr94fukGuycXu0l2dLbfKeRxzqsMfvPk8bBeqQvdnCdXl9X6bljuX9ZRKYGvAAA9GaqWbhA/H8SUxdRw/pN7D14cra9wiVqrfOukHNyu1y9e+rhc5mnkI/z6Mj8/e/3BV6FtPbbt8YNZgiE6MyY0iULMqlKejUSfZzyAdbc4zhHvnTernRd4HAOuy+LmDIlBxGXzw1ETk9cfXQSRgya6rtkVElh92q5utuU616HoG4VMI6j5zatLjKtSNwusWKhq2C0fVFY4IGgwD1pzozp3xqvLq+FBfdFH9A5is1tpuXvr4edPpBwHA2pRMKcI9PBqjZ1mnzhKv7JIV235+MXt0avQOy75eTr/zZufx3KC4uGDq0/ny6l8f34KjDF12i/3L5cLn+jGD+0URK/qXMbEwIN6MszjyXt54osdhvF55W74/a7dkQazwQjEqMGhHsGKuznfvLQV1h6dp+rqwYNLKndrvVRKs6oYH+xePvv4+8t8Dt3JxtFo7+0333oljRdtxpyN3KtB8+VnRc6MmTj7QUVm1k1J44/PHJSG4Vwt0B0ObxwdN3npJqK+jTFuNrmJeVGyZkP9V9Rb1SXsw7dp3Q6qHTe8MX21frrBpm9X7bI1tyNw90vFZ188ffTisq7FF25wcKv6bu1LBlcWA+F8FQYDW2qeUdq7M27ahzwNZS6HVm1aSKN748sXOPRuxDbFk6zibqz7iyKPqUFGk6xVkB4sEe/N1oMqyHplw4uTl/YuhlfrHly5nAceDYa5Zm5sNn82uCE0ufHB+zvx8nZ7b9YkV+TeKBR92eDJ1V3p2nUTpk+OrgYycWmvOUxirnJUQSP13rm7DKH1P4mmYgBmKT6WYUF7p2SDlKcWq13S5xfF03kfihDnblDB0T59XJgb1JsuA/9oeTU9mRNaRriOOCGYE3Dp/Iv6LYkd+hzhHs4GxWX9yuxkMRjgMgs6wIQKL5ntXMrkH24CDFImJpS+ah+MSoZ0trrK+w7n8w0NahOOi0m1M1mSg1F0RULO5bF8QdoP1HpVB2m5mKK6WvSgf9Mv9ldee/Dkvca8HA5qCBfLT2/s8KVJOVxaRvdCysm4h25XJYtnEm8Z0maUb6XWl9R1Ie/PFo4mxcWRqL+3aO60z6BELm/p2RdDG/N0MRr9ZLCo7sRuPiptWKEI6LobsH/x4S3oPFblG+/1n30dPip386TDgnJvQYrKcTrdG3KqX/xJLBiRQfOA+9lIlnveukHE3VYq5bde+3gzt8btjdUu9obN7rg/X04HdbrsmGl4ivd+1gxZFTzbbk6GKhF7CnH1pPzSfnWh2OXls1ENNHj+wLmyLqJ6RUBdSkoz2C3t9Z9+1xNEDZ25tDqZtkwWufRFDHKpK6wcKZDGvq/Gux34xKkIydGyfecHl4WwsmriUmQ22x+0VDX1rKBG+00QIrZskAexqYDLw+UKB1WxsYquILFLpQ7boi9Q+wjBM3W9NWdyfDbePZs1pFiPi+Nl/fTZ0Y3bjzW8/N1w8IVQrgfVzf2fP5ruDBap6v7Np9PD7qwqjzZz7CUidctKseT5z+7dxzb5buib0cjN/W16Ug1jRlexiWoRwtnd1fDg354EEwQCwqR9gQVswCwRtymN3TCdXc4pDHzX8F7pd+tReLoO0sauq3Ze+Tez+ub6eW2OIjLlTc7okL1kh6HfnJzujfKijYxXfeAl54HYcv1wTfvArpCrfmPr403cO/0XwDKYF0bqtHu6P14ZkK57GA8kVcMCXMcDuezKKglqx32uKwTMfTX/g6A0bjNkcSE3F0/2XRNh1T272Vj1ZC1YluMud6VVqRnErp0eX8RVMZ5X7mSNid0BtHGTksugRNDGmgahfHH+8K4c5xeIwxfd3fXNAVwd35iUeCe2xf5EOKyT5RcDORhIU8q99/+4WpvdPp+c75bA6l0Zqc6Zen7ws9s7+YqThid3z/1dqadPZrOr6U05daWnbMP7a6C9B//yNJSI7Jk9t936YoLLIRVSw3Pvnvtfr1baJ0lWuTS3q+mI8smg7cACLU8vXrrKez9YjsQhAZqYGgihU48ZQj770c5bN6DH6nK68oMHVo272bPBEBujYb0LvmtyOWmq1f/v052odQGNk2zNo5envvQMDbvpdMMFedDKw9W5G7rOVSMhjzWKF7x59xdPR/OKCJ3rEYnS+ZnvFdKz+vZYN1e+K12oOBvG2BaWutzXozbFoub0qVIGl3tq6gZWB2QKmGBeO/CD1Z/sas2eNxmyp2lc4e26jeuL5D9P+xKDrxaD7sFJaf3m+PbmJ8Q+Ds9uXNy4As0CnagT6Kgt5j+vvzmO0fKNi8FOOWyL1cHTcHgjxPLqfHCjeza9dxVH7T9b3DAx2B6LdgN5kO96ttyw64t+UKy+eIB6aZu42qfZqBmObbWZUqdpesd3P1i8dfdf/GLEqtsj8H57VBWUNYHL3c8PJ/u7jcDYj27QonH53q0nm2KAiuxHfOVczovp6tsfVd1AmkHPYhng8vHAxZU6Hu4ckfYNmjdZLbtigMtU1XtiVeDIRRvu5u/U5t1Sq2CgDEFn86NassE9SHzO4AvOkUJYpsQ7dZTCLKSsxTCePDMydaogwtWAOPfZc3GYNmtfez3Z3YRbOVu5A0XO/f7zVze7g0+rG8e533syI925N/1sRsB7Vff7n4w3wzIV67qvgCiHngUXrAgYTn5QfeXW8moxvbMM9DzbycX8jVHzIN8dLWexOzneuVuv/8mPOl4fbEUK3LDP7bPiFkq2NRcyzot3+d5sdcC4mZ9XIbuljM+GHkNlPi3mu537/s9vQOu2J/N4TcyICECUFMjNvp+/sVs1kRfIm4Es477PKxhPz6XTIc9Ugg7KH/yw8m3ZJcEihcxjeXI4CiGKrtLGwCL13sd1X00rUzCcdIu42zOZd7MfPpxIcGtqBJOZ5nT6aOdY1ulGfZWrTZ18VfaRYLMZcFF36kPwySy3OH/QS8HmYAf2Z0HrhtCEvEtNDtRH+PRLUuymQKudTOvMez+6+TndXa1/cf8XTw6Vfe8obLh30yH9qx/c7N64Wqa4ZBtANCkDrXKAkMimi/Pv9r8zslh/+en8PNqDRd8OT8ZBn1vVnbphfPd4+IN/WHU87hWIEf00djhoP9vsIA+Wy/rFcV+tgpyHwRO6cXwxW+hovprOqiYsKJRu9cx2f/EBXbngwQiRKAAgaJaCgLqENHqK0/EOrdud5pN+fLlLj9N6VK2ujqQAQOBCq70//v0yQ71u9yNs1HeO5dHe7R1nRnl91lUJfVP4crTPmuusUfaC6xpxEuv47r+vllVyBUcjB6zAzcl+8KkYtP6yD+yu0AtaXOu4t/WyGAjmSGVcVOfPqS0duiLzrJSiJRJDS5CLkXXBtemLo0mqhgnOx9XK2PO7txbTN1cfn42bzxwVu9Pp6XPcv73M/+6zafbn3Q5pzEyO1ph06W92HXUheraTHze/+fr46fmt7KpW0/rmKZ8VODgNO1B21l794juL0f7GF9vMoo7EiRX5weJXb5QG5RGHCM1HyOt9aQfHO/3Zcvn0XloXy6ry+ePTweC9D9OQUwZHYKQasiKIQGSLUFhO/vT3028emTUhjWoeSdTqZLFPL17V1jQsKhtf/kFyDjGEzlQBhylB+UH/+k3aqJchQOWRS6qmI+s1oi9KnvbPmRPsyEc/1paSrqsBOFNwDoSuPrWbA+2Xa1+6nPrTeT0uenPn0meO7SSn2G8Go4uPs9Rpw64x71H6nOtqKmCyBAeZIdFFf2+3S+Hl9NmEjtr5TV/GyyXuXYWvvGv3q3lB68nOTrv516dWiFS7HZkIIS8L7mxAa8be1s5QuzP0cfdWNSlfPH4h5M9XgYsdvAu5k4O6f/9PPg/cufEayDGJbLM8njfvPzh+6aYsh+vMpfZ9RUVRcce3oi2eIhkMbp/+DG7u/Iuz3rNniEQmQBSRLIkLUcwsm0LoHxp+48ZV3arEUI6eLga3N9ZWs+HL04fLggbv//t1Ld4MwKGpQkpKaI/qnZ2wFj8vSy18F8aDAXboQxOla6D1AZzly6dPj7dVkC4jAChI8voC+GZ5FQbLZoCtIWqX+5QJMpBzTZ3msFtu3p8lZMrRoeWheShd1/TrMAJWJIAcx2SXuFtgizk3YV5pk9y8Hew2C3j9Jz+Z3vUn3X3Aj7+zlsJDt+lHpBkkma8saoCGSKu+jFho+7hbv/7y29BOBpM+XCZG4QM2ptHe9NEv/uQRDqMvlqCgAQGyEiOCxhO+TK8MDzc7Hro4CJoRo2NfxmpzWeR2t370QXnvxXc/v05F2jZbyAoAyMzXhx3ZuNKTn06n4/pS07xMpkQuJj+KyyAwkv7dTx8N83AdTJDYAMzQkWnzxN3dGcQ0DCYOrWDN1SQ3q7TpzDIXg77kT757eggAhArJjAjQoHKpOR9W+yw4VklYeorZoScyVEjZNYnGg/NPPwNjg6j4t2Tju0KL1BTc+GGWjJZMeguq45vHo5Nbvjyx9Vibtu7Epm8/Wb76wuc8eqVbnr33434HsCxToxRYMzqmnAURLYH51se+6DDh7tHto5u7xbOmr1cziPXNu5+PKqm0+94PL90uLqryolAlx7DNaloWja4f3dp/hTAUBalKNM1FBQn8rB7Vs7n1nT75WVN6UkVCYt6WlnpxgVQlKaOwX4sPkV59582dXlaLvdHVJMXYszbTsSPfLX78hyGk5sZlCQbM2y4smIg6P375lUHXGgyPu9lRLWHkVhdryGJivnR1+9HPT4tJZ+QdICmjApmaiEh18+YbWJS5yV4t9VZWPhGIImhH1difvfcJ1T27+KMG/zqv0nokEPvxqEffhWgSqcAUW3Q4vTucFilDNezyuu6Lluc3+v3l1KC+ki9+9qT2qfKIAkUTvCURdb2VLOCt0c6Bb6lzooDD6vbhMUyMfeM6uvHKszjKmw8fvHdWgQ+afbUGBECmfP0syL3vXSF798NwOhl6WAFaVIJ+VFDSg2d+vn7/PSgkoCbzZAzICGoczQfL2UdBMC5yZz62xfSlt24dyWVdxHG/6SMm3tQ3RvN3333UAzoIbKBGzrZVd1HIJDJ99ZW9nDvczfGlcauwfNGVXVU6503aq88+X5ecAhAjkdNt9sYwAaZcjl67fxs6YPOpaaGofbacjNDA1/D8w5MYik3hT38K7nyANBhYPFiBqQL1GgonYKXPUfvl5d3lIY3WF4/qGoUGld3tdpZ7rpm8++jhox2XBg07jOahcqwAkhM6AMx9SA4LCSlkM4ReLhfP7r60zx0NqkKpHfTn588+eLzyIW1kZK3PTKCqVAKqgQMroPSyXq92DtvN7s4geoWib+mN0NmT56ePH3zRVhX2HkTReTQSAzKESJ5yMkYyM9NotXZW69ni+dHr94ceRkDjfkNChT198OnJOu1tFIt2nIENCVVMTZUYMvD8/cXdV3f0ah2CLNYJNhsDHwqivFqcPDrnQW8jADNTSN4AEIDIS/JBr37R0+0DTInZWNlyMjFfOCj72ZMHF1iZsCtaIPzdosjBh9y0UECXKVhVpJhSP2jasdvIYjwsj/Z36/k0gI0gqe6euvOHz85eVBJLT1lGAyOX+y37kSMimKTsoUAwbKmDCNSTJdX9+1+5O8rrnao9v2qePXrepmHdebEKWynM1IipQNCsgKnoFZNBhK1qdHuIw+P+nPjq2fnnV8Va9202KNal3yIAxFkZDCg6hyni9S8StC8xqtN+uJHJW28eH1Tm6pzd6vHy+cOTpXFhNhTMDggNmMzEGNWQm+Q0heHdu3dDWXSYohKmbN4sd/OL+WdD16eidiAKRKYFGMKWl8mAOQ7K219+ZYDY5pSzEnXsQnCazi6fnjbI6MxR9ZPnhn8z2pJjheMuMm9SQR16NZKeOh5smvFimAhG4O9NBugra3JzqZ89HDZgZdHWq6rsRvUq+b6WmIkh73bipIPgWd0siK2wyEI9Quc1rIPbvd1R1y2gaVlGKUhpzhJ6CrHNFArXMFvKYjJam8UyC2oGJh3tuf2XLt9v+5XHrgQp1wOKAc0bgKorQAREOZgYoailQAZsqeyFrQefuF7GevTyPrhBGMtHnyzX5BOPGyTypIoOVYnAZQguR0HZ5miL4b3jg2HEUNhqIyq26dL6/KKdZHOeiFGUCy/pOpYGxSY7azU0iMNX3rlTouac1Hl2JN3s9OrFqgsFZmAo++KHi4R/PXaCDLaTnGSNhWk4A0RxDrKxxSZIkx2mylsU1pw95y6HqjXPrsYmjTxVrumCqKXsSh/VskFiYsjZhRz7jIiGyRwkIZcFTZAREYEIEdk7UMH1tGH1Re9IYzZqDdmyAogSiOIvMR0gAlXDEUhGx+pBjb1EMkQRCqrGnkEkKYEYohJbFNyCR2ZsAAYGTpjFJgfPzQyZybZIKNB1Zdwa4OxcV6lxVaGMh24xS95R10ZFM7SQBlJmMg4l5gjEzJYzgopkM03CoarLg1AX3gdH1s8vZ+temZiISAeLnfTjS3PRHBp5L30SpJyLHkLQTKixN6dRoh9Bn4rYA0IEnGb1QSXX5lByqLGUzYaLUbVYY0kGYg5JNSfnvE+SoSxjn9ElTyYUQt4aTmRs6kvrqxx7Dj6sgUiSsduim1BlEVW8VkJ4exAeDAgRCBE7MiPHkAjJee+iAYCZgqmBEQkSAhlmVQMgEgBEM/hluUsJc5arNSMyooq4bXFfkRFADT0CEPhORTcO8omHZA6z1y24RbBVnbwhCiRxtn0BjqYKjCiYLObWPTHyJat477TPQAhb0Y1SyGkD4lZFcClFAiokkQXsNRWAzhQJnVrZZXK+CtBnTE3mFV2HiAQgZioUXS05uQ2OKCeurtQ5BWLThIQgKThvhM5Sp97reqAGSACbAs0PARti58hS4ciZ5pYMkNiMtuFg2ia7gdB+GdkD2FovtC3sAZj0oAoI6IiVyTQBqijBdbwVCUlgC6DotesWA3IImAW2LeqwjSaIMROoiTkwJ4mJUMAAtRd1IBFhewoTwVA1b8MPxLTtwCm5rLqdVvRmmpVVk6JmKwoUCEVCQkRijYU2Gweu8A4RsooHM/alFR4coRqTB1TqihI8p3Uv6LhGjg5zBmbsyRduWM7WPRSgEVIu2PJqlAEUyRdd1zsCkA6Zg6RRbJMPKYpuXxfGHsQ22peqyXzgDBstirZzSAQAloy9ZtnG3rcx1G0CybZoCyMaqAECWFIABwpqkIUdqoiZbre+FGagaILX15DbXkhQoypmULCt8BVMxOia6TCj6FWDZty2NhmYLWWFUKkaIDMpMRKSECoiUY9EoCIEAERmGZhBAVtm7cCXQyKNYkq4jSarIC0V2dm6Vx8IR10rxSBrA65LkLrAaFkRAxpY6prSaxaydr9vEztpR8nAQYyVOFdbBIPcqlJYqHfog0YiJAYrRU0sJ1eWTdtQkdWMCI3RubhBR4hmkrTHBgkNPTNqViUgQlUjNgJR2zoABHQdpM/MDgEpIwESsoJu/4q27FSm7d8popqJMWxj9nSdsfIZyHpkRSR2jhOokUNVMDEgZjR0kIzQzEwxAxEDkagCIJMzZAV0AGiiRGAp2VbaYkYTRGZTA08oyFUJKoC07QqCKYBHnjtBN2wBygKFCBFT9gB5HQN5U0sRy5KW0UubS2M0KiFy5RM4y5WJZyf9qnTWpg7Eee1jVS+xAgBToco7zULORJSKJrskmZB4+6PqqAhEYdA5QpVobmymAsV1Mx6CSL5WTAgAIW2fwci6FRoI2cP2ho1g5CIS8JYWU1FAQlMkUCUEumYH0GA71EWEzrhAJd8RMVo0I3aOREuTlAGAxVCM1aMhMEHOxgWjNrh1lRjBR1Cgay8tbGV4FiAEEyEkVDP0OYMLzlCUmchdZ+DVscYlRXatBuKUU6ElxI2GcUtF8IFWZsBclEurRkAN7uaI0uS8HJaQlaARi8rWTgttgcqwbDfVyPr5sTnrY58rJDIDyqbAbGaiVImhMGRFwgpQ0GM/zLFXV3gZ9pbMXNRMuG2dqm5Dw4ro6JfSBW5TzObZO0tmIauqGhpu3yflekGG0LapfgQwvpY0yK45LER1KIi5rxDRVDUQIZqmgORAEVCQIrImNCUCQ1FUNL0OvJoSEICYGAARIiD98nkFqqIeERDJATKyJ0QkVCE2REIEILZZJwBOCS0reIhYBEs9d1VdxhZYjQASeIeCo1o05kBifCbCgfrGe5bEDBv2wXNOlRPKgkVSQXXOQHJSYE9d7yrXd0ae+uQHa0ZVABQwLAaW1maEoDl2G0/etMiijKg5b28nZgJIxA4MDGALkSMAArKSMZhuNRBSVQPJxOxMFZG2vU+zbIBbuOTabwEEcMESV9ZkQGT2pKCIRK5nJkYAp546CGCg//+a7mbJbeSIwui9mVkASKql0MyE7YXf/6m89yzkUUvqJomqyrxeVM8egRVQvxHfEVGyDUQyptFIMA1hTCuIAHQaHZk1uTqQhrUTHNuhTG+D5lmxPf8WKYTXTLe4nhU8p+FlPt/rj/6p7nhgjGYjPo/3uj1SuLX7ezw/2TP/+re9kd3BfRtxtHO+Kb9gs36deN1q63sNZ7Xz/Qb0OJvcC5+uP599b17PsEw2S9r27IbAxGW7n8c/71vNcgNpQRRiJWnj7qXIfhl9CgQiHBIOr/dqm33wImOfWZzQdSLL0a8L2tRsVFX45Jo9WGVIbzYreLbPD/lWfbTL9Lu9b8qaIqk8OJvZ9k4PKqsYzNp2efOaYpte17OhnAWq0p1klW+WaQYEu4xp0h4aD9Q2tNXYiPTmkPCf3KaCwZCe2bTZBvb/tdbPOC66jMep1n6Vx/gRgbypB//VGi2H4nJ/u8TjEbht3e5l21nTz+uRTiGzFxIbxSsL4+wzbrM6KlutdnRk134dReZ039t/h8JV+TKgQi5sUYC5IzPxKBkprRQzmbRWlhlAgZ5zwV16WkhidMLJKgzbapQXFkViELVy9UT1YtVU0casKnPvZgCBMZEyqH1AEE2gs87FBNHA6obwdRCuMtK8smZBQGnHGIrgIGBCrvFJi+YkkfkzITA8x0k0032buRfebt7H7sTj/rwe8/uV1uJtvPxxj9dz6y8/D7Lg1+ehOWUkN9DdkEdrf+lhhKjCwKwNk/BQdmVubXDjvJuA0oBtfT7K5lLN8Pt5ZqUw5lSZUFgIJyM0q5ZipEwnATdLiZQUhpKVPlJ76rtLsO1cWXpGx66JLasAVG4rV7xILCibUKL7LFURDBqq1pKJhBy1voNZZqyxEzDAp6FAZNY6QiKWHIKCiEqvmWZcy14o7aPWXmZQAex/Vqg8Ms/hG4SM3pt9uVheDmd+//JyjNO/aLyfV3/cne0P8E2O6rN3MFgyYzzf87rb/OrZJ8k5MiOMGZyConejTNJEomqShppLNaiaNt3MoK4xSiBGCSrJFwKACTOCMF9UmszNzC0pEkYYJVsAgwiLZumANVTK3coxZR74wM0FA32taAnSWYQZw+EEFGtuhRfcDEtmETlq0VQh0B2WQRFzOGjAuv6plcUHpXqauVmpiTUlI2i0MoGUEvvPb7ApxUSYcTwlXuLo83Li4Jj67Xy73nh/e7HH3aLNr/O1rP3Dvz+L4V23t3w5zl6OmVV5vtm0fu3naKJ54ghMyQOVazYcap6Kcrch93g+9On2fm9WhKSHH8bs08xVWbXXqtAjQcaCQCUDvQUJxoe+M2kGky91x+xoczYlzUoFUBecM3x0NxbDu62HG0C6ca7cnzaCpVyiRsmXYqIFykKYbgY2eNKcoDsKgBw0zJFwk/zYfwIGycq20PrPMoHGopmVaQ1xld9/CaJi70OptJpvW0C/xqTlE4e23d86m7breN628e1la8/X3j919z2e9rQjemxn+Z5tEt++8BLXH+c0M8ecLmcfXshyuQdK+1ZlrxZORUxnVcmOGpqF/a6ROcf4bKQEVs7CB5tnUZVrhGiI5qgUYaGZyDJ3+LHIOpKWs2EK3myWip/8hxofJKUyehhgVNg6p1jLI2mGWnliLLp5KytgZYpRoFm4PpA8mgm+NmSXxJqZZCz+vd3+0N+qLHK1ZF0ls5XTN1K6/9lZcoZnn0JcvA/VaOvWZvft9mNqu/TX5MjT2v126py7Xdu+S+dbe778dv/x9fN3usNbk3H+pF0uP7xUyJx5s5FWVYQQNPbzLMEha6U8fTsfNQ1Vpsk4MJPHFb/MKdCqqshlAZijCEFrK4kFLNgqY48ExMV+qWqGtLBPkwmwLRykNUMBNc3XxQtogqn+fn9X2WjFBKl0GowFc6EAuEdwyviRlpY0K0yMDgmKbaBoenaBqILXIsOgKpEqZRpUhYKCQP8WVfL8P41a4czh6G/CAAAAAElFTkSuQmCC\" class=\"ndarray_image_preview\" /><pre class=\"ndarray_raw_data\">array([[ 47, 123, 133, ...,  14,   3,  12],\n",
              "       [ 93, 144, 145, ...,  12,   7,   7],\n",
              "       [126, 147, 143, ...,   2,  13,   3],\n",
              "       ...,\n",
              "       [ 81,  79,  74, ...,   6,   4,   7],\n",
              "       [ 88,  82,  74, ...,   5,   7,   8],\n",
              "       [ 91,  79,  68, ...,   4,  10,   7]], dtype=uint8)</pre></div><script>\n",
              "      (() => {\n",
              "      const titles = ['show data', 'hide data'];\n",
              "      let index = 0\n",
              "      document.querySelector('#id-4b9c41f9-f86d-4e3a-b324-51f95ad83266 button').onclick = (e) => {\n",
              "        document.querySelector('#id-4b9c41f9-f86d-4e3a-b324-51f95ad83266').classList.toggle('show_array');\n",
              "        index = (++index) % 2;\n",
              "        document.querySelector('#id-4b9c41f9-f86d-4e3a-b324-51f95ad83266 button').textContent = titles[index];\n",
              "        e.preventDefault();\n",
              "        e.stopPropagation();\n",
              "      }\n",
              "      })();\n",
              "    </script>"
            ]
          },
          "metadata": {},
          "execution_count": 81
        }
      ]
    },
    {
      "cell_type": "code",
      "source": [
        "import cv2\n",
        "\n",
        "X_train_gray = []\n",
        "for elem in X_train:\n",
        "  X_train_gray += [cv2.cvtColor(elem, cv2.COLOR_BGR2GRAY)]"
      ],
      "metadata": {
        "id": "oEmeefjuYIbs"
      },
      "execution_count": 82,
      "outputs": []
    },
    {
      "cell_type": "code",
      "source": [
        "X_train_gray = np.array(X_train_gray)"
      ],
      "metadata": {
        "id": "FkJTrcI-aor5"
      },
      "execution_count": 116,
      "outputs": []
    },
    {
      "cell_type": "code",
      "source": [
        "X_train_gray[0]"
      ],
      "metadata": {
        "id": "RbsqNA5ue4Z7",
        "outputId": "0b748b08-5871-4669-93ce-f367d19ffa17",
        "colab": {
          "base_uri": "https://localhost:8080/",
          "height": 73
        }
      },
      "execution_count": 84,
      "outputs": [
        {
          "output_type": "execute_result",
          "data": {
            "text/plain": [
              "array([[ 62,  45,  47, ..., 128, 121, 120],\n",
              "       [ 20,   0,   7, ...,  82,  77,  82],\n",
              "       [ 23,   6,  24, ...,  78,  78,  68],\n",
              "       ...,\n",
              "       [152, 123, 125, ..., 117,  27,  32],\n",
              "       [131, 104, 115, ..., 136,  58,  51],\n",
              "       [139, 123, 130, ..., 174, 112,  90]], dtype=uint8)"
            ],
            "text/html": [
              "<style>\n",
              "      .ndarray_repr .ndarray_raw_data {\n",
              "        display: none;\n",
              "      }\n",
              "      .ndarray_repr.show_array .ndarray_raw_data {\n",
              "        display: block;\n",
              "      }\n",
              "      .ndarray_repr.show_array .ndarray_image_preview {\n",
              "        display: none;\n",
              "      }\n",
              "      </style>\n",
              "      <div id=\"id-3fc51735-3659-45f4-af24-7083a898dd64\" class=\"ndarray_repr\"><pre>ndarray (32, 32) <button style=\"padding: 0 2px;\">show data</button></pre><img src=\"data:image/png;base64,iVBORw0KGgoAAAANSUhEUgAAACAAAAAgCAAAAABWESUoAAADTUlEQVR4nAXB224cNRgAYB9+23PYndlDdtMkTREE2gYkAlQqvUD0jhfgBZF4AiTEEyCVG2ivEBCSVG2STbLL7G5mxh7b89t8H/12zcRkVILiaxyh7ZKoy2gZH+TSUm4j/LlSYydcYNYg5z1XBjWz0vU5A2q9AC7H81lGtaUp9qNeobRBSdkGQrO2p/dA870Eq9hBKbd8WBtLcosKmRehDixoUCIfIqEMIVq+7LXPXaRKJ6TzpNUdQsElzXtivQvIu9ijqalZ1fsTVTXN/YLBlGchRk2KbFN0N55ksYq0OFm7TFLxYF7DoBOqC+MYXL6+qkP6cv7HGdL1hstEEjxcw3TFjKOe+BFetxAl3ezUVfc3koQVwXVT2Mn5tgkRBuzMCJnBeSjL4Luu7wlj4AIwQVSkLGarauzzDx1sUR19dHpGfRQyEAq2iw1y3T50o7n7FLcjtdc8LZNqm1AMnkaIGBNZXfPb5ejF4nB2VxJ+S25vZWEFjZRFKHnrN+8bWacPDxp5srCoDzAvJ6slczTREjY2Ml4P8u2DL9dXH9efhDau3Diq6pdrQQLxQDWNwbc4fPnZD4k/P5r4iptmf69KKfEh9Cz2SGwsiq9etO4gzl1z7/ji13e4kQ/mszIaQJcLv5scfvPkx/3j3Vxvr29cPrrY07btiZxo4LXN6Pj262eiGT6Rr832CtWjxyLp7SUSXu5CpxKK6fffzc5IfdH+lJjZ4DIeHJPad8QFPQEM6Gn+TLy5sutT2vNyfOPrt6LhWUxHokGIXmIY/fz7fisHXMzqdOnT9s2pAzoTihRPIQKn4BdLR8d7/TVhnqSxpybWtIzodmeMJzHdcTlstrocnAjC2sBFf/XPRTeQ2hUdA0vBsrTM55V9FJ9/IVpDydU7nU/71k9n/0L53hECJWtEeLW6pgqy1vj0ZEji2mTH09ew29w1JG89XenOF0sdZ7hRBfdgPD/cXVQwZMNsY4Ai3ifG+Z7Ug8JUOSMSxVH32znIPPFcwyC0SorgI3EW5NqVDEjVtq86sEKhMq4zLpOOM8lSHlSxjuP+8q/xnBaw/C+HZGhaXlNEpBQChsZAg/XbTTf9wEIyVXE4jlbXLhI0EqwOVLiBSuHk88fP7/4HPaYCn1L8eRUAAAAASUVORK5CYII=\" class=\"ndarray_image_preview\" /><pre class=\"ndarray_raw_data\">array([[ 62,  45,  47, ..., 128, 121, 120],\n",
              "       [ 20,   0,   7, ...,  82,  77,  82],\n",
              "       [ 23,   6,  24, ...,  78,  78,  68],\n",
              "       ...,\n",
              "       [152, 123, 125, ..., 117,  27,  32],\n",
              "       [131, 104, 115, ..., 136,  58,  51],\n",
              "       [139, 123, 130, ..., 174, 112,  90]], dtype=uint8)</pre></div><script>\n",
              "      (() => {\n",
              "      const titles = ['show data', 'hide data'];\n",
              "      let index = 0\n",
              "      document.querySelector('#id-3fc51735-3659-45f4-af24-7083a898dd64 button').onclick = (e) => {\n",
              "        document.querySelector('#id-3fc51735-3659-45f4-af24-7083a898dd64').classList.toggle('show_array');\n",
              "        index = (++index) % 2;\n",
              "        document.querySelector('#id-3fc51735-3659-45f4-af24-7083a898dd64 button').textContent = titles[index];\n",
              "        e.preventDefault();\n",
              "        e.stopPropagation();\n",
              "      }\n",
              "      })();\n",
              "    </script>"
            ]
          },
          "metadata": {},
          "execution_count": 84
        }
      ]
    },
    {
      "cell_type": "code",
      "source": [
        "import skimage as ski\n",
        "\n",
        "image = ski.data.coins()\n",
        "# ... or any other NumPy array!\n",
        "edges = ski.filters.sobel(X_train_gray)\n",
        "edges.shape\n",
        "#ski.io.imshow(edges)\n",
        "#ski.io.show()"
      ],
      "metadata": {
        "id": "4dmavs90M09r",
        "outputId": "9edebf48-df88-434c-eac2-0c49ecfbdbeb",
        "colab": {
          "base_uri": "https://localhost:8080/"
        }
      },
      "execution_count": 88,
      "outputs": [
        {
          "output_type": "execute_result",
          "data": {
            "text/plain": [
              "(50000, 32, 32)"
            ]
          },
          "metadata": {},
          "execution_count": 88
        }
      ]
    },
    {
      "cell_type": "code",
      "source": [
        "\n",
        "edges_flat = []\n",
        "for elem in edges:\n",
        "  edges_flat += [elem.flatten(\"C\")]\n",
        "edges_flat = np.array(edges_flat)\n",
        "edges_flat.shape"
      ],
      "metadata": {
        "id": "SqGZPo40gHcM",
        "outputId": "614cca9c-b263-4672-c628-af7445fa27cb",
        "colab": {
          "base_uri": "https://localhost:8080/"
        }
      },
      "execution_count": 111,
      "outputs": [
        {
          "output_type": "execute_result",
          "data": {
            "text/plain": [
              "(50000, 1024)"
            ]
          },
          "metadata": {},
          "execution_count": 111
        }
      ]
    },
    {
      "cell_type": "code",
      "source": [
        "from sklearn.tree import DecisionTreeClassifier\n",
        "\n",
        "dc = DecisionTreeClassifier()\n",
        "dc = dc.fit(edges_flat,y_train)"
      ],
      "metadata": {
        "id": "ZG1vFnw8ffPT"
      },
      "execution_count": 112,
      "outputs": []
    },
    {
      "cell_type": "code",
      "source": [
        "import cv2\n",
        "import skimage as ski\n",
        "import numpy as np\n",
        "\n",
        "def ausgrauenflach(daten):\n",
        "  gray = []\n",
        "  for elem in daten:\n",
        "    gray += [cv2.cvtColor(elem, cv2.COLOR_BGR2GRAY)]\n",
        "  gray = np.array(gray)\n",
        "  ecken = ski.filters.sobel(gray)\n",
        "  ecken_flat = []\n",
        "  for elem in edges:\n",
        "    ecken_flat += [elem.flatten(\"C\")]\n",
        "  return np.array(edges_flat)\n",
        "\n",
        "test = ausgrauenflach(X_test)"
      ],
      "metadata": {
        "id": "LFowAv5kinFb"
      },
      "execution_count": 117,
      "outputs": []
    },
    {
      "cell_type": "code",
      "source": [
        "y_pred = dc.predict(test)"
      ],
      "metadata": {
        "id": "X7CAMaEkj5nl"
      },
      "execution_count": 118,
      "outputs": []
    },
    {
      "cell_type": "code",
      "source": [
        "print(\"Results Using Gini Index:\")\n",
        "cal_accuracy(y_test, y_pred)"
      ],
      "metadata": {
        "id": "z9JdzhU6kQQf",
        "outputId": "98898cf1-ff55-4ce3-d182-ff03fef8d1c8",
        "colab": {
          "base_uri": "https://localhost:8080/",
          "height": 180
        }
      },
      "execution_count": 120,
      "outputs": [
        {
          "output_type": "stream",
          "name": "stdout",
          "text": [
            "Results Using Gini Index:\n"
          ]
        },
        {
          "output_type": "error",
          "ename": "NameError",
          "evalue": "name 'cal_accuracy' is not defined",
          "traceback": [
            "\u001b[0;31m---------------------------------------------------------------------------\u001b[0m",
            "\u001b[0;31mNameError\u001b[0m                                 Traceback (most recent call last)",
            "\u001b[0;32m<ipython-input-120-c28f410c7101>\u001b[0m in \u001b[0;36m<cell line: 0>\u001b[0;34m()\u001b[0m\n\u001b[1;32m      1\u001b[0m \u001b[0mprint\u001b[0m\u001b[0;34m(\u001b[0m\u001b[0;34m\"Results Using Gini Index:\"\u001b[0m\u001b[0;34m)\u001b[0m\u001b[0;34m\u001b[0m\u001b[0;34m\u001b[0m\u001b[0m\n\u001b[0;32m----> 2\u001b[0;31m \u001b[0mcal_accuracy\u001b[0m\u001b[0;34m(\u001b[0m\u001b[0my_test\u001b[0m\u001b[0;34m,\u001b[0m \u001b[0my_pred\u001b[0m\u001b[0;34m)\u001b[0m\u001b[0;34m\u001b[0m\u001b[0;34m\u001b[0m\u001b[0m\n\u001b[0m",
            "\u001b[0;31mNameError\u001b[0m: name 'cal_accuracy' is not defined"
          ]
        }
      ]
    }
  ],
  "metadata": {
    "kernelspec": {
      "display_name": "Python 3",
      "language": "python",
      "name": "python3"
    },
    "language_info": {
      "codemirror_mode": {
        "name": "ipython",
        "version": 3
      },
      "file_extension": ".py",
      "mimetype": "text/x-python",
      "name": "python",
      "nbconvert_exporter": "python",
      "pygments_lexer": "ipython3",
      "version": "3.7.6"
    },
    "colab": {
      "name": "CIFAR10-ShallowLearning.ipynb",
      "provenance": [],
      "include_colab_link": true
    }
  },
  "nbformat": 4,
  "nbformat_minor": 0
}