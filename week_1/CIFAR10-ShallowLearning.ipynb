{
  "cells": [
    {
      "cell_type": "markdown",
      "metadata": {
        "id": "view-in-github",
        "colab_type": "text"
      },
      "source": [
        "<a href=\"https://colab.research.google.com/github/MrEwdew/DeepLearning25/blob/main/week_1/CIFAR10-ShallowLearning.ipynb\" target=\"_parent\"><img src=\"https://colab.research.google.com/assets/colab-badge.svg\" alt=\"Open In Colab\"/></a>"
      ]
    },
    {
      "cell_type": "markdown",
      "metadata": {
        "id": "P7t4Y8D_BxLK"
      },
      "source": [
        "# Lab 1: CIFAR10 Challenge\n",
        "\n",
        "**CIFAR10** (http://www.cs.toronto.edu/~kriz/cifar.html) is one of the most famous ML data sets.\n",
        "\n",
        "## Data\n",
        "* 32x32 color images\n",
        "* in 10 classes\n",
        "* 50k training images\n",
        "* 10k test images\n",
        "\n"
      ]
    },
    {
      "cell_type": "markdown",
      "metadata": {
        "id": "a8-2lrE9BxLR"
      },
      "source": [
        "<img src=\"https://production-media.paperswithcode.com/datasets/CIFAR-10-0000000431-b71f61c0_U5n3Glr.jpg\" width=700>"
      ]
    },
    {
      "cell_type": "code",
      "execution_count": 199,
      "metadata": {
        "id": "owj3QsH2BxLS"
      },
      "outputs": [],
      "source": [
        "#get data\n",
        "from keras.datasets import cifar10\n",
        "(X_train, y_train), (X_test, y_test) = cifar10.load_data()"
      ]
    },
    {
      "cell_type": "code",
      "execution_count": 200,
      "metadata": {
        "colab": {
          "base_uri": "https://localhost:8080/"
        },
        "id": "gFjmpalPBxLW",
        "outputId": "e3f9e1e9-6e5c-4474-b273-d9e87d8d5771"
      },
      "outputs": [
        {
          "output_type": "execute_result",
          "data": {
            "text/plain": [
              "(50000, 32, 32, 3)"
            ]
          },
          "metadata": {},
          "execution_count": 200
        }
      ],
      "source": [
        "#traindata: 50k 32X32 rgb images\n",
        "X_train.shape"
      ]
    },
    {
      "cell_type": "code",
      "source": [
        "X_train[0]"
      ],
      "metadata": {
        "id": "Y-cuy0A6T1Uk",
        "outputId": "ae8dc0cd-e610-4d14-91ed-839bb89aa006",
        "colab": {
          "base_uri": "https://localhost:8080/",
          "height": 73
        }
      },
      "execution_count": 201,
      "outputs": [
        {
          "output_type": "execute_result",
          "data": {
            "text/plain": [
              "array([[[ 59,  62,  63],\n",
              "        [ 43,  46,  45],\n",
              "        [ 50,  48,  43],\n",
              "        ...,\n",
              "        [158, 132, 108],\n",
              "        [152, 125, 102],\n",
              "        [148, 124, 103]],\n",
              "\n",
              "       [[ 16,  20,  20],\n",
              "        [  0,   0,   0],\n",
              "        [ 18,   8,   0],\n",
              "        ...,\n",
              "        [123,  88,  55],\n",
              "        [119,  83,  50],\n",
              "        [122,  87,  57]],\n",
              "\n",
              "       [[ 25,  24,  21],\n",
              "        [ 16,   7,   0],\n",
              "        [ 49,  27,   8],\n",
              "        ...,\n",
              "        [118,  84,  50],\n",
              "        [120,  84,  50],\n",
              "        [109,  73,  42]],\n",
              "\n",
              "       ...,\n",
              "\n",
              "       [[208, 170,  96],\n",
              "        [201, 153,  34],\n",
              "        [198, 161,  26],\n",
              "        ...,\n",
              "        [160, 133,  70],\n",
              "        [ 56,  31,   7],\n",
              "        [ 53,  34,  20]],\n",
              "\n",
              "       [[180, 139,  96],\n",
              "        [173, 123,  42],\n",
              "        [186, 144,  30],\n",
              "        ...,\n",
              "        [184, 148,  94],\n",
              "        [ 97,  62,  34],\n",
              "        [ 83,  53,  34]],\n",
              "\n",
              "       [[177, 144, 116],\n",
              "        [168, 129,  94],\n",
              "        [179, 142,  87],\n",
              "        ...,\n",
              "        [216, 184, 140],\n",
              "        [151, 118,  84],\n",
              "        [123,  92,  72]]], dtype=uint8)"
            ],
            "text/html": [
              "<style>\n",
              "      .ndarray_repr .ndarray_raw_data {\n",
              "        display: none;\n",
              "      }\n",
              "      .ndarray_repr.show_array .ndarray_raw_data {\n",
              "        display: block;\n",
              "      }\n",
              "      .ndarray_repr.show_array .ndarray_image_preview {\n",
              "        display: none;\n",
              "      }\n",
              "      </style>\n",
              "      <div id=\"id-2b5628fa-9c07-4afc-a8e9-772959d1fe92\" class=\"ndarray_repr\"><pre>ndarray (32, 32, 3) <button style=\"padding: 0 2px;\">show data</button></pre><img src=\"data:image/png;base64,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\" class=\"ndarray_image_preview\" /><pre class=\"ndarray_raw_data\">array([[[ 59,  62,  63],\n",
              "        [ 43,  46,  45],\n",
              "        [ 50,  48,  43],\n",
              "        ...,\n",
              "        [158, 132, 108],\n",
              "        [152, 125, 102],\n",
              "        [148, 124, 103]],\n",
              "\n",
              "       [[ 16,  20,  20],\n",
              "        [  0,   0,   0],\n",
              "        [ 18,   8,   0],\n",
              "        ...,\n",
              "        [123,  88,  55],\n",
              "        [119,  83,  50],\n",
              "        [122,  87,  57]],\n",
              "\n",
              "       [[ 25,  24,  21],\n",
              "        [ 16,   7,   0],\n",
              "        [ 49,  27,   8],\n",
              "        ...,\n",
              "        [118,  84,  50],\n",
              "        [120,  84,  50],\n",
              "        [109,  73,  42]],\n",
              "\n",
              "       ...,\n",
              "\n",
              "       [[208, 170,  96],\n",
              "        [201, 153,  34],\n",
              "        [198, 161,  26],\n",
              "        ...,\n",
              "        [160, 133,  70],\n",
              "        [ 56,  31,   7],\n",
              "        [ 53,  34,  20]],\n",
              "\n",
              "       [[180, 139,  96],\n",
              "        [173, 123,  42],\n",
              "        [186, 144,  30],\n",
              "        ...,\n",
              "        [184, 148,  94],\n",
              "        [ 97,  62,  34],\n",
              "        [ 83,  53,  34]],\n",
              "\n",
              "       [[177, 144, 116],\n",
              "        [168, 129,  94],\n",
              "        [179, 142,  87],\n",
              "        ...,\n",
              "        [216, 184, 140],\n",
              "        [151, 118,  84],\n",
              "        [123,  92,  72]]], dtype=uint8)</pre></div><script>\n",
              "      (() => {\n",
              "      const titles = ['show data', 'hide data'];\n",
              "      let index = 0\n",
              "      document.querySelector('#id-2b5628fa-9c07-4afc-a8e9-772959d1fe92 button').onclick = (e) => {\n",
              "        document.querySelector('#id-2b5628fa-9c07-4afc-a8e9-772959d1fe92').classList.toggle('show_array');\n",
              "        index = (++index) % 2;\n",
              "        document.querySelector('#id-2b5628fa-9c07-4afc-a8e9-772959d1fe92 button').textContent = titles[index];\n",
              "        e.preventDefault();\n",
              "        e.stopPropagation();\n",
              "      }\n",
              "      })();\n",
              "    </script>"
            ]
          },
          "metadata": {},
          "execution_count": 201
        }
      ]
    },
    {
      "cell_type": "code",
      "execution_count": 202,
      "metadata": {
        "colab": {
          "base_uri": "https://localhost:8080/"
        },
        "id": "CtB2ZlTkBxLW",
        "outputId": "03d75bc3-7d1e-4794-bb84-7aaae7c0c8e5"
      },
      "outputs": [
        {
          "output_type": "execute_result",
          "data": {
            "text/plain": [
              "array([[6],\n",
              "       [9],\n",
              "       [9],\n",
              "       ...,\n",
              "       [9],\n",
              "       [1],\n",
              "       [1]], dtype=uint8)"
            ]
          },
          "metadata": {},
          "execution_count": 202
        }
      ],
      "source": [
        "#labels\n",
        "y_train"
      ]
    },
    {
      "cell_type": "code",
      "source": [
        "X_train[0][0][0]"
      ],
      "metadata": {
        "id": "M67ENz0DCJi0",
        "colab": {
          "base_uri": "https://localhost:8080/"
        },
        "outputId": "805c534f-0ca8-4e0a-9a3f-0b0fca41c331"
      },
      "execution_count": 203,
      "outputs": [
        {
          "output_type": "execute_result",
          "data": {
            "text/plain": [
              "array([59, 62, 63], dtype=uint8)"
            ]
          },
          "metadata": {},
          "execution_count": 203
        }
      ]
    },
    {
      "cell_type": "markdown",
      "source": [
        "## Task: build the best classifier (with feature extration) using the methods you know from ML1+2\n",
        "* work in small teams (2-4)\n",
        "* use NumPy pre-processing, feature extraction and hyer-parameter tuning in Scikit-Learn\n",
        "* no Neural Networks!\n",
        "* best test F1-Score winns!"
      ],
      "metadata": {
        "id": "9rEXJUhVCmvB"
      }
    },
    {
      "cell_type": "code",
      "source": [
        "import numpy as np"
      ],
      "metadata": {
        "id": "6FXU5hLhDfUP"
      },
      "execution_count": 204,
      "outputs": []
    },
    {
      "cell_type": "code",
      "source": [
        "\n",
        "im_R = X_train.copy()\n",
        "im_R[:,:, :, (1, 2)] = 0\n",
        "im_G = X_train.copy()\n",
        "im_G[:,:, :, (0, 2)] = 0\n",
        "im_B = X_train.copy()\n",
        "im_B[:,:, :, (0, 1)] = 0"
      ],
      "metadata": {
        "id": "eZLYcIjwa9Fw"
      },
      "execution_count": 205,
      "outputs": []
    },
    {
      "cell_type": "code",
      "source": [
        "im_R[0]"
      ],
      "metadata": {
        "colab": {
          "base_uri": "https://localhost:8080/",
          "height": 73
        },
        "id": "rBE3XWlfbF4g",
        "outputId": "bb59ec2d-e11d-4679-c7ba-af85b293436a"
      },
      "execution_count": 206,
      "outputs": [
        {
          "output_type": "execute_result",
          "data": {
            "text/plain": [
              "array([[[ 59,   0,   0],\n",
              "        [ 43,   0,   0],\n",
              "        [ 50,   0,   0],\n",
              "        ...,\n",
              "        [158,   0,   0],\n",
              "        [152,   0,   0],\n",
              "        [148,   0,   0]],\n",
              "\n",
              "       [[ 16,   0,   0],\n",
              "        [  0,   0,   0],\n",
              "        [ 18,   0,   0],\n",
              "        ...,\n",
              "        [123,   0,   0],\n",
              "        [119,   0,   0],\n",
              "        [122,   0,   0]],\n",
              "\n",
              "       [[ 25,   0,   0],\n",
              "        [ 16,   0,   0],\n",
              "        [ 49,   0,   0],\n",
              "        ...,\n",
              "        [118,   0,   0],\n",
              "        [120,   0,   0],\n",
              "        [109,   0,   0]],\n",
              "\n",
              "       ...,\n",
              "\n",
              "       [[208,   0,   0],\n",
              "        [201,   0,   0],\n",
              "        [198,   0,   0],\n",
              "        ...,\n",
              "        [160,   0,   0],\n",
              "        [ 56,   0,   0],\n",
              "        [ 53,   0,   0]],\n",
              "\n",
              "       [[180,   0,   0],\n",
              "        [173,   0,   0],\n",
              "        [186,   0,   0],\n",
              "        ...,\n",
              "        [184,   0,   0],\n",
              "        [ 97,   0,   0],\n",
              "        [ 83,   0,   0]],\n",
              "\n",
              "       [[177,   0,   0],\n",
              "        [168,   0,   0],\n",
              "        [179,   0,   0],\n",
              "        ...,\n",
              "        [216,   0,   0],\n",
              "        [151,   0,   0],\n",
              "        [123,   0,   0]]], dtype=uint8)"
            ],
            "text/html": [
              "<style>\n",
              "      .ndarray_repr .ndarray_raw_data {\n",
              "        display: none;\n",
              "      }\n",
              "      .ndarray_repr.show_array .ndarray_raw_data {\n",
              "        display: block;\n",
              "      }\n",
              "      .ndarray_repr.show_array .ndarray_image_preview {\n",
              "        display: none;\n",
              "      }\n",
              "      </style>\n",
              "      <div id=\"id-e00193d1-cc3f-4ec9-a2f5-abe984a8aaec\" class=\"ndarray_repr\"><pre>ndarray (32, 32, 3) <button style=\"padding: 0 2px;\">show data</button></pre><img src=\"data:image/png;base64,iVBORw0KGgoAAAANSUhEUgAAACAAAAAgCAIAAAD8GO2jAAAEuElEQVR4nE3WS28b1xUH8B/JmeGbFCmJlC3FFuTEhlH0CbQLddl90Q/aL1Cgi6JA0U2CtE3zQBLXbqVYkC1LtPgYvtnF4BghuBiQd+695/xfp/RbRlTp84hDDshIwC1LepRZMKfGhhldsKRChTZNUnJ28dea5EtG9ClxQIkpE3bMmLHihhprKlSZsaZEmRV1JtzSoEQJsaZCUgePOWVAnRI5c3ZkYEeXNRkbKixY0SCJs8uxY4sJK8qMSWq0eco+KRM25JTpkDAioc+YZXSgFVukbEhYkEUnUWXNe5IedbocsokLYkFCwoYdb9gwZkYLVChTIY9S5uRsGTFiwpzkkDY1ytRZsWXHkk087xgHtmvG/EBKhxU5jxhQYsGE99zwqijuIR1aAU6xqMw+Te7pMua/TMg4JuEVC1K6nHMfOBUHVPmIAdckfRKqNAK6vaiggPE1L3jLjMf8gRP+yN8LFkbf2qBGRoM1j2iTDALSCTkJM8rk7LHkP9yyo0KHATU+4YprFnwefC0+XdpBwtMC5EJHoyDG9kc8+ZopNWrU6fEZaxYcUmLFjCnLaHLKjpQ1u0KwpSBWQYbiOlVumHHGghrPguz3JLTZ5wkv+YaMXQgiZcuWEkkeB0xD3BPuOWbHY54w45iMOwphfsSIMzp0uOOONC63ZUO5qGATRKzT4jUvSciY8wm/4wVtDnjDHmUy3pDwNii7FxossaVMqaDpXtx6x/ugY50rhhyzRwpOAokNUx5E309oM+YNK+agyZKUZEwSWxQU6sV1Bhzzb77lnBFDyizZ4546DxiFif6NyzCCPChTroRiseGOa+7o8WtO+Cc9KtGKJj0S6qTc0OIhDymH2RTGvmVJUnSqRBId7HPEr3jOHVXO2HLEmllocMMLvuCcfe5JOQiEC6dbkGzJI2EqfEyNU37OA/7BI45iwYw8StxQ54ALhsH6UphjnawgdPqj1RUGXPCEE7AKo53yJQvuuaFCjWN+xpq0wJMZ22BNgyHJIpIojZN/zzkdrqkw4i2v+Qst5hzR4SVL+jyNcJ1xR4l50PJ50aJCzEUK1vgFVb7ijgVjLpiQ0qLDIVeBxwWYRK69o06DOuNwQ9sIliVD/kSfQRC5RUKTI3LqvGNFmyXfcRUptqEJytTofaggoxbZu+UmtLalT6HEH9iFCCo0I4GFK9yzpM2UMXP2OaBcnLajwYAd+3RZsmRGlTLPgtdbJny41ppv+ZQvuKUWwT6lWQRBFq9tmVGhQZOMYYTJITN+wnPKTJnFhHLF/6Liw/ixx1NO+J5kGLk6DfvukEW78SlnXFKmQYU6U3LWtDiPUj6MIwN+yYDPSB7R5XuuWdJiGrPFbXSzGNyuuWTLkFKIfI8sQC4Mv8nHPOSCdyQdcnrgphg0omkr3tOMeWQZKp1EDOThRUVnMqpknJLzV/5FUoxm/fDUe4Qnb8hIY5Rbhhns2IQBj8jpRhTOwkjG/LmYKiagFU7ZZRLfVYxM64iglBKNyM6MTnSyw4zv+IYhQ3BAcskiNurSZ8IoUrAS7ihCqhLJlQawG0YsueVVPB/xvDC7DasYtmrs0aMf418eu2+Zk1FhTE5KO6Cqxrtn/JRnnPIbLvk/jBfuxT5UBAIAAAAASUVORK5CYII=\" class=\"ndarray_image_preview\" /><pre class=\"ndarray_raw_data\">array([[[ 59,   0,   0],\n",
              "        [ 43,   0,   0],\n",
              "        [ 50,   0,   0],\n",
              "        ...,\n",
              "        [158,   0,   0],\n",
              "        [152,   0,   0],\n",
              "        [148,   0,   0]],\n",
              "\n",
              "       [[ 16,   0,   0],\n",
              "        [  0,   0,   0],\n",
              "        [ 18,   0,   0],\n",
              "        ...,\n",
              "        [123,   0,   0],\n",
              "        [119,   0,   0],\n",
              "        [122,   0,   0]],\n",
              "\n",
              "       [[ 25,   0,   0],\n",
              "        [ 16,   0,   0],\n",
              "        [ 49,   0,   0],\n",
              "        ...,\n",
              "        [118,   0,   0],\n",
              "        [120,   0,   0],\n",
              "        [109,   0,   0]],\n",
              "\n",
              "       ...,\n",
              "\n",
              "       [[208,   0,   0],\n",
              "        [201,   0,   0],\n",
              "        [198,   0,   0],\n",
              "        ...,\n",
              "        [160,   0,   0],\n",
              "        [ 56,   0,   0],\n",
              "        [ 53,   0,   0]],\n",
              "\n",
              "       [[180,   0,   0],\n",
              "        [173,   0,   0],\n",
              "        [186,   0,   0],\n",
              "        ...,\n",
              "        [184,   0,   0],\n",
              "        [ 97,   0,   0],\n",
              "        [ 83,   0,   0]],\n",
              "\n",
              "       [[177,   0,   0],\n",
              "        [168,   0,   0],\n",
              "        [179,   0,   0],\n",
              "        ...,\n",
              "        [216,   0,   0],\n",
              "        [151,   0,   0],\n",
              "        [123,   0,   0]]], dtype=uint8)</pre></div><script>\n",
              "      (() => {\n",
              "      const titles = ['show data', 'hide data'];\n",
              "      let index = 0\n",
              "      document.querySelector('#id-e00193d1-cc3f-4ec9-a2f5-abe984a8aaec button').onclick = (e) => {\n",
              "        document.querySelector('#id-e00193d1-cc3f-4ec9-a2f5-abe984a8aaec').classList.toggle('show_array');\n",
              "        index = (++index) % 2;\n",
              "        document.querySelector('#id-e00193d1-cc3f-4ec9-a2f5-abe984a8aaec button').textContent = titles[index];\n",
              "        e.preventDefault();\n",
              "        e.stopPropagation();\n",
              "      }\n",
              "      })();\n",
              "    </script>"
            ]
          },
          "metadata": {},
          "execution_count": 206
        }
      ]
    },
    {
      "cell_type": "code",
      "source": [
        "im_G[0]"
      ],
      "metadata": {
        "colab": {
          "base_uri": "https://localhost:8080/",
          "height": 73
        },
        "id": "_1nG_J5ubc2j",
        "outputId": "5353e6d1-71ff-4cc2-a6ef-d2daa43fb925"
      },
      "execution_count": 207,
      "outputs": [
        {
          "output_type": "execute_result",
          "data": {
            "text/plain": [
              "array([[[  0,  62,   0],\n",
              "        [  0,  46,   0],\n",
              "        [  0,  48,   0],\n",
              "        ...,\n",
              "        [  0, 132,   0],\n",
              "        [  0, 125,   0],\n",
              "        [  0, 124,   0]],\n",
              "\n",
              "       [[  0,  20,   0],\n",
              "        [  0,   0,   0],\n",
              "        [  0,   8,   0],\n",
              "        ...,\n",
              "        [  0,  88,   0],\n",
              "        [  0,  83,   0],\n",
              "        [  0,  87,   0]],\n",
              "\n",
              "       [[  0,  24,   0],\n",
              "        [  0,   7,   0],\n",
              "        [  0,  27,   0],\n",
              "        ...,\n",
              "        [  0,  84,   0],\n",
              "        [  0,  84,   0],\n",
              "        [  0,  73,   0]],\n",
              "\n",
              "       ...,\n",
              "\n",
              "       [[  0, 170,   0],\n",
              "        [  0, 153,   0],\n",
              "        [  0, 161,   0],\n",
              "        ...,\n",
              "        [  0, 133,   0],\n",
              "        [  0,  31,   0],\n",
              "        [  0,  34,   0]],\n",
              "\n",
              "       [[  0, 139,   0],\n",
              "        [  0, 123,   0],\n",
              "        [  0, 144,   0],\n",
              "        ...,\n",
              "        [  0, 148,   0],\n",
              "        [  0,  62,   0],\n",
              "        [  0,  53,   0]],\n",
              "\n",
              "       [[  0, 144,   0],\n",
              "        [  0, 129,   0],\n",
              "        [  0, 142,   0],\n",
              "        ...,\n",
              "        [  0, 184,   0],\n",
              "        [  0, 118,   0],\n",
              "        [  0,  92,   0]]], dtype=uint8)"
            ],
            "text/html": [
              "<style>\n",
              "      .ndarray_repr .ndarray_raw_data {\n",
              "        display: none;\n",
              "      }\n",
              "      .ndarray_repr.show_array .ndarray_raw_data {\n",
              "        display: block;\n",
              "      }\n",
              "      .ndarray_repr.show_array .ndarray_image_preview {\n",
              "        display: none;\n",
              "      }\n",
              "      </style>\n",
              "      <div id=\"id-5b52b824-87fe-4017-b307-eb684156ce1b\" class=\"ndarray_repr\"><pre>ndarray (32, 32, 3) <button style=\"padding: 0 2px;\">show data</button></pre><img src=\"data:image/png;base64,iVBORw0KGgoAAAANSUhEUgAAACAAAAAgCAIAAAD8GO2jAAAEx0lEQVR4nE3WS28b5xnF8d8MhxeJIkVdLcsW0iapXTSI0ysQFG3RLvsJ+vH6FYousi66aFdBCrQwCkO141iWLFMXivfbzHQxehATBBdczLzvc875nyfxOwakNNhjlx41mtS4ZU2PnAVzNsCMHiULUGOLNnUWJKQsKGWec0WLPXI2KMhJmDMjp0bGmpQmcwrm1FiQsSBnk5QaKXNWZDIZTfZ4wAGbJCxYkbDBmoJdVtTJabBkTYM2DRJKkNBmwpqEoUxCh0dx9hsKpjTo0eCOjA5D5sxBmyU5zbjigjoF4/inYCLTpEmbLgXISCnIYso13rNiGmNcxHmbTKhTxlgwZsqUlUyPOi1qMRCUrFlSkpPFeavvhBtSxrzjjn0O6XDLmBF3vKEmc0CDzRhiyQx0aHNHlzlvWVCwSZ1rShK6/IQLpuwzZUydIw4rDTosqdNkRhH+y1mxRZ/XjFizwW95yNecUpAyYEyHnBYtEnJOuJHZ5YaEKUuSmOOKHXLOGJJRo0XGDV12GTDlBWvabJOyTcGSJQcy+2yRMmRCDupsgZcsaIUja5yyZJsdhFRT1uHslPT7cGRS6qDl/pOCDd5xxS5z2nwSjhpSo8EOP+I7XoTl1mQ0wpCJ7HtvTViRhsNOWLPPMXOeUHJHj2uOmPBjdtihzx0NSgqKuE1ZBS2npEWHPmfUueSSQ37PWx6xR59eaNunxYAL6nSZfZChalZllYOMMStGfMeYFq9o8YhjRrT4gncRlAmb5LRpx7UuSVgGsmY0ZAZhnhq1MFybW455xhmnPGTAJ7jHpPcs2SXnGQO+4g2NyJMqyUkkS3h0yIJt/sBT/hzkecnH7FEGsmaMOOCIMV0apKxY32ueKUPbNIK2xya/5Ne8Z81jEg6ZM2AdZ3rLf/iSI0Zs8gNSlizoM5JZs6Ad+hyxwUf8hqf8kxM+C5LPGXLOJSs67HPOQ6bMmARCmhzRlKkxYh51sccFP+dzMKLDEzK+YcaQt0GFH/IkxGsw53X0Uo09jmVmNGmRkrPFn/gj+7wkZcS3jPhLgPoBHc5IOeZzcgbRgGX8julVGhShSXW1X1DnX5yz4JbTD7jdYidGNOJVFEDVjBUQO2RMKWT3PKmHwbf5Kw9irHXa7nFyyIgafZa0GPMN/40npDymTTNQ8ZnsvrmyGNySK/rBjx2OyTkPTFVl24p7V8mqWrbJcVTvhC6H0vuxVHTbC280uWPElC5tngXOkg9at7r3Gc/5Xyw4DcbM6DCV3nO1pMYqoN9hk0NuWXJCwa/4aXBlShJReMWUreDuBe9p0eN5VZnX0bQVx7vUo8qX/IOn4ZlmVHd1xkrSn9GJ872JxD2hx4XMCQlv6IdNpyFRPyBYssW7yNEBBYNosUq5ahJjCk444oy+7J7mh7S5ZBl71YqcGRtMYyWpXjakG3y+jkJch4kbfMqUv/NCpkWXrXjWbaS02jI3o43LeHrJknk0VyVSL8aLK8ZM+BtTmTE12mzQZJshwzh1I96UhQYJW2SxgfW4oWSXNd/yb3Z5fL8AZF4z4ICNcMKEAddcU0SGi8hB9eh1eH8WvsoZcso1E7b5iJlMPTp6zTYHUcs3XMUaWwaiG2TMGVMG5FexuFdV8wXP+JQvOfd/OF76FWh8dPYAAAAASUVORK5CYII=\" class=\"ndarray_image_preview\" /><pre class=\"ndarray_raw_data\">array([[[  0,  62,   0],\n",
              "        [  0,  46,   0],\n",
              "        [  0,  48,   0],\n",
              "        ...,\n",
              "        [  0, 132,   0],\n",
              "        [  0, 125,   0],\n",
              "        [  0, 124,   0]],\n",
              "\n",
              "       [[  0,  20,   0],\n",
              "        [  0,   0,   0],\n",
              "        [  0,   8,   0],\n",
              "        ...,\n",
              "        [  0,  88,   0],\n",
              "        [  0,  83,   0],\n",
              "        [  0,  87,   0]],\n",
              "\n",
              "       [[  0,  24,   0],\n",
              "        [  0,   7,   0],\n",
              "        [  0,  27,   0],\n",
              "        ...,\n",
              "        [  0,  84,   0],\n",
              "        [  0,  84,   0],\n",
              "        [  0,  73,   0]],\n",
              "\n",
              "       ...,\n",
              "\n",
              "       [[  0, 170,   0],\n",
              "        [  0, 153,   0],\n",
              "        [  0, 161,   0],\n",
              "        ...,\n",
              "        [  0, 133,   0],\n",
              "        [  0,  31,   0],\n",
              "        [  0,  34,   0]],\n",
              "\n",
              "       [[  0, 139,   0],\n",
              "        [  0, 123,   0],\n",
              "        [  0, 144,   0],\n",
              "        ...,\n",
              "        [  0, 148,   0],\n",
              "        [  0,  62,   0],\n",
              "        [  0,  53,   0]],\n",
              "\n",
              "       [[  0, 144,   0],\n",
              "        [  0, 129,   0],\n",
              "        [  0, 142,   0],\n",
              "        ...,\n",
              "        [  0, 184,   0],\n",
              "        [  0, 118,   0],\n",
              "        [  0,  92,   0]]], dtype=uint8)</pre></div><script>\n",
              "      (() => {\n",
              "      const titles = ['show data', 'hide data'];\n",
              "      let index = 0\n",
              "      document.querySelector('#id-5b52b824-87fe-4017-b307-eb684156ce1b button').onclick = (e) => {\n",
              "        document.querySelector('#id-5b52b824-87fe-4017-b307-eb684156ce1b').classList.toggle('show_array');\n",
              "        index = (++index) % 2;\n",
              "        document.querySelector('#id-5b52b824-87fe-4017-b307-eb684156ce1b button').textContent = titles[index];\n",
              "        e.preventDefault();\n",
              "        e.stopPropagation();\n",
              "      }\n",
              "      })();\n",
              "    </script>"
            ]
          },
          "metadata": {},
          "execution_count": 207
        }
      ]
    },
    {
      "cell_type": "code",
      "source": [
        "im_B[0]"
      ],
      "metadata": {
        "colab": {
          "base_uri": "https://localhost:8080/",
          "height": 73
        },
        "id": "gZWUgH35bgEu",
        "outputId": "b5061811-ff3e-47c6-b26b-256a24f07fa5"
      },
      "execution_count": 208,
      "outputs": [
        {
          "output_type": "execute_result",
          "data": {
            "text/plain": [
              "array([[[  0,   0,  63],\n",
              "        [  0,   0,  45],\n",
              "        [  0,   0,  43],\n",
              "        ...,\n",
              "        [  0,   0, 108],\n",
              "        [  0,   0, 102],\n",
              "        [  0,   0, 103]],\n",
              "\n",
              "       [[  0,   0,  20],\n",
              "        [  0,   0,   0],\n",
              "        [  0,   0,   0],\n",
              "        ...,\n",
              "        [  0,   0,  55],\n",
              "        [  0,   0,  50],\n",
              "        [  0,   0,  57]],\n",
              "\n",
              "       [[  0,   0,  21],\n",
              "        [  0,   0,   0],\n",
              "        [  0,   0,   8],\n",
              "        ...,\n",
              "        [  0,   0,  50],\n",
              "        [  0,   0,  50],\n",
              "        [  0,   0,  42]],\n",
              "\n",
              "       ...,\n",
              "\n",
              "       [[  0,   0,  96],\n",
              "        [  0,   0,  34],\n",
              "        [  0,   0,  26],\n",
              "        ...,\n",
              "        [  0,   0,  70],\n",
              "        [  0,   0,   7],\n",
              "        [  0,   0,  20]],\n",
              "\n",
              "       [[  0,   0,  96],\n",
              "        [  0,   0,  42],\n",
              "        [  0,   0,  30],\n",
              "        ...,\n",
              "        [  0,   0,  94],\n",
              "        [  0,   0,  34],\n",
              "        [  0,   0,  34]],\n",
              "\n",
              "       [[  0,   0, 116],\n",
              "        [  0,   0,  94],\n",
              "        [  0,   0,  87],\n",
              "        ...,\n",
              "        [  0,   0, 140],\n",
              "        [  0,   0,  84],\n",
              "        [  0,   0,  72]]], dtype=uint8)"
            ],
            "text/html": [
              "<style>\n",
              "      .ndarray_repr .ndarray_raw_data {\n",
              "        display: none;\n",
              "      }\n",
              "      .ndarray_repr.show_array .ndarray_raw_data {\n",
              "        display: block;\n",
              "      }\n",
              "      .ndarray_repr.show_array .ndarray_image_preview {\n",
              "        display: none;\n",
              "      }\n",
              "      </style>\n",
              "      <div id=\"id-957e0658-de45-4169-be80-2d5f534a507b\" class=\"ndarray_repr\"><pre>ndarray (32, 32, 3) <button style=\"padding: 0 2px;\">show data</button></pre><img src=\"data:image/png;base64,iVBORw0KGgoAAAANSUhEUgAAACAAAAAgCAIAAAD8GO2jAAAErElEQVR4nE3WS28b9xUF8N+8+JSoyJRsNXYaK1ECtEXrADGKAF0EQTdZ9SO2X6Eouu22mwToKmlrICkQ24lkPSm+hsPhTBeDG3hHEOS9/3vOuefchM+5oaFlxJg9Cobk3NFywJYNJQN2LJiwo6IgY48xAypSciqShCOuwIB9HpLS0qNiQ0NCS0NOnyUVU7CJojVjCgpStmzp5yRR/YAHjEko2ZAwpGXDiJYh6FOS0GcYLZsoNWLFFsxyanIOyShjwBrs0Wcef1uyZEvCmHUM1H2zpUfNLS1o2OTxoyEFO5DFjDkNa1Lu2LGiCvQ72gaUTGgDqJaSLTVpzoCMLBDYkVDRBo4VPZZkNDRs38LkihVnPGHGNUtK1szIc8bU9NgGkysSDhhwxYQtV2QgZ81dvGmf5+xoKchJKdjnEWXOkDtyRjHXIS0pJXtsmAUrGZ+wx/ecx6CXbChIQrIFNe8yz5lSkkf1LJioAtkf2dEjZcecDSekvKHiBQ0THsVDO3jvGeccB8O3LIK9jpsBL1jSj3/WXJBzwoBJwN1SU4GEjJwNbR6rgYIxKSkNB8y5ZRAyfUwZT5kx5kN+yVe8ZsOCnB5FSCDtkFlTc0/KgDlzcuYBa8KzEN+UjF+w5CNG/Ip5tOwHwh1nbc4uxDtkxJrLgP6Sgo+44ZgTLsIPMl5zx08sGMVapCSh9bTT3B41JTtmXLAg5Z4e73NKQ8Hvec0lJSXHNOzxLiecc03RQc+ABUXONfOuG1lMOuCeKZ9TUfGAimesuKThmi0P6HPIT/wthu5MKWWbgwVJaFQs/Zgv+Iw/s8ea7/g1Z8x5wyErVpzylAnCBCt27LpNxjYm2IZgaj7mMxbMeELDcWixDmxf8XVY9xuEDrucuGOUh/C7kKk4JOU9vuB3/IVDfsuHHLBgzktesWJAwb94zIINt7EWnfqTzk1Xb1n/iDu+5EsOWXLAJzzgK5bc8QMVOY85Y8w7bCl5/ZYlj5nm4RMZddDwJ/7II/5NzYz/suOvFCw4YMxLap7yKX1eBZF5SLYUybkLE26Z8GkM/h0lN3zLkDLedcA5Wxb8wDfMaXnIhEHE3D11161iFBt3yN/5hveY0WcSBjnllj5X7Biy4GtesI5QGVNRUjPkNA9vaiIIt5xzzj0ZU47ZcE5LF7EFowjFlhlJ0LvhLnL3g46DLi9rRhxRRrRe0KPhlIon/CPksGISWJfcUrMkZUiPVUy867xzQ48+axqGHHPAEZdsOaPPH3jOgA1rEhp+5Jw1Ix6GJR9xyhPOu4S7pkG3e0wpuKcT8T+54DyctR8nxZqKPh8zoWYVl9k+v+ER/+vse8CKNoJlFn53HTKdcchNOMGUbRC+H6tbRBqnnDDlglUXOCsyRmwiKbtpNlGlDOXsyFgx5IAVt2EPP59lGU9p+ZY3eWRQGldiB9pDmjgGemH3VdhkGQnY55YtE9JQxzzm/k+3aAV7lGHi3aV1Ee+dhsX/7OfdYSuWdsSchikV17xkEm/az+MwrcNK8zDhXlRso1kX6Plb1nsTilyBdRxeO0543JU74jkbrkiiWSfW7C0Am1iRLD5X7IfYOoFUvMOYZ5yxYvF/7nny4MzNv8IAAAAASUVORK5CYII=\" class=\"ndarray_image_preview\" /><pre class=\"ndarray_raw_data\">array([[[  0,   0,  63],\n",
              "        [  0,   0,  45],\n",
              "        [  0,   0,  43],\n",
              "        ...,\n",
              "        [  0,   0, 108],\n",
              "        [  0,   0, 102],\n",
              "        [  0,   0, 103]],\n",
              "\n",
              "       [[  0,   0,  20],\n",
              "        [  0,   0,   0],\n",
              "        [  0,   0,   0],\n",
              "        ...,\n",
              "        [  0,   0,  55],\n",
              "        [  0,   0,  50],\n",
              "        [  0,   0,  57]],\n",
              "\n",
              "       [[  0,   0,  21],\n",
              "        [  0,   0,   0],\n",
              "        [  0,   0,   8],\n",
              "        ...,\n",
              "        [  0,   0,  50],\n",
              "        [  0,   0,  50],\n",
              "        [  0,   0,  42]],\n",
              "\n",
              "       ...,\n",
              "\n",
              "       [[  0,   0,  96],\n",
              "        [  0,   0,  34],\n",
              "        [  0,   0,  26],\n",
              "        ...,\n",
              "        [  0,   0,  70],\n",
              "        [  0,   0,   7],\n",
              "        [  0,   0,  20]],\n",
              "\n",
              "       [[  0,   0,  96],\n",
              "        [  0,   0,  42],\n",
              "        [  0,   0,  30],\n",
              "        ...,\n",
              "        [  0,   0,  94],\n",
              "        [  0,   0,  34],\n",
              "        [  0,   0,  34]],\n",
              "\n",
              "       [[  0,   0, 116],\n",
              "        [  0,   0,  94],\n",
              "        [  0,   0,  87],\n",
              "        ...,\n",
              "        [  0,   0, 140],\n",
              "        [  0,   0,  84],\n",
              "        [  0,   0,  72]]], dtype=uint8)</pre></div><script>\n",
              "      (() => {\n",
              "      const titles = ['show data', 'hide data'];\n",
              "      let index = 0\n",
              "      document.querySelector('#id-957e0658-de45-4169-be80-2d5f534a507b button').onclick = (e) => {\n",
              "        document.querySelector('#id-957e0658-de45-4169-be80-2d5f534a507b').classList.toggle('show_array');\n",
              "        index = (++index) % 2;\n",
              "        document.querySelector('#id-957e0658-de45-4169-be80-2d5f534a507b button').textContent = titles[index];\n",
              "        e.preventDefault();\n",
              "        e.stopPropagation();\n",
              "      }\n",
              "      })();\n",
              "    </script>"
            ]
          },
          "metadata": {},
          "execution_count": 208
        }
      ]
    },
    {
      "cell_type": "code",
      "source": [],
      "metadata": {
        "id": "oEmeefjuYIbs"
      },
      "execution_count": 208,
      "outputs": []
    },
    {
      "cell_type": "code",
      "source": [],
      "metadata": {
        "id": "FkJTrcI-aor5"
      },
      "execution_count": 208,
      "outputs": []
    },
    {
      "cell_type": "code",
      "source": [],
      "metadata": {
        "id": "RbsqNA5ue4Z7"
      },
      "execution_count": 208,
      "outputs": []
    },
    {
      "cell_type": "code",
      "source": [
        "import skimage as ski\n",
        "from skimage.color import rgb2gray\n",
        "# ... or any other NumPy array!\n",
        "#ski.io.imshow(edges)\n",
        "#ski.io.show()"
      ],
      "metadata": {
        "id": "4dmavs90M09r"
      },
      "execution_count": 209,
      "outputs": []
    },
    {
      "cell_type": "code",
      "source": [
        "def ausgrauenflach(daten):\n",
        "  grau = []\n",
        "  for elem in daten:\n",
        "    grau += [rgb2gray(elem)]\n",
        "  grau = np.array(grau)\n",
        "  ecken = ski.filters.sobel(grau)\n",
        "  ecken_flat = []\n",
        "  for elem in ecken:\n",
        "    ecken_flat += [elem.flatten(\"C\")]\n",
        "  return np.array(ecken_flat)\n",
        "\n",
        "\n",
        "def edgesfunc(daten):\n",
        "  grau = rgb2gray(daten)\n",
        "  ecken = ski.filters.sobel(grau)\n",
        "  return np.array(ecken)\n"
      ],
      "metadata": {
        "id": "SqGZPo40gHcM"
      },
      "execution_count": 210,
      "outputs": []
    },
    {
      "cell_type": "code",
      "source": [
        "from sklearn.ensemble import RandomForestClassifier\n",
        "\n",
        "dc = RandomForestClassifier()\n",
        "#dc = dc.fit(edges_flat,y_train)"
      ],
      "metadata": {
        "id": "ZG1vFnw8ffPT"
      },
      "execution_count": 211,
      "outputs": []
    },
    {
      "cell_type": "code",
      "source": [
        "from skimage.color import rgb2gray\n",
        "import skimage as ski\n",
        "import numpy as np\n",
        "\n",
        "test = edgesfunc(X_test)"
      ],
      "metadata": {
        "id": "LFowAv5kinFb"
      },
      "execution_count": 212,
      "outputs": []
    },
    {
      "cell_type": "code",
      "source": [
        "test.shape"
      ],
      "metadata": {
        "id": "X7CAMaEkj5nl",
        "outputId": "570cb59e-c2f8-4351-9a9e-1f952c51fe05",
        "colab": {
          "base_uri": "https://localhost:8080/"
        }
      },
      "execution_count": 213,
      "outputs": [
        {
          "output_type": "execute_result",
          "data": {
            "text/plain": [
              "(10000, 32, 32)"
            ]
          },
          "metadata": {},
          "execution_count": 213
        }
      ]
    },
    {
      "cell_type": "code",
      "source": [
        "from sklearn.metrics import f1_score\n",
        "\n",
        "#y_pred = dc.predict(test)\n",
        "\n",
        "#f1_score(y_test, y_pred, average='macro')\n",
        "#f1_score(y_test, y_pred, average='micro')\n",
        "#f1_score(y_test, y_pred, average='weighted')"
      ],
      "metadata": {
        "id": "z9JdzhU6kQQf"
      },
      "execution_count": 214,
      "outputs": []
    },
    {
      "cell_type": "code",
      "source": [],
      "metadata": {
        "id": "87klYWzptHi9"
      },
      "execution_count": 214,
      "outputs": []
    }
  ],
  "metadata": {
    "kernelspec": {
      "display_name": "Python 3",
      "language": "python",
      "name": "python3"
    },
    "language_info": {
      "codemirror_mode": {
        "name": "ipython",
        "version": 3
      },
      "file_extension": ".py",
      "mimetype": "text/x-python",
      "name": "python",
      "nbconvert_exporter": "python",
      "pygments_lexer": "ipython3",
      "version": "3.7.6"
    },
    "colab": {
      "name": "CIFAR10-ShallowLearning.ipynb",
      "provenance": [],
      "include_colab_link": true
    }
  },
  "nbformat": 4,
  "nbformat_minor": 0
}