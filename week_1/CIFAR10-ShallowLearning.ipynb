{
  "cells": [
    {
      "cell_type": "markdown",
      "metadata": {
        "id": "view-in-github",
        "colab_type": "text"
      },
      "source": [
        "<a href=\"https://colab.research.google.com/github/MrEwdew/DeepLearning25/blob/main/week_1/CIFAR10-ShallowLearning.ipynb\" target=\"_parent\"><img src=\"https://colab.research.google.com/assets/colab-badge.svg\" alt=\"Open In Colab\"/></a>"
      ]
    },
    {
      "cell_type": "markdown",
      "metadata": {
        "id": "P7t4Y8D_BxLK"
      },
      "source": [
        "# Lab 1: CIFAR10 Challenge\n",
        "\n",
        "**CIFAR10** (http://www.cs.toronto.edu/~kriz/cifar.html) is one of the most famous ML data sets.\n",
        "\n",
        "## Data\n",
        "* 32x32 color images\n",
        "* in 10 classes\n",
        "* 50k training images\n",
        "* 10k test images\n",
        "\n"
      ]
    },
    {
      "cell_type": "markdown",
      "metadata": {
        "id": "a8-2lrE9BxLR"
      },
      "source": [
        "<img src=\"https://production-media.paperswithcode.com/datasets/CIFAR-10-0000000431-b71f61c0_U5n3Glr.jpg\" width=700>"
      ]
    },
    {
      "cell_type": "code",
      "execution_count": 1,
      "metadata": {
        "id": "owj3QsH2BxLS"
      },
      "outputs": [],
      "source": [
        "#get data\n",
        "from keras.datasets import cifar10\n",
        "(X_train, y_train), (X_test, y_test) = cifar10.load_data()"
      ]
    },
    {
      "cell_type": "code",
      "execution_count": 2,
      "metadata": {
        "colab": {
          "base_uri": "https://localhost:8080/"
        },
        "id": "gFjmpalPBxLW",
        "outputId": "71906467-e253-49f2-d2f9-9ae103993476"
      },
      "outputs": [
        {
          "output_type": "execute_result",
          "data": {
            "text/plain": [
              "(50000, 32, 32, 3)"
            ]
          },
          "metadata": {},
          "execution_count": 2
        }
      ],
      "source": [
        "#traindata: 50k 32X32 rgb images\n",
        "X_train.shape"
      ]
    },
    {
      "cell_type": "code",
      "source": [
        "X_train[0]"
      ],
      "metadata": {
        "id": "Y-cuy0A6T1Uk",
        "outputId": "4c38b56e-58c7-40e9-88f2-2214b4a59400",
        "colab": {
          "base_uri": "https://localhost:8080/",
          "height": 73
        }
      },
      "execution_count": 3,
      "outputs": [
        {
          "output_type": "execute_result",
          "data": {
            "text/plain": [
              "array([[[ 59,  62,  63],\n",
              "        [ 43,  46,  45],\n",
              "        [ 50,  48,  43],\n",
              "        ...,\n",
              "        [158, 132, 108],\n",
              "        [152, 125, 102],\n",
              "        [148, 124, 103]],\n",
              "\n",
              "       [[ 16,  20,  20],\n",
              "        [  0,   0,   0],\n",
              "        [ 18,   8,   0],\n",
              "        ...,\n",
              "        [123,  88,  55],\n",
              "        [119,  83,  50],\n",
              "        [122,  87,  57]],\n",
              "\n",
              "       [[ 25,  24,  21],\n",
              "        [ 16,   7,   0],\n",
              "        [ 49,  27,   8],\n",
              "        ...,\n",
              "        [118,  84,  50],\n",
              "        [120,  84,  50],\n",
              "        [109,  73,  42]],\n",
              "\n",
              "       ...,\n",
              "\n",
              "       [[208, 170,  96],\n",
              "        [201, 153,  34],\n",
              "        [198, 161,  26],\n",
              "        ...,\n",
              "        [160, 133,  70],\n",
              "        [ 56,  31,   7],\n",
              "        [ 53,  34,  20]],\n",
              "\n",
              "       [[180, 139,  96],\n",
              "        [173, 123,  42],\n",
              "        [186, 144,  30],\n",
              "        ...,\n",
              "        [184, 148,  94],\n",
              "        [ 97,  62,  34],\n",
              "        [ 83,  53,  34]],\n",
              "\n",
              "       [[177, 144, 116],\n",
              "        [168, 129,  94],\n",
              "        [179, 142,  87],\n",
              "        ...,\n",
              "        [216, 184, 140],\n",
              "        [151, 118,  84],\n",
              "        [123,  92,  72]]], dtype=uint8)"
            ],
            "text/html": [
              "<style>\n",
              "      .ndarray_repr .ndarray_raw_data {\n",
              "        display: none;\n",
              "      }\n",
              "      .ndarray_repr.show_array .ndarray_raw_data {\n",
              "        display: block;\n",
              "      }\n",
              "      .ndarray_repr.show_array .ndarray_image_preview {\n",
              "        display: none;\n",
              "      }\n",
              "      </style>\n",
              "      <div id=\"id-bb1df4a1-426c-4ddb-9847-7618e07728f5\" class=\"ndarray_repr\"><pre>ndarray (32, 32, 3) <button style=\"padding: 0 2px;\">show data</button></pre><img src=\"data:image/png;base64,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\" class=\"ndarray_image_preview\" /><pre class=\"ndarray_raw_data\">array([[[ 59,  62,  63],\n",
              "        [ 43,  46,  45],\n",
              "        [ 50,  48,  43],\n",
              "        ...,\n",
              "        [158, 132, 108],\n",
              "        [152, 125, 102],\n",
              "        [148, 124, 103]],\n",
              "\n",
              "       [[ 16,  20,  20],\n",
              "        [  0,   0,   0],\n",
              "        [ 18,   8,   0],\n",
              "        ...,\n",
              "        [123,  88,  55],\n",
              "        [119,  83,  50],\n",
              "        [122,  87,  57]],\n",
              "\n",
              "       [[ 25,  24,  21],\n",
              "        [ 16,   7,   0],\n",
              "        [ 49,  27,   8],\n",
              "        ...,\n",
              "        [118,  84,  50],\n",
              "        [120,  84,  50],\n",
              "        [109,  73,  42]],\n",
              "\n",
              "       ...,\n",
              "\n",
              "       [[208, 170,  96],\n",
              "        [201, 153,  34],\n",
              "        [198, 161,  26],\n",
              "        ...,\n",
              "        [160, 133,  70],\n",
              "        [ 56,  31,   7],\n",
              "        [ 53,  34,  20]],\n",
              "\n",
              "       [[180, 139,  96],\n",
              "        [173, 123,  42],\n",
              "        [186, 144,  30],\n",
              "        ...,\n",
              "        [184, 148,  94],\n",
              "        [ 97,  62,  34],\n",
              "        [ 83,  53,  34]],\n",
              "\n",
              "       [[177, 144, 116],\n",
              "        [168, 129,  94],\n",
              "        [179, 142,  87],\n",
              "        ...,\n",
              "        [216, 184, 140],\n",
              "        [151, 118,  84],\n",
              "        [123,  92,  72]]], dtype=uint8)</pre></div><script>\n",
              "      (() => {\n",
              "      const titles = ['show data', 'hide data'];\n",
              "      let index = 0\n",
              "      document.querySelector('#id-bb1df4a1-426c-4ddb-9847-7618e07728f5 button').onclick = (e) => {\n",
              "        document.querySelector('#id-bb1df4a1-426c-4ddb-9847-7618e07728f5').classList.toggle('show_array');\n",
              "        index = (++index) % 2;\n",
              "        document.querySelector('#id-bb1df4a1-426c-4ddb-9847-7618e07728f5 button').textContent = titles[index];\n",
              "        e.preventDefault();\n",
              "        e.stopPropagation();\n",
              "      }\n",
              "      })();\n",
              "    </script>"
            ]
          },
          "metadata": {},
          "execution_count": 3
        }
      ]
    },
    {
      "cell_type": "code",
      "execution_count": 4,
      "metadata": {
        "colab": {
          "base_uri": "https://localhost:8080/"
        },
        "id": "CtB2ZlTkBxLW",
        "outputId": "70e8a25d-e74e-481c-f681-2c19d7287aec"
      },
      "outputs": [
        {
          "output_type": "execute_result",
          "data": {
            "text/plain": [
              "array([[6],\n",
              "       [9],\n",
              "       [9],\n",
              "       ...,\n",
              "       [9],\n",
              "       [1],\n",
              "       [1]], dtype=uint8)"
            ]
          },
          "metadata": {},
          "execution_count": 4
        }
      ],
      "source": [
        "#labels\n",
        "y_train"
      ]
    },
    {
      "cell_type": "code",
      "source": [
        "X_train[0][0][0]"
      ],
      "metadata": {
        "id": "M67ENz0DCJi0",
        "colab": {
          "base_uri": "https://localhost:8080/"
        },
        "outputId": "f43fa668-7ba2-42c3-f621-a3b1b25a515f"
      },
      "execution_count": 5,
      "outputs": [
        {
          "output_type": "execute_result",
          "data": {
            "text/plain": [
              "array([59, 62, 63], dtype=uint8)"
            ]
          },
          "metadata": {},
          "execution_count": 5
        }
      ]
    },
    {
      "cell_type": "markdown",
      "source": [
        "## Task: build the best classifier (with feature extration) using the methods you know from ML1+2\n",
        "* work in small teams (2-4)\n",
        "* use NumPy pre-processing, feature extraction and hyer-parameter tuning in Scikit-Learn\n",
        "* no Neural Networks!\n",
        "* best test F1-Score winns!"
      ],
      "metadata": {
        "id": "9rEXJUhVCmvB"
      }
    },
    {
      "cell_type": "code",
      "source": [
        "import numpy as np"
      ],
      "metadata": {
        "id": "6FXU5hLhDfUP"
      },
      "execution_count": 6,
      "outputs": []
    },
    {
      "cell_type": "code",
      "source": [
        "\n",
        "im_R = X_train.copy()\n",
        "im_R[:,:, :, (1, 2)] = 0\n",
        "im_G = X_train.copy()\n",
        "im_G[:,:, :, (0, 2)] = 0\n",
        "im_B = X_train.copy()\n",
        "im_B[:,:, :, (0, 1)] = 0"
      ],
      "metadata": {
        "id": "eZLYcIjwa9Fw"
      },
      "execution_count": 7,
      "outputs": []
    },
    {
      "cell_type": "code",
      "source": [
        "np.mean(im_R[0])"
      ],
      "metadata": {
        "colab": {
          "base_uri": "https://localhost:8080/"
        },
        "id": "rBE3XWlfbF4g",
        "outputId": "d54b2002-00ef-4a75-ab27-67d07345e6d3"
      },
      "execution_count": 8,
      "outputs": [
        {
          "output_type": "execute_result",
          "data": {
            "text/plain": [
              "np.float64(47.068359375)"
            ]
          },
          "metadata": {},
          "execution_count": 8
        }
      ]
    },
    {
      "cell_type": "code",
      "source": [
        "im_G[0]"
      ],
      "metadata": {
        "colab": {
          "base_uri": "https://localhost:8080/",
          "height": 73
        },
        "id": "_1nG_J5ubc2j",
        "outputId": "62858f98-05c6-4e4a-96db-b4e24abb0dc8"
      },
      "execution_count": 9,
      "outputs": [
        {
          "output_type": "execute_result",
          "data": {
            "text/plain": [
              "array([[[  0,  62,   0],\n",
              "        [  0,  46,   0],\n",
              "        [  0,  48,   0],\n",
              "        ...,\n",
              "        [  0, 132,   0],\n",
              "        [  0, 125,   0],\n",
              "        [  0, 124,   0]],\n",
              "\n",
              "       [[  0,  20,   0],\n",
              "        [  0,   0,   0],\n",
              "        [  0,   8,   0],\n",
              "        ...,\n",
              "        [  0,  88,   0],\n",
              "        [  0,  83,   0],\n",
              "        [  0,  87,   0]],\n",
              "\n",
              "       [[  0,  24,   0],\n",
              "        [  0,   7,   0],\n",
              "        [  0,  27,   0],\n",
              "        ...,\n",
              "        [  0,  84,   0],\n",
              "        [  0,  84,   0],\n",
              "        [  0,  73,   0]],\n",
              "\n",
              "       ...,\n",
              "\n",
              "       [[  0, 170,   0],\n",
              "        [  0, 153,   0],\n",
              "        [  0, 161,   0],\n",
              "        ...,\n",
              "        [  0, 133,   0],\n",
              "        [  0,  31,   0],\n",
              "        [  0,  34,   0]],\n",
              "\n",
              "       [[  0, 139,   0],\n",
              "        [  0, 123,   0],\n",
              "        [  0, 144,   0],\n",
              "        ...,\n",
              "        [  0, 148,   0],\n",
              "        [  0,  62,   0],\n",
              "        [  0,  53,   0]],\n",
              "\n",
              "       [[  0, 144,   0],\n",
              "        [  0, 129,   0],\n",
              "        [  0, 142,   0],\n",
              "        ...,\n",
              "        [  0, 184,   0],\n",
              "        [  0, 118,   0],\n",
              "        [  0,  92,   0]]], dtype=uint8)"
            ],
            "text/html": [
              "<style>\n",
              "      .ndarray_repr .ndarray_raw_data {\n",
              "        display: none;\n",
              "      }\n",
              "      .ndarray_repr.show_array .ndarray_raw_data {\n",
              "        display: block;\n",
              "      }\n",
              "      .ndarray_repr.show_array .ndarray_image_preview {\n",
              "        display: none;\n",
              "      }\n",
              "      </style>\n",
              "      <div id=\"id-e7c8db38-28f7-48e5-a195-dde120cd8da9\" class=\"ndarray_repr\"><pre>ndarray (32, 32, 3) <button style=\"padding: 0 2px;\">show data</button></pre><img src=\"data:image/png;base64,iVBORw0KGgoAAAANSUhEUgAAACAAAAAgCAIAAAD8GO2jAAAEx0lEQVR4nE3WS28b5xnF8d8MhxeJIkVdLcsW0iapXTSI0ysQFG3RLvsJ+vH6FYousi66aFdBCrQwCkO141iWLFMXivfbzHQxehATBBdczLzvc875nyfxOwakNNhjlx41mtS4ZU2PnAVzNsCMHiULUGOLNnUWJKQsKGWec0WLPXI2KMhJmDMjp0bGmpQmcwrm1FiQsSBnk5QaKXNWZDIZTfZ4wAGbJCxYkbDBmoJdVtTJabBkTYM2DRJKkNBmwpqEoUxCh0dx9hsKpjTo0eCOjA5D5sxBmyU5zbjigjoF4/inYCLTpEmbLgXISCnIYso13rNiGmNcxHmbTKhTxlgwZsqUlUyPOi1qMRCUrFlSkpPFeavvhBtSxrzjjn0O6XDLmBF3vKEmc0CDzRhiyQx0aHNHlzlvWVCwSZ1rShK6/IQLpuwzZUydIw4rDTosqdNkRhH+y1mxRZ/XjFizwW95yNecUpAyYEyHnBYtEnJOuJHZ5YaEKUuSmOOKHXLOGJJRo0XGDV12GTDlBWvabJOyTcGSJQcy+2yRMmRCDupsgZcsaIUja5yyZJsdhFRT1uHslPT7cGRS6qDl/pOCDd5xxS5z2nwSjhpSo8EOP+I7XoTl1mQ0wpCJ7HtvTViRhsNOWLPPMXOeUHJHj2uOmPBjdtihzx0NSgqKuE1ZBS2npEWHPmfUueSSQ37PWx6xR59eaNunxYAL6nSZfZChalZllYOMMStGfMeYFq9o8YhjRrT4gncRlAmb5LRpx7UuSVgGsmY0ZAZhnhq1MFybW455xhmnPGTAJ7jHpPcs2SXnGQO+4g2NyJMqyUkkS3h0yIJt/sBT/hzkecnH7FEGsmaMOOCIMV0apKxY32ueKUPbNIK2xya/5Ne8Z81jEg6ZM2AdZ3rLf/iSI0Zs8gNSlizoM5JZs6Ad+hyxwUf8hqf8kxM+C5LPGXLOJSs67HPOQ6bMmARCmhzRlKkxYh51sccFP+dzMKLDEzK+YcaQt0GFH/IkxGsw53X0Uo09jmVmNGmRkrPFn/gj+7wkZcS3jPhLgPoBHc5IOeZzcgbRgGX8julVGhShSXW1X1DnX5yz4JbTD7jdYidGNOJVFEDVjBUQO2RMKWT3PKmHwbf5Kw9irHXa7nFyyIgafZa0GPMN/40npDymTTNQ8ZnsvrmyGNySK/rBjx2OyTkPTFVl24p7V8mqWrbJcVTvhC6H0vuxVHTbC280uWPElC5tngXOkg9at7r3Gc/5Xyw4DcbM6DCV3nO1pMYqoN9hk0NuWXJCwa/4aXBlShJReMWUreDuBe9p0eN5VZnX0bQVx7vUo8qX/IOn4ZlmVHd1xkrSn9GJ872JxD2hx4XMCQlv6IdNpyFRPyBYssW7yNEBBYNosUq5ahJjCk444oy+7J7mh7S5ZBl71YqcGRtMYyWpXjakG3y+jkJch4kbfMqUv/NCpkWXrXjWbaS02jI3o43LeHrJknk0VyVSL8aLK8ZM+BtTmTE12mzQZJshwzh1I96UhQYJW2SxgfW4oWSXNd/yb3Z5fL8AZF4z4ICNcMKEAddcU0SGi8hB9eh1eH8WvsoZcso1E7b5iJlMPTp6zTYHUcs3XMUaWwaiG2TMGVMG5FexuFdV8wXP+JQvOfd/OF76FWh8dPYAAAAASUVORK5CYII=\" class=\"ndarray_image_preview\" /><pre class=\"ndarray_raw_data\">array([[[  0,  62,   0],\n",
              "        [  0,  46,   0],\n",
              "        [  0,  48,   0],\n",
              "        ...,\n",
              "        [  0, 132,   0],\n",
              "        [  0, 125,   0],\n",
              "        [  0, 124,   0]],\n",
              "\n",
              "       [[  0,  20,   0],\n",
              "        [  0,   0,   0],\n",
              "        [  0,   8,   0],\n",
              "        ...,\n",
              "        [  0,  88,   0],\n",
              "        [  0,  83,   0],\n",
              "        [  0,  87,   0]],\n",
              "\n",
              "       [[  0,  24,   0],\n",
              "        [  0,   7,   0],\n",
              "        [  0,  27,   0],\n",
              "        ...,\n",
              "        [  0,  84,   0],\n",
              "        [  0,  84,   0],\n",
              "        [  0,  73,   0]],\n",
              "\n",
              "       ...,\n",
              "\n",
              "       [[  0, 170,   0],\n",
              "        [  0, 153,   0],\n",
              "        [  0, 161,   0],\n",
              "        ...,\n",
              "        [  0, 133,   0],\n",
              "        [  0,  31,   0],\n",
              "        [  0,  34,   0]],\n",
              "\n",
              "       [[  0, 139,   0],\n",
              "        [  0, 123,   0],\n",
              "        [  0, 144,   0],\n",
              "        ...,\n",
              "        [  0, 148,   0],\n",
              "        [  0,  62,   0],\n",
              "        [  0,  53,   0]],\n",
              "\n",
              "       [[  0, 144,   0],\n",
              "        [  0, 129,   0],\n",
              "        [  0, 142,   0],\n",
              "        ...,\n",
              "        [  0, 184,   0],\n",
              "        [  0, 118,   0],\n",
              "        [  0,  92,   0]]], dtype=uint8)</pre></div><script>\n",
              "      (() => {\n",
              "      const titles = ['show data', 'hide data'];\n",
              "      let index = 0\n",
              "      document.querySelector('#id-e7c8db38-28f7-48e5-a195-dde120cd8da9 button').onclick = (e) => {\n",
              "        document.querySelector('#id-e7c8db38-28f7-48e5-a195-dde120cd8da9').classList.toggle('show_array');\n",
              "        index = (++index) % 2;\n",
              "        document.querySelector('#id-e7c8db38-28f7-48e5-a195-dde120cd8da9 button').textContent = titles[index];\n",
              "        e.preventDefault();\n",
              "        e.stopPropagation();\n",
              "      }\n",
              "      })();\n",
              "    </script>"
            ]
          },
          "metadata": {},
          "execution_count": 9
        }
      ]
    },
    {
      "cell_type": "code",
      "source": [
        "im_B[0]"
      ],
      "metadata": {
        "colab": {
          "base_uri": "https://localhost:8080/",
          "height": 73
        },
        "id": "gZWUgH35bgEu",
        "outputId": "6996ef1a-7e57-4edd-be8c-13ac57f0a504"
      },
      "execution_count": 10,
      "outputs": [
        {
          "output_type": "execute_result",
          "data": {
            "text/plain": [
              "array([[[  0,   0,  63],\n",
              "        [  0,   0,  45],\n",
              "        [  0,   0,  43],\n",
              "        ...,\n",
              "        [  0,   0, 108],\n",
              "        [  0,   0, 102],\n",
              "        [  0,   0, 103]],\n",
              "\n",
              "       [[  0,   0,  20],\n",
              "        [  0,   0,   0],\n",
              "        [  0,   0,   0],\n",
              "        ...,\n",
              "        [  0,   0,  55],\n",
              "        [  0,   0,  50],\n",
              "        [  0,   0,  57]],\n",
              "\n",
              "       [[  0,   0,  21],\n",
              "        [  0,   0,   0],\n",
              "        [  0,   0,   8],\n",
              "        ...,\n",
              "        [  0,   0,  50],\n",
              "        [  0,   0,  50],\n",
              "        [  0,   0,  42]],\n",
              "\n",
              "       ...,\n",
              "\n",
              "       [[  0,   0,  96],\n",
              "        [  0,   0,  34],\n",
              "        [  0,   0,  26],\n",
              "        ...,\n",
              "        [  0,   0,  70],\n",
              "        [  0,   0,   7],\n",
              "        [  0,   0,  20]],\n",
              "\n",
              "       [[  0,   0,  96],\n",
              "        [  0,   0,  42],\n",
              "        [  0,   0,  30],\n",
              "        ...,\n",
              "        [  0,   0,  94],\n",
              "        [  0,   0,  34],\n",
              "        [  0,   0,  34]],\n",
              "\n",
              "       [[  0,   0, 116],\n",
              "        [  0,   0,  94],\n",
              "        [  0,   0,  87],\n",
              "        ...,\n",
              "        [  0,   0, 140],\n",
              "        [  0,   0,  84],\n",
              "        [  0,   0,  72]]], dtype=uint8)"
            ],
            "text/html": [
              "<style>\n",
              "      .ndarray_repr .ndarray_raw_data {\n",
              "        display: none;\n",
              "      }\n",
              "      .ndarray_repr.show_array .ndarray_raw_data {\n",
              "        display: block;\n",
              "      }\n",
              "      .ndarray_repr.show_array .ndarray_image_preview {\n",
              "        display: none;\n",
              "      }\n",
              "      </style>\n",
              "      <div id=\"id-c3a7c957-3ed7-418d-8e6e-71af076930d4\" class=\"ndarray_repr\"><pre>ndarray (32, 32, 3) <button style=\"padding: 0 2px;\">show data</button></pre><img src=\"data:image/png;base64,iVBORw0KGgoAAAANSUhEUgAAACAAAAAgCAIAAAD8GO2jAAAErElEQVR4nE3WS28b9xUF8N+8+JSoyJRsNXYaK1ECtEXrADGKAF0EQTdZ9SO2X6Eouu22mwToKmlrICkQ24lkPSm+hsPhTBeDG3hHEOS9/3vOuefchM+5oaFlxJg9Cobk3NFywJYNJQN2LJiwo6IgY48xAypSciqShCOuwIB9HpLS0qNiQ0NCS0NOnyUVU7CJojVjCgpStmzp5yRR/YAHjEko2ZAwpGXDiJYh6FOS0GcYLZsoNWLFFsxyanIOyShjwBrs0Wcef1uyZEvCmHUM1H2zpUfNLS1o2OTxoyEFO5DFjDkNa1Lu2LGiCvQ72gaUTGgDqJaSLTVpzoCMLBDYkVDRBo4VPZZkNDRs38LkihVnPGHGNUtK1szIc8bU9NgGkysSDhhwxYQtV2QgZ81dvGmf5+xoKchJKdjnEWXOkDtyRjHXIS0pJXtsmAUrGZ+wx/ecx6CXbChIQrIFNe8yz5lSkkf1LJioAtkf2dEjZcecDSekvKHiBQ0THsVDO3jvGeccB8O3LIK9jpsBL1jSj3/WXJBzwoBJwN1SU4GEjJwNbR6rgYIxKSkNB8y5ZRAyfUwZT5kx5kN+yVe8ZsOCnB5FSCDtkFlTc0/KgDlzcuYBa8KzEN+UjF+w5CNG/Ip5tOwHwh1nbc4uxDtkxJrLgP6Sgo+44ZgTLsIPMl5zx08sGMVapCSh9bTT3B41JTtmXLAg5Z4e73NKQ8Hvec0lJSXHNOzxLiecc03RQc+ABUXONfOuG1lMOuCeKZ9TUfGAimesuKThmi0P6HPIT/wthu5MKWWbgwVJaFQs/Zgv+Iw/s8ea7/g1Z8x5wyErVpzylAnCBCt27LpNxjYm2IZgaj7mMxbMeELDcWixDmxf8XVY9xuEDrucuGOUh/C7kKk4JOU9vuB3/IVDfsuHHLBgzktesWJAwb94zIINt7EWnfqTzk1Xb1n/iDu+5EsOWXLAJzzgK5bc8QMVOY85Y8w7bCl5/ZYlj5nm4RMZddDwJ/7II/5NzYz/suOvFCw4YMxLap7yKX1eBZF5SLYUybkLE26Z8GkM/h0lN3zLkDLedcA5Wxb8wDfMaXnIhEHE3D11161iFBt3yN/5hveY0WcSBjnllj5X7Biy4GtesI5QGVNRUjPkNA9vaiIIt5xzzj0ZU47ZcE5LF7EFowjFlhlJ0LvhLnL3g46DLi9rRhxRRrRe0KPhlIon/CPksGISWJfcUrMkZUiPVUy867xzQ48+axqGHHPAEZdsOaPPH3jOgA1rEhp+5Jw1Ix6GJR9xyhPOu4S7pkG3e0wpuKcT8T+54DyctR8nxZqKPh8zoWYVl9k+v+ER/+vse8CKNoJlFn53HTKdcchNOMGUbRC+H6tbRBqnnDDlglUXOCsyRmwiKbtpNlGlDOXsyFgx5IAVt2EPP59lGU9p+ZY3eWRQGldiB9pDmjgGemH3VdhkGQnY55YtE9JQxzzm/k+3aAV7lGHi3aV1Ee+dhsX/7OfdYSuWdsSchikV17xkEm/az+MwrcNK8zDhXlRso1kX6Plb1nsTilyBdRxeO0543JU74jkbrkiiWSfW7C0Am1iRLD5X7IfYOoFUvMOYZ5yxYvF/7nny4MzNv8IAAAAASUVORK5CYII=\" class=\"ndarray_image_preview\" /><pre class=\"ndarray_raw_data\">array([[[  0,   0,  63],\n",
              "        [  0,   0,  45],\n",
              "        [  0,   0,  43],\n",
              "        ...,\n",
              "        [  0,   0, 108],\n",
              "        [  0,   0, 102],\n",
              "        [  0,   0, 103]],\n",
              "\n",
              "       [[  0,   0,  20],\n",
              "        [  0,   0,   0],\n",
              "        [  0,   0,   0],\n",
              "        ...,\n",
              "        [  0,   0,  55],\n",
              "        [  0,   0,  50],\n",
              "        [  0,   0,  57]],\n",
              "\n",
              "       [[  0,   0,  21],\n",
              "        [  0,   0,   0],\n",
              "        [  0,   0,   8],\n",
              "        ...,\n",
              "        [  0,   0,  50],\n",
              "        [  0,   0,  50],\n",
              "        [  0,   0,  42]],\n",
              "\n",
              "       ...,\n",
              "\n",
              "       [[  0,   0,  96],\n",
              "        [  0,   0,  34],\n",
              "        [  0,   0,  26],\n",
              "        ...,\n",
              "        [  0,   0,  70],\n",
              "        [  0,   0,   7],\n",
              "        [  0,   0,  20]],\n",
              "\n",
              "       [[  0,   0,  96],\n",
              "        [  0,   0,  42],\n",
              "        [  0,   0,  30],\n",
              "        ...,\n",
              "        [  0,   0,  94],\n",
              "        [  0,   0,  34],\n",
              "        [  0,   0,  34]],\n",
              "\n",
              "       [[  0,   0, 116],\n",
              "        [  0,   0,  94],\n",
              "        [  0,   0,  87],\n",
              "        ...,\n",
              "        [  0,   0, 140],\n",
              "        [  0,   0,  84],\n",
              "        [  0,   0,  72]]], dtype=uint8)</pre></div><script>\n",
              "      (() => {\n",
              "      const titles = ['show data', 'hide data'];\n",
              "      let index = 0\n",
              "      document.querySelector('#id-c3a7c957-3ed7-418d-8e6e-71af076930d4 button').onclick = (e) => {\n",
              "        document.querySelector('#id-c3a7c957-3ed7-418d-8e6e-71af076930d4').classList.toggle('show_array');\n",
              "        index = (++index) % 2;\n",
              "        document.querySelector('#id-c3a7c957-3ed7-418d-8e6e-71af076930d4 button').textContent = titles[index];\n",
              "        e.preventDefault();\n",
              "        e.stopPropagation();\n",
              "      }\n",
              "      })();\n",
              "    </script>"
            ]
          },
          "metadata": {},
          "execution_count": 10
        }
      ]
    },
    {
      "cell_type": "code",
      "source": [
        "from sklearn.preprocessing import StandardScaler\n",
        "\n",
        "X_train_norm, X_test_norm = X_train/255, X_test/255\n",
        "X_train_norm_flat, X_test_norm_flat = X_train_norm.reshape(X_train_norm.shape[0], -1), X_test_norm.reshape(X_test_norm.shape[0], -1)\n",
        "\n",
        "X_train_norm_flat.shape\n",
        "#X_train_norm = StandardScaler().fit_transform(X_train)"
      ],
      "metadata": {
        "id": "oEmeefjuYIbs",
        "colab": {
          "base_uri": "https://localhost:8080/"
        },
        "outputId": "63074c6c-5b16-4337-a4db-491d2ba03ee5"
      },
      "execution_count": 11,
      "outputs": [
        {
          "output_type": "execute_result",
          "data": {
            "text/plain": [
              "(50000, 3072)"
            ]
          },
          "metadata": {},
          "execution_count": 11
        }
      ]
    },
    {
      "cell_type": "code",
      "source": [
        "from skimage.color import rgb2gray\n",
        "X_train_gray, X_test_gray = rgb2gray(X_train), rgb2gray(X_test)\n",
        "\n",
        "X_train_gray_norm, X_test_gray_norm = X_train_gray/255, X_test_gray/255\n",
        "X_train_gray_norm_flat, X_test_gray_norm_flat = X_train_gray_norm.reshape(X_train_gray_norm.shape[0], -1), X_test_gray_norm.reshape(X_test_gray_norm.shape[0], -1)\n",
        "\n",
        "X_train_gray_norm_flat.shape"
      ],
      "metadata": {
        "colab": {
          "base_uri": "https://localhost:8080/"
        },
        "id": "Pei9PqBCmIFZ",
        "outputId": "835ca831-1a8b-4c0c-e0b9-fcc26d2d312c"
      },
      "execution_count": 12,
      "outputs": [
        {
          "output_type": "execute_result",
          "data": {
            "text/plain": [
              "(50000, 1024)"
            ]
          },
          "metadata": {},
          "execution_count": 12
        }
      ]
    },
    {
      "cell_type": "code",
      "source": [
        "import skimage as ski\n",
        "import matplotlib.pyplot as plt\n",
        "from skimage.color import rgb2gray\n",
        "from skimage import measure\n",
        "\n",
        "\n",
        "image = rgb2gray(X_train[1])\n",
        "thresh = ski.filters.threshold_mean(image)\n",
        "binary = image > thresh\n",
        "\n",
        "\n",
        "fig1, ax1 = ski.filters.try_all_threshold(image, figsize=(10, 8), verbose=False)\n",
        "\n",
        "\n",
        "plt.show()"
      ],
      "metadata": {
        "id": "LfHmDL6I8Tu5",
        "outputId": "67f507c7-786c-4318-82d3-82dd99636680",
        "colab": {
          "base_uri": "https://localhost:8080/",
          "height": 806
        }
      },
      "execution_count": 13,
      "outputs": [
        {
          "output_type": "display_data",
          "data": {
            "text/plain": [
              "<Figure size 1000x800 with 8 Axes>"
            ],
            "image/png": "[encoded data removed]"
          },
          "metadata": {}
        }
      ]
    },
    {
      "cell_type": "code",
      "source": [
        "image = rgb2gray(X_train[1])\n",
        "thresh = ski.filters.threshold_mean(image)\n",
        "binary = image > thresh\n",
        "\n",
        "contours = measure.find_contours(binary, 0.5)\n",
        "\n",
        "# Display the image and plot all contours found\n",
        "fig2, ax2 = plt.subplots()\n",
        "ax2.imshow(binary, cmap=plt.cm.gray)\n",
        "\n",
        "for contour in contours:\n",
        "    ax2.plot(contour[:, 1], contour[:, 0], linewidth=2)\n",
        "\n",
        "ax2.axis('image')\n",
        "ax2.set_xticks([])\n",
        "ax2.set_yticks([])\n",
        "plt.show()"
      ],
      "metadata": {
        "id": "qDye-hL1_NUS",
        "outputId": "89010a0d-45a8-4e3f-fa86-333c4d409573",
        "colab": {
          "base_uri": "https://localhost:8080/",
          "height": 406
        }
      },
      "execution_count": 14,
      "outputs": [
        {
          "output_type": "display_data",
          "data": {
            "text/plain": [
              "<Figure size 640x480 with 1 Axes>"
            ],
            "image/png": "[encoded data removed]"
          },
          "metadata": {}
        }
      ]
    },
    {
      "cell_type": "code",
      "source": [
        "from shapely.geometry.polygon import LinearRing, Polygon\n",
        "\n",
        "\n",
        "image = rgb2gray(X_train[1])\n",
        "thresh = ski.filters.threshold_triangle(image)\n",
        "binary = image > thresh\n",
        "\n",
        "contours = measure.find_contours(binary, 0.5)\n",
        "\n",
        "kontur_test = np.vstack(contours)\n",
        "#print(kontur_test[0])\n",
        "#print(contours[0])\n",
        "\n",
        "polygons = []\n",
        "for contour in contours:\n",
        "    polygon = np.round(contour).astype(int)\n",
        "    polygons.append(polygon)\n",
        "\n",
        "fig, ax = plt.subplots()\n",
        "ax.imshow(image, cmap=plt.cm.gray)\n",
        "\n",
        "for polygon in polygons:\n",
        "    ax.plot(polygon[:, 1], polygon[:, 0], color='red', linewidth=2)\n",
        "#ax.plot(kontur_test[:, 1], kontur_test[:, 0], color='red', linewidth=2)\n",
        "plt.show()\n",
        "\n",
        "\n",
        "#for i, polygon in enumerate(polygons):\n",
        "#    print(f\"Polygon {i+1}: {polygon}\")"
      ],
      "metadata": {
        "id": "lOaI57XuA5TE",
        "outputId": "ffe7509b-37ca-45ac-e013-3aebefc0f195",
        "colab": {
          "base_uri": "https://localhost:8080/",
          "height": 430
        }
      },
      "execution_count": 15,
      "outputs": [
        {
          "output_type": "display_data",
          "data": {
            "text/plain": [
              "<Figure size 640x480 with 1 Axes>"
            ],
            "image/png": "[encoded data removed]"
          },
          "metadata": {}
        }
      ]
    },
    {
      "cell_type": "code",
      "source": [
        "import numpy as np\n",
        "import matplotlib.pyplot as plt\n",
        "\n",
        "def polygon_to_fourier(vertices):\n",
        "    \"\"\"Computes the Fourier spectrum of a polygon given its vertices.\"\"\"\n",
        "    # Convert polygon vertices to complex numbers\n",
        "    z = np.array([x + 1j * y for x, y in vertices])\n",
        "\n",
        "    # Compute the Discrete Fourier Transform (DFT)\n",
        "    Z = np.fft.fft(z)\n",
        "\n",
        "    # Compute magnitude spectrum\n",
        "    magnitude = np.abs(Z)\n",
        "\n",
        "    return Z, magnitude\n",
        "\n",
        "def plot_fourier_spectrum(magnitude):\n",
        "    \"\"\"Plots the Fourier magnitude spectrum.\"\"\"\n",
        "    plt.figure(figsize=(8, 4))\n",
        "    plt.stem(magnitude)\n",
        "    plt.xlabel(\"Frequency Index\")\n",
        "    plt.ylabel(\"Magnitude\")\n",
        "    plt.title(\"Fourier Magnitude Spectrum\")\n",
        "    plt.show()\n",
        "\n",
        "# Example polygon (square)\n",
        "polygon = [(0, 0), (1, 0), (1, 1), (0, 1)]\n",
        "\n",
        "# Compute Fourier spectrum\n",
        "Z, magnitude = polygon_to_fourier(contours[9])\n",
        "\n",
        "# Plot the spectrum\n",
        "plot_fourier_spectrum(magnitude)"
      ],
      "metadata": {
        "colab": {
          "base_uri": "https://localhost:8080/",
          "height": 410
        },
        "id": "sHZ71TAVH0cM",
        "outputId": "8b17e811-22a1-44de-f5e8-355c402d674c"
      },
      "execution_count": 16,
      "outputs": [
        {
          "output_type": "display_data",
          "data": {
            "text/plain": [
              "<Figure size 800x400 with 1 Axes>"
            ],
            "image/png": "[encoded data removed]"
          },
          "metadata": {}
        }
      ]
    },
    {
      "cell_type": "code",
      "source": [
        "def probe(daten):\n",
        "  daten_gray = rgb2gray(daten)\n",
        "  daten_norm = daten/255\n",
        "  daten_norm_flat = daten_norm.reshape(daten_norm.shape[0], -1)\n",
        "  print(daten_norm_flat.shape)\n",
        "  return daten_norm_flat"
      ],
      "metadata": {
        "id": "aCqspOkkv027"
      },
      "execution_count": 17,
      "outputs": []
    },
    {
      "cell_type": "code",
      "source": [
        "scaler = StandardScaler()\n",
        "X_train_scaled = scaler.fit_transform(X_train_norm_flat)\n",
        "X_test_scaled = scaler.transform(X_test_norm_flat)\n",
        "\n",
        "scaler_gray = StandardScaler()\n",
        "X_train_gray_scaled = scaler_gray.fit_transform(X_train_gray_norm_flat)\n",
        "X_test_gray_scaled = scaler_gray.transform(X_test_gray_norm_flat)\n"
      ],
      "metadata": {
        "id": "29oyPWv1PHj2"
      },
      "execution_count": 18,
      "outputs": []
    },
    {
      "cell_type": "code",
      "source": [
        "\n",
        "from sklearn.ensemble import RandomForestClassifier\n",
        "from sklearn.metrics import accuracy_score, classification_report\n",
        "\n",
        "svm = RandomForestClassifier()\n",
        "svm = svm.fit(X_train_scaled, y_train.ravel())\n",
        "\n"
      ],
      "metadata": {
        "id": "tt6NteSKPIN3"
      },
      "execution_count": 19,
      "outputs": []
    },
    {
      "cell_type": "code",
      "source": [
        "y_pred = svm.predict(X_test_scaled)\n",
        "print(\"Accuracy:\", accuracy_score(y_test, y_pred))\n",
        "print(classification_report(y_test, y_pred))\n"
      ],
      "metadata": {
        "id": "B26nn_PWVXWY",
        "colab": {
          "base_uri": "https://localhost:8080/"
        },
        "outputId": "605926df-7007-42b8-a88f-c1552922e9ce"
      },
      "execution_count": 20,
      "outputs": [
        {
          "output_type": "stream",
          "name": "stdout",
          "text": [
            "Accuracy: 0.4708\n",
            "              precision    recall  f1-score   support\n",
            "\n",
            "           0       0.55      0.56      0.55      1000\n",
            "           1       0.52      0.55      0.54      1000\n",
            "           2       0.38      0.34      0.36      1000\n",
            "           3       0.33      0.28      0.30      1000\n",
            "           4       0.39      0.39      0.39      1000\n",
            "           5       0.43      0.39      0.41      1000\n",
            "           6       0.49      0.57      0.53      1000\n",
            "           7       0.53      0.46      0.49      1000\n",
            "           8       0.58      0.61      0.60      1000\n",
            "           9       0.47      0.56      0.51      1000\n",
            "\n",
            "    accuracy                           0.47     10000\n",
            "   macro avg       0.47      0.47      0.47     10000\n",
            "weighted avg       0.47      0.47      0.47     10000\n",
            "\n"
          ]
        }
      ]
    },
    {
      "cell_type": "code",
      "source": [
        "import cv2\n",
        "\n",
        "def extract_edges(images):\n",
        "    edges = []\n",
        "    for img in images:\n",
        "        gray = cv2.cvtColor(img, cv2.COLOR_RGB2GRAY)\n",
        "        edge = cv2.Canny(gray, 100, 200)  # Using Canny Edge Detection\n",
        "        edges.append(edge.flatten())  # Flatten for ML compatibility\n",
        "    print(np.array(edges).shape)\n",
        "    return np.array(edges)\n",
        "\n",
        "# Apply edge detection\n",
        "X_train_edges = extract_edges(X_train)\n",
        "X_test_edges = extract_edges(X_test)"
      ],
      "metadata": {
        "id": "IEpXVEgA5wuN",
        "outputId": "91ea1928-f689-4d3f-fdf0-0cdf1b720507",
        "colab": {
          "base_uri": "https://localhost:8080/"
        }
      },
      "execution_count": 21,
      "outputs": [
        {
          "output_type": "stream",
          "name": "stdout",
          "text": [
            "(50000, 1024)\n",
            "(10000, 1024)\n"
          ]
        }
      ]
    },
    {
      "cell_type": "code",
      "source": [
        "def extract_color_histograms(images, bins=32):\n",
        "    hist_features = []\n",
        "    for img in images:\n",
        "        hist_r = np.histogram(img[:, :, 0], bins=bins, range=(0, 256))[0]\n",
        "        hist_g = np.histogram(img[:, :, 1], bins=bins, range=(0, 256))[0]\n",
        "        hist_b = np.histogram(img[:, :, 2], bins=bins, range=(0, 256))[0]\n",
        "        hist_features.append(np.concatenate([hist_r, hist_g, hist_b]))  # Flatten histograms\n",
        "    print(np.array(hist_features).shape)\n",
        "    return np.array(hist_features)\n",
        "\n",
        "# Apply color histogram extraction\n",
        "X_train_hist = extract_color_histograms(X_train)\n",
        "X_test_hist = extract_color_histograms(X_test)\n"
      ],
      "metadata": {
        "id": "J9NexPzg5zto",
        "outputId": "968d3259-36ed-4aca-8b84-166438eb1668",
        "colab": {
          "base_uri": "https://localhost:8080/"
        }
      },
      "execution_count": 22,
      "outputs": [
        {
          "output_type": "stream",
          "name": "stdout",
          "text": [
            "(50000, 96)\n",
            "(10000, 96)\n"
          ]
        }
      ]
    },
    {
      "cell_type": "code",
      "source": [
        "# Combine Edge and Color Histogram Features\n",
        "\n",
        "\n",
        "\n",
        "X_train_combined = np.hstack((X_train_edges, X_train_hist))\n",
        "X_test_combined = np.hstack((X_test_edges, X_test_hist))\n",
        "\n",
        "\n",
        "print(X_train_combined.shape)\n",
        "print(X_test_combined.shape)\n",
        "\n",
        "# Scale the combined features\n",
        "scaler = StandardScaler()\n",
        "#X_train_scaled = scaler.fit_transform(X_train_combined)\n",
        "#X_test_scaled = scaler.transform(X_test_combined)\n",
        "X_train_scaled_comb = scaler.fit_transform(X_train_combined)\n",
        "X_test_scaled_comb = scaler.fit_transform(X_test_combined)\n",
        "\n",
        "X_train_done = np.hstack((X_train_scaled, X_train_scaled_comb))\n",
        "X_test_done = np.hstack((X_test_scaled, X_test_scaled_comb))\n",
        "\n",
        "X_train_done.shape\n"
      ],
      "metadata": {
        "id": "QlG5tCyj51R2",
        "outputId": "b64558a5-5d59-4b36-d952-1d8b7a7d864c",
        "colab": {
          "base_uri": "https://localhost:8080/"
        }
      },
      "execution_count": null,
      "outputs": [
        {
          "output_type": "stream",
          "name": "stdout",
          "text": [
            "(50000, 1120)\n",
            "(10000, 1120)\n"
          ]
        }
      ]
    },
    {
      "cell_type": "code",
      "source": [
        "# Train an SVM classifier on combined features\n",
        "from sklearn.svm import SVC\n",
        "from sklearn.ensemble import RandomForestClassifier\n",
        "from sklearn.metrics import accuracy_score, classification_report\n",
        "#svm = SVC(kernel='linear', random_state=42)\n",
        "svm = RandomForestClassifier()\n",
        "svm.fit(X_train_done, y_train.ravel())\n",
        "\n",
        "# Predictions\n",
        "y_pred = svm.predict(X_test_done)\n",
        "\n",
        "# Evaluate the model\n",
        "print(\"Accuracy:\", accuracy_score(y_test, y_pred))\n",
        "print(classification_report(y_test, y_pred))"
      ],
      "metadata": {
        "id": "RzXoKgbD56IV",
        "outputId": "ce6064ed-754a-440d-db37-06db8461037d",
        "colab": {
          "base_uri": "https://localhost:8080/"
        }
      },
      "execution_count": 24,
      "outputs": [
        {
          "output_type": "stream",
          "name": "stdout",
          "text": [
            "Accuracy: 0.4739\n",
            "              precision    recall  f1-score   support\n",
            "\n",
            "           0       0.55      0.57      0.56      1000\n",
            "           1       0.50      0.57      0.53      1000\n",
            "           2       0.40      0.33      0.36      1000\n",
            "           3       0.34      0.28      0.31      1000\n",
            "           4       0.43      0.37      0.40      1000\n",
            "           5       0.41      0.41      0.41      1000\n",
            "           6       0.50      0.56      0.53      1000\n",
            "           7       0.50      0.48      0.49      1000\n",
            "           8       0.58      0.61      0.59      1000\n",
            "           9       0.47      0.56      0.51      1000\n",
            "\n",
            "    accuracy                           0.47     10000\n",
            "   macro avg       0.47      0.47      0.47     10000\n",
            "weighted avg       0.47      0.47      0.47     10000\n",
            "\n"
          ]
        }
      ]
    }
  ],
  "metadata": {
    "kernelspec": {
      "display_name": "Python 3",
      "name": "python3"
    },
    "language_info": {
      "codemirror_mode": {
        "name": "ipython",
        "version": 3
      },
      "file_extension": ".py",
      "mimetype": "text/x-python",
      "name": "python",
      "nbconvert_exporter": "python",
      "pygments_lexer": "ipython3",
      "version": "3.7.6"
    },
    "colab": {
      "name": "CIFAR10-ShallowLearning.ipynb",
      "provenance": [],
      "gpuType": "T4",
      "include_colab_link": true
    }
  },
  "nbformat": 4,
  "nbformat_minor": 0
}