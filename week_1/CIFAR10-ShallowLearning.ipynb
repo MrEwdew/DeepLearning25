{
  "cells": [
    {
      "cell_type": "markdown",
      "metadata": {
        "id": "view-in-github",
        "colab_type": "text"
      },
      "source": [
        "<a href=\"https://colab.research.google.com/github/MrEwdew/DeepLearning25/blob/main/week_1/CIFAR10-ShallowLearning.ipynb\" target=\"_parent\"><img src=\"https://colab.research.google.com/assets/colab-badge.svg\" alt=\"Open In Colab\"/></a>"
      ]
    },
    {
      "cell_type": "markdown",
      "metadata": {
        "id": "P7t4Y8D_BxLK"
      },
      "source": [
        "# Lab 1: CIFAR10 Challenge\n",
        "\n",
        "**CIFAR10** (http://www.cs.toronto.edu/~kriz/cifar.html) is one of the most famous ML data sets.\n",
        "\n",
        "## Data\n",
        "* 32x32 color images\n",
        "* in 10 classes\n",
        "* 50k training images\n",
        "* 10k test images\n",
        "\n"
      ]
    },
    {
      "cell_type": "markdown",
      "metadata": {
        "id": "a8-2lrE9BxLR"
      },
      "source": [
        "<img src=\"https://production-media.paperswithcode.com/datasets/CIFAR-10-0000000431-b71f61c0_U5n3Glr.jpg\" width=700>"
      ]
    },
    {
      "cell_type": "code",
      "execution_count": 2,
      "metadata": {
        "colab": {
          "base_uri": "https://localhost:8080/"
        },
        "id": "owj3QsH2BxLS",
        "outputId": "e6918f1f-6d4d-4301-e699-751fc9d17b9f"
      },
      "outputs": [
        {
          "output_type": "stream",
          "name": "stdout",
          "text": [
            "Downloading data from https://www.cs.toronto.edu/~kriz/cifar-10-python.tar.gz\n",
            "\u001b[1m170498071/170498071\u001b[0m \u001b[32m━━━━━━━━━━━━━━━━━━━━\u001b[0m\u001b[37m\u001b[0m \u001b[1m2s\u001b[0m 0us/step\n"
          ]
        }
      ],
      "source": [
        "#get data\n",
        "from keras.datasets import cifar10\n",
        "(X_train, y_train), (X_test, y_test) = cifar10.load_data()"
      ]
    },
    {
      "cell_type": "code",
      "execution_count": 3,
      "metadata": {
        "colab": {
          "base_uri": "https://localhost:8080/"
        },
        "id": "gFjmpalPBxLW",
        "outputId": "8c39bf27-1751-4dc6-fd53-c655294ed56b"
      },
      "outputs": [
        {
          "output_type": "execute_result",
          "data": {
            "text/plain": [
              "(50000, 32, 32, 3)"
            ]
          },
          "metadata": {},
          "execution_count": 3
        }
      ],
      "source": [
        "#traindata: 50k 32X32 rgb images\n",
        "X_train.shape"
      ]
    },
    {
      "cell_type": "code",
      "execution_count": 4,
      "metadata": {
        "colab": {
          "base_uri": "https://localhost:8080/"
        },
        "id": "CtB2ZlTkBxLW",
        "outputId": "be7bc0db-72c9-4f44-c9f7-e786f99280a8"
      },
      "outputs": [
        {
          "output_type": "execute_result",
          "data": {
            "text/plain": [
              "array([[6],\n",
              "       [9],\n",
              "       [9],\n",
              "       ...,\n",
              "       [9],\n",
              "       [1],\n",
              "       [1]], dtype=uint8)"
            ]
          },
          "metadata": {},
          "execution_count": 4
        }
      ],
      "source": [
        "#labels\n",
        "y_train"
      ]
    },
    {
      "cell_type": "code",
      "source": [
        "X_train[0][0][0]"
      ],
      "metadata": {
        "id": "M67ENz0DCJi0",
        "colab": {
          "base_uri": "https://localhost:8080/"
        },
        "outputId": "32302fd4-7314-422f-aac9-e47c69258cfd"
      },
      "execution_count": 5,
      "outputs": [
        {
          "output_type": "execute_result",
          "data": {
            "text/plain": [
              "array([59, 62, 63], dtype=uint8)"
            ]
          },
          "metadata": {},
          "execution_count": 5
        }
      ]
    },
    {
      "cell_type": "markdown",
      "source": [
        "## Task: build the best classifier (with feature extration) using the methods you know from ML1+2\n",
        "* work in small teams (2-4)\n",
        "* use NumPy pre-processing, feature extraction and hyer-parameter tuning in Scikit-Learn\n",
        "* no Neural Networks!\n",
        "* best test F1-Score winns!"
      ],
      "metadata": {
        "id": "9rEXJUhVCmvB"
      }
    },
    {
      "cell_type": "code",
      "source": [
        "from sklearn.feature_extraction import DictVectorizer"
      ],
      "metadata": {
        "id": "6FXU5hLhDfUP"
      },
      "execution_count": 6,
      "outputs": []
    },
    {
      "cell_type": "code",
      "source": [
        "vec = DictVectorizer()"
      ],
      "metadata": {
        "id": "ocE2xoLo3CrF",
        "outputId": "47dada9d-1cea-4e3d-9c5e-408f81aa406a",
        "colab": {
          "base_uri": "https://localhost:8080/"
        }
      },
      "execution_count": 11,
      "outputs": [
        {
          "output_type": "execute_result",
          "data": {
            "text/plain": [
              "(50000, 32, 2, 3)"
            ]
          },
          "metadata": {},
          "execution_count": 11
        }
      ]
    },
    {
      "cell_type": "code",
      "source": [
        "\n",
        "im_R = X_train.copy()\n",
        "im_R[:,:, :, (1, 2)] = 0\n",
        "im_G = X_train.copy()\n",
        "im_G[:,:, :, (0, 2)] = 0\n",
        "im_B = X_train.copy()\n",
        "im_B[:,:, :, (0, 1)] = 0"
      ],
      "metadata": {
        "id": "eZLYcIjwa9Fw"
      },
      "execution_count": 12,
      "outputs": []
    },
    {
      "cell_type": "code",
      "source": [
        "im_R[0]"
      ],
      "metadata": {
        "id": "rBE3XWlfbF4g",
        "outputId": "d0a66b01-875d-4d7f-e0bc-e9c748934a6e",
        "colab": {
          "base_uri": "https://localhost:8080/",
          "height": 73
        }
      },
      "execution_count": 17,
      "outputs": [
        {
          "output_type": "execute_result",
          "data": {
            "text/plain": [
              "array([[[ 59,   0,   0],\n",
              "        [ 43,   0,   0],\n",
              "        [ 50,   0,   0],\n",
              "        ...,\n",
              "        [158,   0,   0],\n",
              "        [152,   0,   0],\n",
              "        [148,   0,   0]],\n",
              "\n",
              "       [[ 16,   0,   0],\n",
              "        [  0,   0,   0],\n",
              "        [ 18,   0,   0],\n",
              "        ...,\n",
              "        [123,   0,   0],\n",
              "        [119,   0,   0],\n",
              "        [122,   0,   0]],\n",
              "\n",
              "       [[ 25,   0,   0],\n",
              "        [ 16,   0,   0],\n",
              "        [ 49,   0,   0],\n",
              "        ...,\n",
              "        [118,   0,   0],\n",
              "        [120,   0,   0],\n",
              "        [109,   0,   0]],\n",
              "\n",
              "       ...,\n",
              "\n",
              "       [[208,   0,   0],\n",
              "        [201,   0,   0],\n",
              "        [198,   0,   0],\n",
              "        ...,\n",
              "        [160,   0,   0],\n",
              "        [ 56,   0,   0],\n",
              "        [ 53,   0,   0]],\n",
              "\n",
              "       [[180,   0,   0],\n",
              "        [173,   0,   0],\n",
              "        [186,   0,   0],\n",
              "        ...,\n",
              "        [184,   0,   0],\n",
              "        [ 97,   0,   0],\n",
              "        [ 83,   0,   0]],\n",
              "\n",
              "       [[177,   0,   0],\n",
              "        [168,   0,   0],\n",
              "        [179,   0,   0],\n",
              "        ...,\n",
              "        [216,   0,   0],\n",
              "        [151,   0,   0],\n",
              "        [123,   0,   0]]], dtype=uint8)"
            ],
            "text/html": [
              "<style>\n",
              "      .ndarray_repr .ndarray_raw_data {\n",
              "        display: none;\n",
              "      }\n",
              "      .ndarray_repr.show_array .ndarray_raw_data {\n",
              "        display: block;\n",
              "      }\n",
              "      .ndarray_repr.show_array .ndarray_image_preview {\n",
              "        display: none;\n",
              "      }\n",
              "      </style>\n",
              "      <div id=\"id-09c34732-2724-46e4-89d4-ff550b8fa969\" class=\"ndarray_repr\"><pre>ndarray (32, 32, 3) <button style=\"padding: 0 2px;\">show data</button></pre><img src=\"data:image/png;base64,iVBORw0KGgoAAAANSUhEUgAAACAAAAAgCAIAAAD8GO2jAAAEuElEQVR4nE3WS28b1xUH8B/JmeGbFCmJlC3FFuTEhlH0CbQLddl90Q/aL1Cgi6JA0U2CtE3zQBLXbqVYkC1LtPgYvtnF4BghuBiQd+695/xfp/RbRlTp84hDDshIwC1LepRZMKfGhhldsKRChTZNUnJ28dea5EtG9ClxQIkpE3bMmLHihhprKlSZsaZEmRV1JtzSoEQJsaZCUgePOWVAnRI5c3ZkYEeXNRkbKixY0SCJs8uxY4sJK8qMSWq0eco+KRM25JTpkDAioc+YZXSgFVukbEhYkEUnUWXNe5IedbocsokLYkFCwoYdb9gwZkYLVChTIY9S5uRsGTFiwpzkkDY1ytRZsWXHkk087xgHtmvG/EBKhxU5jxhQYsGE99zwqijuIR1aAU6xqMw+Te7pMua/TMg4JuEVC1K6nHMfOBUHVPmIAdckfRKqNAK6vaiggPE1L3jLjMf8gRP+yN8LFkbf2qBGRoM1j2iTDALSCTkJM8rk7LHkP9yyo0KHATU+4YprFnwefC0+XdpBwtMC5EJHoyDG9kc8+ZopNWrU6fEZaxYcUmLFjCnLaHLKjpQ1u0KwpSBWQYbiOlVumHHGghrPguz3JLTZ5wkv+YaMXQgiZcuWEkkeB0xD3BPuOWbHY54w45iMOwphfsSIMzp0uOOONC63ZUO5qGATRKzT4jUvSciY8wm/4wVtDnjDHmUy3pDwNii7FxossaVMqaDpXtx6x/ugY50rhhyzRwpOAokNUx5E309oM+YNK+agyZKUZEwSWxQU6sV1Bhzzb77lnBFDyizZ4546DxiFif6NyzCCPChTroRiseGOa+7o8WtO+Cc9KtGKJj0S6qTc0OIhDymH2RTGvmVJUnSqRBId7HPEr3jOHVXO2HLEmllocMMLvuCcfe5JOQiEC6dbkGzJI2EqfEyNU37OA/7BI45iwYw8StxQ54ALhsH6UphjnawgdPqj1RUGXPCEE7AKo53yJQvuuaFCjWN+xpq0wJMZ22BNgyHJIpIojZN/zzkdrqkw4i2v+Qst5hzR4SVL+jyNcJ1xR4l50PJ50aJCzEUK1vgFVb7ijgVjLpiQ0qLDIVeBxwWYRK69o06DOuNwQ9sIliVD/kSfQRC5RUKTI3LqvGNFmyXfcRUptqEJytTofaggoxbZu+UmtLalT6HEH9iFCCo0I4GFK9yzpM2UMXP2OaBcnLajwYAd+3RZsmRGlTLPgtdbJny41ppv+ZQvuKUWwT6lWQRBFq9tmVGhQZOMYYTJITN+wnPKTJnFhHLF/6Liw/ixx1NO+J5kGLk6DfvukEW78SlnXFKmQYU6U3LWtDiPUj6MIwN+yYDPSB7R5XuuWdJiGrPFbXSzGNyuuWTLkFKIfI8sQC4Mv8nHPOSCdyQdcnrgphg0omkr3tOMeWQZKp1EDOThRUVnMqpknJLzV/5FUoxm/fDUe4Qnb8hIY5Rbhhns2IQBj8jpRhTOwkjG/LmYKiagFU7ZZRLfVYxM64iglBKNyM6MTnSyw4zv+IYhQ3BAcskiNurSZ8IoUrAS7ihCqhLJlQawG0YsueVVPB/xvDC7DasYtmrs0aMf418eu2+Zk1FhTE5KO6Cqxrtn/JRnnPIbLvk/jBfuxT5UBAIAAAAASUVORK5CYII=\" class=\"ndarray_image_preview\" /><pre class=\"ndarray_raw_data\">array([[[ 59,   0,   0],\n",
              "        [ 43,   0,   0],\n",
              "        [ 50,   0,   0],\n",
              "        ...,\n",
              "        [158,   0,   0],\n",
              "        [152,   0,   0],\n",
              "        [148,   0,   0]],\n",
              "\n",
              "       [[ 16,   0,   0],\n",
              "        [  0,   0,   0],\n",
              "        [ 18,   0,   0],\n",
              "        ...,\n",
              "        [123,   0,   0],\n",
              "        [119,   0,   0],\n",
              "        [122,   0,   0]],\n",
              "\n",
              "       [[ 25,   0,   0],\n",
              "        [ 16,   0,   0],\n",
              "        [ 49,   0,   0],\n",
              "        ...,\n",
              "        [118,   0,   0],\n",
              "        [120,   0,   0],\n",
              "        [109,   0,   0]],\n",
              "\n",
              "       ...,\n",
              "\n",
              "       [[208,   0,   0],\n",
              "        [201,   0,   0],\n",
              "        [198,   0,   0],\n",
              "        ...,\n",
              "        [160,   0,   0],\n",
              "        [ 56,   0,   0],\n",
              "        [ 53,   0,   0]],\n",
              "\n",
              "       [[180,   0,   0],\n",
              "        [173,   0,   0],\n",
              "        [186,   0,   0],\n",
              "        ...,\n",
              "        [184,   0,   0],\n",
              "        [ 97,   0,   0],\n",
              "        [ 83,   0,   0]],\n",
              "\n",
              "       [[177,   0,   0],\n",
              "        [168,   0,   0],\n",
              "        [179,   0,   0],\n",
              "        ...,\n",
              "        [216,   0,   0],\n",
              "        [151,   0,   0],\n",
              "        [123,   0,   0]]], dtype=uint8)</pre></div><script>\n",
              "      (() => {\n",
              "      const titles = ['show data', 'hide data'];\n",
              "      let index = 0\n",
              "      document.querySelector('#id-09c34732-2724-46e4-89d4-ff550b8fa969 button').onclick = (e) => {\n",
              "        document.querySelector('#id-09c34732-2724-46e4-89d4-ff550b8fa969').classList.toggle('show_array');\n",
              "        index = (++index) % 2;\n",
              "        document.querySelector('#id-09c34732-2724-46e4-89d4-ff550b8fa969 button').textContent = titles[index];\n",
              "        e.preventDefault();\n",
              "        e.stopPropagation();\n",
              "      }\n",
              "      })();\n",
              "    </script>"
            ]
          },
          "metadata": {},
          "execution_count": 17
        }
      ]
    },
    {
      "cell_type": "code",
      "source": [
        "im_G[0]"
      ],
      "metadata": {
        "id": "_1nG_J5ubc2j",
        "outputId": "a91f535b-0451-40a2-d91d-7fd3ce8c2894",
        "colab": {
          "base_uri": "https://localhost:8080/",
          "height": 73
        }
      },
      "execution_count": 18,
      "outputs": [
        {
          "output_type": "execute_result",
          "data": {
            "text/plain": [
              "array([[[  0,  62,   0],\n",
              "        [  0,  46,   0],\n",
              "        [  0,  48,   0],\n",
              "        ...,\n",
              "        [  0, 132,   0],\n",
              "        [  0, 125,   0],\n",
              "        [  0, 124,   0]],\n",
              "\n",
              "       [[  0,  20,   0],\n",
              "        [  0,   0,   0],\n",
              "        [  0,   8,   0],\n",
              "        ...,\n",
              "        [  0,  88,   0],\n",
              "        [  0,  83,   0],\n",
              "        [  0,  87,   0]],\n",
              "\n",
              "       [[  0,  24,   0],\n",
              "        [  0,   7,   0],\n",
              "        [  0,  27,   0],\n",
              "        ...,\n",
              "        [  0,  84,   0],\n",
              "        [  0,  84,   0],\n",
              "        [  0,  73,   0]],\n",
              "\n",
              "       ...,\n",
              "\n",
              "       [[  0, 170,   0],\n",
              "        [  0, 153,   0],\n",
              "        [  0, 161,   0],\n",
              "        ...,\n",
              "        [  0, 133,   0],\n",
              "        [  0,  31,   0],\n",
              "        [  0,  34,   0]],\n",
              "\n",
              "       [[  0, 139,   0],\n",
              "        [  0, 123,   0],\n",
              "        [  0, 144,   0],\n",
              "        ...,\n",
              "        [  0, 148,   0],\n",
              "        [  0,  62,   0],\n",
              "        [  0,  53,   0]],\n",
              "\n",
              "       [[  0, 144,   0],\n",
              "        [  0, 129,   0],\n",
              "        [  0, 142,   0],\n",
              "        ...,\n",
              "        [  0, 184,   0],\n",
              "        [  0, 118,   0],\n",
              "        [  0,  92,   0]]], dtype=uint8)"
            ],
            "text/html": [
              "<style>\n",
              "      .ndarray_repr .ndarray_raw_data {\n",
              "        display: none;\n",
              "      }\n",
              "      .ndarray_repr.show_array .ndarray_raw_data {\n",
              "        display: block;\n",
              "      }\n",
              "      .ndarray_repr.show_array .ndarray_image_preview {\n",
              "        display: none;\n",
              "      }\n",
              "      </style>\n",
              "      <div id=\"id-7bca5d66-b506-4599-934e-d003cf01438b\" class=\"ndarray_repr\"><pre>ndarray (32, 32, 3) <button style=\"padding: 0 2px;\">show data</button></pre><img src=\"data:image/png;base64,iVBORw0KGgoAAAANSUhEUgAAACAAAAAgCAIAAAD8GO2jAAAEx0lEQVR4nE3WS28b5xnF8d8MhxeJIkVdLcsW0iapXTSI0ysQFG3RLvsJ+vH6FYousi66aFdBCrQwCkO141iWLFMXivfbzHQxehATBBdczLzvc875nyfxOwakNNhjlx41mtS4ZU2PnAVzNsCMHiULUGOLNnUWJKQsKGWec0WLPXI2KMhJmDMjp0bGmpQmcwrm1FiQsSBnk5QaKXNWZDIZTfZ4wAGbJCxYkbDBmoJdVtTJabBkTYM2DRJKkNBmwpqEoUxCh0dx9hsKpjTo0eCOjA5D5sxBmyU5zbjigjoF4/inYCLTpEmbLgXISCnIYso13rNiGmNcxHmbTKhTxlgwZsqUlUyPOi1qMRCUrFlSkpPFeavvhBtSxrzjjn0O6XDLmBF3vKEmc0CDzRhiyQx0aHNHlzlvWVCwSZ1rShK6/IQLpuwzZUydIw4rDTosqdNkRhH+y1mxRZ/XjFizwW95yNecUpAyYEyHnBYtEnJOuJHZ5YaEKUuSmOOKHXLOGJJRo0XGDV12GTDlBWvabJOyTcGSJQcy+2yRMmRCDupsgZcsaIUja5yyZJsdhFRT1uHslPT7cGRS6qDl/pOCDd5xxS5z2nwSjhpSo8EOP+I7XoTl1mQ0wpCJ7HtvTViRhsNOWLPPMXOeUHJHj2uOmPBjdtihzx0NSgqKuE1ZBS2npEWHPmfUueSSQ37PWx6xR59eaNunxYAL6nSZfZChalZllYOMMStGfMeYFq9o8YhjRrT4gncRlAmb5LRpx7UuSVgGsmY0ZAZhnhq1MFybW455xhmnPGTAJ7jHpPcs2SXnGQO+4g2NyJMqyUkkS3h0yIJt/sBT/hzkecnH7FEGsmaMOOCIMV0apKxY32ueKUPbNIK2xya/5Ne8Z81jEg6ZM2AdZ3rLf/iSI0Zs8gNSlizoM5JZs6Ad+hyxwUf8hqf8kxM+C5LPGXLOJSs67HPOQ6bMmARCmhzRlKkxYh51sccFP+dzMKLDEzK+YcaQt0GFH/IkxGsw53X0Uo09jmVmNGmRkrPFn/gj+7wkZcS3jPhLgPoBHc5IOeZzcgbRgGX8julVGhShSXW1X1DnX5yz4JbTD7jdYidGNOJVFEDVjBUQO2RMKWT3PKmHwbf5Kw9irHXa7nFyyIgafZa0GPMN/40npDymTTNQ8ZnsvrmyGNySK/rBjx2OyTkPTFVl24p7V8mqWrbJcVTvhC6H0vuxVHTbC280uWPElC5tngXOkg9at7r3Gc/5Xyw4DcbM6DCV3nO1pMYqoN9hk0NuWXJCwa/4aXBlShJReMWUreDuBe9p0eN5VZnX0bQVx7vUo8qX/IOn4ZlmVHd1xkrSn9GJ872JxD2hx4XMCQlv6IdNpyFRPyBYssW7yNEBBYNosUq5ahJjCk444oy+7J7mh7S5ZBl71YqcGRtMYyWpXjakG3y+jkJch4kbfMqUv/NCpkWXrXjWbaS02jI3o43LeHrJknk0VyVSL8aLK8ZM+BtTmTE12mzQZJshwzh1I96UhQYJW2SxgfW4oWSXNd/yb3Z5fL8AZF4z4ICNcMKEAddcU0SGi8hB9eh1eH8WvsoZcso1E7b5iJlMPTp6zTYHUcs3XMUaWwaiG2TMGVMG5FexuFdV8wXP+JQvOfd/OF76FWh8dPYAAAAASUVORK5CYII=\" class=\"ndarray_image_preview\" /><pre class=\"ndarray_raw_data\">array([[[  0,  62,   0],\n",
              "        [  0,  46,   0],\n",
              "        [  0,  48,   0],\n",
              "        ...,\n",
              "        [  0, 132,   0],\n",
              "        [  0, 125,   0],\n",
              "        [  0, 124,   0]],\n",
              "\n",
              "       [[  0,  20,   0],\n",
              "        [  0,   0,   0],\n",
              "        [  0,   8,   0],\n",
              "        ...,\n",
              "        [  0,  88,   0],\n",
              "        [  0,  83,   0],\n",
              "        [  0,  87,   0]],\n",
              "\n",
              "       [[  0,  24,   0],\n",
              "        [  0,   7,   0],\n",
              "        [  0,  27,   0],\n",
              "        ...,\n",
              "        [  0,  84,   0],\n",
              "        [  0,  84,   0],\n",
              "        [  0,  73,   0]],\n",
              "\n",
              "       ...,\n",
              "\n",
              "       [[  0, 170,   0],\n",
              "        [  0, 153,   0],\n",
              "        [  0, 161,   0],\n",
              "        ...,\n",
              "        [  0, 133,   0],\n",
              "        [  0,  31,   0],\n",
              "        [  0,  34,   0]],\n",
              "\n",
              "       [[  0, 139,   0],\n",
              "        [  0, 123,   0],\n",
              "        [  0, 144,   0],\n",
              "        ...,\n",
              "        [  0, 148,   0],\n",
              "        [  0,  62,   0],\n",
              "        [  0,  53,   0]],\n",
              "\n",
              "       [[  0, 144,   0],\n",
              "        [  0, 129,   0],\n",
              "        [  0, 142,   0],\n",
              "        ...,\n",
              "        [  0, 184,   0],\n",
              "        [  0, 118,   0],\n",
              "        [  0,  92,   0]]], dtype=uint8)</pre></div><script>\n",
              "      (() => {\n",
              "      const titles = ['show data', 'hide data'];\n",
              "      let index = 0\n",
              "      document.querySelector('#id-7bca5d66-b506-4599-934e-d003cf01438b button').onclick = (e) => {\n",
              "        document.querySelector('#id-7bca5d66-b506-4599-934e-d003cf01438b').classList.toggle('show_array');\n",
              "        index = (++index) % 2;\n",
              "        document.querySelector('#id-7bca5d66-b506-4599-934e-d003cf01438b button').textContent = titles[index];\n",
              "        e.preventDefault();\n",
              "        e.stopPropagation();\n",
              "      }\n",
              "      })();\n",
              "    </script>"
            ]
          },
          "metadata": {},
          "execution_count": 18
        }
      ]
    },
    {
      "cell_type": "code",
      "source": [
        "im_B[0]"
      ],
      "metadata": {
        "id": "gZWUgH35bgEu",
        "outputId": "086c7176-ae6a-4dce-bd78-ddf2aa250af8",
        "colab": {
          "base_uri": "https://localhost:8080/",
          "height": 73
        }
      },
      "execution_count": 19,
      "outputs": [
        {
          "output_type": "execute_result",
          "data": {
            "text/plain": [
              "array([[[  0,   0,  63],\n",
              "        [  0,   0,  45],\n",
              "        [  0,   0,  43],\n",
              "        ...,\n",
              "        [  0,   0, 108],\n",
              "        [  0,   0, 102],\n",
              "        [  0,   0, 103]],\n",
              "\n",
              "       [[  0,   0,  20],\n",
              "        [  0,   0,   0],\n",
              "        [  0,   0,   0],\n",
              "        ...,\n",
              "        [  0,   0,  55],\n",
              "        [  0,   0,  50],\n",
              "        [  0,   0,  57]],\n",
              "\n",
              "       [[  0,   0,  21],\n",
              "        [  0,   0,   0],\n",
              "        [  0,   0,   8],\n",
              "        ...,\n",
              "        [  0,   0,  50],\n",
              "        [  0,   0,  50],\n",
              "        [  0,   0,  42]],\n",
              "\n",
              "       ...,\n",
              "\n",
              "       [[  0,   0,  96],\n",
              "        [  0,   0,  34],\n",
              "        [  0,   0,  26],\n",
              "        ...,\n",
              "        [  0,   0,  70],\n",
              "        [  0,   0,   7],\n",
              "        [  0,   0,  20]],\n",
              "\n",
              "       [[  0,   0,  96],\n",
              "        [  0,   0,  42],\n",
              "        [  0,   0,  30],\n",
              "        ...,\n",
              "        [  0,   0,  94],\n",
              "        [  0,   0,  34],\n",
              "        [  0,   0,  34]],\n",
              "\n",
              "       [[  0,   0, 116],\n",
              "        [  0,   0,  94],\n",
              "        [  0,   0,  87],\n",
              "        ...,\n",
              "        [  0,   0, 140],\n",
              "        [  0,   0,  84],\n",
              "        [  0,   0,  72]]], dtype=uint8)"
            ],
            "text/html": [
              "<style>\n",
              "      .ndarray_repr .ndarray_raw_data {\n",
              "        display: none;\n",
              "      }\n",
              "      .ndarray_repr.show_array .ndarray_raw_data {\n",
              "        display: block;\n",
              "      }\n",
              "      .ndarray_repr.show_array .ndarray_image_preview {\n",
              "        display: none;\n",
              "      }\n",
              "      </style>\n",
              "      <div id=\"id-f26387d2-ddbf-424d-a184-32f226e3c5f7\" class=\"ndarray_repr\"><pre>ndarray (32, 32, 3) <button style=\"padding: 0 2px;\">show data</button></pre><img src=\"data:image/png;base64,iVBORw0KGgoAAAANSUhEUgAAACAAAAAgCAIAAAD8GO2jAAAErElEQVR4nE3WS28b9xUF8N+8+JSoyJRsNXYaK1ECtEXrADGKAF0EQTdZ9SO2X6Eouu22mwToKmlrICkQ24lkPSm+hsPhTBeDG3hHEOS9/3vOuefchM+5oaFlxJg9Cobk3NFywJYNJQN2LJiwo6IgY48xAypSciqShCOuwIB9HpLS0qNiQ0NCS0NOnyUVU7CJojVjCgpStmzp5yRR/YAHjEko2ZAwpGXDiJYh6FOS0GcYLZsoNWLFFsxyanIOyShjwBrs0Wcef1uyZEvCmHUM1H2zpUfNLS1o2OTxoyEFO5DFjDkNa1Lu2LGiCvQ72gaUTGgDqJaSLTVpzoCMLBDYkVDRBo4VPZZkNDRs38LkihVnPGHGNUtK1szIc8bU9NgGkysSDhhwxYQtV2QgZ81dvGmf5+xoKchJKdjnEWXOkDtyRjHXIS0pJXtsmAUrGZ+wx/ecx6CXbChIQrIFNe8yz5lSkkf1LJioAtkf2dEjZcecDSekvKHiBQ0THsVDO3jvGeccB8O3LIK9jpsBL1jSj3/WXJBzwoBJwN1SU4GEjJwNbR6rgYIxKSkNB8y5ZRAyfUwZT5kx5kN+yVe8ZsOCnB5FSCDtkFlTc0/KgDlzcuYBa8KzEN+UjF+w5CNG/Ip5tOwHwh1nbc4uxDtkxJrLgP6Sgo+44ZgTLsIPMl5zx08sGMVapCSh9bTT3B41JTtmXLAg5Z4e73NKQ8Hvec0lJSXHNOzxLiecc03RQc+ABUXONfOuG1lMOuCeKZ9TUfGAimesuKThmi0P6HPIT/wthu5MKWWbgwVJaFQs/Zgv+Iw/s8ea7/g1Z8x5wyErVpzylAnCBCt27LpNxjYm2IZgaj7mMxbMeELDcWixDmxf8XVY9xuEDrucuGOUh/C7kKk4JOU9vuB3/IVDfsuHHLBgzktesWJAwb94zIINt7EWnfqTzk1Xb1n/iDu+5EsOWXLAJzzgK5bc8QMVOY85Y8w7bCl5/ZYlj5nm4RMZddDwJ/7II/5NzYz/suOvFCw4YMxLap7yKX1eBZF5SLYUybkLE26Z8GkM/h0lN3zLkDLedcA5Wxb8wDfMaXnIhEHE3D11161iFBt3yN/5hveY0WcSBjnllj5X7Biy4GtesI5QGVNRUjPkNA9vaiIIt5xzzj0ZU47ZcE5LF7EFowjFlhlJ0LvhLnL3g46DLi9rRhxRRrRe0KPhlIon/CPksGISWJfcUrMkZUiPVUy867xzQ48+axqGHHPAEZdsOaPPH3jOgA1rEhp+5Jw1Ix6GJR9xyhPOu4S7pkG3e0wpuKcT8T+54DyctR8nxZqKPh8zoWYVl9k+v+ER/+vse8CKNoJlFn53HTKdcchNOMGUbRC+H6tbRBqnnDDlglUXOCsyRmwiKbtpNlGlDOXsyFgx5IAVt2EPP59lGU9p+ZY3eWRQGldiB9pDmjgGemH3VdhkGQnY55YtE9JQxzzm/k+3aAV7lGHi3aV1Ee+dhsX/7OfdYSuWdsSchikV17xkEm/az+MwrcNK8zDhXlRso1kX6Plb1nsTilyBdRxeO0543JU74jkbrkiiWSfW7C0Am1iRLD5X7IfYOoFUvMOYZ5yxYvF/7nny4MzNv8IAAAAASUVORK5CYII=\" class=\"ndarray_image_preview\" /><pre class=\"ndarray_raw_data\">array([[[  0,   0,  63],\n",
              "        [  0,   0,  45],\n",
              "        [  0,   0,  43],\n",
              "        ...,\n",
              "        [  0,   0, 108],\n",
              "        [  0,   0, 102],\n",
              "        [  0,   0, 103]],\n",
              "\n",
              "       [[  0,   0,  20],\n",
              "        [  0,   0,   0],\n",
              "        [  0,   0,   0],\n",
              "        ...,\n",
              "        [  0,   0,  55],\n",
              "        [  0,   0,  50],\n",
              "        [  0,   0,  57]],\n",
              "\n",
              "       [[  0,   0,  21],\n",
              "        [  0,   0,   0],\n",
              "        [  0,   0,   8],\n",
              "        ...,\n",
              "        [  0,   0,  50],\n",
              "        [  0,   0,  50],\n",
              "        [  0,   0,  42]],\n",
              "\n",
              "       ...,\n",
              "\n",
              "       [[  0,   0,  96],\n",
              "        [  0,   0,  34],\n",
              "        [  0,   0,  26],\n",
              "        ...,\n",
              "        [  0,   0,  70],\n",
              "        [  0,   0,   7],\n",
              "        [  0,   0,  20]],\n",
              "\n",
              "       [[  0,   0,  96],\n",
              "        [  0,   0,  42],\n",
              "        [  0,   0,  30],\n",
              "        ...,\n",
              "        [  0,   0,  94],\n",
              "        [  0,   0,  34],\n",
              "        [  0,   0,  34]],\n",
              "\n",
              "       [[  0,   0, 116],\n",
              "        [  0,   0,  94],\n",
              "        [  0,   0,  87],\n",
              "        ...,\n",
              "        [  0,   0, 140],\n",
              "        [  0,   0,  84],\n",
              "        [  0,   0,  72]]], dtype=uint8)</pre></div><script>\n",
              "      (() => {\n",
              "      const titles = ['show data', 'hide data'];\n",
              "      let index = 0\n",
              "      document.querySelector('#id-f26387d2-ddbf-424d-a184-32f226e3c5f7 button').onclick = (e) => {\n",
              "        document.querySelector('#id-f26387d2-ddbf-424d-a184-32f226e3c5f7').classList.toggle('show_array');\n",
              "        index = (++index) % 2;\n",
              "        document.querySelector('#id-f26387d2-ddbf-424d-a184-32f226e3c5f7 button').textContent = titles[index];\n",
              "        e.preventDefault();\n",
              "        e.stopPropagation();\n",
              "      }\n",
              "      })();\n",
              "    </script>"
            ]
          },
          "metadata": {},
          "execution_count": 19
        }
      ]
    }
  ],
  "metadata": {
    "kernelspec": {
      "display_name": "Python 3",
      "language": "python",
      "name": "python3"
    },
    "language_info": {
      "codemirror_mode": {
        "name": "ipython",
        "version": 3
      },
      "file_extension": ".py",
      "mimetype": "text/x-python",
      "name": "python",
      "nbconvert_exporter": "python",
      "pygments_lexer": "ipython3",
      "version": "3.7.6"
    },
    "colab": {
      "name": "CIFAR10-ShallowLearning.ipynb",
      "provenance": [],
      "include_colab_link": true
    }
  },
  "nbformat": 4,
  "nbformat_minor": 0
}